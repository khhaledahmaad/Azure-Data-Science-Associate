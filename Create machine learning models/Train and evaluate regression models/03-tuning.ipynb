{
  "cells": [
    {
      "cell_type": "markdown",
      "source": [
        "# Regression - Optimize and save models\n",
        "\n",
        "In the previous notebook, we used complex regression models to look at the relationship between features of a bike rentals dataset. In this notebook, we'll see if we can improve the performance of these models even further.\n",
        "\n",
        "Let's start by loading the bicycle sharing data as a **Pandas** DataFrame and viewing the first few rows. As usual, we'll also split our data into training and test datasets."
      ],
      "metadata": {}
    },
    {
      "cell_type": "code",
      "source": [
        "# Import modules we'll need for this notebook\n",
        "import pandas as pd\n",
        "from sklearn.linear_model import LinearRegression\n",
        "from sklearn.metrics import mean_squared_error, r2_score\n",
        "from sklearn.model_selection import train_test_split\n",
        "import numpy as np\n",
        "import matplotlib.pyplot as plt\n",
        "%matplotlib inline\n",
        "\n",
        "# load the training dataset\n",
        "!wget https://raw.githubusercontent.com/MicrosoftDocs/mslearn-introduction-to-machine-learning/main/Data/ml-basics/daily-bike-share.csv\n",
        "bike_data = pd.read_csv('daily-bike-share.csv')\n",
        "bike_data['day'] = pd.DatetimeIndex(bike_data['dteday']).day\n",
        "numeric_features = ['temp', 'atemp', 'hum', 'windspeed']\n",
        "categorical_features = ['season','mnth','holiday','weekday','workingday','weathersit', 'day']\n",
        "bike_data[numeric_features + ['rentals']].describe()\n",
        "print(bike_data.head())\n",
        "\n",
        "\n",
        "# Separate features and labels\n",
        "# After separating the dataset, we now have numpy arrays named **X** containing the features, and **y** containing the labels.\n",
        "X, y = bike_data[['season','mnth', 'holiday','weekday','workingday','weathersit','temp', 'atemp', 'hum', 'windspeed']].values, bike_data['rentals'].values\n",
        "\n",
        "# Split data 70%-30% into training set and test set\n",
        "X_train, X_test, y_train, y_test = train_test_split(X, y, test_size=0.30, random_state=0)\n",
        "\n",
        "print ('Training Set: %d rows\\nTest Set: %d rows' % (X_train.shape[0], X_test.shape[0]))\n"
      ],
      "outputs": [
        {
          "output_type": "stream",
          "name": "stderr",
          "text": "Matplotlib is building the font cache; this may take a moment.\n"
        },
        {
          "output_type": "stream",
          "name": "stdout",
          "text": "--2022-07-03 20:12:53--  https://raw.githubusercontent.com/MicrosoftDocs/mslearn-introduction-to-machine-learning/main/Data/ml-basics/daily-bike-share.csv\nResolving raw.githubusercontent.com (raw.githubusercontent.com)... 185.199.110.133, 185.199.111.133, 185.199.108.133, ...\nConnecting to raw.githubusercontent.com (raw.githubusercontent.com)|185.199.110.133|:443... connected.\nHTTP request sent, awaiting response... 200 OK\nLength: 48800 (48K) [text/plain]\nSaving to: ‘daily-bike-share.csv’\n\ndaily-bike-share.cs 100%[===================>]  47.66K  --.-KB/s    in 0.006s  \n\n2022-07-03 20:12:53 (7.55 MB/s) - ‘daily-bike-share.csv’ saved [48800/48800]\n\n   instant    dteday  season  yr  mnth  holiday  weekday  workingday  \\\n0        1  1/1/2011       1   0     1        0        6           0   \n1        2  1/2/2011       1   0     1        0        0           0   \n2        3  1/3/2011       1   0     1        0        1           1   \n3        4  1/4/2011       1   0     1        0        2           1   \n4        5  1/5/2011       1   0     1        0        3           1   \n\n   weathersit      temp     atemp       hum  windspeed  rentals  day  \n0           2  0.344167  0.363625  0.805833   0.160446      331    1  \n1           2  0.363478  0.353739  0.696087   0.248539      131    2  \n2           1  0.196364  0.189405  0.437273   0.248309      120    3  \n3           1  0.200000  0.212122  0.590435   0.160296      108    4  \n4           1  0.226957  0.229270  0.436957   0.186900       82    5  \nTraining Set: 511 rows\nTest Set: 220 rows\n"
        }
      ],
      "execution_count": 1,
      "metadata": {
        "scrolled": true
      }
    },
    {
      "cell_type": "markdown",
      "source": [
        "Now we have the following four datasets:\n",
        "\n",
        "- **X_train**: The feature values we'll use to train the model\n",
        "- **y_train**: The corresponding labels we'll use to train the model\n",
        "- **X_test**: The feature values we'll use to validate the model\n",
        "- **y_test**: The corresponding labels we'll use to validate the model\n",
        "\n",
        "Now we're ready to train a model by fitting a *boosting* ensemble algorithm, as in our last notebook. Recall that a Gradient Boosting estimator, is like a Random Forest algorithm, but instead of building them all trees independently and taking the average result, each tree is built on the outputs of the previous one in an attempt to incrementally reduce the *loss* (error) in the model."
      ],
      "metadata": {}
    },
    {
      "cell_type": "code",
      "source": [
        "# Train the model\n",
        "from sklearn.ensemble import GradientBoostingRegressor, RandomForestRegressor\n",
        "\n",
        "\n",
        "# Fit a lasso model on the training set\n",
        "model = GradientBoostingRegressor().fit(X_train, y_train)\n",
        "print (model, \"\\n\")\n",
        "\n",
        "# Evaluate the model using the test data\n",
        "predictions = model.predict(X_test)\n",
        "mse = mean_squared_error(y_test, predictions)\n",
        "print(\"MSE:\", mse)\n",
        "rmse = np.sqrt(mse)\n",
        "print(\"RMSE:\", rmse)\n",
        "r2 = r2_score(y_test, predictions)\n",
        "print(\"R2:\", r2)\n",
        "\n",
        "# Plot predicted vs actual\n",
        "plt.scatter(y_test, predictions)\n",
        "plt.xlabel('Actual Labels')\n",
        "plt.ylabel('Predicted Labels')\n",
        "plt.title('Daily Bike Share Predictions')\n",
        "# overlay the regression line\n",
        "z = np.polyfit(y_test, predictions, 1)\n",
        "p = np.poly1d(z)\n",
        "plt.plot(y_test,p(y_test), color='magenta')\n",
        "plt.show()"
      ],
      "outputs": [
        {
          "output_type": "stream",
          "name": "stdout",
          "text": "GradientBoostingRegressor() \n\nMSE: 103800.71605117494\nRMSE: 322.18118512907444\nR2: 0.7965052110927227\n"
        },
        {
          "output_type": "display_data",
          "data": {
            "text/plain": "<Figure size 432x288 with 1 Axes>",
            "image/png": "[encoded data removed]"
          },
          "metadata": {
            "needs_background": "light"
          }
        }
      ],
      "execution_count": 2,
      "metadata": {}
    },
    {
      "cell_type": "markdown",
      "source": [
        "## Optimize Hyperparameters\n",
        "\n",
        "Take a look at the **GradientBoostingRegressor** estimator definition in the output above, and note that it, like the other estimators we tried previously, includes a large number of parameters that control the way the model is trained. In machine learning, the term *parameters* refers to values that can be determined from data; values that you specify to affect the behavior of a training algorithm are more correctly referred to as *hyperparameters*.\n",
        "\n",
        "The specific hyperparameters for an estimator vary based on the algorithm that the estimator encapsulates. In the case of the **GradientBoostingRegressor** estimator, the algorithm is an ensemble that combines multiple decision trees to create an overall predictive model. You can learn about the hyperparameters for this estimator in the [Scikit-Learn documentation](https://scikit-learn.org/stable/modules/generated/sklearn.ensemble.GradientBoostingRegressor.html).\n",
        "\n",
        "We won't go into the details of each hyperparameter here, but they work together to affect the way the algorithm trains a model. In many cases, the default values provided by Scikit-Learn will work well; but there may be some advantage in modifying hyperparameters to get better predictive performance or reduce training time.\n",
        "\n",
        "So how do you know what hyperparameter values you should use? Well, in the absence of a deep understanding of how the underlying algorithm works, you'll need to experiment. Fortunately, SciKit-Learn provides a way to *tune* hyperparameters by trying multiple combinations and finding the best result for a given performance metric.\n",
        "\n",
        "Let's try using a *grid search* approach to try combinations from a grid of possible values for the **learning_rate** and **n_estimators** hyperparameters of the **GradientBoostingRegressor** estimator."
      ],
      "metadata": {}
    },
    {
      "cell_type": "code",
      "source": [
        "from sklearn.model_selection import GridSearchCV\n",
        "from sklearn.metrics import make_scorer, r2_score\n",
        "\n",
        "# Use a Gradient Boosting algorithm\n",
        "alg = GradientBoostingRegressor()\n",
        "\n",
        "# Try these hyperparameter values\n",
        "params = {\n",
        " 'learning_rate': [0.1, 0.5, 1.0],\n",
        " 'n_estimators' : [50, 100, 150]\n",
        " }\n",
        "\n",
        "# Find the best hyperparameter combination to optimize the R2 metric\n",
        "score = make_scorer(r2_score)\n",
        "gridsearch = GridSearchCV(alg, params, scoring=score, cv=3, return_train_score=True)\n",
        "gridsearch.fit(X_train, y_train)\n",
        "print(\"Best parameter combination:\", gridsearch.best_params_, \"\\n\")\n",
        "\n",
        "# Get the best model\n",
        "model=gridsearch.best_estimator_\n",
        "print(model, \"\\n\")\n",
        "\n",
        "# Evaluate the model using the test data\n",
        "predictions = model.predict(X_test)\n",
        "mse = mean_squared_error(y_test, predictions)\n",
        "print(\"MSE:\", mse)\n",
        "rmse = np.sqrt(mse)\n",
        "print(\"RMSE:\", rmse)\n",
        "r2 = r2_score(y_test, predictions)\n",
        "print(\"R2:\", r2)\n",
        "\n",
        "# Plot predicted vs actual\n",
        "plt.scatter(y_test, predictions)\n",
        "plt.xlabel('Actual Labels')\n",
        "plt.ylabel('Predicted Labels')\n",
        "plt.title('Daily Bike Share Predictions')\n",
        "# overlay the regression line\n",
        "z = np.polyfit(y_test, predictions, 1)\n",
        "p = np.poly1d(z)\n",
        "plt.plot(y_test,p(y_test), color='magenta')\n",
        "plt.show()"
      ],
      "outputs": [
        {
          "output_type": "stream",
          "name": "stdout",
          "text": "Best parameter combination: {'learning_rate': 0.1, 'n_estimators': 100} \n\nGradientBoostingRegressor() \n\nMSE: 104164.0495864839\nRMSE: 322.74455779530024\nR2: 0.7957929185008856\n"
        },
        {
          "output_type": "display_data",
          "data": {
            "text/plain": "<Figure size 432x288 with 1 Axes>",
            "image/png": "[encoded data removed]"
          },
          "metadata": {
            "needs_background": "light"
          }
        }
      ],
      "execution_count": 3,
      "metadata": {}
    },
    {
      "cell_type": "markdown",
      "source": [
        "> **Note**: The use of random values in the Gradient Boosting algorithm results in slightly different metrics each time. In this case, the best model produced by hyperparameter tuning is unlikely to be significantly better than one trained with the default hyperparameter values; but it's still useful to know about the hyperparameter tuning technique!\n",
        "\n",
        "## Preprocess the Data\n",
        "\n",
        "We trained a model with data that was loaded straight from a source file, with only moderately successful results.\n",
        "\n",
        "In practice, it's common to perform some preprocessing of the data to make it easier for the algorithm to fit a model to it. There's a huge range of preprocessing transformations you can perform to get your data ready for modeling, but we'll limit ourselves to a few common techniques:\n",
        "\n",
        "### Scaling numeric features\n",
        "\n",
        "Normalizing numeric features so they're on the same scale prevents features with large values from producing coefficients that disproportionately affect the predictions. For example, suppose your data includes the following numeric features:\n",
        "\n",
        "| A |  B  |  C  |\n",
        "| - | --- | --- |\n",
        "| 3 | 480 | 65  |\n",
        "    \n",
        "Normalizing these features to the same scale may result in the following values (assuming A contains values from 0 to 10, B contains values from 0 to 1000, and C contains values from 0 to 100):\n",
        "\n",
        "|  A  |  B  |  C  |\n",
        "| --  | --- | --- |\n",
        "| 0.3 | 0.48| 0.65|\n",
        "\n",
        "There are multiple ways you can scale numeric data, such as calculating the minimum and maximum values for each column and assigning a proportional value between 0 and 1, or by using the mean and standard deviation of a normally distributed variable to maintain the same *spread* of values on a different scale.\n",
        "\n",
        "### Encoding categorical variables\n",
        "\n",
        "Machine learning models work best with numeric features rather than text values, so you generally need to convert categorical features into numeric representations.  For example, suppose your data includes the following categorical feature. \n",
        "\n",
        "| Size |\n",
        "| ---- |\n",
        "|  S   |\n",
        "|  M   |\n",
        "|  L   |\n",
        "\n",
        "You can apply *ordinal encoding* to substitute a unique integer value for each category, like this:\n",
        "\n",
        "| Size |\n",
        "| ---- |\n",
        "|  0   |\n",
        "|  1   |\n",
        "|  2   |\n",
        "\n",
        "Another common technique is to use *one hot encoding* to create individual binary (0 or 1) features for each possible category value. For example, you could use one-hot encoding to translate the possible categories into binary columns like this:\n",
        "\n",
        "|  Size_S  |  Size_M  |  Size_L  |\n",
        "| -------  | -------- | -------- |\n",
        "|    1     |     0    |    0     |\n",
        "|    0     |     1    |    0     |\n",
        "|    0     |     0    |    1     |\n",
        "\n",
        "To apply these preprocessing transformations to the bike rental, we'll make use of a Scikit-Learn feature named *pipelines*. These enable us to define a set of preprocessing steps that end with an algorithm. You can then fit the entire pipeline to the data, so that the model encapsulates all of the preprocessing steps as well as the regression algorithm. This is useful, because when we want to use the model to predict values from new data, we need to apply the same transformations (based on the same statistical distributions and category encodings used with the training data).\n",
        "\n",
        ">**Note**: The term *pipeline* is used extensively in machine learning, often to mean very different things! In this context, we're using it to refer to pipeline objects in Scikit-Learn, but you may see it used elsewhere to mean something else."
      ],
      "metadata": {}
    },
    {
      "cell_type": "code",
      "source": [
        "# Train the model\n",
        "from sklearn.compose import ColumnTransformer\n",
        "from sklearn.pipeline import Pipeline\n",
        "from sklearn.impute import SimpleImputer\n",
        "from sklearn.preprocessing import StandardScaler, OneHotEncoder\n",
        "from sklearn.linear_model import LinearRegression\n",
        "import numpy as np\n",
        "\n",
        "# Define preprocessing for numeric columns (scale them)\n",
        "numeric_features = [6,7,8,9]\n",
        "numeric_transformer = Pipeline(steps=[\n",
        "    ('scaler', StandardScaler())])\n",
        "\n",
        "# Define preprocessing for categorical features (encode them)\n",
        "categorical_features = [0,1,2,3,4,5]\n",
        "categorical_transformer = Pipeline(steps=[\n",
        "    ('onehot', OneHotEncoder(handle_unknown='ignore'))])\n",
        "\n",
        "# Combine preprocessing steps\n",
        "preprocessor = ColumnTransformer(\n",
        "    transformers=[\n",
        "        ('num', numeric_transformer, numeric_features),\n",
        "        ('cat', categorical_transformer, categorical_features)])\n",
        "\n",
        "# Create preprocessing and training pipeline\n",
        "pipeline = Pipeline(steps=[('preprocessor', preprocessor),\n",
        "                           ('regressor', GradientBoostingRegressor())])\n",
        "\n",
        "\n",
        "# fit the pipeline to train a linear regression model on the training set\n",
        "model = pipeline.fit(X_train, (y_train))\n",
        "print (model)"
      ],
      "outputs": [
        {
          "output_type": "stream",
          "name": "stdout",
          "text": "Pipeline(steps=[('preprocessor',\n                 ColumnTransformer(transformers=[('num',\n                                                  Pipeline(steps=[('scaler',\n                                                                   StandardScaler())]),\n                                                  [6, 7, 8, 9]),\n                                                 ('cat',\n                                                  Pipeline(steps=[('onehot',\n                                                                   OneHotEncoder(handle_unknown='ignore'))]),\n                                                  [0, 1, 2, 3, 4, 5])])),\n                ('regressor', GradientBoostingRegressor())])\n"
        }
      ],
      "execution_count": 4,
      "metadata": {}
    },
    {
      "cell_type": "markdown",
      "source": [
        "OK, the model is trained, including the preprocessing steps. Let's see how it performs with the validation data."
      ],
      "metadata": {}
    },
    {
      "cell_type": "code",
      "source": [
        "# Get predictions\n",
        "predictions = model.predict(X_test)\n",
        "\n",
        "# Display metrics\n",
        "mse = mean_squared_error(y_test, predictions)\n",
        "print(\"MSE:\", mse)\n",
        "rmse = np.sqrt(mse)\n",
        "print(\"RMSE:\", rmse)\n",
        "r2 = r2_score(y_test, predictions)\n",
        "print(\"R2:\", r2)\n",
        "\n",
        "# Plot predicted vs actual\n",
        "plt.scatter(y_test, predictions)\n",
        "plt.xlabel('Actual Labels')\n",
        "plt.ylabel('Predicted Labels')\n",
        "plt.title('Daily Bike Share Predictions')\n",
        "z = np.polyfit(y_test, predictions, 1)\n",
        "p = np.poly1d(z)\n",
        "plt.plot(y_test,p(y_test), color='magenta')\n",
        "plt.show()"
      ],
      "outputs": [
        {
          "output_type": "stream",
          "name": "stdout",
          "text": "MSE: 105623.82397599054\nRMSE: 324.99819072725705\nR2: 0.792931122431016\n"
        },
        {
          "output_type": "display_data",
          "data": {
            "text/plain": "<Figure size 432x288 with 1 Axes>",
            "image/png": "[encoded data removed]"
          },
          "metadata": {
            "needs_background": "light"
          }
        }
      ],
      "execution_count": 5,
      "metadata": {}
    },
    {
      "cell_type": "markdown",
      "source": [
        "The pipeline is composed of the transformations and the algorithm used to train the model. To try an alternative algorithm you can just change that step to a different kind of estimator."
      ],
      "metadata": {}
    },
    {
      "cell_type": "code",
      "source": [
        "# Use a different estimator in the pipeline\n",
        "pipeline = Pipeline(steps=[('preprocessor', preprocessor),\n",
        "                           ('regressor', RandomForestRegressor())])\n",
        "\n",
        "\n",
        "# fit the pipeline to train a linear regression model on the training set\n",
        "model = pipeline.fit(X_train, (y_train))\n",
        "print (model, \"\\n\")\n",
        "\n",
        "# Get predictions\n",
        "predictions = model.predict(X_test)\n",
        "\n",
        "# Display metrics\n",
        "mse = mean_squared_error(y_test, predictions)\n",
        "print(\"MSE:\", mse)\n",
        "rmse = np.sqrt(mse)\n",
        "print(\"RMSE:\", rmse)\n",
        "r2 = r2_score(y_test, predictions)\n",
        "print(\"R2:\", r2)\n",
        "\n",
        "# Plot predicted vs actual\n",
        "plt.scatter(y_test, predictions)\n",
        "plt.xlabel('Actual Labels')\n",
        "plt.ylabel('Predicted Labels')\n",
        "plt.title('Daily Bike Share Predictions - Preprocessed')\n",
        "z = np.polyfit(y_test, predictions, 1)\n",
        "p = np.poly1d(z)\n",
        "plt.plot(y_test,p(y_test), color='magenta')\n",
        "plt.show()"
      ],
      "outputs": [
        {
          "output_type": "stream",
          "name": "stdout",
          "text": "Pipeline(steps=[('preprocessor',\n                 ColumnTransformer(transformers=[('num',\n                                                  Pipeline(steps=[('scaler',\n                                                                   StandardScaler())]),\n                                                  [6, 7, 8, 9]),\n                                                 ('cat',\n                                                  Pipeline(steps=[('onehot',\n                                                                   OneHotEncoder(handle_unknown='ignore'))]),\n                                                  [0, 1, 2, 3, 4, 5])])),\n                ('regressor', RandomForestRegressor())]) \n\nMSE: 106945.98260272726\nRMSE: 327.02596625150005\nR2: 0.7903391134267903\n"
        },
        {
          "output_type": "display_data",
          "data": {
            "text/plain": "<Figure size 432x288 with 1 Axes>",
            "image/png": "[encoded data removed]"
          },
          "metadata": {
            "needs_background": "light"
          }
        }
      ],
      "execution_count": 6,
      "metadata": {}
    },
    {
      "cell_type": "markdown",
      "source": [
        "We've now seen a number of common techniques used to train predictive models for regression. In a real project, you'd likely try a few more algorithms, hyperparameters, and preprocessing transformations; but by now you should have got the general idea. Let's explore how you can use the trained model with new data.\n",
        "\n",
        "### Use the Trained Model\n",
        "\n",
        "First, let's save the model."
      ],
      "metadata": {}
    },
    {
      "cell_type": "code",
      "source": [
        "import joblib\n",
        "\n",
        "# Save the model as a pickle file\n",
        "filename = './bike-share.pkl'\n",
        "joblib.dump(model, filename)"
      ],
      "outputs": [
        {
          "output_type": "execute_result",
          "execution_count": 7,
          "data": {
            "text/plain": "['./bike-share.pkl']"
          },
          "metadata": {}
        }
      ],
      "execution_count": 7,
      "metadata": {}
    },
    {
      "cell_type": "markdown",
      "source": [
        "Now, we can load it whenever we need it, and use it to predict labels for new data. This is often called *scoring* or *inferencing*."
      ],
      "metadata": {}
    },
    {
      "cell_type": "code",
      "source": [
        "# Load the model from the file\n",
        "loaded_model = joblib.load(filename)\n",
        "\n",
        "# Create a numpy array containing a new observation (for example tomorrow's seasonal and weather forecast information)\n",
        "X_new = np.array([[1,1,0,3,1,1,0.226957,0.22927,0.436957,0.1869]]).astype('float64')\n",
        "print ('New sample: {}'.format(list(X_new[0])))\n",
        "\n",
        "# Use the model to predict tomorrow's rentals\n",
        "result = loaded_model.predict(X_new)\n",
        "print('Prediction: {:.0f} rentals'.format(np.round(result[0])))"
      ],
      "outputs": [
        {
          "output_type": "stream",
          "name": "stdout",
          "text": "New sample: [1.0, 1.0, 0.0, 3.0, 1.0, 1.0, 0.226957, 0.22927, 0.436957, 0.1869]\nPrediction: 105 rentals\n"
        }
      ],
      "execution_count": 8,
      "metadata": {}
    },
    {
      "cell_type": "markdown",
      "source": [
        "The model's **predict** method accepts an array of observations, so you can use it to generate multiple predictions as a batch. For example, suppose you have a weather forecast for the next five days; you could use the model to predict bike rentals for each day based on the expected weather conditions."
      ],
      "metadata": {}
    },
    {
      "cell_type": "code",
      "source": [
        "# An array of features based on five-day weather forecast\n",
        "X_new = np.array([[0,1,1,0,0,1,0.344167,0.363625,0.805833,0.160446],\n",
        "                  [0,1,0,1,0,1,0.363478,0.353739,0.696087,0.248539],\n",
        "                  [0,1,0,2,0,1,0.196364,0.189405,0.437273,0.248309],\n",
        "                  [0,1,0,3,0,1,0.2,0.212122,0.590435,0.160296],\n",
        "                  [0,1,0,4,0,1,0.226957,0.22927,0.436957,0.1869]])\n",
        "\n",
        "# Use the model to predict rentals\n",
        "results = loaded_model.predict(X_new)\n",
        "print('5-day rental predictions:')\n",
        "for prediction in results:\n",
        "    print(np.round(prediction))"
      ],
      "outputs": [
        {
          "output_type": "stream",
          "name": "stdout",
          "text": "5-day rental predictions:\n607.0\n703.0\n235.0\n181.0\n273.0\n"
        }
      ],
      "execution_count": 9,
      "metadata": {}
    },
    {
      "cell_type": "markdown",
      "source": [
        "## Summary\n",
        "\n",
        "That concludes the notebooks for this module on regression. In this notebook we ran a complex regression, tuned it, saved the model, and used it to predict outcomes for the future.\n",
        "\n",
        "## Further Reading\n",
        "\n",
        "To learn more about Scikit-Learn, see the [Scikit-Learn documentation](https://scikit-learn.org/stable/user_guide.html).\n"
      ],
      "metadata": {}
    }
  ],
  "metadata": {
    "kernelspec": {
      "name": "conda-env-py38_default-py",
      "language": "python",
      "display_name": "py38_default"
    },
    "language_info": {
      "name": "python",
      "version": "3.8.13",
      "mimetype": "text/x-python",
      "codemirror_mode": {
        "name": "ipython",
        "version": 3
      },
      "pygments_lexer": "ipython3",
      "nbconvert_exporter": "python",
      "file_extension": ".py"
    },
    "kernel_info": {
      "name": "conda-env-py38_default-py"
    },
    "nteract": {
      "version": "nteract-front-end@1.0.0"
    }
  },
  "nbformat": 4,
  "nbformat_minor": 2
}