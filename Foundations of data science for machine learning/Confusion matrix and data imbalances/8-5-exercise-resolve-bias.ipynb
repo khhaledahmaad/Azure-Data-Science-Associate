{
  "cells": [
    {
      "cell_type": "markdown",
      "source": [
        "# Exercise: Imbalanced data model bias\n",
        "\n",
        "In this exercise, we will take a closer look at *imbalanced datasets*, what effects they have on predictions and how they can be addressed.\n",
        "\n",
        "We will also employ *confusion matrices* to evaluate model updates.\n",
        "\n",
        "## Data visualization\n",
        "\n",
        "Just like in the previous exercise, we use a dataset that represents different classes of objects found on the mountain:"
      ],
      "metadata": {}
    },
    {
      "cell_type": "code",
      "source": [
        "import pandas\n",
        "!wget https://raw.githubusercontent.com/MicrosoftDocs/mslearn-introduction-to-machine-learning/main/graphing.py\n",
        "!wget https://raw.githubusercontent.com/MicrosoftDocs/mslearn-introduction-to-machine-learning/main/Data/snow_objects.csv\n",
        "!wget https://raw.githubusercontent.com/MicrosoftDocs/mslearn-introduction-to-machine-learning/main/Data/snow_objects_balanced.csv\n",
        "\n",
        "#Import the data from the .csv file\n",
        "dataset = pandas.read_csv('snow_objects.csv', delimiter=\"\\t\")\n",
        "\n",
        "# Let's have a look at the data\n",
        "dataset"
      ],
      "outputs": [
        {
          "output_type": "stream",
          "name": "stdout",
          "text": "--2022-07-17 20:22:57--  https://raw.githubusercontent.com/MicrosoftDocs/mslearn-introduction-to-machine-learning/main/graphing.py\nResolving raw.githubusercontent.com (raw.githubusercontent.com)... 185.199.110.133, 185.199.111.133, 185.199.108.133, ...\nConnecting to raw.githubusercontent.com (raw.githubusercontent.com)|185.199.110.133|:443... connected.\nHTTP request sent, awaiting response... 200 OK\nLength: 21511 (21K) [text/plain]\nSaving to: ‘graphing.py.1’\n\ngraphing.py.1       100%[===================>]  21.01K  --.-KB/s    in 0s      \n\n2022-07-17 20:22:57 (45.9 MB/s) - ‘graphing.py.1’ saved [21511/21511]\n\n--2022-07-17 20:22:59--  https://raw.githubusercontent.com/MicrosoftDocs/mslearn-introduction-to-machine-learning/main/Data/snow_objects.csv\nResolving raw.githubusercontent.com (raw.githubusercontent.com)... 185.199.110.133, 185.199.111.133, 185.199.108.133, ...\nConnecting to raw.githubusercontent.com (raw.githubusercontent.com)|185.199.110.133|:443... connected.\nHTTP request sent, awaiting response... 200 OK\nLength: 143797 (140K) [text/plain]\nSaving to: ‘snow_objects.csv.1’\n\nsnow_objects.csv.1  100%[===================>] 140.43K  --.-KB/s    in 0.002s  \n\n2022-07-17 20:22:59 (80.8 MB/s) - ‘snow_objects.csv.1’ saved [143797/143797]\n\n--2022-07-17 20:23:00--  https://raw.githubusercontent.com/MicrosoftDocs/mslearn-introduction-to-machine-learning/main/Data/snow_objects_balanced.csv\nResolving raw.githubusercontent.com (raw.githubusercontent.com)... 185.199.110.133, 185.199.111.133, 185.199.108.133, ...\nConnecting to raw.githubusercontent.com (raw.githubusercontent.com)|185.199.110.133|:443... connected.\nHTTP request sent, awaiting response... 200 OK\nLength: 131615 (129K) [text/plain]\nSaving to: ‘snow_objects_balanced.csv.1’\n\nsnow_objects_balanc 100%[===================>] 128.53K  --.-KB/s    in 0.002s  \n\n2022-07-17 20:23:00 (67.0 MB/s) - ‘snow_objects_balanced.csv.1’ saved [131615/131615]\n\n"
        },
        {
          "output_type": "execute_result",
          "execution_count": 13,
          "data": {
            "text/plain": "           size  roughness  color    motion   label\n0     50.959361   1.318226  green  0.054290    tree\n1     60.008521   0.554291  brown  0.000000    tree\n2     20.530772   1.097752  white  1.380464    tree\n3     28.092138   0.966482   grey  0.650528    tree\n4     48.344211   0.799093   grey  0.000000    tree\n...         ...        ...    ...       ...     ...\n2195   1.918175   1.182234  white  0.000000  animal\n2196   1.000694   1.332152  black  4.041097  animal\n2197   2.331485   0.734561  brown  0.961486  animal\n2198   1.786560   0.707935  black  0.000000  animal\n2199   1.518813   1.447957  brown  0.000000  animal\n\n[2200 rows x 5 columns]",
            "text/html": "<div>\n<style scoped>\n    .dataframe tbody tr th:only-of-type {\n        vertical-align: middle;\n    }\n\n    .dataframe tbody tr th {\n        vertical-align: top;\n    }\n\n    .dataframe thead th {\n        text-align: right;\n    }\n</style>\n<table border=\"1\" class=\"dataframe\">\n  <thead>\n    <tr style=\"text-align: right;\">\n      <th></th>\n      <th>size</th>\n      <th>roughness</th>\n      <th>color</th>\n      <th>motion</th>\n      <th>label</th>\n    </tr>\n  </thead>\n  <tbody>\n    <tr>\n      <th>0</th>\n      <td>50.959361</td>\n      <td>1.318226</td>\n      <td>green</td>\n      <td>0.054290</td>\n      <td>tree</td>\n    </tr>\n    <tr>\n      <th>1</th>\n      <td>60.008521</td>\n      <td>0.554291</td>\n      <td>brown</td>\n      <td>0.000000</td>\n      <td>tree</td>\n    </tr>\n    <tr>\n      <th>2</th>\n      <td>20.530772</td>\n      <td>1.097752</td>\n      <td>white</td>\n      <td>1.380464</td>\n      <td>tree</td>\n    </tr>\n    <tr>\n      <th>3</th>\n      <td>28.092138</td>\n      <td>0.966482</td>\n      <td>grey</td>\n      <td>0.650528</td>\n      <td>tree</td>\n    </tr>\n    <tr>\n      <th>4</th>\n      <td>48.344211</td>\n      <td>0.799093</td>\n      <td>grey</td>\n      <td>0.000000</td>\n      <td>tree</td>\n    </tr>\n    <tr>\n      <th>...</th>\n      <td>...</td>\n      <td>...</td>\n      <td>...</td>\n      <td>...</td>\n      <td>...</td>\n    </tr>\n    <tr>\n      <th>2195</th>\n      <td>1.918175</td>\n      <td>1.182234</td>\n      <td>white</td>\n      <td>0.000000</td>\n      <td>animal</td>\n    </tr>\n    <tr>\n      <th>2196</th>\n      <td>1.000694</td>\n      <td>1.332152</td>\n      <td>black</td>\n      <td>4.041097</td>\n      <td>animal</td>\n    </tr>\n    <tr>\n      <th>2197</th>\n      <td>2.331485</td>\n      <td>0.734561</td>\n      <td>brown</td>\n      <td>0.961486</td>\n      <td>animal</td>\n    </tr>\n    <tr>\n      <th>2198</th>\n      <td>1.786560</td>\n      <td>0.707935</td>\n      <td>black</td>\n      <td>0.000000</td>\n      <td>animal</td>\n    </tr>\n    <tr>\n      <th>2199</th>\n      <td>1.518813</td>\n      <td>1.447957</td>\n      <td>brown</td>\n      <td>0.000000</td>\n      <td>animal</td>\n    </tr>\n  </tbody>\n</table>\n<p>2200 rows × 5 columns</p>\n</div>"
          },
          "metadata": {}
        }
      ],
      "execution_count": 13,
      "metadata": {
        "scrolled": true
      }
    },
    {
      "cell_type": "markdown",
      "source": [
        "Recall that we have an *imbalanced dataset*. Some classes are much more frequent than others:"
      ],
      "metadata": {}
    },
    {
      "cell_type": "code",
      "source": [
        "import graphing # custom graphing code. See our GitHub repo for details\n",
        "\n",
        "# Plot a histogram with counts for each label\n",
        "graphing.multiple_histogram(dataset, label_x=\"label\", label_group=\"label\", title=\"Label distribution\")"
      ],
      "outputs": [
        {
          "output_type": "display_data",
          "data": {
            "application/vnd.plotly.v1+json": {
              "data": [
                {
                  "histfunc": "count",
                  "name": "animal",
                  "x": [
                    "animal",
                    "animal",
                    "animal",
                    "animal",
                    "animal",
                    "animal",
                    "animal",
                    "animal",
                    "animal",
                    "animal",
                    "animal",
                    "animal",
                    "animal",
                    "animal",
                    "animal",
                    "animal",
                    "animal",
                    "animal",
                    "animal",
                    "animal",
                    "animal",
                    "animal",
                    "animal",
                    "animal",
                    "animal",
                    "animal",
                    "animal",
                    "animal",
                    "animal",
                    "animal",
                    "animal",
                    "animal",
                    "animal",
                    "animal",
                    "animal",
                    "animal",
                    "animal",
                    "animal",
                    "animal",
                    "animal",
                    "animal",
                    "animal",
                    "animal",
                    "animal",
                    "animal",
                    "animal",
                    "animal",
                    "animal",
                    "animal",
                    "animal",
                    "animal",
                    "animal",
                    "animal",
                    "animal",
                    "animal",
                    "animal",
                    "animal",
                    "animal",
                    "animal",
                    "animal",
                    "animal",
                    "animal",
                    "animal",
                    "animal",
                    "animal",
                    "animal",
                    "animal",
                    "animal",
                    "animal",
                    "animal",
                    "animal",
                    "animal",
                    "animal",
                    "animal",
                    "animal",
                    "animal",
                    "animal",
                    "animal",
                    "animal",
                    "animal",
                    "animal",
                    "animal",
                    "animal",
                    "animal",
                    "animal",
                    "animal",
                    "animal",
                    "animal",
                    "animal",
                    "animal",
                    "animal",
                    "animal",
                    "animal",
                    "animal",
                    "animal",
                    "animal",
                    "animal",
                    "animal",
                    "animal",
                    "animal",
                    "animal",
                    "animal",
                    "animal",
                    "animal",
                    "animal",
                    "animal",
                    "animal",
                    "animal",
                    "animal",
                    "animal",
                    "animal",
                    "animal",
                    "animal",
                    "animal",
                    "animal",
                    "animal",
                    "animal",
                    "animal",
                    "animal",
                    "animal",
                    "animal",
                    "animal",
                    "animal",
                    "animal",
                    "animal",
                    "animal",
                    "animal",
                    "animal",
                    "animal",
                    "animal",
                    "animal",
                    "animal",
                    "animal",
                    "animal",
                    "animal",
                    "animal",
                    "animal",
                    "animal",
                    "animal",
                    "animal",
                    "animal",
                    "animal",
                    "animal",
                    "animal",
                    "animal",
                    "animal",
                    "animal",
                    "animal",
                    "animal",
                    "animal",
                    "animal",
                    "animal",
                    "animal",
                    "animal",
                    "animal",
                    "animal",
                    "animal",
                    "animal",
                    "animal",
                    "animal",
                    "animal",
                    "animal",
                    "animal",
                    "animal",
                    "animal",
                    "animal",
                    "animal",
                    "animal",
                    "animal",
                    "animal",
                    "animal",
                    "animal",
                    "animal",
                    "animal",
                    "animal",
                    "animal",
                    "animal",
                    "animal",
                    "animal",
                    "animal",
                    "animal",
                    "animal",
                    "animal",
                    "animal",
                    "animal",
                    "animal",
                    "animal",
                    "animal",
                    "animal",
                    "animal",
                    "animal",
                    "animal",
                    "animal",
                    "animal",
                    "animal",
                    "animal",
                    "animal",
                    "animal",
                    "animal",
                    "animal"
                  ],
                  "type": "histogram"
                },
                {
                  "histfunc": "count",
                  "name": "hiker",
                  "x": [
                    "hiker",
                    "hiker",
                    "hiker",
                    "hiker",
                    "hiker",
                    "hiker",
                    "hiker",
                    "hiker",
                    "hiker",
                    "hiker",
                    "hiker",
                    "hiker",
                    "hiker",
                    "hiker",
                    "hiker",
                    "hiker",
                    "hiker",
                    "hiker",
                    "hiker",
                    "hiker",
                    "hiker",
                    "hiker",
                    "hiker",
                    "hiker",
                    "hiker",
                    "hiker",
                    "hiker",
                    "hiker",
                    "hiker",
                    "hiker",
                    "hiker",
                    "hiker",
                    "hiker",
                    "hiker",
                    "hiker",
                    "hiker",
                    "hiker",
                    "hiker",
                    "hiker",
                    "hiker",
                    "hiker",
                    "hiker",
                    "hiker",
                    "hiker",
                    "hiker",
                    "hiker",
                    "hiker",
                    "hiker",
                    "hiker",
                    "hiker",
                    "hiker",
                    "hiker",
                    "hiker",
                    "hiker",
                    "hiker",
                    "hiker",
                    "hiker",
                    "hiker",
                    "hiker",
                    "hiker",
                    "hiker",
                    "hiker",
                    "hiker",
                    "hiker",
                    "hiker",
                    "hiker",
                    "hiker",
                    "hiker",
                    "hiker",
                    "hiker",
                    "hiker",
                    "hiker",
                    "hiker",
                    "hiker",
                    "hiker",
                    "hiker",
                    "hiker",
                    "hiker",
                    "hiker",
                    "hiker",
                    "hiker",
                    "hiker",
                    "hiker",
                    "hiker",
                    "hiker",
                    "hiker",
                    "hiker",
                    "hiker",
                    "hiker",
                    "hiker",
                    "hiker",
                    "hiker",
                    "hiker",
                    "hiker",
                    "hiker",
                    "hiker",
                    "hiker",
                    "hiker",
                    "hiker",
                    "hiker",
                    "hiker",
                    "hiker",
                    "hiker",
                    "hiker",
                    "hiker",
                    "hiker",
                    "hiker",
                    "hiker",
                    "hiker",
                    "hiker",
                    "hiker",
                    "hiker",
                    "hiker",
                    "hiker",
                    "hiker",
                    "hiker",
                    "hiker",
                    "hiker",
                    "hiker",
                    "hiker",
                    "hiker",
                    "hiker",
                    "hiker",
                    "hiker",
                    "hiker",
                    "hiker",
                    "hiker",
                    "hiker",
                    "hiker",
                    "hiker",
                    "hiker",
                    "hiker",
                    "hiker",
                    "hiker",
                    "hiker",
                    "hiker",
                    "hiker",
                    "hiker",
                    "hiker",
                    "hiker",
                    "hiker",
                    "hiker",
                    "hiker",
                    "hiker",
                    "hiker",
                    "hiker",
                    "hiker",
                    "hiker",
                    "hiker",
                    "hiker",
                    "hiker",
                    "hiker",
                    "hiker",
                    "hiker",
                    "hiker",
                    "hiker",
                    "hiker",
                    "hiker",
                    "hiker",
                    "hiker",
                    "hiker",
                    "hiker",
                    "hiker",
                    "hiker",
                    "hiker",
                    "hiker",
                    "hiker",
                    "hiker",
                    "hiker",
                    "hiker",
                    "hiker",
                    "hiker",
                    "hiker",
                    "hiker",
                    "hiker",
                    "hiker",
                    "hiker",
                    "hiker",
                    "hiker",
                    "hiker",
                    "hiker",
                    "hiker",
                    "hiker",
                    "hiker",
                    "hiker",
                    "hiker",
                    "hiker",
                    "hiker",
                    "hiker",
                    "hiker",
                    "hiker",
                    "hiker",
                    "hiker",
                    "hiker",
                    "hiker",
                    "hiker",
                    "hiker",
                    "hiker",
                    "hiker",
                    "hiker",
                    "hiker",
                    "hiker",
                    "hiker",
                    "hiker",
                    "hiker",
                    "hiker",
                    "hiker",
                    "hiker",
                    "hiker",
                    "hiker",
                    "hiker",
                    "hiker",
                    "hiker",
                    "hiker",
                    "hiker",
                    "hiker",
                    "hiker",
                    "hiker",
                    "hiker",
                    "hiker",
                    "hiker",
                    "hiker",
                    "hiker",
                    "hiker",
                    "hiker",
                    "hiker",
                    "hiker",
                    "hiker",
                    "hiker",
                    "hiker",
                    "hiker",
                    "hiker",
                    "hiker",
                    "hiker",
                    "hiker",
                    "hiker",
                    "hiker",
                    "hiker",
                    "hiker",
                    "hiker",
                    "hiker",
                    "hiker",
                    "hiker",
                    "hiker",
                    "hiker",
                    "hiker",
                    "hiker",
                    "hiker",
                    "hiker",
                    "hiker",
                    "hiker",
                    "hiker",
                    "hiker",
                    "hiker",
                    "hiker",
                    "hiker",
                    "hiker",
                    "hiker",
                    "hiker",
                    "hiker",
                    "hiker",
                    "hiker",
                    "hiker",
                    "hiker",
                    "hiker",
                    "hiker",
                    "hiker",
                    "hiker",
                    "hiker",
                    "hiker",
                    "hiker",
                    "hiker",
                    "hiker",
                    "hiker",
                    "hiker",
                    "hiker",
                    "hiker",
                    "hiker",
                    "hiker",
                    "hiker",
                    "hiker",
                    "hiker",
                    "hiker",
                    "hiker",
                    "hiker",
                    "hiker",
                    "hiker",
                    "hiker",
                    "hiker",
                    "hiker",
                    "hiker",
                    "hiker",
                    "hiker",
                    "hiker",
                    "hiker",
                    "hiker",
                    "hiker",
                    "hiker",
                    "hiker",
                    "hiker",
                    "hiker",
                    "hiker",
                    "hiker",
                    "hiker",
                    "hiker",
                    "hiker",
                    "hiker",
                    "hiker",
                    "hiker",
                    "hiker",
                    "hiker",
                    "hiker",
                    "hiker",
                    "hiker",
                    "hiker",
                    "hiker",
                    "hiker",
                    "hiker",
                    "hiker",
                    "hiker",
                    "hiker",
                    "hiker",
                    "hiker",
                    "hiker",
                    "hiker",
                    "hiker",
                    "hiker",
                    "hiker",
                    "hiker",
                    "hiker",
                    "hiker",
                    "hiker",
                    "hiker",
                    "hiker",
                    "hiker",
                    "hiker",
                    "hiker",
                    "hiker",
                    "hiker",
                    "hiker",
                    "hiker",
                    "hiker",
                    "hiker",
                    "hiker",
                    "hiker",
                    "hiker",
                    "hiker",
                    "hiker",
                    "hiker",
                    "hiker",
                    "hiker",
                    "hiker",
                    "hiker",
                    "hiker",
                    "hiker",
                    "hiker",
                    "hiker",
                    "hiker",
                    "hiker",
                    "hiker",
                    "hiker",
                    "hiker",
                    "hiker",
                    "hiker",
                    "hiker",
                    "hiker",
                    "hiker",
                    "hiker",
                    "hiker",
                    "hiker",
                    "hiker",
                    "hiker",
                    "hiker",
                    "hiker",
                    "hiker",
                    "hiker",
                    "hiker",
                    "hiker",
                    "hiker",
                    "hiker",
                    "hiker",
                    "hiker",
                    "hiker",
                    "hiker",
                    "hiker",
                    "hiker",
                    "hiker",
                    "hiker",
                    "hiker",
                    "hiker",
                    "hiker",
                    "hiker",
                    "hiker",
                    "hiker",
                    "hiker",
                    "hiker",
                    "hiker",
                    "hiker",
                    "hiker",
                    "hiker"
                  ],
                  "type": "histogram"
                },
                {
                  "histfunc": "count",
                  "name": "rock",
                  "x": [
                    "rock",
                    "rock",
                    "rock",
                    "rock",
                    "rock",
                    "rock",
                    "rock",
                    "rock",
                    "rock",
                    "rock",
                    "rock",
                    "rock",
                    "rock",
                    "rock",
                    "rock",
                    "rock",
                    "rock",
                    "rock",
                    "rock",
                    "rock",
                    "rock",
                    "rock",
                    "rock",
                    "rock",
                    "rock",
                    "rock",
                    "rock",
                    "rock",
                    "rock",
                    "rock",
                    "rock",
                    "rock",
                    "rock",
                    "rock",
                    "rock",
                    "rock",
                    "rock",
                    "rock",
                    "rock",
                    "rock",
                    "rock",
                    "rock",
                    "rock",
                    "rock",
                    "rock",
                    "rock",
                    "rock",
                    "rock",
                    "rock",
                    "rock",
                    "rock",
                    "rock",
                    "rock",
                    "rock",
                    "rock",
                    "rock",
                    "rock",
                    "rock",
                    "rock",
                    "rock",
                    "rock",
                    "rock",
                    "rock",
                    "rock",
                    "rock",
                    "rock",
                    "rock",
                    "rock",
                    "rock",
                    "rock",
                    "rock",
                    "rock",
                    "rock",
                    "rock",
                    "rock",
                    "rock",
                    "rock",
                    "rock",
                    "rock",
                    "rock",
                    "rock",
                    "rock",
                    "rock",
                    "rock",
                    "rock",
                    "rock",
                    "rock",
                    "rock",
                    "rock",
                    "rock",
                    "rock",
                    "rock",
                    "rock",
                    "rock",
                    "rock",
                    "rock",
                    "rock",
                    "rock",
                    "rock",
                    "rock",
                    "rock",
                    "rock",
                    "rock",
                    "rock",
                    "rock",
                    "rock",
                    "rock",
                    "rock",
                    "rock",
                    "rock",
                    "rock",
                    "rock",
                    "rock",
                    "rock",
                    "rock",
                    "rock",
                    "rock",
                    "rock",
                    "rock",
                    "rock",
                    "rock",
                    "rock",
                    "rock",
                    "rock",
                    "rock",
                    "rock",
                    "rock",
                    "rock",
                    "rock",
                    "rock",
                    "rock",
                    "rock",
                    "rock",
                    "rock",
                    "rock",
                    "rock",
                    "rock",
                    "rock",
                    "rock",
                    "rock",
                    "rock",
                    "rock",
                    "rock",
                    "rock",
                    "rock",
                    "rock",
                    "rock",
                    "rock",
                    "rock",
                    "rock",
                    "rock",
                    "rock",
                    "rock",
                    "rock",
                    "rock",
                    "rock",
                    "rock",
                    "rock",
                    "rock",
                    "rock",
                    "rock",
                    "rock",
                    "rock",
                    "rock",
                    "rock",
                    "rock",
                    "rock",
                    "rock",
                    "rock",
                    "rock",
                    "rock",
                    "rock",
                    "rock",
                    "rock",
                    "rock",
                    "rock",
                    "rock",
                    "rock",
                    "rock",
                    "rock",
                    "rock",
                    "rock",
                    "rock",
                    "rock",
                    "rock",
                    "rock",
                    "rock",
                    "rock",
                    "rock",
                    "rock",
                    "rock",
                    "rock",
                    "rock",
                    "rock",
                    "rock",
                    "rock",
                    "rock",
                    "rock",
                    "rock",
                    "rock",
                    "rock",
                    "rock",
                    "rock",
                    "rock",
                    "rock",
                    "rock",
                    "rock",
                    "rock",
                    "rock",
                    "rock",
                    "rock",
                    "rock",
                    "rock",
                    "rock",
                    "rock",
                    "rock",
                    "rock",
                    "rock",
                    "rock",
                    "rock",
                    "rock",
                    "rock",
                    "rock",
                    "rock",
                    "rock",
                    "rock",
                    "rock",
                    "rock",
                    "rock",
                    "rock",
                    "rock",
                    "rock",
                    "rock",
                    "rock",
                    "rock",
                    "rock",
                    "rock",
                    "rock",
                    "rock",
                    "rock",
                    "rock",
                    "rock",
                    "rock",
                    "rock",
                    "rock",
                    "rock",
                    "rock",
                    "rock",
                    "rock",
                    "rock",
                    "rock",
                    "rock",
                    "rock",
                    "rock",
                    "rock",
                    "rock",
                    "rock",
                    "rock",
                    "rock",
                    "rock",
                    "rock",
                    "rock",
                    "rock",
                    "rock",
                    "rock",
                    "rock",
                    "rock",
                    "rock",
                    "rock",
                    "rock",
                    "rock",
                    "rock",
                    "rock",
                    "rock",
                    "rock",
                    "rock",
                    "rock",
                    "rock",
                    "rock",
                    "rock",
                    "rock",
                    "rock",
                    "rock",
                    "rock",
                    "rock",
                    "rock",
                    "rock",
                    "rock",
                    "rock",
                    "rock",
                    "rock",
                    "rock",
                    "rock",
                    "rock",
                    "rock",
                    "rock",
                    "rock",
                    "rock",
                    "rock",
                    "rock",
                    "rock",
                    "rock",
                    "rock",
                    "rock",
                    "rock",
                    "rock",
                    "rock",
                    "rock",
                    "rock",
                    "rock",
                    "rock",
                    "rock",
                    "rock",
                    "rock",
                    "rock",
                    "rock",
                    "rock",
                    "rock",
                    "rock",
                    "rock",
                    "rock",
                    "rock",
                    "rock",
                    "rock",
                    "rock",
                    "rock",
                    "rock",
                    "rock",
                    "rock",
                    "rock",
                    "rock",
                    "rock",
                    "rock",
                    "rock",
                    "rock",
                    "rock",
                    "rock",
                    "rock",
                    "rock",
                    "rock",
                    "rock",
                    "rock",
                    "rock",
                    "rock",
                    "rock",
                    "rock",
                    "rock",
                    "rock",
                    "rock",
                    "rock",
                    "rock",
                    "rock",
                    "rock",
                    "rock",
                    "rock",
                    "rock",
                    "rock",
                    "rock",
                    "rock",
                    "rock",
                    "rock",
                    "rock",
                    "rock",
                    "rock",
                    "rock",
                    "rock",
                    "rock",
                    "rock",
                    "rock",
                    "rock",
                    "rock",
                    "rock",
                    "rock",
                    "rock",
                    "rock",
                    "rock",
                    "rock",
                    "rock",
                    "rock",
                    "rock",
                    "rock",
                    "rock",
                    "rock",
                    "rock",
                    "rock",
                    "rock",
                    "rock",
                    "rock",
                    "rock",
                    "rock",
                    "rock",
                    "rock",
                    "rock",
                    "rock",
                    "rock",
                    "rock",
                    "rock",
                    "rock",
                    "rock",
                    "rock",
                    "rock",
                    "rock",
                    "rock",
                    "rock",
                    "rock",
                    "rock",
                    "rock",
                    "rock",
                    "rock",
                    "rock",
                    "rock",
                    "rock",
                    "rock",
                    "rock",
                    "rock",
                    "rock",
                    "rock",
                    "rock",
                    "rock",
                    "rock",
                    "rock",
                    "rock",
                    "rock",
                    "rock",
                    "rock",
                    "rock",
                    "rock",
                    "rock",
                    "rock",
                    "rock",
                    "rock",
                    "rock",
                    "rock",
                    "rock",
                    "rock",
                    "rock",
                    "rock",
                    "rock",
                    "rock",
                    "rock",
                    "rock",
                    "rock",
                    "rock",
                    "rock",
                    "rock",
                    "rock",
                    "rock",
                    "rock",
                    "rock",
                    "rock",
                    "rock",
                    "rock",
                    "rock",
                    "rock",
                    "rock",
                    "rock",
                    "rock",
                    "rock",
                    "rock",
                    "rock",
                    "rock",
                    "rock",
                    "rock",
                    "rock",
                    "rock",
                    "rock",
                    "rock",
                    "rock",
                    "rock",
                    "rock",
                    "rock",
                    "rock",
                    "rock",
                    "rock",
                    "rock",
                    "rock",
                    "rock",
                    "rock",
                    "rock",
                    "rock",
                    "rock",
                    "rock",
                    "rock",
                    "rock",
                    "rock",
                    "rock",
                    "rock",
                    "rock",
                    "rock",
                    "rock",
                    "rock",
                    "rock",
                    "rock",
                    "rock",
                    "rock",
                    "rock",
                    "rock",
                    "rock",
                    "rock",
                    "rock",
                    "rock",
                    "rock",
                    "rock",
                    "rock",
                    "rock",
                    "rock",
                    "rock",
                    "rock",
                    "rock",
                    "rock",
                    "rock",
                    "rock",
                    "rock",
                    "rock",
                    "rock",
                    "rock",
                    "rock",
                    "rock",
                    "rock",
                    "rock",
                    "rock",
                    "rock",
                    "rock",
                    "rock",
                    "rock",
                    "rock",
                    "rock",
                    "rock",
                    "rock",
                    "rock",
                    "rock",
                    "rock",
                    "rock",
                    "rock",
                    "rock",
                    "rock",
                    "rock",
                    "rock",
                    "rock",
                    "rock",
                    "rock",
                    "rock",
                    "rock",
                    "rock",
                    "rock",
                    "rock",
                    "rock",
                    "rock",
                    "rock",
                    "rock",
                    "rock",
                    "rock",
                    "rock",
                    "rock",
                    "rock",
                    "rock",
                    "rock",
                    "rock",
                    "rock",
                    "rock",
                    "rock",
                    "rock",
                    "rock",
                    "rock",
                    "rock",
                    "rock",
                    "rock",
                    "rock",
                    "rock",
                    "rock",
                    "rock",
                    "rock",
                    "rock",
                    "rock",
                    "rock",
                    "rock",
                    "rock",
                    "rock",
                    "rock",
                    "rock",
                    "rock",
                    "rock",
                    "rock",
                    "rock",
                    "rock",
                    "rock",
                    "rock",
                    "rock",
                    "rock",
                    "rock",
                    "rock",
                    "rock",
                    "rock",
                    "rock",
                    "rock",
                    "rock",
                    "rock",
                    "rock",
                    "rock",
                    "rock",
                    "rock",
                    "rock",
                    "rock",
                    "rock",
                    "rock",
                    "rock",
                    "rock",
                    "rock",
                    "rock",
                    "rock",
                    "rock",
                    "rock",
                    "rock",
                    "rock",
                    "rock",
                    "rock",
                    "rock",
                    "rock",
                    "rock",
                    "rock",
                    "rock",
                    "rock",
                    "rock",
                    "rock",
                    "rock",
                    "rock",
                    "rock",
                    "rock",
                    "rock",
                    "rock",
                    "rock",
                    "rock",
                    "rock",
                    "rock",
                    "rock",
                    "rock",
                    "rock",
                    "rock",
                    "rock",
                    "rock",
                    "rock",
                    "rock",
                    "rock",
                    "rock",
                    "rock",
                    "rock",
                    "rock",
                    "rock",
                    "rock",
                    "rock",
                    "rock",
                    "rock",
                    "rock",
                    "rock",
                    "rock",
                    "rock",
                    "rock",
                    "rock",
                    "rock",
                    "rock",
                    "rock",
                    "rock",
                    "rock",
                    "rock",
                    "rock",
                    "rock",
                    "rock",
                    "rock",
                    "rock",
                    "rock",
                    "rock",
                    "rock",
                    "rock",
                    "rock",
                    "rock",
                    "rock",
                    "rock",
                    "rock",
                    "rock",
                    "rock",
                    "rock",
                    "rock",
                    "rock",
                    "rock",
                    "rock",
                    "rock",
                    "rock",
                    "rock",
                    "rock",
                    "rock",
                    "rock",
                    "rock",
                    "rock",
                    "rock",
                    "rock",
                    "rock",
                    "rock",
                    "rock",
                    "rock",
                    "rock",
                    "rock",
                    "rock",
                    "rock",
                    "rock",
                    "rock",
                    "rock",
                    "rock",
                    "rock",
                    "rock",
                    "rock",
                    "rock",
                    "rock",
                    "rock",
                    "rock",
                    "rock",
                    "rock",
                    "rock",
                    "rock",
                    "rock",
                    "rock",
                    "rock",
                    "rock",
                    "rock",
                    "rock",
                    "rock",
                    "rock",
                    "rock",
                    "rock",
                    "rock",
                    "rock",
                    "rock",
                    "rock",
                    "rock",
                    "rock",
                    "rock",
                    "rock",
                    "rock",
                    "rock",
                    "rock",
                    "rock",
                    "rock",
                    "rock",
                    "rock",
                    "rock",
                    "rock",
                    "rock",
                    "rock",
                    "rock",
                    "rock",
                    "rock",
                    "rock",
                    "rock",
                    "rock",
                    "rock",
                    "rock",
                    "rock",
                    "rock",
                    "rock",
                    "rock",
                    "rock",
                    "rock",
                    "rock",
                    "rock",
                    "rock",
                    "rock",
                    "rock",
                    "rock",
                    "rock",
                    "rock",
                    "rock",
                    "rock",
                    "rock",
                    "rock",
                    "rock",
                    "rock",
                    "rock",
                    "rock",
                    "rock",
                    "rock",
                    "rock",
                    "rock",
                    "rock",
                    "rock",
                    "rock",
                    "rock",
                    "rock",
                    "rock",
                    "rock",
                    "rock",
                    "rock",
                    "rock",
                    "rock",
                    "rock",
                    "rock",
                    "rock",
                    "rock",
                    "rock",
                    "rock",
                    "rock",
                    "rock"
                  ],
                  "type": "histogram"
                },
                {
                  "histfunc": "count",
                  "name": "tree",
                  "x": [
                    "tree",
                    "tree",
                    "tree",
                    "tree",
                    "tree",
                    "tree",
                    "tree",
                    "tree",
                    "tree",
                    "tree",
                    "tree",
                    "tree",
                    "tree",
                    "tree",
                    "tree",
                    "tree",
                    "tree",
                    "tree",
                    "tree",
                    "tree",
                    "tree",
                    "tree",
                    "tree",
                    "tree",
                    "tree",
                    "tree",
                    "tree",
                    "tree",
                    "tree",
                    "tree",
                    "tree",
                    "tree",
                    "tree",
                    "tree",
                    "tree",
                    "tree",
                    "tree",
                    "tree",
                    "tree",
                    "tree",
                    "tree",
                    "tree",
                    "tree",
                    "tree",
                    "tree",
                    "tree",
                    "tree",
                    "tree",
                    "tree",
                    "tree",
                    "tree",
                    "tree",
                    "tree",
                    "tree",
                    "tree",
                    "tree",
                    "tree",
                    "tree",
                    "tree",
                    "tree",
                    "tree",
                    "tree",
                    "tree",
                    "tree",
                    "tree",
                    "tree",
                    "tree",
                    "tree",
                    "tree",
                    "tree",
                    "tree",
                    "tree",
                    "tree",
                    "tree",
                    "tree",
                    "tree",
                    "tree",
                    "tree",
                    "tree",
                    "tree",
                    "tree",
                    "tree",
                    "tree",
                    "tree",
                    "tree",
                    "tree",
                    "tree",
                    "tree",
                    "tree",
                    "tree",
                    "tree",
                    "tree",
                    "tree",
                    "tree",
                    "tree",
                    "tree",
                    "tree",
                    "tree",
                    "tree",
                    "tree",
                    "tree",
                    "tree",
                    "tree",
                    "tree",
                    "tree",
                    "tree",
                    "tree",
                    "tree",
                    "tree",
                    "tree",
                    "tree",
                    "tree",
                    "tree",
                    "tree",
                    "tree",
                    "tree",
                    "tree",
                    "tree",
                    "tree",
                    "tree",
                    "tree",
                    "tree",
                    "tree",
                    "tree",
                    "tree",
                    "tree",
                    "tree",
                    "tree",
                    "tree",
                    "tree",
                    "tree",
                    "tree",
                    "tree",
                    "tree",
                    "tree",
                    "tree",
                    "tree",
                    "tree",
                    "tree",
                    "tree",
                    "tree",
                    "tree",
                    "tree",
                    "tree",
                    "tree",
                    "tree",
                    "tree",
                    "tree",
                    "tree",
                    "tree",
                    "tree",
                    "tree",
                    "tree",
                    "tree",
                    "tree",
                    "tree",
                    "tree",
                    "tree",
                    "tree",
                    "tree",
                    "tree",
                    "tree",
                    "tree",
                    "tree",
                    "tree",
                    "tree",
                    "tree",
                    "tree",
                    "tree",
                    "tree",
                    "tree",
                    "tree",
                    "tree",
                    "tree",
                    "tree",
                    "tree",
                    "tree",
                    "tree",
                    "tree",
                    "tree",
                    "tree",
                    "tree",
                    "tree",
                    "tree",
                    "tree",
                    "tree",
                    "tree",
                    "tree",
                    "tree",
                    "tree",
                    "tree",
                    "tree",
                    "tree",
                    "tree",
                    "tree",
                    "tree",
                    "tree",
                    "tree",
                    "tree",
                    "tree",
                    "tree",
                    "tree",
                    "tree",
                    "tree",
                    "tree",
                    "tree",
                    "tree",
                    "tree",
                    "tree",
                    "tree",
                    "tree",
                    "tree",
                    "tree",
                    "tree",
                    "tree",
                    "tree",
                    "tree",
                    "tree",
                    "tree",
                    "tree",
                    "tree",
                    "tree",
                    "tree",
                    "tree",
                    "tree",
                    "tree",
                    "tree",
                    "tree",
                    "tree",
                    "tree",
                    "tree",
                    "tree",
                    "tree",
                    "tree",
                    "tree",
                    "tree",
                    "tree",
                    "tree",
                    "tree",
                    "tree",
                    "tree",
                    "tree",
                    "tree",
                    "tree",
                    "tree",
                    "tree",
                    "tree",
                    "tree",
                    "tree",
                    "tree",
                    "tree",
                    "tree",
                    "tree",
                    "tree",
                    "tree",
                    "tree",
                    "tree",
                    "tree",
                    "tree",
                    "tree",
                    "tree",
                    "tree",
                    "tree",
                    "tree",
                    "tree",
                    "tree",
                    "tree",
                    "tree",
                    "tree",
                    "tree",
                    "tree",
                    "tree",
                    "tree",
                    "tree",
                    "tree",
                    "tree",
                    "tree",
                    "tree",
                    "tree",
                    "tree",
                    "tree",
                    "tree",
                    "tree",
                    "tree",
                    "tree",
                    "tree",
                    "tree",
                    "tree",
                    "tree",
                    "tree",
                    "tree",
                    "tree",
                    "tree",
                    "tree",
                    "tree",
                    "tree",
                    "tree",
                    "tree",
                    "tree",
                    "tree",
                    "tree",
                    "tree",
                    "tree",
                    "tree",
                    "tree",
                    "tree",
                    "tree",
                    "tree",
                    "tree",
                    "tree",
                    "tree",
                    "tree",
                    "tree",
                    "tree",
                    "tree",
                    "tree",
                    "tree",
                    "tree",
                    "tree",
                    "tree",
                    "tree",
                    "tree",
                    "tree",
                    "tree",
                    "tree",
                    "tree",
                    "tree",
                    "tree",
                    "tree",
                    "tree",
                    "tree",
                    "tree",
                    "tree",
                    "tree",
                    "tree",
                    "tree",
                    "tree",
                    "tree",
                    "tree",
                    "tree",
                    "tree",
                    "tree",
                    "tree",
                    "tree",
                    "tree",
                    "tree",
                    "tree",
                    "tree",
                    "tree",
                    "tree",
                    "tree",
                    "tree",
                    "tree",
                    "tree",
                    "tree",
                    "tree",
                    "tree",
                    "tree",
                    "tree",
                    "tree",
                    "tree",
                    "tree",
                    "tree",
                    "tree",
                    "tree",
                    "tree",
                    "tree",
                    "tree",
                    "tree",
                    "tree",
                    "tree",
                    "tree",
                    "tree",
                    "tree",
                    "tree",
                    "tree",
                    "tree",
                    "tree",
                    "tree",
                    "tree",
                    "tree",
                    "tree",
                    "tree",
                    "tree",
                    "tree",
                    "tree",
                    "tree",
                    "tree",
                    "tree",
                    "tree",
                    "tree",
                    "tree",
                    "tree",
                    "tree",
                    "tree",
                    "tree",
                    "tree",
                    "tree",
                    "tree",
                    "tree",
                    "tree",
                    "tree",
                    "tree",
                    "tree",
                    "tree",
                    "tree",
                    "tree",
                    "tree",
                    "tree",
                    "tree",
                    "tree",
                    "tree",
                    "tree",
                    "tree",
                    "tree",
                    "tree",
                    "tree",
                    "tree",
                    "tree",
                    "tree",
                    "tree",
                    "tree",
                    "tree",
                    "tree",
                    "tree",
                    "tree",
                    "tree",
                    "tree",
                    "tree",
                    "tree",
                    "tree",
                    "tree",
                    "tree",
                    "tree",
                    "tree",
                    "tree",
                    "tree",
                    "tree",
                    "tree",
                    "tree",
                    "tree",
                    "tree",
                    "tree",
                    "tree",
                    "tree",
                    "tree",
                    "tree",
                    "tree",
                    "tree",
                    "tree",
                    "tree",
                    "tree",
                    "tree",
                    "tree",
                    "tree",
                    "tree",
                    "tree",
                    "tree",
                    "tree",
                    "tree",
                    "tree",
                    "tree",
                    "tree",
                    "tree",
                    "tree",
                    "tree",
                    "tree",
                    "tree",
                    "tree",
                    "tree",
                    "tree",
                    "tree",
                    "tree",
                    "tree",
                    "tree",
                    "tree",
                    "tree",
                    "tree",
                    "tree",
                    "tree",
                    "tree",
                    "tree",
                    "tree",
                    "tree",
                    "tree",
                    "tree",
                    "tree",
                    "tree",
                    "tree",
                    "tree",
                    "tree",
                    "tree",
                    "tree",
                    "tree",
                    "tree",
                    "tree",
                    "tree",
                    "tree",
                    "tree",
                    "tree",
                    "tree",
                    "tree",
                    "tree",
                    "tree",
                    "tree",
                    "tree",
                    "tree",
                    "tree",
                    "tree",
                    "tree",
                    "tree",
                    "tree",
                    "tree",
                    "tree",
                    "tree",
                    "tree",
                    "tree",
                    "tree",
                    "tree",
                    "tree",
                    "tree",
                    "tree",
                    "tree",
                    "tree",
                    "tree",
                    "tree",
                    "tree",
                    "tree",
                    "tree",
                    "tree",
                    "tree",
                    "tree",
                    "tree",
                    "tree",
                    "tree",
                    "tree",
                    "tree",
                    "tree",
                    "tree",
                    "tree",
                    "tree",
                    "tree",
                    "tree",
                    "tree",
                    "tree",
                    "tree",
                    "tree",
                    "tree",
                    "tree",
                    "tree",
                    "tree",
                    "tree",
                    "tree",
                    "tree",
                    "tree",
                    "tree",
                    "tree",
                    "tree",
                    "tree",
                    "tree",
                    "tree",
                    "tree",
                    "tree",
                    "tree",
                    "tree",
                    "tree",
                    "tree",
                    "tree",
                    "tree",
                    "tree",
                    "tree",
                    "tree",
                    "tree",
                    "tree",
                    "tree",
                    "tree",
                    "tree",
                    "tree",
                    "tree",
                    "tree",
                    "tree",
                    "tree",
                    "tree",
                    "tree",
                    "tree",
                    "tree",
                    "tree",
                    "tree",
                    "tree",
                    "tree",
                    "tree",
                    "tree",
                    "tree",
                    "tree",
                    "tree",
                    "tree",
                    "tree",
                    "tree",
                    "tree",
                    "tree",
                    "tree",
                    "tree",
                    "tree",
                    "tree",
                    "tree",
                    "tree",
                    "tree",
                    "tree",
                    "tree",
                    "tree",
                    "tree",
                    "tree",
                    "tree",
                    "tree",
                    "tree",
                    "tree",
                    "tree",
                    "tree",
                    "tree",
                    "tree",
                    "tree",
                    "tree",
                    "tree",
                    "tree",
                    "tree",
                    "tree",
                    "tree",
                    "tree",
                    "tree",
                    "tree",
                    "tree",
                    "tree",
                    "tree",
                    "tree",
                    "tree",
                    "tree",
                    "tree",
                    "tree",
                    "tree",
                    "tree",
                    "tree",
                    "tree",
                    "tree",
                    "tree",
                    "tree",
                    "tree",
                    "tree",
                    "tree",
                    "tree",
                    "tree",
                    "tree",
                    "tree",
                    "tree",
                    "tree",
                    "tree",
                    "tree",
                    "tree",
                    "tree",
                    "tree",
                    "tree",
                    "tree",
                    "tree",
                    "tree",
                    "tree",
                    "tree",
                    "tree",
                    "tree",
                    "tree",
                    "tree",
                    "tree",
                    "tree",
                    "tree",
                    "tree",
                    "tree",
                    "tree",
                    "tree",
                    "tree",
                    "tree",
                    "tree",
                    "tree",
                    "tree",
                    "tree",
                    "tree",
                    "tree",
                    "tree",
                    "tree",
                    "tree",
                    "tree",
                    "tree",
                    "tree",
                    "tree",
                    "tree",
                    "tree",
                    "tree",
                    "tree",
                    "tree",
                    "tree",
                    "tree",
                    "tree",
                    "tree",
                    "tree",
                    "tree",
                    "tree",
                    "tree",
                    "tree",
                    "tree",
                    "tree",
                    "tree",
                    "tree",
                    "tree",
                    "tree",
                    "tree",
                    "tree",
                    "tree",
                    "tree",
                    "tree",
                    "tree",
                    "tree",
                    "tree",
                    "tree",
                    "tree",
                    "tree",
                    "tree",
                    "tree",
                    "tree",
                    "tree",
                    "tree",
                    "tree",
                    "tree",
                    "tree",
                    "tree",
                    "tree",
                    "tree",
                    "tree",
                    "tree",
                    "tree",
                    "tree",
                    "tree",
                    "tree",
                    "tree",
                    "tree",
                    "tree",
                    "tree",
                    "tree",
                    "tree",
                    "tree",
                    "tree",
                    "tree",
                    "tree",
                    "tree",
                    "tree",
                    "tree",
                    "tree",
                    "tree",
                    "tree",
                    "tree",
                    "tree",
                    "tree",
                    "tree",
                    "tree",
                    "tree",
                    "tree",
                    "tree",
                    "tree",
                    "tree",
                    "tree",
                    "tree",
                    "tree",
                    "tree",
                    "tree",
                    "tree",
                    "tree",
                    "tree",
                    "tree",
                    "tree",
                    "tree",
                    "tree",
                    "tree",
                    "tree",
                    "tree",
                    "tree",
                    "tree",
                    "tree",
                    "tree",
                    "tree",
                    "tree",
                    "tree",
                    "tree",
                    "tree",
                    "tree",
                    "tree",
                    "tree",
                    "tree",
                    "tree",
                    "tree",
                    "tree",
                    "tree",
                    "tree",
                    "tree",
                    "tree"
                  ],
                  "type": "histogram"
                }
              ],
              "layout": {
                "title": {
                  "text": "Label distribution"
                },
                "xaxis": {
                  "title": {
                    "text": "label"
                  }
                },
                "yaxis": {
                  "title": {
                    "text": "count"
                  }
                },
                "template": {
                  "data": {
                    "barpolar": [
                      {
                        "marker": {
                          "line": {
                            "color": "white",
                            "width": 0.5
                          },
                          "pattern": {
                            "fillmode": "overlay",
                            "size": 10,
                            "solidity": 0.2
                          }
                        },
                        "type": "barpolar"
                      }
                    ],
                    "bar": [
                      {
                        "error_x": {
                          "color": "#2a3f5f"
                        },
                        "error_y": {
                          "color": "#2a3f5f"
                        },
                        "marker": {
                          "line": {
                            "color": "white",
                            "width": 0.5
                          },
                          "pattern": {
                            "fillmode": "overlay",
                            "size": 10,
                            "solidity": 0.2
                          }
                        },
                        "type": "bar"
                      }
                    ],
                    "carpet": [
                      {
                        "aaxis": {
                          "endlinecolor": "#2a3f5f",
                          "gridcolor": "#C8D4E3",
                          "linecolor": "#C8D4E3",
                          "minorgridcolor": "#C8D4E3",
                          "startlinecolor": "#2a3f5f"
                        },
                        "baxis": {
                          "endlinecolor": "#2a3f5f",
                          "gridcolor": "#C8D4E3",
                          "linecolor": "#C8D4E3",
                          "minorgridcolor": "#C8D4E3",
                          "startlinecolor": "#2a3f5f"
                        },
                        "type": "carpet"
                      }
                    ],
                    "choropleth": [
                      {
                        "colorbar": {
                          "outlinewidth": 0,
                          "ticks": ""
                        },
                        "type": "choropleth"
                      }
                    ],
                    "contourcarpet": [
                      {
                        "colorbar": {
                          "outlinewidth": 0,
                          "ticks": ""
                        },
                        "type": "contourcarpet"
                      }
                    ],
                    "contour": [
                      {
                        "colorbar": {
                          "outlinewidth": 0,
                          "ticks": ""
                        },
                        "colorscale": [
                          [
                            0,
                            "#0d0887"
                          ],
                          [
                            0.1111111111111111,
                            "#46039f"
                          ],
                          [
                            0.2222222222222222,
                            "#7201a8"
                          ],
                          [
                            0.3333333333333333,
                            "#9c179e"
                          ],
                          [
                            0.4444444444444444,
                            "#bd3786"
                          ],
                          [
                            0.5555555555555556,
                            "#d8576b"
                          ],
                          [
                            0.6666666666666666,
                            "#ed7953"
                          ],
                          [
                            0.7777777777777778,
                            "#fb9f3a"
                          ],
                          [
                            0.8888888888888888,
                            "#fdca26"
                          ],
                          [
                            1,
                            "#f0f921"
                          ]
                        ],
                        "type": "contour"
                      }
                    ],
                    "heatmapgl": [
                      {
                        "colorbar": {
                          "outlinewidth": 0,
                          "ticks": ""
                        },
                        "colorscale": [
                          [
                            0,
                            "#0d0887"
                          ],
                          [
                            0.1111111111111111,
                            "#46039f"
                          ],
                          [
                            0.2222222222222222,
                            "#7201a8"
                          ],
                          [
                            0.3333333333333333,
                            "#9c179e"
                          ],
                          [
                            0.4444444444444444,
                            "#bd3786"
                          ],
                          [
                            0.5555555555555556,
                            "#d8576b"
                          ],
                          [
                            0.6666666666666666,
                            "#ed7953"
                          ],
                          [
                            0.7777777777777778,
                            "#fb9f3a"
                          ],
                          [
                            0.8888888888888888,
                            "#fdca26"
                          ],
                          [
                            1,
                            "#f0f921"
                          ]
                        ],
                        "type": "heatmapgl"
                      }
                    ],
                    "heatmap": [
                      {
                        "colorbar": {
                          "outlinewidth": 0,
                          "ticks": ""
                        },
                        "colorscale": [
                          [
                            0,
                            "#0d0887"
                          ],
                          [
                            0.1111111111111111,
                            "#46039f"
                          ],
                          [
                            0.2222222222222222,
                            "#7201a8"
                          ],
                          [
                            0.3333333333333333,
                            "#9c179e"
                          ],
                          [
                            0.4444444444444444,
                            "#bd3786"
                          ],
                          [
                            0.5555555555555556,
                            "#d8576b"
                          ],
                          [
                            0.6666666666666666,
                            "#ed7953"
                          ],
                          [
                            0.7777777777777778,
                            "#fb9f3a"
                          ],
                          [
                            0.8888888888888888,
                            "#fdca26"
                          ],
                          [
                            1,
                            "#f0f921"
                          ]
                        ],
                        "type": "heatmap"
                      }
                    ],
                    "histogram2dcontour": [
                      {
                        "colorbar": {
                          "outlinewidth": 0,
                          "ticks": ""
                        },
                        "colorscale": [
                          [
                            0,
                            "#0d0887"
                          ],
                          [
                            0.1111111111111111,
                            "#46039f"
                          ],
                          [
                            0.2222222222222222,
                            "#7201a8"
                          ],
                          [
                            0.3333333333333333,
                            "#9c179e"
                          ],
                          [
                            0.4444444444444444,
                            "#bd3786"
                          ],
                          [
                            0.5555555555555556,
                            "#d8576b"
                          ],
                          [
                            0.6666666666666666,
                            "#ed7953"
                          ],
                          [
                            0.7777777777777778,
                            "#fb9f3a"
                          ],
                          [
                            0.8888888888888888,
                            "#fdca26"
                          ],
                          [
                            1,
                            "#f0f921"
                          ]
                        ],
                        "type": "histogram2dcontour"
                      }
                    ],
                    "histogram2d": [
                      {
                        "colorbar": {
                          "outlinewidth": 0,
                          "ticks": ""
                        },
                        "colorscale": [
                          [
                            0,
                            "#0d0887"
                          ],
                          [
                            0.1111111111111111,
                            "#46039f"
                          ],
                          [
                            0.2222222222222222,
                            "#7201a8"
                          ],
                          [
                            0.3333333333333333,
                            "#9c179e"
                          ],
                          [
                            0.4444444444444444,
                            "#bd3786"
                          ],
                          [
                            0.5555555555555556,
                            "#d8576b"
                          ],
                          [
                            0.6666666666666666,
                            "#ed7953"
                          ],
                          [
                            0.7777777777777778,
                            "#fb9f3a"
                          ],
                          [
                            0.8888888888888888,
                            "#fdca26"
                          ],
                          [
                            1,
                            "#f0f921"
                          ]
                        ],
                        "type": "histogram2d"
                      }
                    ],
                    "histogram": [
                      {
                        "marker": {
                          "pattern": {
                            "fillmode": "overlay",
                            "size": 10,
                            "solidity": 0.2
                          },
                          "line": {
                            "width": 1
                          }
                        },
                        "type": "histogram"
                      }
                    ],
                    "mesh3d": [
                      {
                        "colorbar": {
                          "outlinewidth": 0,
                          "ticks": ""
                        },
                        "type": "mesh3d"
                      }
                    ],
                    "parcoords": [
                      {
                        "line": {
                          "colorbar": {
                            "outlinewidth": 0,
                            "ticks": ""
                          }
                        },
                        "type": "parcoords"
                      }
                    ],
                    "pie": [
                      {
                        "automargin": true,
                        "type": "pie"
                      }
                    ],
                    "scatter3d": [
                      {
                        "line": {
                          "colorbar": {
                            "outlinewidth": 0,
                            "ticks": ""
                          }
                        },
                        "marker": {
                          "colorbar": {
                            "outlinewidth": 0,
                            "ticks": ""
                          },
                          "opacity": 0.8
                        },
                        "type": "scatter3d"
                      }
                    ],
                    "scattercarpet": [
                      {
                        "marker": {
                          "colorbar": {
                            "outlinewidth": 0,
                            "ticks": ""
                          }
                        },
                        "type": "scattercarpet"
                      }
                    ],
                    "scattergeo": [
                      {
                        "marker": {
                          "colorbar": {
                            "outlinewidth": 0,
                            "ticks": ""
                          }
                        },
                        "type": "scattergeo"
                      }
                    ],
                    "scattergl": [
                      {
                        "marker": {
                          "colorbar": {
                            "outlinewidth": 0,
                            "ticks": ""
                          }
                        },
                        "type": "scattergl"
                      }
                    ],
                    "scattermapbox": [
                      {
                        "marker": {
                          "colorbar": {
                            "outlinewidth": 0,
                            "ticks": ""
                          }
                        },
                        "type": "scattermapbox"
                      }
                    ],
                    "scatterpolargl": [
                      {
                        "marker": {
                          "colorbar": {
                            "outlinewidth": 0,
                            "ticks": ""
                          }
                        },
                        "type": "scatterpolargl"
                      }
                    ],
                    "scatterpolar": [
                      {
                        "marker": {
                          "colorbar": {
                            "outlinewidth": 0,
                            "ticks": ""
                          }
                        },
                        "type": "scatterpolar"
                      }
                    ],
                    "scatter": [
                      {
                        "fillpattern": {
                          "fillmode": "overlay",
                          "size": 10,
                          "solidity": 0.2
                        },
                        "type": "scatter",
                        "marker": {
                          "opacity": 0.8
                        }
                      }
                    ],
                    "scatterternary": [
                      {
                        "marker": {
                          "colorbar": {
                            "outlinewidth": 0,
                            "ticks": ""
                          }
                        },
                        "type": "scatterternary"
                      }
                    ],
                    "surface": [
                      {
                        "colorbar": {
                          "outlinewidth": 0,
                          "ticks": ""
                        },
                        "colorscale": [
                          [
                            0,
                            "#0d0887"
                          ],
                          [
                            0.1111111111111111,
                            "#46039f"
                          ],
                          [
                            0.2222222222222222,
                            "#7201a8"
                          ],
                          [
                            0.3333333333333333,
                            "#9c179e"
                          ],
                          [
                            0.4444444444444444,
                            "#bd3786"
                          ],
                          [
                            0.5555555555555556,
                            "#d8576b"
                          ],
                          [
                            0.6666666666666666,
                            "#ed7953"
                          ],
                          [
                            0.7777777777777778,
                            "#fb9f3a"
                          ],
                          [
                            0.8888888888888888,
                            "#fdca26"
                          ],
                          [
                            1,
                            "#f0f921"
                          ]
                        ],
                        "type": "surface"
                      }
                    ],
                    "table": [
                      {
                        "cells": {
                          "fill": {
                            "color": "#EBF0F8"
                          },
                          "line": {
                            "color": "white"
                          }
                        },
                        "header": {
                          "fill": {
                            "color": "#C8D4E3"
                          },
                          "line": {
                            "color": "white"
                          }
                        },
                        "type": "table"
                      }
                    ],
                    "box": [
                      {
                        "boxpoints": "outliers",
                        "notched": false,
                        "type": "box"
                      }
                    ]
                  },
                  "layout": {
                    "annotationdefaults": {
                      "arrowcolor": "#2a3f5f",
                      "arrowhead": 0,
                      "arrowwidth": 1
                    },
                    "autotypenumbers": "strict",
                    "coloraxis": {
                      "colorbar": {
                        "outlinewidth": 0,
                        "ticks": ""
                      }
                    },
                    "colorscale": {
                      "diverging": [
                        [
                          0,
                          "#8e0152"
                        ],
                        [
                          0.1,
                          "#c51b7d"
                        ],
                        [
                          0.2,
                          "#de77ae"
                        ],
                        [
                          0.3,
                          "#f1b6da"
                        ],
                        [
                          0.4,
                          "#fde0ef"
                        ],
                        [
                          0.5,
                          "#f7f7f7"
                        ],
                        [
                          0.6,
                          "#e6f5d0"
                        ],
                        [
                          0.7,
                          "#b8e186"
                        ],
                        [
                          0.8,
                          "#7fbc41"
                        ],
                        [
                          0.9,
                          "#4d9221"
                        ],
                        [
                          1,
                          "#276419"
                        ]
                      ],
                      "sequential": [
                        [
                          0,
                          "#0d0887"
                        ],
                        [
                          0.1111111111111111,
                          "#46039f"
                        ],
                        [
                          0.2222222222222222,
                          "#7201a8"
                        ],
                        [
                          0.3333333333333333,
                          "#9c179e"
                        ],
                        [
                          0.4444444444444444,
                          "#bd3786"
                        ],
                        [
                          0.5555555555555556,
                          "#d8576b"
                        ],
                        [
                          0.6666666666666666,
                          "#ed7953"
                        ],
                        [
                          0.7777777777777778,
                          "#fb9f3a"
                        ],
                        [
                          0.8888888888888888,
                          "#fdca26"
                        ],
                        [
                          1,
                          "#f0f921"
                        ]
                      ],
                      "sequentialminus": [
                        [
                          0,
                          "#0d0887"
                        ],
                        [
                          0.1111111111111111,
                          "#46039f"
                        ],
                        [
                          0.2222222222222222,
                          "#7201a8"
                        ],
                        [
                          0.3333333333333333,
                          "#9c179e"
                        ],
                        [
                          0.4444444444444444,
                          "#bd3786"
                        ],
                        [
                          0.5555555555555556,
                          "#d8576b"
                        ],
                        [
                          0.6666666666666666,
                          "#ed7953"
                        ],
                        [
                          0.7777777777777778,
                          "#fb9f3a"
                        ],
                        [
                          0.8888888888888888,
                          "#fdca26"
                        ],
                        [
                          1,
                          "#f0f921"
                        ]
                      ]
                    },
                    "colorway": [
                      "#636efa",
                      "#EF553B",
                      "#00cc96",
                      "#ab63fa",
                      "#FFA15A",
                      "#19d3f3",
                      "#FF6692",
                      "#B6E880",
                      "#FF97FF",
                      "#FECB52"
                    ],
                    "font": {
                      "color": "#2a3f5f"
                    },
                    "geo": {
                      "bgcolor": "white",
                      "lakecolor": "white",
                      "landcolor": "white",
                      "showlakes": true,
                      "showland": true,
                      "subunitcolor": "#C8D4E3"
                    },
                    "hoverlabel": {
                      "align": "left"
                    },
                    "hovermode": "closest",
                    "mapbox": {
                      "style": "light"
                    },
                    "paper_bgcolor": "white",
                    "plot_bgcolor": "white",
                    "polar": {
                      "angularaxis": {
                        "gridcolor": "#EBF0F8",
                        "linecolor": "#EBF0F8",
                        "ticks": ""
                      },
                      "bgcolor": "white",
                      "radialaxis": {
                        "gridcolor": "#EBF0F8",
                        "linecolor": "#EBF0F8",
                        "ticks": ""
                      }
                    },
                    "scene": {
                      "xaxis": {
                        "backgroundcolor": "white",
                        "gridcolor": "#DFE8F3",
                        "gridwidth": 2,
                        "linecolor": "#EBF0F8",
                        "showbackground": true,
                        "ticks": "",
                        "zerolinecolor": "#EBF0F8"
                      },
                      "yaxis": {
                        "backgroundcolor": "white",
                        "gridcolor": "#DFE8F3",
                        "gridwidth": 2,
                        "linecolor": "#EBF0F8",
                        "showbackground": true,
                        "ticks": "",
                        "zerolinecolor": "#EBF0F8"
                      },
                      "zaxis": {
                        "backgroundcolor": "white",
                        "gridcolor": "#DFE8F3",
                        "gridwidth": 2,
                        "linecolor": "#EBF0F8",
                        "showbackground": true,
                        "ticks": "",
                        "zerolinecolor": "#EBF0F8"
                      },
                      "camera": {
                        "eye": {
                          "x": 1.5,
                          "y": 1.5,
                          "z": 0.1
                        }
                      }
                    },
                    "shapedefaults": {
                      "line": {
                        "color": "#2a3f5f"
                      }
                    },
                    "ternary": {
                      "aaxis": {
                        "gridcolor": "#DFE8F3",
                        "linecolor": "#A2B1C6",
                        "ticks": ""
                      },
                      "baxis": {
                        "gridcolor": "#DFE8F3",
                        "linecolor": "#A2B1C6",
                        "ticks": ""
                      },
                      "bgcolor": "white",
                      "caxis": {
                        "gridcolor": "#DFE8F3",
                        "linecolor": "#A2B1C6",
                        "ticks": ""
                      }
                    },
                    "title": {
                      "x": 0.5
                    },
                    "xaxis": {
                      "automargin": true,
                      "gridcolor": "#EBF0F8",
                      "linecolor": "#EBF0F8",
                      "ticks": "",
                      "title": {
                        "standoff": 15
                      },
                      "zerolinecolor": "#EBF0F8",
                      "zerolinewidth": 2,
                      "linewidth": 2,
                      "showline": true
                    },
                    "yaxis": {
                      "automargin": true,
                      "gridcolor": "#EBF0F8",
                      "linecolor": "#EBF0F8",
                      "ticks": "",
                      "title": {
                        "standoff": 15
                      },
                      "zerolinecolor": "#EBF0F8",
                      "zerolinewidth": 2,
                      "linewidth": 2,
                      "showline": true
                    },
                    "height": 400,
                    "margin": {
                      "b": 2,
                      "l": 2,
                      "r": 2,
                      "t": 30
                    }
                  }
                },
                "legend": {
                  "title": {
                    "text": "label"
                  }
                }
              },
              "config": {
                "plotlyServerURL": "https://plot.ly"
              }
            },
            "text/html": "<div>                            <div id=\"739f2a2d-eb03-4f9c-89de-7a8c0e6c1731\" class=\"plotly-graph-div\" style=\"height:400px; width:100%;\"></div>            <script type=\"text/javascript\">                require([\"plotly\"], function(Plotly) {                    window.PLOTLYENV=window.PLOTLYENV || {};                                    if (document.getElementById(\"739f2a2d-eb03-4f9c-89de-7a8c0e6c1731\")) {                    Plotly.newPlot(                        \"739f2a2d-eb03-4f9c-89de-7a8c0e6c1731\",                        [{\"histfunc\":\"count\",\"name\":\"animal\",\"x\":[\"animal\",\"animal\",\"animal\",\"animal\",\"animal\",\"animal\",\"animal\",\"animal\",\"animal\",\"animal\",\"animal\",\"animal\",\"animal\",\"animal\",\"animal\",\"animal\",\"animal\",\"animal\",\"animal\",\"animal\",\"animal\",\"animal\",\"animal\",\"animal\",\"animal\",\"animal\",\"animal\",\"animal\",\"animal\",\"animal\",\"animal\",\"animal\",\"animal\",\"animal\",\"animal\",\"animal\",\"animal\",\"animal\",\"animal\",\"animal\",\"animal\",\"animal\",\"animal\",\"animal\",\"animal\",\"animal\",\"animal\",\"animal\",\"animal\",\"animal\",\"animal\",\"animal\",\"animal\",\"animal\",\"animal\",\"animal\",\"animal\",\"animal\",\"animal\",\"animal\",\"animal\",\"animal\",\"animal\",\"animal\",\"animal\",\"animal\",\"animal\",\"animal\",\"animal\",\"animal\",\"animal\",\"animal\",\"animal\",\"animal\",\"animal\",\"animal\",\"animal\",\"animal\",\"animal\",\"animal\",\"animal\",\"animal\",\"animal\",\"animal\",\"animal\",\"animal\",\"animal\",\"animal\",\"animal\",\"animal\",\"animal\",\"animal\",\"animal\",\"animal\",\"animal\",\"animal\",\"animal\",\"animal\",\"animal\",\"animal\",\"animal\",\"animal\",\"animal\",\"animal\",\"animal\",\"animal\",\"animal\",\"animal\",\"animal\",\"animal\",\"animal\",\"animal\",\"animal\",\"animal\",\"animal\",\"animal\",\"animal\",\"animal\",\"animal\",\"animal\",\"animal\",\"animal\",\"animal\",\"animal\",\"animal\",\"animal\",\"animal\",\"animal\",\"animal\",\"animal\",\"animal\",\"animal\",\"animal\",\"animal\",\"animal\",\"animal\",\"animal\",\"animal\",\"animal\",\"animal\",\"animal\",\"animal\",\"animal\",\"animal\",\"animal\",\"animal\",\"animal\",\"animal\",\"animal\",\"animal\",\"animal\",\"animal\",\"animal\",\"animal\",\"animal\",\"animal\",\"animal\",\"animal\",\"animal\",\"animal\",\"animal\",\"animal\",\"animal\",\"animal\",\"animal\",\"animal\",\"animal\",\"animal\",\"animal\",\"animal\",\"animal\",\"animal\",\"animal\",\"animal\",\"animal\",\"animal\",\"animal\",\"animal\",\"animal\",\"animal\",\"animal\",\"animal\",\"animal\",\"animal\",\"animal\",\"animal\",\"animal\",\"animal\",\"animal\",\"animal\",\"animal\",\"animal\",\"animal\",\"animal\",\"animal\",\"animal\",\"animal\",\"animal\",\"animal\",\"animal\"],\"type\":\"histogram\"},{\"histfunc\":\"count\",\"name\":\"hiker\",\"x\":[\"hiker\",\"hiker\",\"hiker\",\"hiker\",\"hiker\",\"hiker\",\"hiker\",\"hiker\",\"hiker\",\"hiker\",\"hiker\",\"hiker\",\"hiker\",\"hiker\",\"hiker\",\"hiker\",\"hiker\",\"hiker\",\"hiker\",\"hiker\",\"hiker\",\"hiker\",\"hiker\",\"hiker\",\"hiker\",\"hiker\",\"hiker\",\"hiker\",\"hiker\",\"hiker\",\"hiker\",\"hiker\",\"hiker\",\"hiker\",\"hiker\",\"hiker\",\"hiker\",\"hiker\",\"hiker\",\"hiker\",\"hiker\",\"hiker\",\"hiker\",\"hiker\",\"hiker\",\"hiker\",\"hiker\",\"hiker\",\"hiker\",\"hiker\",\"hiker\",\"hiker\",\"hiker\",\"hiker\",\"hiker\",\"hiker\",\"hiker\",\"hiker\",\"hiker\",\"hiker\",\"hiker\",\"hiker\",\"hiker\",\"hiker\",\"hiker\",\"hiker\",\"hiker\",\"hiker\",\"hiker\",\"hiker\",\"hiker\",\"hiker\",\"hiker\",\"hiker\",\"hiker\",\"hiker\",\"hiker\",\"hiker\",\"hiker\",\"hiker\",\"hiker\",\"hiker\",\"hiker\",\"hiker\",\"hiker\",\"hiker\",\"hiker\",\"hiker\",\"hiker\",\"hiker\",\"hiker\",\"hiker\",\"hiker\",\"hiker\",\"hiker\",\"hiker\",\"hiker\",\"hiker\",\"hiker\",\"hiker\",\"hiker\",\"hiker\",\"hiker\",\"hiker\",\"hiker\",\"hiker\",\"hiker\",\"hiker\",\"hiker\",\"hiker\",\"hiker\",\"hiker\",\"hiker\",\"hiker\",\"hiker\",\"hiker\",\"hiker\",\"hiker\",\"hiker\",\"hiker\",\"hiker\",\"hiker\",\"hiker\",\"hiker\",\"hiker\",\"hiker\",\"hiker\",\"hiker\",\"hiker\",\"hiker\",\"hiker\",\"hiker\",\"hiker\",\"hiker\",\"hiker\",\"hiker\",\"hiker\",\"hiker\",\"hiker\",\"hiker\",\"hiker\",\"hiker\",\"hiker\",\"hiker\",\"hiker\",\"hiker\",\"hiker\",\"hiker\",\"hiker\",\"hiker\",\"hiker\",\"hiker\",\"hiker\",\"hiker\",\"hiker\",\"hiker\",\"hiker\",\"hiker\",\"hiker\",\"hiker\",\"hiker\",\"hiker\",\"hiker\",\"hiker\",\"hiker\",\"hiker\",\"hiker\",\"hiker\",\"hiker\",\"hiker\",\"hiker\",\"hiker\",\"hiker\",\"hiker\",\"hiker\",\"hiker\",\"hiker\",\"hiker\",\"hiker\",\"hiker\",\"hiker\",\"hiker\",\"hiker\",\"hiker\",\"hiker\",\"hiker\",\"hiker\",\"hiker\",\"hiker\",\"hiker\",\"hiker\",\"hiker\",\"hiker\",\"hiker\",\"hiker\",\"hiker\",\"hiker\",\"hiker\",\"hiker\",\"hiker\",\"hiker\",\"hiker\",\"hiker\",\"hiker\",\"hiker\",\"hiker\",\"hiker\",\"hiker\",\"hiker\",\"hiker\",\"hiker\",\"hiker\",\"hiker\",\"hiker\",\"hiker\",\"hiker\",\"hiker\",\"hiker\",\"hiker\",\"hiker\",\"hiker\",\"hiker\",\"hiker\",\"hiker\",\"hiker\",\"hiker\",\"hiker\",\"hiker\",\"hiker\",\"hiker\",\"hiker\",\"hiker\",\"hiker\",\"hiker\",\"hiker\",\"hiker\",\"hiker\",\"hiker\",\"hiker\",\"hiker\",\"hiker\",\"hiker\",\"hiker\",\"hiker\",\"hiker\",\"hiker\",\"hiker\",\"hiker\",\"hiker\",\"hiker\",\"hiker\",\"hiker\",\"hiker\",\"hiker\",\"hiker\",\"hiker\",\"hiker\",\"hiker\",\"hiker\",\"hiker\",\"hiker\",\"hiker\",\"hiker\",\"hiker\",\"hiker\",\"hiker\",\"hiker\",\"hiker\",\"hiker\",\"hiker\",\"hiker\",\"hiker\",\"hiker\",\"hiker\",\"hiker\",\"hiker\",\"hiker\",\"hiker\",\"hiker\",\"hiker\",\"hiker\",\"hiker\",\"hiker\",\"hiker\",\"hiker\",\"hiker\",\"hiker\",\"hiker\",\"hiker\",\"hiker\",\"hiker\",\"hiker\",\"hiker\",\"hiker\",\"hiker\",\"hiker\",\"hiker\",\"hiker\",\"hiker\",\"hiker\",\"hiker\",\"hiker\",\"hiker\",\"hiker\",\"hiker\",\"hiker\",\"hiker\",\"hiker\",\"hiker\",\"hiker\",\"hiker\",\"hiker\",\"hiker\",\"hiker\",\"hiker\",\"hiker\",\"hiker\",\"hiker\",\"hiker\",\"hiker\",\"hiker\",\"hiker\",\"hiker\",\"hiker\",\"hiker\",\"hiker\",\"hiker\",\"hiker\",\"hiker\",\"hiker\",\"hiker\",\"hiker\",\"hiker\",\"hiker\",\"hiker\",\"hiker\",\"hiker\",\"hiker\",\"hiker\",\"hiker\",\"hiker\",\"hiker\",\"hiker\",\"hiker\",\"hiker\",\"hiker\",\"hiker\",\"hiker\",\"hiker\",\"hiker\",\"hiker\",\"hiker\",\"hiker\",\"hiker\",\"hiker\",\"hiker\",\"hiker\",\"hiker\",\"hiker\",\"hiker\",\"hiker\",\"hiker\",\"hiker\",\"hiker\",\"hiker\",\"hiker\",\"hiker\",\"hiker\",\"hiker\",\"hiker\",\"hiker\",\"hiker\",\"hiker\",\"hiker\",\"hiker\",\"hiker\",\"hiker\",\"hiker\",\"hiker\",\"hiker\",\"hiker\",\"hiker\",\"hiker\",\"hiker\",\"hiker\",\"hiker\",\"hiker\",\"hiker\",\"hiker\",\"hiker\",\"hiker\",\"hiker\",\"hiker\",\"hiker\",\"hiker\",\"hiker\",\"hiker\",\"hiker\",\"hiker\",\"hiker\"],\"type\":\"histogram\"},{\"histfunc\":\"count\",\"name\":\"rock\",\"x\":[\"rock\",\"rock\",\"rock\",\"rock\",\"rock\",\"rock\",\"rock\",\"rock\",\"rock\",\"rock\",\"rock\",\"rock\",\"rock\",\"rock\",\"rock\",\"rock\",\"rock\",\"rock\",\"rock\",\"rock\",\"rock\",\"rock\",\"rock\",\"rock\",\"rock\",\"rock\",\"rock\",\"rock\",\"rock\",\"rock\",\"rock\",\"rock\",\"rock\",\"rock\",\"rock\",\"rock\",\"rock\",\"rock\",\"rock\",\"rock\",\"rock\",\"rock\",\"rock\",\"rock\",\"rock\",\"rock\",\"rock\",\"rock\",\"rock\",\"rock\",\"rock\",\"rock\",\"rock\",\"rock\",\"rock\",\"rock\",\"rock\",\"rock\",\"rock\",\"rock\",\"rock\",\"rock\",\"rock\",\"rock\",\"rock\",\"rock\",\"rock\",\"rock\",\"rock\",\"rock\",\"rock\",\"rock\",\"rock\",\"rock\",\"rock\",\"rock\",\"rock\",\"rock\",\"rock\",\"rock\",\"rock\",\"rock\",\"rock\",\"rock\",\"rock\",\"rock\",\"rock\",\"rock\",\"rock\",\"rock\",\"rock\",\"rock\",\"rock\",\"rock\",\"rock\",\"rock\",\"rock\",\"rock\",\"rock\",\"rock\",\"rock\",\"rock\",\"rock\",\"rock\",\"rock\",\"rock\",\"rock\",\"rock\",\"rock\",\"rock\",\"rock\",\"rock\",\"rock\",\"rock\",\"rock\",\"rock\",\"rock\",\"rock\",\"rock\",\"rock\",\"rock\",\"rock\",\"rock\",\"rock\",\"rock\",\"rock\",\"rock\",\"rock\",\"rock\",\"rock\",\"rock\",\"rock\",\"rock\",\"rock\",\"rock\",\"rock\",\"rock\",\"rock\",\"rock\",\"rock\",\"rock\",\"rock\",\"rock\",\"rock\",\"rock\",\"rock\",\"rock\",\"rock\",\"rock\",\"rock\",\"rock\",\"rock\",\"rock\",\"rock\",\"rock\",\"rock\",\"rock\",\"rock\",\"rock\",\"rock\",\"rock\",\"rock\",\"rock\",\"rock\",\"rock\",\"rock\",\"rock\",\"rock\",\"rock\",\"rock\",\"rock\",\"rock\",\"rock\",\"rock\",\"rock\",\"rock\",\"rock\",\"rock\",\"rock\",\"rock\",\"rock\",\"rock\",\"rock\",\"rock\",\"rock\",\"rock\",\"rock\",\"rock\",\"rock\",\"rock\",\"rock\",\"rock\",\"rock\",\"rock\",\"rock\",\"rock\",\"rock\",\"rock\",\"rock\",\"rock\",\"rock\",\"rock\",\"rock\",\"rock\",\"rock\",\"rock\",\"rock\",\"rock\",\"rock\",\"rock\",\"rock\",\"rock\",\"rock\",\"rock\",\"rock\",\"rock\",\"rock\",\"rock\",\"rock\",\"rock\",\"rock\",\"rock\",\"rock\",\"rock\",\"rock\",\"rock\",\"rock\",\"rock\",\"rock\",\"rock\",\"rock\",\"rock\",\"rock\",\"rock\",\"rock\",\"rock\",\"rock\",\"rock\",\"rock\",\"rock\",\"rock\",\"rock\",\"rock\",\"rock\",\"rock\",\"rock\",\"rock\",\"rock\",\"rock\",\"rock\",\"rock\",\"rock\",\"rock\",\"rock\",\"rock\",\"rock\",\"rock\",\"rock\",\"rock\",\"rock\",\"rock\",\"rock\",\"rock\",\"rock\",\"rock\",\"rock\",\"rock\",\"rock\",\"rock\",\"rock\",\"rock\",\"rock\",\"rock\",\"rock\",\"rock\",\"rock\",\"rock\",\"rock\",\"rock\",\"rock\",\"rock\",\"rock\",\"rock\",\"rock\",\"rock\",\"rock\",\"rock\",\"rock\",\"rock\",\"rock\",\"rock\",\"rock\",\"rock\",\"rock\",\"rock\",\"rock\",\"rock\",\"rock\",\"rock\",\"rock\",\"rock\",\"rock\",\"rock\",\"rock\",\"rock\",\"rock\",\"rock\",\"rock\",\"rock\",\"rock\",\"rock\",\"rock\",\"rock\",\"rock\",\"rock\",\"rock\",\"rock\",\"rock\",\"rock\",\"rock\",\"rock\",\"rock\",\"rock\",\"rock\",\"rock\",\"rock\",\"rock\",\"rock\",\"rock\",\"rock\",\"rock\",\"rock\",\"rock\",\"rock\",\"rock\",\"rock\",\"rock\",\"rock\",\"rock\",\"rock\",\"rock\",\"rock\",\"rock\",\"rock\",\"rock\",\"rock\",\"rock\",\"rock\",\"rock\",\"rock\",\"rock\",\"rock\",\"rock\",\"rock\",\"rock\",\"rock\",\"rock\",\"rock\",\"rock\",\"rock\",\"rock\",\"rock\",\"rock\",\"rock\",\"rock\",\"rock\",\"rock\",\"rock\",\"rock\",\"rock\",\"rock\",\"rock\",\"rock\",\"rock\",\"rock\",\"rock\",\"rock\",\"rock\",\"rock\",\"rock\",\"rock\",\"rock\",\"rock\",\"rock\",\"rock\",\"rock\",\"rock\",\"rock\",\"rock\",\"rock\",\"rock\",\"rock\",\"rock\",\"rock\",\"rock\",\"rock\",\"rock\",\"rock\",\"rock\",\"rock\",\"rock\",\"rock\",\"rock\",\"rock\",\"rock\",\"rock\",\"rock\",\"rock\",\"rock\",\"rock\",\"rock\",\"rock\",\"rock\",\"rock\",\"rock\",\"rock\",\"rock\",\"rock\",\"rock\",\"rock\",\"rock\",\"rock\",\"rock\",\"rock\",\"rock\",\"rock\",\"rock\",\"rock\",\"rock\",\"rock\",\"rock\",\"rock\",\"rock\",\"rock\",\"rock\",\"rock\",\"rock\",\"rock\",\"rock\",\"rock\",\"rock\",\"rock\",\"rock\",\"rock\",\"rock\",\"rock\",\"rock\",\"rock\",\"rock\",\"rock\",\"rock\",\"rock\",\"rock\",\"rock\",\"rock\",\"rock\",\"rock\",\"rock\",\"rock\",\"rock\",\"rock\",\"rock\",\"rock\",\"rock\",\"rock\",\"rock\",\"rock\",\"rock\",\"rock\",\"rock\",\"rock\",\"rock\",\"rock\",\"rock\",\"rock\",\"rock\",\"rock\",\"rock\",\"rock\",\"rock\",\"rock\",\"rock\",\"rock\",\"rock\",\"rock\",\"rock\",\"rock\",\"rock\",\"rock\",\"rock\",\"rock\",\"rock\",\"rock\",\"rock\",\"rock\",\"rock\",\"rock\",\"rock\",\"rock\",\"rock\",\"rock\",\"rock\",\"rock\",\"rock\",\"rock\",\"rock\",\"rock\",\"rock\",\"rock\",\"rock\",\"rock\",\"rock\",\"rock\",\"rock\",\"rock\",\"rock\",\"rock\",\"rock\",\"rock\",\"rock\",\"rock\",\"rock\",\"rock\",\"rock\",\"rock\",\"rock\",\"rock\",\"rock\",\"rock\",\"rock\",\"rock\",\"rock\",\"rock\",\"rock\",\"rock\",\"rock\",\"rock\",\"rock\",\"rock\",\"rock\",\"rock\",\"rock\",\"rock\",\"rock\",\"rock\",\"rock\",\"rock\",\"rock\",\"rock\",\"rock\",\"rock\",\"rock\",\"rock\",\"rock\",\"rock\",\"rock\",\"rock\",\"rock\",\"rock\",\"rock\",\"rock\",\"rock\",\"rock\",\"rock\",\"rock\",\"rock\",\"rock\",\"rock\",\"rock\",\"rock\",\"rock\",\"rock\",\"rock\",\"rock\",\"rock\",\"rock\",\"rock\",\"rock\",\"rock\",\"rock\",\"rock\",\"rock\",\"rock\",\"rock\",\"rock\",\"rock\",\"rock\",\"rock\",\"rock\",\"rock\",\"rock\",\"rock\",\"rock\",\"rock\",\"rock\",\"rock\",\"rock\",\"rock\",\"rock\",\"rock\",\"rock\",\"rock\",\"rock\",\"rock\",\"rock\",\"rock\",\"rock\",\"rock\",\"rock\",\"rock\",\"rock\",\"rock\",\"rock\",\"rock\",\"rock\",\"rock\",\"rock\",\"rock\",\"rock\",\"rock\",\"rock\",\"rock\",\"rock\",\"rock\",\"rock\",\"rock\",\"rock\",\"rock\",\"rock\",\"rock\",\"rock\",\"rock\",\"rock\",\"rock\",\"rock\",\"rock\",\"rock\",\"rock\",\"rock\",\"rock\",\"rock\",\"rock\",\"rock\",\"rock\",\"rock\",\"rock\",\"rock\",\"rock\",\"rock\",\"rock\",\"rock\",\"rock\",\"rock\",\"rock\",\"rock\",\"rock\",\"rock\",\"rock\",\"rock\",\"rock\",\"rock\",\"rock\",\"rock\",\"rock\",\"rock\",\"rock\",\"rock\",\"rock\",\"rock\",\"rock\",\"rock\",\"rock\",\"rock\",\"rock\",\"rock\",\"rock\",\"rock\",\"rock\",\"rock\",\"rock\",\"rock\",\"rock\",\"rock\",\"rock\",\"rock\",\"rock\",\"rock\",\"rock\",\"rock\",\"rock\",\"rock\",\"rock\",\"rock\",\"rock\",\"rock\",\"rock\",\"rock\",\"rock\",\"rock\",\"rock\",\"rock\",\"rock\",\"rock\",\"rock\",\"rock\",\"rock\",\"rock\",\"rock\",\"rock\",\"rock\",\"rock\",\"rock\",\"rock\",\"rock\",\"rock\",\"rock\",\"rock\",\"rock\",\"rock\",\"rock\",\"rock\",\"rock\",\"rock\",\"rock\",\"rock\",\"rock\",\"rock\",\"rock\",\"rock\",\"rock\",\"rock\",\"rock\",\"rock\",\"rock\",\"rock\",\"rock\",\"rock\",\"rock\",\"rock\",\"rock\",\"rock\",\"rock\",\"rock\",\"rock\",\"rock\",\"rock\",\"rock\",\"rock\",\"rock\",\"rock\",\"rock\",\"rock\",\"rock\",\"rock\",\"rock\",\"rock\",\"rock\",\"rock\",\"rock\",\"rock\",\"rock\",\"rock\",\"rock\",\"rock\",\"rock\",\"rock\",\"rock\",\"rock\",\"rock\",\"rock\",\"rock\",\"rock\",\"rock\",\"rock\",\"rock\",\"rock\",\"rock\",\"rock\",\"rock\",\"rock\",\"rock\",\"rock\",\"rock\",\"rock\",\"rock\",\"rock\",\"rock\",\"rock\",\"rock\",\"rock\",\"rock\",\"rock\",\"rock\",\"rock\",\"rock\",\"rock\",\"rock\",\"rock\",\"rock\",\"rock\"],\"type\":\"histogram\"},{\"histfunc\":\"count\",\"name\":\"tree\",\"x\":[\"tree\",\"tree\",\"tree\",\"tree\",\"tree\",\"tree\",\"tree\",\"tree\",\"tree\",\"tree\",\"tree\",\"tree\",\"tree\",\"tree\",\"tree\",\"tree\",\"tree\",\"tree\",\"tree\",\"tree\",\"tree\",\"tree\",\"tree\",\"tree\",\"tree\",\"tree\",\"tree\",\"tree\",\"tree\",\"tree\",\"tree\",\"tree\",\"tree\",\"tree\",\"tree\",\"tree\",\"tree\",\"tree\",\"tree\",\"tree\",\"tree\",\"tree\",\"tree\",\"tree\",\"tree\",\"tree\",\"tree\",\"tree\",\"tree\",\"tree\",\"tree\",\"tree\",\"tree\",\"tree\",\"tree\",\"tree\",\"tree\",\"tree\",\"tree\",\"tree\",\"tree\",\"tree\",\"tree\",\"tree\",\"tree\",\"tree\",\"tree\",\"tree\",\"tree\",\"tree\",\"tree\",\"tree\",\"tree\",\"tree\",\"tree\",\"tree\",\"tree\",\"tree\",\"tree\",\"tree\",\"tree\",\"tree\",\"tree\",\"tree\",\"tree\",\"tree\",\"tree\",\"tree\",\"tree\",\"tree\",\"tree\",\"tree\",\"tree\",\"tree\",\"tree\",\"tree\",\"tree\",\"tree\",\"tree\",\"tree\",\"tree\",\"tree\",\"tree\",\"tree\",\"tree\",\"tree\",\"tree\",\"tree\",\"tree\",\"tree\",\"tree\",\"tree\",\"tree\",\"tree\",\"tree\",\"tree\",\"tree\",\"tree\",\"tree\",\"tree\",\"tree\",\"tree\",\"tree\",\"tree\",\"tree\",\"tree\",\"tree\",\"tree\",\"tree\",\"tree\",\"tree\",\"tree\",\"tree\",\"tree\",\"tree\",\"tree\",\"tree\",\"tree\",\"tree\",\"tree\",\"tree\",\"tree\",\"tree\",\"tree\",\"tree\",\"tree\",\"tree\",\"tree\",\"tree\",\"tree\",\"tree\",\"tree\",\"tree\",\"tree\",\"tree\",\"tree\",\"tree\",\"tree\",\"tree\",\"tree\",\"tree\",\"tree\",\"tree\",\"tree\",\"tree\",\"tree\",\"tree\",\"tree\",\"tree\",\"tree\",\"tree\",\"tree\",\"tree\",\"tree\",\"tree\",\"tree\",\"tree\",\"tree\",\"tree\",\"tree\",\"tree\",\"tree\",\"tree\",\"tree\",\"tree\",\"tree\",\"tree\",\"tree\",\"tree\",\"tree\",\"tree\",\"tree\",\"tree\",\"tree\",\"tree\",\"tree\",\"tree\",\"tree\",\"tree\",\"tree\",\"tree\",\"tree\",\"tree\",\"tree\",\"tree\",\"tree\",\"tree\",\"tree\",\"tree\",\"tree\",\"tree\",\"tree\",\"tree\",\"tree\",\"tree\",\"tree\",\"tree\",\"tree\",\"tree\",\"tree\",\"tree\",\"tree\",\"tree\",\"tree\",\"tree\",\"tree\",\"tree\",\"tree\",\"tree\",\"tree\",\"tree\",\"tree\",\"tree\",\"tree\",\"tree\",\"tree\",\"tree\",\"tree\",\"tree\",\"tree\",\"tree\",\"tree\",\"tree\",\"tree\",\"tree\",\"tree\",\"tree\",\"tree\",\"tree\",\"tree\",\"tree\",\"tree\",\"tree\",\"tree\",\"tree\",\"tree\",\"tree\",\"tree\",\"tree\",\"tree\",\"tree\",\"tree\",\"tree\",\"tree\",\"tree\",\"tree\",\"tree\",\"tree\",\"tree\",\"tree\",\"tree\",\"tree\",\"tree\",\"tree\",\"tree\",\"tree\",\"tree\",\"tree\",\"tree\",\"tree\",\"tree\",\"tree\",\"tree\",\"tree\",\"tree\",\"tree\",\"tree\",\"tree\",\"tree\",\"tree\",\"tree\",\"tree\",\"tree\",\"tree\",\"tree\",\"tree\",\"tree\",\"tree\",\"tree\",\"tree\",\"tree\",\"tree\",\"tree\",\"tree\",\"tree\",\"tree\",\"tree\",\"tree\",\"tree\",\"tree\",\"tree\",\"tree\",\"tree\",\"tree\",\"tree\",\"tree\",\"tree\",\"tree\",\"tree\",\"tree\",\"tree\",\"tree\",\"tree\",\"tree\",\"tree\",\"tree\",\"tree\",\"tree\",\"tree\",\"tree\",\"tree\",\"tree\",\"tree\",\"tree\",\"tree\",\"tree\",\"tree\",\"tree\",\"tree\",\"tree\",\"tree\",\"tree\",\"tree\",\"tree\",\"tree\",\"tree\",\"tree\",\"tree\",\"tree\",\"tree\",\"tree\",\"tree\",\"tree\",\"tree\",\"tree\",\"tree\",\"tree\",\"tree\",\"tree\",\"tree\",\"tree\",\"tree\",\"tree\",\"tree\",\"tree\",\"tree\",\"tree\",\"tree\",\"tree\",\"tree\",\"tree\",\"tree\",\"tree\",\"tree\",\"tree\",\"tree\",\"tree\",\"tree\",\"tree\",\"tree\",\"tree\",\"tree\",\"tree\",\"tree\",\"tree\",\"tree\",\"tree\",\"tree\",\"tree\",\"tree\",\"tree\",\"tree\",\"tree\",\"tree\",\"tree\",\"tree\",\"tree\",\"tree\",\"tree\",\"tree\",\"tree\",\"tree\",\"tree\",\"tree\",\"tree\",\"tree\",\"tree\",\"tree\",\"tree\",\"tree\",\"tree\",\"tree\",\"tree\",\"tree\",\"tree\",\"tree\",\"tree\",\"tree\",\"tree\",\"tree\",\"tree\",\"tree\",\"tree\",\"tree\",\"tree\",\"tree\",\"tree\",\"tree\",\"tree\",\"tree\",\"tree\",\"tree\",\"tree\",\"tree\",\"tree\",\"tree\",\"tree\",\"tree\",\"tree\",\"tree\",\"tree\",\"tree\",\"tree\",\"tree\",\"tree\",\"tree\",\"tree\",\"tree\",\"tree\",\"tree\",\"tree\",\"tree\",\"tree\",\"tree\",\"tree\",\"tree\",\"tree\",\"tree\",\"tree\",\"tree\",\"tree\",\"tree\",\"tree\",\"tree\",\"tree\",\"tree\",\"tree\",\"tree\",\"tree\",\"tree\",\"tree\",\"tree\",\"tree\",\"tree\",\"tree\",\"tree\",\"tree\",\"tree\",\"tree\",\"tree\",\"tree\",\"tree\",\"tree\",\"tree\",\"tree\",\"tree\",\"tree\",\"tree\",\"tree\",\"tree\",\"tree\",\"tree\",\"tree\",\"tree\",\"tree\",\"tree\",\"tree\",\"tree\",\"tree\",\"tree\",\"tree\",\"tree\",\"tree\",\"tree\",\"tree\",\"tree\",\"tree\",\"tree\",\"tree\",\"tree\",\"tree\",\"tree\",\"tree\",\"tree\",\"tree\",\"tree\",\"tree\",\"tree\",\"tree\",\"tree\",\"tree\",\"tree\",\"tree\",\"tree\",\"tree\",\"tree\",\"tree\",\"tree\",\"tree\",\"tree\",\"tree\",\"tree\",\"tree\",\"tree\",\"tree\",\"tree\",\"tree\",\"tree\",\"tree\",\"tree\",\"tree\",\"tree\",\"tree\",\"tree\",\"tree\",\"tree\",\"tree\",\"tree\",\"tree\",\"tree\",\"tree\",\"tree\",\"tree\",\"tree\",\"tree\",\"tree\",\"tree\",\"tree\",\"tree\",\"tree\",\"tree\",\"tree\",\"tree\",\"tree\",\"tree\",\"tree\",\"tree\",\"tree\",\"tree\",\"tree\",\"tree\",\"tree\",\"tree\",\"tree\",\"tree\",\"tree\",\"tree\",\"tree\",\"tree\",\"tree\",\"tree\",\"tree\",\"tree\",\"tree\",\"tree\",\"tree\",\"tree\",\"tree\",\"tree\",\"tree\",\"tree\",\"tree\",\"tree\",\"tree\",\"tree\",\"tree\",\"tree\",\"tree\",\"tree\",\"tree\",\"tree\",\"tree\",\"tree\",\"tree\",\"tree\",\"tree\",\"tree\",\"tree\",\"tree\",\"tree\",\"tree\",\"tree\",\"tree\",\"tree\",\"tree\",\"tree\",\"tree\",\"tree\",\"tree\",\"tree\",\"tree\",\"tree\",\"tree\",\"tree\",\"tree\",\"tree\",\"tree\",\"tree\",\"tree\",\"tree\",\"tree\",\"tree\",\"tree\",\"tree\",\"tree\",\"tree\",\"tree\",\"tree\",\"tree\",\"tree\",\"tree\",\"tree\",\"tree\",\"tree\",\"tree\",\"tree\",\"tree\",\"tree\",\"tree\",\"tree\",\"tree\",\"tree\",\"tree\",\"tree\",\"tree\",\"tree\",\"tree\",\"tree\",\"tree\",\"tree\",\"tree\",\"tree\",\"tree\",\"tree\",\"tree\",\"tree\",\"tree\",\"tree\",\"tree\",\"tree\",\"tree\",\"tree\",\"tree\",\"tree\",\"tree\",\"tree\",\"tree\",\"tree\",\"tree\",\"tree\",\"tree\",\"tree\",\"tree\",\"tree\",\"tree\",\"tree\",\"tree\",\"tree\",\"tree\",\"tree\",\"tree\",\"tree\",\"tree\",\"tree\",\"tree\",\"tree\",\"tree\",\"tree\",\"tree\",\"tree\",\"tree\",\"tree\",\"tree\",\"tree\",\"tree\",\"tree\",\"tree\",\"tree\",\"tree\",\"tree\",\"tree\",\"tree\",\"tree\",\"tree\",\"tree\",\"tree\",\"tree\",\"tree\",\"tree\",\"tree\",\"tree\",\"tree\",\"tree\",\"tree\",\"tree\",\"tree\",\"tree\",\"tree\",\"tree\",\"tree\",\"tree\",\"tree\",\"tree\",\"tree\",\"tree\",\"tree\",\"tree\",\"tree\",\"tree\",\"tree\",\"tree\",\"tree\",\"tree\",\"tree\",\"tree\",\"tree\",\"tree\",\"tree\",\"tree\",\"tree\",\"tree\",\"tree\",\"tree\",\"tree\",\"tree\",\"tree\",\"tree\",\"tree\",\"tree\",\"tree\",\"tree\",\"tree\",\"tree\",\"tree\",\"tree\",\"tree\",\"tree\",\"tree\",\"tree\",\"tree\",\"tree\",\"tree\",\"tree\",\"tree\",\"tree\",\"tree\",\"tree\",\"tree\",\"tree\",\"tree\",\"tree\",\"tree\",\"tree\",\"tree\",\"tree\",\"tree\",\"tree\",\"tree\",\"tree\",\"tree\",\"tree\",\"tree\",\"tree\",\"tree\",\"tree\",\"tree\",\"tree\",\"tree\",\"tree\",\"tree\"],\"type\":\"histogram\"}],                        {\"title\":{\"text\":\"Label distribution\"},\"xaxis\":{\"title\":{\"text\":\"label\"}},\"yaxis\":{\"title\":{\"text\":\"count\"}},\"template\":{\"data\":{\"barpolar\":[{\"marker\":{\"line\":{\"color\":\"white\",\"width\":0.5},\"pattern\":{\"fillmode\":\"overlay\",\"size\":10,\"solidity\":0.2}},\"type\":\"barpolar\"}],\"bar\":[{\"error_x\":{\"color\":\"#2a3f5f\"},\"error_y\":{\"color\":\"#2a3f5f\"},\"marker\":{\"line\":{\"color\":\"white\",\"width\":0.5},\"pattern\":{\"fillmode\":\"overlay\",\"size\":10,\"solidity\":0.2}},\"type\":\"bar\"}],\"carpet\":[{\"aaxis\":{\"endlinecolor\":\"#2a3f5f\",\"gridcolor\":\"#C8D4E3\",\"linecolor\":\"#C8D4E3\",\"minorgridcolor\":\"#C8D4E3\",\"startlinecolor\":\"#2a3f5f\"},\"baxis\":{\"endlinecolor\":\"#2a3f5f\",\"gridcolor\":\"#C8D4E3\",\"linecolor\":\"#C8D4E3\",\"minorgridcolor\":\"#C8D4E3\",\"startlinecolor\":\"#2a3f5f\"},\"type\":\"carpet\"}],\"choropleth\":[{\"colorbar\":{\"outlinewidth\":0,\"ticks\":\"\"},\"type\":\"choropleth\"}],\"contourcarpet\":[{\"colorbar\":{\"outlinewidth\":0,\"ticks\":\"\"},\"type\":\"contourcarpet\"}],\"contour\":[{\"colorbar\":{\"outlinewidth\":0,\"ticks\":\"\"},\"colorscale\":[[0.0,\"#0d0887\"],[0.1111111111111111,\"#46039f\"],[0.2222222222222222,\"#7201a8\"],[0.3333333333333333,\"#9c179e\"],[0.4444444444444444,\"#bd3786\"],[0.5555555555555556,\"#d8576b\"],[0.6666666666666666,\"#ed7953\"],[0.7777777777777778,\"#fb9f3a\"],[0.8888888888888888,\"#fdca26\"],[1.0,\"#f0f921\"]],\"type\":\"contour\"}],\"heatmapgl\":[{\"colorbar\":{\"outlinewidth\":0,\"ticks\":\"\"},\"colorscale\":[[0.0,\"#0d0887\"],[0.1111111111111111,\"#46039f\"],[0.2222222222222222,\"#7201a8\"],[0.3333333333333333,\"#9c179e\"],[0.4444444444444444,\"#bd3786\"],[0.5555555555555556,\"#d8576b\"],[0.6666666666666666,\"#ed7953\"],[0.7777777777777778,\"#fb9f3a\"],[0.8888888888888888,\"#fdca26\"],[1.0,\"#f0f921\"]],\"type\":\"heatmapgl\"}],\"heatmap\":[{\"colorbar\":{\"outlinewidth\":0,\"ticks\":\"\"},\"colorscale\":[[0.0,\"#0d0887\"],[0.1111111111111111,\"#46039f\"],[0.2222222222222222,\"#7201a8\"],[0.3333333333333333,\"#9c179e\"],[0.4444444444444444,\"#bd3786\"],[0.5555555555555556,\"#d8576b\"],[0.6666666666666666,\"#ed7953\"],[0.7777777777777778,\"#fb9f3a\"],[0.8888888888888888,\"#fdca26\"],[1.0,\"#f0f921\"]],\"type\":\"heatmap\"}],\"histogram2dcontour\":[{\"colorbar\":{\"outlinewidth\":0,\"ticks\":\"\"},\"colorscale\":[[0.0,\"#0d0887\"],[0.1111111111111111,\"#46039f\"],[0.2222222222222222,\"#7201a8\"],[0.3333333333333333,\"#9c179e\"],[0.4444444444444444,\"#bd3786\"],[0.5555555555555556,\"#d8576b\"],[0.6666666666666666,\"#ed7953\"],[0.7777777777777778,\"#fb9f3a\"],[0.8888888888888888,\"#fdca26\"],[1.0,\"#f0f921\"]],\"type\":\"histogram2dcontour\"}],\"histogram2d\":[{\"colorbar\":{\"outlinewidth\":0,\"ticks\":\"\"},\"colorscale\":[[0.0,\"#0d0887\"],[0.1111111111111111,\"#46039f\"],[0.2222222222222222,\"#7201a8\"],[0.3333333333333333,\"#9c179e\"],[0.4444444444444444,\"#bd3786\"],[0.5555555555555556,\"#d8576b\"],[0.6666666666666666,\"#ed7953\"],[0.7777777777777778,\"#fb9f3a\"],[0.8888888888888888,\"#fdca26\"],[1.0,\"#f0f921\"]],\"type\":\"histogram2d\"}],\"histogram\":[{\"marker\":{\"pattern\":{\"fillmode\":\"overlay\",\"size\":10,\"solidity\":0.2},\"line\":{\"width\":1}},\"type\":\"histogram\"}],\"mesh3d\":[{\"colorbar\":{\"outlinewidth\":0,\"ticks\":\"\"},\"type\":\"mesh3d\"}],\"parcoords\":[{\"line\":{\"colorbar\":{\"outlinewidth\":0,\"ticks\":\"\"}},\"type\":\"parcoords\"}],\"pie\":[{\"automargin\":true,\"type\":\"pie\"}],\"scatter3d\":[{\"line\":{\"colorbar\":{\"outlinewidth\":0,\"ticks\":\"\"}},\"marker\":{\"colorbar\":{\"outlinewidth\":0,\"ticks\":\"\"},\"opacity\":0.8},\"type\":\"scatter3d\"}],\"scattercarpet\":[{\"marker\":{\"colorbar\":{\"outlinewidth\":0,\"ticks\":\"\"}},\"type\":\"scattercarpet\"}],\"scattergeo\":[{\"marker\":{\"colorbar\":{\"outlinewidth\":0,\"ticks\":\"\"}},\"type\":\"scattergeo\"}],\"scattergl\":[{\"marker\":{\"colorbar\":{\"outlinewidth\":0,\"ticks\":\"\"}},\"type\":\"scattergl\"}],\"scattermapbox\":[{\"marker\":{\"colorbar\":{\"outlinewidth\":0,\"ticks\":\"\"}},\"type\":\"scattermapbox\"}],\"scatterpolargl\":[{\"marker\":{\"colorbar\":{\"outlinewidth\":0,\"ticks\":\"\"}},\"type\":\"scatterpolargl\"}],\"scatterpolar\":[{\"marker\":{\"colorbar\":{\"outlinewidth\":0,\"ticks\":\"\"}},\"type\":\"scatterpolar\"}],\"scatter\":[{\"fillpattern\":{\"fillmode\":\"overlay\",\"size\":10,\"solidity\":0.2},\"type\":\"scatter\",\"marker\":{\"opacity\":0.8}}],\"scatterternary\":[{\"marker\":{\"colorbar\":{\"outlinewidth\":0,\"ticks\":\"\"}},\"type\":\"scatterternary\"}],\"surface\":[{\"colorbar\":{\"outlinewidth\":0,\"ticks\":\"\"},\"colorscale\":[[0.0,\"#0d0887\"],[0.1111111111111111,\"#46039f\"],[0.2222222222222222,\"#7201a8\"],[0.3333333333333333,\"#9c179e\"],[0.4444444444444444,\"#bd3786\"],[0.5555555555555556,\"#d8576b\"],[0.6666666666666666,\"#ed7953\"],[0.7777777777777778,\"#fb9f3a\"],[0.8888888888888888,\"#fdca26\"],[1.0,\"#f0f921\"]],\"type\":\"surface\"}],\"table\":[{\"cells\":{\"fill\":{\"color\":\"#EBF0F8\"},\"line\":{\"color\":\"white\"}},\"header\":{\"fill\":{\"color\":\"#C8D4E3\"},\"line\":{\"color\":\"white\"}},\"type\":\"table\"}],\"box\":[{\"boxpoints\":\"outliers\",\"notched\":false,\"type\":\"box\"}]},\"layout\":{\"annotationdefaults\":{\"arrowcolor\":\"#2a3f5f\",\"arrowhead\":0,\"arrowwidth\":1},\"autotypenumbers\":\"strict\",\"coloraxis\":{\"colorbar\":{\"outlinewidth\":0,\"ticks\":\"\"}},\"colorscale\":{\"diverging\":[[0,\"#8e0152\"],[0.1,\"#c51b7d\"],[0.2,\"#de77ae\"],[0.3,\"#f1b6da\"],[0.4,\"#fde0ef\"],[0.5,\"#f7f7f7\"],[0.6,\"#e6f5d0\"],[0.7,\"#b8e186\"],[0.8,\"#7fbc41\"],[0.9,\"#4d9221\"],[1,\"#276419\"]],\"sequential\":[[0.0,\"#0d0887\"],[0.1111111111111111,\"#46039f\"],[0.2222222222222222,\"#7201a8\"],[0.3333333333333333,\"#9c179e\"],[0.4444444444444444,\"#bd3786\"],[0.5555555555555556,\"#d8576b\"],[0.6666666666666666,\"#ed7953\"],[0.7777777777777778,\"#fb9f3a\"],[0.8888888888888888,\"#fdca26\"],[1.0,\"#f0f921\"]],\"sequentialminus\":[[0.0,\"#0d0887\"],[0.1111111111111111,\"#46039f\"],[0.2222222222222222,\"#7201a8\"],[0.3333333333333333,\"#9c179e\"],[0.4444444444444444,\"#bd3786\"],[0.5555555555555556,\"#d8576b\"],[0.6666666666666666,\"#ed7953\"],[0.7777777777777778,\"#fb9f3a\"],[0.8888888888888888,\"#fdca26\"],[1.0,\"#f0f921\"]]},\"colorway\":[\"#636efa\",\"#EF553B\",\"#00cc96\",\"#ab63fa\",\"#FFA15A\",\"#19d3f3\",\"#FF6692\",\"#B6E880\",\"#FF97FF\",\"#FECB52\"],\"font\":{\"color\":\"#2a3f5f\"},\"geo\":{\"bgcolor\":\"white\",\"lakecolor\":\"white\",\"landcolor\":\"white\",\"showlakes\":true,\"showland\":true,\"subunitcolor\":\"#C8D4E3\"},\"hoverlabel\":{\"align\":\"left\"},\"hovermode\":\"closest\",\"mapbox\":{\"style\":\"light\"},\"paper_bgcolor\":\"white\",\"plot_bgcolor\":\"white\",\"polar\":{\"angularaxis\":{\"gridcolor\":\"#EBF0F8\",\"linecolor\":\"#EBF0F8\",\"ticks\":\"\"},\"bgcolor\":\"white\",\"radialaxis\":{\"gridcolor\":\"#EBF0F8\",\"linecolor\":\"#EBF0F8\",\"ticks\":\"\"}},\"scene\":{\"xaxis\":{\"backgroundcolor\":\"white\",\"gridcolor\":\"#DFE8F3\",\"gridwidth\":2,\"linecolor\":\"#EBF0F8\",\"showbackground\":true,\"ticks\":\"\",\"zerolinecolor\":\"#EBF0F8\"},\"yaxis\":{\"backgroundcolor\":\"white\",\"gridcolor\":\"#DFE8F3\",\"gridwidth\":2,\"linecolor\":\"#EBF0F8\",\"showbackground\":true,\"ticks\":\"\",\"zerolinecolor\":\"#EBF0F8\"},\"zaxis\":{\"backgroundcolor\":\"white\",\"gridcolor\":\"#DFE8F3\",\"gridwidth\":2,\"linecolor\":\"#EBF0F8\",\"showbackground\":true,\"ticks\":\"\",\"zerolinecolor\":\"#EBF0F8\"},\"camera\":{\"eye\":{\"x\":1.5,\"y\":1.5,\"z\":0.1}}},\"shapedefaults\":{\"line\":{\"color\":\"#2a3f5f\"}},\"ternary\":{\"aaxis\":{\"gridcolor\":\"#DFE8F3\",\"linecolor\":\"#A2B1C6\",\"ticks\":\"\"},\"baxis\":{\"gridcolor\":\"#DFE8F3\",\"linecolor\":\"#A2B1C6\",\"ticks\":\"\"},\"bgcolor\":\"white\",\"caxis\":{\"gridcolor\":\"#DFE8F3\",\"linecolor\":\"#A2B1C6\",\"ticks\":\"\"}},\"title\":{\"x\":0.5},\"xaxis\":{\"automargin\":true,\"gridcolor\":\"#EBF0F8\",\"linecolor\":\"#EBF0F8\",\"ticks\":\"\",\"title\":{\"standoff\":15},\"zerolinecolor\":\"#EBF0F8\",\"zerolinewidth\":2,\"linewidth\":2,\"showline\":true},\"yaxis\":{\"automargin\":true,\"gridcolor\":\"#EBF0F8\",\"linecolor\":\"#EBF0F8\",\"ticks\":\"\",\"title\":{\"standoff\":15},\"zerolinecolor\":\"#EBF0F8\",\"zerolinewidth\":2,\"linewidth\":2,\"showline\":true},\"height\":400,\"margin\":{\"b\":2,\"l\":2,\"r\":2,\"t\":30}}},\"legend\":{\"title\":{\"text\":\"label\"}}},                        {\"responsive\": true}                    ).then(function(){\n                            \nvar gd = document.getElementById('739f2a2d-eb03-4f9c-89de-7a8c0e6c1731');\nvar x = new MutationObserver(function (mutations, observer) {{\n        var display = window.getComputedStyle(gd).display;\n        if (!display || display === 'none') {{\n            console.log([gd, 'removed!']);\n            Plotly.purge(gd);\n            observer.disconnect();\n        }}\n}});\n\n// Listen for the removal of the full notebook cells\nvar notebookContainer = gd.closest('#notebook-container');\nif (notebookContainer) {{\n    x.observe(notebookContainer, {childList: true});\n}}\n\n// Listen for the clearing of the current output cell\nvar outputEl = gd.closest('.output');\nif (outputEl) {{\n    x.observe(outputEl, {childList: true});\n}}\n\n                        })                };                });            </script>        </div>"
          },
          "metadata": {}
        }
      ],
      "execution_count": 14,
      "metadata": {}
    },
    {
      "cell_type": "markdown",
      "source": [
        "## Using binary classification\n",
        "\n",
        "For this exercise we will build a *binary classification model*. We want to predict if objects in the snow are \"hikers\" or \"not-hikers\".\n",
        "\n",
        "To do that, we first need to add another column to our dataset, and set it to `True` where the original label is `hiker`, and `False` to anything else:\n"
      ],
      "metadata": {}
    },
    {
      "cell_type": "code",
      "source": [
        "# Add a new label with true/false values to our dataset\n",
        "dataset[\"is_hiker\"] = dataset.label == \"hiker\"\n",
        "\n",
        "# Plot frequency for new label\n",
        "graphing.multiple_histogram(dataset, label_x=\"is_hiker\", label_group=\"is_hiker\", title=\"Distribution for new binary label 'is_hiker'\")"
      ],
      "outputs": [
        {
          "output_type": "display_data",
          "data": {
            "application/vnd.plotly.v1+json": {
              "data": [
                {
                  "histfunc": "count",
                  "name": "False",
                  "x": [
                    false,
                    false,
                    false,
                    false,
                    false,
                    false,
                    false,
                    false,
                    false,
                    false,
                    false,
                    false,
                    false,
                    false,
                    false,
                    false,
                    false,
                    false,
                    false,
                    false,
                    false,
                    false,
                    false,
                    false,
                    false,
                    false,
                    false,
                    false,
                    false,
                    false,
                    false,
                    false,
                    false,
                    false,
                    false,
                    false,
                    false,
                    false,
                    false,
                    false,
                    false,
                    false,
                    false,
                    false,
                    false,
                    false,
                    false,
                    false,
                    false,
                    false,
                    false,
                    false,
                    false,
                    false,
                    false,
                    false,
                    false,
                    false,
                    false,
                    false,
                    false,
                    false,
                    false,
                    false,
                    false,
                    false,
                    false,
                    false,
                    false,
                    false,
                    false,
                    false,
                    false,
                    false,
                    false,
                    false,
                    false,
                    false,
                    false,
                    false,
                    false,
                    false,
                    false,
                    false,
                    false,
                    false,
                    false,
                    false,
                    false,
                    false,
                    false,
                    false,
                    false,
                    false,
                    false,
                    false,
                    false,
                    false,
                    false,
                    false,
                    false,
                    false,
                    false,
                    false,
                    false,
                    false,
                    false,
                    false,
                    false,
                    false,
                    false,
                    false,
                    false,
                    false,
                    false,
                    false,
                    false,
                    false,
                    false,
                    false,
                    false,
                    false,
                    false,
                    false,
                    false,
                    false,
                    false,
                    false,
                    false,
                    false,
                    false,
                    false,
                    false,
                    false,
                    false,
                    false,
                    false,
                    false,
                    false,
                    false,
                    false,
                    false,
                    false,
                    false,
                    false,
                    false,
                    false,
                    false,
                    false,
                    false,
                    false,
                    false,
                    false,
                    false,
                    false,
                    false,
                    false,
                    false,
                    false,
                    false,
                    false,
                    false,
                    false,
                    false,
                    false,
                    false,
                    false,
                    false,
                    false,
                    false,
                    false,
                    false,
                    false,
                    false,
                    false,
                    false,
                    false,
                    false,
                    false,
                    false,
                    false,
                    false,
                    false,
                    false,
                    false,
                    false,
                    false,
                    false,
                    false,
                    false,
                    false,
                    false,
                    false,
                    false,
                    false,
                    false,
                    false,
                    false,
                    false,
                    false,
                    false,
                    false,
                    false,
                    false,
                    false,
                    false,
                    false,
                    false,
                    false,
                    false,
                    false,
                    false,
                    false,
                    false,
                    false,
                    false,
                    false,
                    false,
                    false,
                    false,
                    false,
                    false,
                    false,
                    false,
                    false,
                    false,
                    false,
                    false,
                    false,
                    false,
                    false,
                    false,
                    false,
                    false,
                    false,
                    false,
                    false,
                    false,
                    false,
                    false,
                    false,
                    false,
                    false,
                    false,
                    false,
                    false,
                    false,
                    false,
                    false,
                    false,
                    false,
                    false,
                    false,
                    false,
                    false,
                    false,
                    false,
                    false,
                    false,
                    false,
                    false,
                    false,
                    false,
                    false,
                    false,
                    false,
                    false,
                    false,
                    false,
                    false,
                    false,
                    false,
                    false,
                    false,
                    false,
                    false,
                    false,
                    false,
                    false,
                    false,
                    false,
                    false,
                    false,
                    false,
                    false,
                    false,
                    false,
                    false,
                    false,
                    false,
                    false,
                    false,
                    false,
                    false,
                    false,
                    false,
                    false,
                    false,
                    false,
                    false,
                    false,
                    false,
                    false,
                    false,
                    false,
                    false,
                    false,
                    false,
                    false,
                    false,
                    false,
                    false,
                    false,
                    false,
                    false,
                    false,
                    false,
                    false,
                    false,
                    false,
                    false,
                    false,
                    false,
                    false,
                    false,
                    false,
                    false,
                    false,
                    false,
                    false,
                    false,
                    false,
                    false,
                    false,
                    false,
                    false,
                    false,
                    false,
                    false,
                    false,
                    false,
                    false,
                    false,
                    false,
                    false,
                    false,
                    false,
                    false,
                    false,
                    false,
                    false,
                    false,
                    false,
                    false,
                    false,
                    false,
                    false,
                    false,
                    false,
                    false,
                    false,
                    false,
                    false,
                    false,
                    false,
                    false,
                    false,
                    false,
                    false,
                    false,
                    false,
                    false,
                    false,
                    false,
                    false,
                    false,
                    false,
                    false,
                    false,
                    false,
                    false,
                    false,
                    false,
                    false,
                    false,
                    false,
                    false,
                    false,
                    false,
                    false,
                    false,
                    false,
                    false,
                    false,
                    false,
                    false,
                    false,
                    false,
                    false,
                    false,
                    false,
                    false,
                    false,
                    false,
                    false,
                    false,
                    false,
                    false,
                    false,
                    false,
                    false,
                    false,
                    false,
                    false,
                    false,
                    false,
                    false,
                    false,
                    false,
                    false,
                    false,
                    false,
                    false,
                    false,
                    false,
                    false,
                    false,
                    false,
                    false,
                    false,
                    false,
                    false,
                    false,
                    false,
                    false,
                    false,
                    false,
                    false,
                    false,
                    false,
                    false,
                    false,
                    false,
                    false,
                    false,
                    false,
                    false,
                    false,
                    false,
                    false,
                    false,
                    false,
                    false,
                    false,
                    false,
                    false,
                    false,
                    false,
                    false,
                    false,
                    false,
                    false,
                    false,
                    false,
                    false,
                    false,
                    false,
                    false,
                    false,
                    false,
                    false,
                    false,
                    false,
                    false,
                    false,
                    false,
                    false,
                    false,
                    false,
                    false,
                    false,
                    false,
                    false,
                    false,
                    false,
                    false,
                    false,
                    false,
                    false,
                    false,
                    false,
                    false,
                    false,
                    false,
                    false,
                    false,
                    false,
                    false,
                    false,
                    false,
                    false,
                    false,
                    false,
                    false,
                    false,
                    false,
                    false,
                    false,
                    false,
                    false,
                    false,
                    false,
                    false,
                    false,
                    false,
                    false,
                    false,
                    false,
                    false,
                    false,
                    false,
                    false,
                    false,
                    false,
                    false,
                    false,
                    false,
                    false,
                    false,
                    false,
                    false,
                    false,
                    false,
                    false,
                    false,
                    false,
                    false,
                    false,
                    false,
                    false,
                    false,
                    false,
                    false,
                    false,
                    false,
                    false,
                    false,
                    false,
                    false,
                    false,
                    false,
                    false,
                    false,
                    false,
                    false,
                    false,
                    false,
                    false,
                    false,
                    false,
                    false,
                    false,
                    false,
                    false,
                    false,
                    false,
                    false,
                    false,
                    false,
                    false,
                    false,
                    false,
                    false,
                    false,
                    false,
                    false,
                    false,
                    false,
                    false,
                    false,
                    false,
                    false,
                    false,
                    false,
                    false,
                    false,
                    false,
                    false,
                    false,
                    false,
                    false,
                    false,
                    false,
                    false,
                    false,
                    false,
                    false,
                    false,
                    false,
                    false,
                    false,
                    false,
                    false,
                    false,
                    false,
                    false,
                    false,
                    false,
                    false,
                    false,
                    false,
                    false,
                    false,
                    false,
                    false,
                    false,
                    false,
                    false,
                    false,
                    false,
                    false,
                    false,
                    false,
                    false,
                    false,
                    false,
                    false,
                    false,
                    false,
                    false,
                    false,
                    false,
                    false,
                    false,
                    false,
                    false,
                    false,
                    false,
                    false,
                    false,
                    false,
                    false,
                    false,
                    false,
                    false,
                    false,
                    false,
                    false,
                    false,
                    false,
                    false,
                    false,
                    false,
                    false,
                    false,
                    false,
                    false,
                    false,
                    false,
                    false,
                    false,
                    false,
                    false,
                    false,
                    false,
                    false,
                    false,
                    false,
                    false,
                    false,
                    false,
                    false,
                    false,
                    false,
                    false,
                    false,
                    false,
                    false,
                    false,
                    false,
                    false,
                    false,
                    false,
                    false,
                    false,
                    false,
                    false,
                    false,
                    false,
                    false,
                    false,
                    false,
                    false,
                    false,
                    false,
                    false,
                    false,
                    false,
                    false,
                    false,
                    false,
                    false,
                    false,
                    false,
                    false,
                    false,
                    false,
                    false,
                    false,
                    false,
                    false,
                    false,
                    false,
                    false,
                    false,
                    false,
                    false,
                    false,
                    false,
                    false,
                    false,
                    false,
                    false,
                    false,
                    false,
                    false,
                    false,
                    false,
                    false,
                    false,
                    false,
                    false,
                    false,
                    false,
                    false,
                    false,
                    false,
                    false,
                    false,
                    false,
                    false,
                    false,
                    false,
                    false,
                    false,
                    false,
                    false,
                    false,
                    false,
                    false,
                    false,
                    false,
                    false,
                    false,
                    false,
                    false,
                    false,
                    false,
                    false,
                    false,
                    false,
                    false,
                    false,
                    false,
                    false,
                    false,
                    false,
                    false,
                    false,
                    false,
                    false,
                    false,
                    false,
                    false,
                    false,
                    false,
                    false,
                    false,
                    false,
                    false,
                    false,
                    false,
                    false,
                    false,
                    false,
                    false,
                    false,
                    false,
                    false,
                    false,
                    false,
                    false,
                    false,
                    false,
                    false,
                    false,
                    false,
                    false,
                    false,
                    false,
                    false,
                    false,
                    false,
                    false,
                    false,
                    false,
                    false,
                    false,
                    false,
                    false,
                    false,
                    false,
                    false,
                    false,
                    false,
                    false,
                    false,
                    false,
                    false,
                    false,
                    false,
                    false,
                    false,
                    false,
                    false,
                    false,
                    false,
                    false,
                    false,
                    false,
                    false,
                    false,
                    false,
                    false,
                    false,
                    false,
                    false,
                    false,
                    false,
                    false,
                    false,
                    false,
                    false,
                    false,
                    false,
                    false,
                    false,
                    false,
                    false,
                    false,
                    false,
                    false,
                    false,
                    false,
                    false,
                    false,
                    false,
                    false,
                    false,
                    false,
                    false,
                    false,
                    false,
                    false,
                    false,
                    false,
                    false,
                    false,
                    false,
                    false,
                    false,
                    false,
                    false,
                    false,
                    false,
                    false,
                    false,
                    false,
                    false,
                    false,
                    false,
                    false,
                    false,
                    false,
                    false,
                    false,
                    false,
                    false,
                    false,
                    false,
                    false,
                    false,
                    false,
                    false,
                    false,
                    false,
                    false,
                    false,
                    false,
                    false,
                    false,
                    false,
                    false,
                    false,
                    false,
                    false,
                    false,
                    false,
                    false,
                    false,
                    false,
                    false,
                    false,
                    false,
                    false,
                    false,
                    false,
                    false,
                    false,
                    false,
                    false,
                    false,
                    false,
                    false,
                    false,
                    false,
                    false,
                    false,
                    false,
                    false,
                    false,
                    false,
                    false,
                    false,
                    false,
                    false,
                    false,
                    false,
                    false,
                    false,
                    false,
                    false,
                    false,
                    false,
                    false,
                    false,
                    false,
                    false,
                    false,
                    false,
                    false,
                    false,
                    false,
                    false,
                    false,
                    false,
                    false,
                    false,
                    false,
                    false,
                    false,
                    false,
                    false,
                    false,
                    false,
                    false,
                    false,
                    false,
                    false,
                    false,
                    false,
                    false,
                    false,
                    false,
                    false,
                    false,
                    false,
                    false,
                    false,
                    false,
                    false,
                    false,
                    false,
                    false,
                    false,
                    false,
                    false,
                    false,
                    false,
                    false,
                    false,
                    false,
                    false,
                    false,
                    false,
                    false,
                    false,
                    false,
                    false,
                    false,
                    false,
                    false,
                    false,
                    false,
                    false,
                    false,
                    false,
                    false,
                    false,
                    false,
                    false,
                    false,
                    false,
                    false,
                    false,
                    false,
                    false,
                    false,
                    false,
                    false,
                    false,
                    false,
                    false,
                    false,
                    false,
                    false,
                    false,
                    false,
                    false,
                    false,
                    false,
                    false,
                    false,
                    false,
                    false,
                    false,
                    false,
                    false,
                    false,
                    false,
                    false,
                    false,
                    false,
                    false,
                    false,
                    false,
                    false,
                    false,
                    false,
                    false,
                    false,
                    false,
                    false,
                    false,
                    false,
                    false,
                    false,
                    false,
                    false,
                    false,
                    false,
                    false,
                    false,
                    false,
                    false,
                    false,
                    false,
                    false,
                    false,
                    false,
                    false,
                    false,
                    false,
                    false,
                    false,
                    false,
                    false,
                    false,
                    false,
                    false,
                    false,
                    false,
                    false,
                    false,
                    false,
                    false,
                    false,
                    false,
                    false,
                    false,
                    false,
                    false,
                    false,
                    false,
                    false,
                    false,
                    false,
                    false,
                    false,
                    false,
                    false,
                    false,
                    false,
                    false,
                    false,
                    false,
                    false,
                    false,
                    false,
                    false,
                    false,
                    false,
                    false,
                    false,
                    false,
                    false,
                    false,
                    false,
                    false,
                    false,
                    false,
                    false,
                    false,
                    false,
                    false,
                    false,
                    false,
                    false,
                    false,
                    false,
                    false,
                    false,
                    false,
                    false,
                    false,
                    false,
                    false,
                    false,
                    false,
                    false,
                    false,
                    false,
                    false,
                    false,
                    false,
                    false,
                    false,
                    false,
                    false,
                    false,
                    false,
                    false,
                    false,
                    false,
                    false,
                    false,
                    false,
                    false,
                    false,
                    false,
                    false,
                    false,
                    false,
                    false,
                    false,
                    false,
                    false,
                    false,
                    false,
                    false,
                    false,
                    false,
                    false,
                    false,
                    false,
                    false,
                    false,
                    false,
                    false,
                    false,
                    false,
                    false,
                    false,
                    false,
                    false,
                    false,
                    false,
                    false,
                    false,
                    false,
                    false,
                    false,
                    false,
                    false,
                    false,
                    false,
                    false,
                    false,
                    false,
                    false,
                    false,
                    false,
                    false,
                    false,
                    false,
                    false,
                    false,
                    false,
                    false,
                    false,
                    false,
                    false,
                    false,
                    false,
                    false,
                    false,
                    false,
                    false,
                    false,
                    false,
                    false,
                    false,
                    false,
                    false,
                    false,
                    false,
                    false,
                    false,
                    false,
                    false,
                    false,
                    false,
                    false,
                    false,
                    false,
                    false,
                    false,
                    false,
                    false,
                    false,
                    false,
                    false,
                    false,
                    false,
                    false,
                    false,
                    false,
                    false,
                    false,
                    false,
                    false,
                    false,
                    false,
                    false,
                    false,
                    false,
                    false,
                    false,
                    false,
                    false,
                    false,
                    false,
                    false,
                    false,
                    false,
                    false,
                    false,
                    false,
                    false,
                    false,
                    false,
                    false,
                    false,
                    false,
                    false,
                    false,
                    false,
                    false,
                    false,
                    false,
                    false,
                    false,
                    false,
                    false,
                    false,
                    false,
                    false,
                    false,
                    false,
                    false,
                    false,
                    false,
                    false,
                    false,
                    false,
                    false,
                    false,
                    false,
                    false,
                    false,
                    false,
                    false,
                    false,
                    false,
                    false,
                    false,
                    false,
                    false,
                    false,
                    false,
                    false,
                    false,
                    false,
                    false,
                    false,
                    false,
                    false,
                    false,
                    false,
                    false,
                    false,
                    false,
                    false,
                    false,
                    false,
                    false,
                    false,
                    false,
                    false,
                    false,
                    false,
                    false,
                    false,
                    false,
                    false,
                    false,
                    false,
                    false,
                    false,
                    false,
                    false,
                    false,
                    false,
                    false,
                    false,
                    false,
                    false,
                    false,
                    false,
                    false,
                    false,
                    false,
                    false,
                    false,
                    false,
                    false,
                    false,
                    false,
                    false,
                    false,
                    false,
                    false,
                    false,
                    false,
                    false,
                    false,
                    false,
                    false,
                    false,
                    false,
                    false,
                    false,
                    false,
                    false,
                    false,
                    false,
                    false,
                    false,
                    false,
                    false,
                    false,
                    false,
                    false,
                    false,
                    false,
                    false,
                    false,
                    false,
                    false,
                    false,
                    false,
                    false,
                    false,
                    false,
                    false,
                    false,
                    false,
                    false,
                    false,
                    false,
                    false,
                    false,
                    false,
                    false,
                    false,
                    false,
                    false,
                    false,
                    false,
                    false,
                    false,
                    false,
                    false,
                    false,
                    false,
                    false,
                    false,
                    false,
                    false,
                    false,
                    false,
                    false,
                    false,
                    false,
                    false,
                    false,
                    false,
                    false,
                    false,
                    false,
                    false,
                    false,
                    false,
                    false,
                    false,
                    false,
                    false,
                    false,
                    false,
                    false,
                    false,
                    false,
                    false,
                    false,
                    false,
                    false,
                    false,
                    false,
                    false,
                    false,
                    false,
                    false,
                    false,
                    false,
                    false,
                    false,
                    false,
                    false,
                    false,
                    false,
                    false,
                    false,
                    false,
                    false,
                    false,
                    false,
                    false,
                    false,
                    false,
                    false,
                    false,
                    false,
                    false,
                    false,
                    false,
                    false,
                    false,
                    false,
                    false,
                    false,
                    false,
                    false,
                    false,
                    false,
                    false,
                    false,
                    false,
                    false,
                    false,
                    false,
                    false,
                    false,
                    false,
                    false,
                    false,
                    false,
                    false,
                    false,
                    false,
                    false,
                    false,
                    false,
                    false,
                    false,
                    false,
                    false,
                    false,
                    false,
                    false,
                    false,
                    false,
                    false,
                    false,
                    false,
                    false,
                    false,
                    false,
                    false,
                    false,
                    false,
                    false,
                    false,
                    false,
                    false,
                    false,
                    false,
                    false,
                    false,
                    false,
                    false,
                    false,
                    false,
                    false,
                    false,
                    false,
                    false,
                    false,
                    false,
                    false,
                    false,
                    false,
                    false,
                    false,
                    false,
                    false,
                    false,
                    false,
                    false,
                    false,
                    false,
                    false,
                    false,
                    false,
                    false,
                    false,
                    false,
                    false,
                    false,
                    false,
                    false,
                    false,
                    false,
                    false,
                    false,
                    false,
                    false,
                    false,
                    false,
                    false,
                    false,
                    false,
                    false,
                    false,
                    false,
                    false,
                    false,
                    false,
                    false,
                    false,
                    false,
                    false,
                    false,
                    false,
                    false,
                    false,
                    false,
                    false,
                    false,
                    false,
                    false,
                    false,
                    false,
                    false,
                    false,
                    false,
                    false,
                    false,
                    false,
                    false,
                    false,
                    false,
                    false,
                    false,
                    false,
                    false,
                    false,
                    false,
                    false,
                    false,
                    false,
                    false,
                    false,
                    false,
                    false,
                    false,
                    false,
                    false,
                    false,
                    false,
                    false,
                    false,
                    false,
                    false,
                    false,
                    false,
                    false,
                    false,
                    false,
                    false,
                    false,
                    false,
                    false,
                    false,
                    false,
                    false,
                    false,
                    false,
                    false,
                    false,
                    false,
                    false,
                    false,
                    false,
                    false,
                    false,
                    false,
                    false,
                    false,
                    false,
                    false,
                    false,
                    false,
                    false,
                    false,
                    false,
                    false,
                    false,
                    false,
                    false,
                    false,
                    false,
                    false,
                    false,
                    false,
                    false,
                    false,
                    false,
                    false,
                    false,
                    false,
                    false,
                    false,
                    false,
                    false,
                    false,
                    false,
                    false,
                    false,
                    false,
                    false,
                    false,
                    false,
                    false,
                    false,
                    false,
                    false,
                    false,
                    false,
                    false,
                    false,
                    false,
                    false,
                    false,
                    false,
                    false,
                    false,
                    false,
                    false,
                    false,
                    false,
                    false,
                    false,
                    false,
                    false,
                    false,
                    false,
                    false,
                    false,
                    false,
                    false,
                    false,
                    false,
                    false,
                    false,
                    false,
                    false,
                    false,
                    false,
                    false,
                    false,
                    false,
                    false,
                    false,
                    false,
                    false,
                    false,
                    false,
                    false,
                    false,
                    false,
                    false,
                    false,
                    false,
                    false,
                    false,
                    false,
                    false,
                    false,
                    false,
                    false,
                    false,
                    false,
                    false,
                    false,
                    false,
                    false,
                    false,
                    false,
                    false,
                    false,
                    false,
                    false,
                    false,
                    false,
                    false,
                    false,
                    false,
                    false,
                    false,
                    false,
                    false,
                    false,
                    false,
                    false,
                    false,
                    false,
                    false,
                    false,
                    false,
                    false,
                    false,
                    false,
                    false,
                    false,
                    false,
                    false,
                    false,
                    false,
                    false,
                    false,
                    false,
                    false,
                    false,
                    false,
                    false,
                    false,
                    false,
                    false,
                    false,
                    false,
                    false,
                    false,
                    false,
                    false,
                    false,
                    false,
                    false,
                    false,
                    false,
                    false
                  ],
                  "type": "histogram"
                },
                {
                  "histfunc": "count",
                  "name": "True",
                  "x": [
                    true,
                    true,
                    true,
                    true,
                    true,
                    true,
                    true,
                    true,
                    true,
                    true,
                    true,
                    true,
                    true,
                    true,
                    true,
                    true,
                    true,
                    true,
                    true,
                    true,
                    true,
                    true,
                    true,
                    true,
                    true,
                    true,
                    true,
                    true,
                    true,
                    true,
                    true,
                    true,
                    true,
                    true,
                    true,
                    true,
                    true,
                    true,
                    true,
                    true,
                    true,
                    true,
                    true,
                    true,
                    true,
                    true,
                    true,
                    true,
                    true,
                    true,
                    true,
                    true,
                    true,
                    true,
                    true,
                    true,
                    true,
                    true,
                    true,
                    true,
                    true,
                    true,
                    true,
                    true,
                    true,
                    true,
                    true,
                    true,
                    true,
                    true,
                    true,
                    true,
                    true,
                    true,
                    true,
                    true,
                    true,
                    true,
                    true,
                    true,
                    true,
                    true,
                    true,
                    true,
                    true,
                    true,
                    true,
                    true,
                    true,
                    true,
                    true,
                    true,
                    true,
                    true,
                    true,
                    true,
                    true,
                    true,
                    true,
                    true,
                    true,
                    true,
                    true,
                    true,
                    true,
                    true,
                    true,
                    true,
                    true,
                    true,
                    true,
                    true,
                    true,
                    true,
                    true,
                    true,
                    true,
                    true,
                    true,
                    true,
                    true,
                    true,
                    true,
                    true,
                    true,
                    true,
                    true,
                    true,
                    true,
                    true,
                    true,
                    true,
                    true,
                    true,
                    true,
                    true,
                    true,
                    true,
                    true,
                    true,
                    true,
                    true,
                    true,
                    true,
                    true,
                    true,
                    true,
                    true,
                    true,
                    true,
                    true,
                    true,
                    true,
                    true,
                    true,
                    true,
                    true,
                    true,
                    true,
                    true,
                    true,
                    true,
                    true,
                    true,
                    true,
                    true,
                    true,
                    true,
                    true,
                    true,
                    true,
                    true,
                    true,
                    true,
                    true,
                    true,
                    true,
                    true,
                    true,
                    true,
                    true,
                    true,
                    true,
                    true,
                    true,
                    true,
                    true,
                    true,
                    true,
                    true,
                    true,
                    true,
                    true,
                    true,
                    true,
                    true,
                    true,
                    true,
                    true,
                    true,
                    true,
                    true,
                    true,
                    true,
                    true,
                    true,
                    true,
                    true,
                    true,
                    true,
                    true,
                    true,
                    true,
                    true,
                    true,
                    true,
                    true,
                    true,
                    true,
                    true,
                    true,
                    true,
                    true,
                    true,
                    true,
                    true,
                    true,
                    true,
                    true,
                    true,
                    true,
                    true,
                    true,
                    true,
                    true,
                    true,
                    true,
                    true,
                    true,
                    true,
                    true,
                    true,
                    true,
                    true,
                    true,
                    true,
                    true,
                    true,
                    true,
                    true,
                    true,
                    true,
                    true,
                    true,
                    true,
                    true,
                    true,
                    true,
                    true,
                    true,
                    true,
                    true,
                    true,
                    true,
                    true,
                    true,
                    true,
                    true,
                    true,
                    true,
                    true,
                    true,
                    true,
                    true,
                    true,
                    true,
                    true,
                    true,
                    true,
                    true,
                    true,
                    true,
                    true,
                    true,
                    true,
                    true,
                    true,
                    true,
                    true,
                    true,
                    true,
                    true,
                    true,
                    true,
                    true,
                    true,
                    true,
                    true,
                    true,
                    true,
                    true,
                    true,
                    true,
                    true,
                    true,
                    true,
                    true,
                    true,
                    true,
                    true,
                    true,
                    true,
                    true,
                    true,
                    true,
                    true,
                    true,
                    true,
                    true,
                    true,
                    true,
                    true,
                    true,
                    true,
                    true,
                    true,
                    true,
                    true,
                    true,
                    true,
                    true,
                    true,
                    true,
                    true,
                    true,
                    true,
                    true,
                    true,
                    true,
                    true,
                    true,
                    true,
                    true,
                    true,
                    true,
                    true,
                    true,
                    true,
                    true,
                    true,
                    true,
                    true,
                    true,
                    true,
                    true,
                    true,
                    true,
                    true,
                    true,
                    true,
                    true,
                    true,
                    true,
                    true,
                    true,
                    true,
                    true,
                    true,
                    true,
                    true,
                    true,
                    true,
                    true,
                    true,
                    true,
                    true,
                    true,
                    true,
                    true,
                    true,
                    true,
                    true,
                    true,
                    true,
                    true,
                    true,
                    true,
                    true,
                    true,
                    true,
                    true,
                    true,
                    true,
                    true,
                    true,
                    true,
                    true,
                    true,
                    true,
                    true
                  ],
                  "type": "histogram"
                }
              ],
              "layout": {
                "title": {
                  "text": "Distribution for new binary label 'is_hiker'"
                },
                "xaxis": {
                  "title": {
                    "text": "is hiker"
                  }
                },
                "yaxis": {
                  "title": {
                    "text": "count"
                  }
                },
                "template": {
                  "data": {
                    "barpolar": [
                      {
                        "marker": {
                          "line": {
                            "color": "white",
                            "width": 0.5
                          },
                          "pattern": {
                            "fillmode": "overlay",
                            "size": 10,
                            "solidity": 0.2
                          }
                        },
                        "type": "barpolar"
                      }
                    ],
                    "bar": [
                      {
                        "error_x": {
                          "color": "#2a3f5f"
                        },
                        "error_y": {
                          "color": "#2a3f5f"
                        },
                        "marker": {
                          "line": {
                            "color": "white",
                            "width": 0.5
                          },
                          "pattern": {
                            "fillmode": "overlay",
                            "size": 10,
                            "solidity": 0.2
                          }
                        },
                        "type": "bar"
                      }
                    ],
                    "carpet": [
                      {
                        "aaxis": {
                          "endlinecolor": "#2a3f5f",
                          "gridcolor": "#C8D4E3",
                          "linecolor": "#C8D4E3",
                          "minorgridcolor": "#C8D4E3",
                          "startlinecolor": "#2a3f5f"
                        },
                        "baxis": {
                          "endlinecolor": "#2a3f5f",
                          "gridcolor": "#C8D4E3",
                          "linecolor": "#C8D4E3",
                          "minorgridcolor": "#C8D4E3",
                          "startlinecolor": "#2a3f5f"
                        },
                        "type": "carpet"
                      }
                    ],
                    "choropleth": [
                      {
                        "colorbar": {
                          "outlinewidth": 0,
                          "ticks": ""
                        },
                        "type": "choropleth"
                      }
                    ],
                    "contourcarpet": [
                      {
                        "colorbar": {
                          "outlinewidth": 0,
                          "ticks": ""
                        },
                        "type": "contourcarpet"
                      }
                    ],
                    "contour": [
                      {
                        "colorbar": {
                          "outlinewidth": 0,
                          "ticks": ""
                        },
                        "colorscale": [
                          [
                            0,
                            "#0d0887"
                          ],
                          [
                            0.1111111111111111,
                            "#46039f"
                          ],
                          [
                            0.2222222222222222,
                            "#7201a8"
                          ],
                          [
                            0.3333333333333333,
                            "#9c179e"
                          ],
                          [
                            0.4444444444444444,
                            "#bd3786"
                          ],
                          [
                            0.5555555555555556,
                            "#d8576b"
                          ],
                          [
                            0.6666666666666666,
                            "#ed7953"
                          ],
                          [
                            0.7777777777777778,
                            "#fb9f3a"
                          ],
                          [
                            0.8888888888888888,
                            "#fdca26"
                          ],
                          [
                            1,
                            "#f0f921"
                          ]
                        ],
                        "type": "contour"
                      }
                    ],
                    "heatmapgl": [
                      {
                        "colorbar": {
                          "outlinewidth": 0,
                          "ticks": ""
                        },
                        "colorscale": [
                          [
                            0,
                            "#0d0887"
                          ],
                          [
                            0.1111111111111111,
                            "#46039f"
                          ],
                          [
                            0.2222222222222222,
                            "#7201a8"
                          ],
                          [
                            0.3333333333333333,
                            "#9c179e"
                          ],
                          [
                            0.4444444444444444,
                            "#bd3786"
                          ],
                          [
                            0.5555555555555556,
                            "#d8576b"
                          ],
                          [
                            0.6666666666666666,
                            "#ed7953"
                          ],
                          [
                            0.7777777777777778,
                            "#fb9f3a"
                          ],
                          [
                            0.8888888888888888,
                            "#fdca26"
                          ],
                          [
                            1,
                            "#f0f921"
                          ]
                        ],
                        "type": "heatmapgl"
                      }
                    ],
                    "heatmap": [
                      {
                        "colorbar": {
                          "outlinewidth": 0,
                          "ticks": ""
                        },
                        "colorscale": [
                          [
                            0,
                            "#0d0887"
                          ],
                          [
                            0.1111111111111111,
                            "#46039f"
                          ],
                          [
                            0.2222222222222222,
                            "#7201a8"
                          ],
                          [
                            0.3333333333333333,
                            "#9c179e"
                          ],
                          [
                            0.4444444444444444,
                            "#bd3786"
                          ],
                          [
                            0.5555555555555556,
                            "#d8576b"
                          ],
                          [
                            0.6666666666666666,
                            "#ed7953"
                          ],
                          [
                            0.7777777777777778,
                            "#fb9f3a"
                          ],
                          [
                            0.8888888888888888,
                            "#fdca26"
                          ],
                          [
                            1,
                            "#f0f921"
                          ]
                        ],
                        "type": "heatmap"
                      }
                    ],
                    "histogram2dcontour": [
                      {
                        "colorbar": {
                          "outlinewidth": 0,
                          "ticks": ""
                        },
                        "colorscale": [
                          [
                            0,
                            "#0d0887"
                          ],
                          [
                            0.1111111111111111,
                            "#46039f"
                          ],
                          [
                            0.2222222222222222,
                            "#7201a8"
                          ],
                          [
                            0.3333333333333333,
                            "#9c179e"
                          ],
                          [
                            0.4444444444444444,
                            "#bd3786"
                          ],
                          [
                            0.5555555555555556,
                            "#d8576b"
                          ],
                          [
                            0.6666666666666666,
                            "#ed7953"
                          ],
                          [
                            0.7777777777777778,
                            "#fb9f3a"
                          ],
                          [
                            0.8888888888888888,
                            "#fdca26"
                          ],
                          [
                            1,
                            "#f0f921"
                          ]
                        ],
                        "type": "histogram2dcontour"
                      }
                    ],
                    "histogram2d": [
                      {
                        "colorbar": {
                          "outlinewidth": 0,
                          "ticks": ""
                        },
                        "colorscale": [
                          [
                            0,
                            "#0d0887"
                          ],
                          [
                            0.1111111111111111,
                            "#46039f"
                          ],
                          [
                            0.2222222222222222,
                            "#7201a8"
                          ],
                          [
                            0.3333333333333333,
                            "#9c179e"
                          ],
                          [
                            0.4444444444444444,
                            "#bd3786"
                          ],
                          [
                            0.5555555555555556,
                            "#d8576b"
                          ],
                          [
                            0.6666666666666666,
                            "#ed7953"
                          ],
                          [
                            0.7777777777777778,
                            "#fb9f3a"
                          ],
                          [
                            0.8888888888888888,
                            "#fdca26"
                          ],
                          [
                            1,
                            "#f0f921"
                          ]
                        ],
                        "type": "histogram2d"
                      }
                    ],
                    "histogram": [
                      {
                        "marker": {
                          "pattern": {
                            "fillmode": "overlay",
                            "size": 10,
                            "solidity": 0.2
                          },
                          "line": {
                            "width": 1
                          }
                        },
                        "type": "histogram"
                      }
                    ],
                    "mesh3d": [
                      {
                        "colorbar": {
                          "outlinewidth": 0,
                          "ticks": ""
                        },
                        "type": "mesh3d"
                      }
                    ],
                    "parcoords": [
                      {
                        "line": {
                          "colorbar": {
                            "outlinewidth": 0,
                            "ticks": ""
                          }
                        },
                        "type": "parcoords"
                      }
                    ],
                    "pie": [
                      {
                        "automargin": true,
                        "type": "pie"
                      }
                    ],
                    "scatter3d": [
                      {
                        "line": {
                          "colorbar": {
                            "outlinewidth": 0,
                            "ticks": ""
                          }
                        },
                        "marker": {
                          "colorbar": {
                            "outlinewidth": 0,
                            "ticks": ""
                          },
                          "opacity": 0.8
                        },
                        "type": "scatter3d"
                      }
                    ],
                    "scattercarpet": [
                      {
                        "marker": {
                          "colorbar": {
                            "outlinewidth": 0,
                            "ticks": ""
                          }
                        },
                        "type": "scattercarpet"
                      }
                    ],
                    "scattergeo": [
                      {
                        "marker": {
                          "colorbar": {
                            "outlinewidth": 0,
                            "ticks": ""
                          }
                        },
                        "type": "scattergeo"
                      }
                    ],
                    "scattergl": [
                      {
                        "marker": {
                          "colorbar": {
                            "outlinewidth": 0,
                            "ticks": ""
                          }
                        },
                        "type": "scattergl"
                      }
                    ],
                    "scattermapbox": [
                      {
                        "marker": {
                          "colorbar": {
                            "outlinewidth": 0,
                            "ticks": ""
                          }
                        },
                        "type": "scattermapbox"
                      }
                    ],
                    "scatterpolargl": [
                      {
                        "marker": {
                          "colorbar": {
                            "outlinewidth": 0,
                            "ticks": ""
                          }
                        },
                        "type": "scatterpolargl"
                      }
                    ],
                    "scatterpolar": [
                      {
                        "marker": {
                          "colorbar": {
                            "outlinewidth": 0,
                            "ticks": ""
                          }
                        },
                        "type": "scatterpolar"
                      }
                    ],
                    "scatter": [
                      {
                        "fillpattern": {
                          "fillmode": "overlay",
                          "size": 10,
                          "solidity": 0.2
                        },
                        "type": "scatter",
                        "marker": {
                          "opacity": 0.8
                        }
                      }
                    ],
                    "scatterternary": [
                      {
                        "marker": {
                          "colorbar": {
                            "outlinewidth": 0,
                            "ticks": ""
                          }
                        },
                        "type": "scatterternary"
                      }
                    ],
                    "surface": [
                      {
                        "colorbar": {
                          "outlinewidth": 0,
                          "ticks": ""
                        },
                        "colorscale": [
                          [
                            0,
                            "#0d0887"
                          ],
                          [
                            0.1111111111111111,
                            "#46039f"
                          ],
                          [
                            0.2222222222222222,
                            "#7201a8"
                          ],
                          [
                            0.3333333333333333,
                            "#9c179e"
                          ],
                          [
                            0.4444444444444444,
                            "#bd3786"
                          ],
                          [
                            0.5555555555555556,
                            "#d8576b"
                          ],
                          [
                            0.6666666666666666,
                            "#ed7953"
                          ],
                          [
                            0.7777777777777778,
                            "#fb9f3a"
                          ],
                          [
                            0.8888888888888888,
                            "#fdca26"
                          ],
                          [
                            1,
                            "#f0f921"
                          ]
                        ],
                        "type": "surface"
                      }
                    ],
                    "table": [
                      {
                        "cells": {
                          "fill": {
                            "color": "#EBF0F8"
                          },
                          "line": {
                            "color": "white"
                          }
                        },
                        "header": {
                          "fill": {
                            "color": "#C8D4E3"
                          },
                          "line": {
                            "color": "white"
                          }
                        },
                        "type": "table"
                      }
                    ],
                    "box": [
                      {
                        "boxpoints": "outliers",
                        "notched": false,
                        "type": "box"
                      }
                    ]
                  },
                  "layout": {
                    "annotationdefaults": {
                      "arrowcolor": "#2a3f5f",
                      "arrowhead": 0,
                      "arrowwidth": 1
                    },
                    "autotypenumbers": "strict",
                    "coloraxis": {
                      "colorbar": {
                        "outlinewidth": 0,
                        "ticks": ""
                      }
                    },
                    "colorscale": {
                      "diverging": [
                        [
                          0,
                          "#8e0152"
                        ],
                        [
                          0.1,
                          "#c51b7d"
                        ],
                        [
                          0.2,
                          "#de77ae"
                        ],
                        [
                          0.3,
                          "#f1b6da"
                        ],
                        [
                          0.4,
                          "#fde0ef"
                        ],
                        [
                          0.5,
                          "#f7f7f7"
                        ],
                        [
                          0.6,
                          "#e6f5d0"
                        ],
                        [
                          0.7,
                          "#b8e186"
                        ],
                        [
                          0.8,
                          "#7fbc41"
                        ],
                        [
                          0.9,
                          "#4d9221"
                        ],
                        [
                          1,
                          "#276419"
                        ]
                      ],
                      "sequential": [
                        [
                          0,
                          "#0d0887"
                        ],
                        [
                          0.1111111111111111,
                          "#46039f"
                        ],
                        [
                          0.2222222222222222,
                          "#7201a8"
                        ],
                        [
                          0.3333333333333333,
                          "#9c179e"
                        ],
                        [
                          0.4444444444444444,
                          "#bd3786"
                        ],
                        [
                          0.5555555555555556,
                          "#d8576b"
                        ],
                        [
                          0.6666666666666666,
                          "#ed7953"
                        ],
                        [
                          0.7777777777777778,
                          "#fb9f3a"
                        ],
                        [
                          0.8888888888888888,
                          "#fdca26"
                        ],
                        [
                          1,
                          "#f0f921"
                        ]
                      ],
                      "sequentialminus": [
                        [
                          0,
                          "#0d0887"
                        ],
                        [
                          0.1111111111111111,
                          "#46039f"
                        ],
                        [
                          0.2222222222222222,
                          "#7201a8"
                        ],
                        [
                          0.3333333333333333,
                          "#9c179e"
                        ],
                        [
                          0.4444444444444444,
                          "#bd3786"
                        ],
                        [
                          0.5555555555555556,
                          "#d8576b"
                        ],
                        [
                          0.6666666666666666,
                          "#ed7953"
                        ],
                        [
                          0.7777777777777778,
                          "#fb9f3a"
                        ],
                        [
                          0.8888888888888888,
                          "#fdca26"
                        ],
                        [
                          1,
                          "#f0f921"
                        ]
                      ]
                    },
                    "colorway": [
                      "#636efa",
                      "#EF553B",
                      "#00cc96",
                      "#ab63fa",
                      "#FFA15A",
                      "#19d3f3",
                      "#FF6692",
                      "#B6E880",
                      "#FF97FF",
                      "#FECB52"
                    ],
                    "font": {
                      "color": "#2a3f5f"
                    },
                    "geo": {
                      "bgcolor": "white",
                      "lakecolor": "white",
                      "landcolor": "white",
                      "showlakes": true,
                      "showland": true,
                      "subunitcolor": "#C8D4E3"
                    },
                    "hoverlabel": {
                      "align": "left"
                    },
                    "hovermode": "closest",
                    "mapbox": {
                      "style": "light"
                    },
                    "paper_bgcolor": "white",
                    "plot_bgcolor": "white",
                    "polar": {
                      "angularaxis": {
                        "gridcolor": "#EBF0F8",
                        "linecolor": "#EBF0F8",
                        "ticks": ""
                      },
                      "bgcolor": "white",
                      "radialaxis": {
                        "gridcolor": "#EBF0F8",
                        "linecolor": "#EBF0F8",
                        "ticks": ""
                      }
                    },
                    "scene": {
                      "xaxis": {
                        "backgroundcolor": "white",
                        "gridcolor": "#DFE8F3",
                        "gridwidth": 2,
                        "linecolor": "#EBF0F8",
                        "showbackground": true,
                        "ticks": "",
                        "zerolinecolor": "#EBF0F8"
                      },
                      "yaxis": {
                        "backgroundcolor": "white",
                        "gridcolor": "#DFE8F3",
                        "gridwidth": 2,
                        "linecolor": "#EBF0F8",
                        "showbackground": true,
                        "ticks": "",
                        "zerolinecolor": "#EBF0F8"
                      },
                      "zaxis": {
                        "backgroundcolor": "white",
                        "gridcolor": "#DFE8F3",
                        "gridwidth": 2,
                        "linecolor": "#EBF0F8",
                        "showbackground": true,
                        "ticks": "",
                        "zerolinecolor": "#EBF0F8"
                      },
                      "camera": {
                        "eye": {
                          "x": 1.5,
                          "y": 1.5,
                          "z": 0.1
                        }
                      }
                    },
                    "shapedefaults": {
                      "line": {
                        "color": "#2a3f5f"
                      }
                    },
                    "ternary": {
                      "aaxis": {
                        "gridcolor": "#DFE8F3",
                        "linecolor": "#A2B1C6",
                        "ticks": ""
                      },
                      "baxis": {
                        "gridcolor": "#DFE8F3",
                        "linecolor": "#A2B1C6",
                        "ticks": ""
                      },
                      "bgcolor": "white",
                      "caxis": {
                        "gridcolor": "#DFE8F3",
                        "linecolor": "#A2B1C6",
                        "ticks": ""
                      }
                    },
                    "title": {
                      "x": 0.5
                    },
                    "xaxis": {
                      "automargin": true,
                      "gridcolor": "#EBF0F8",
                      "linecolor": "#EBF0F8",
                      "ticks": "",
                      "title": {
                        "standoff": 15
                      },
                      "zerolinecolor": "#EBF0F8",
                      "zerolinewidth": 2,
                      "linewidth": 2,
                      "showline": true
                    },
                    "yaxis": {
                      "automargin": true,
                      "gridcolor": "#EBF0F8",
                      "linecolor": "#EBF0F8",
                      "ticks": "",
                      "title": {
                        "standoff": 15
                      },
                      "zerolinecolor": "#EBF0F8",
                      "zerolinewidth": 2,
                      "linewidth": 2,
                      "showline": true
                    },
                    "height": 400,
                    "margin": {
                      "b": 2,
                      "l": 2,
                      "r": 2,
                      "t": 30
                    }
                  }
                },
                "legend": {
                  "title": {
                    "text": "is_hiker"
                  }
                }
              },
              "config": {
                "plotlyServerURL": "https://plot.ly"
              }
            },
            "text/html": "<div>                            <div id=\"f6904760-7918-4565-8dfc-be7962f445d9\" class=\"plotly-graph-div\" style=\"height:400px; width:100%;\"></div>            <script type=\"text/javascript\">                require([\"plotly\"], function(Plotly) {                    window.PLOTLYENV=window.PLOTLYENV || {};                                    if (document.getElementById(\"f6904760-7918-4565-8dfc-be7962f445d9\")) {                    Plotly.newPlot(                        \"f6904760-7918-4565-8dfc-be7962f445d9\",                        [{\"histfunc\":\"count\",\"name\":\"False\",\"x\":[false,false,false,false,false,false,false,false,false,false,false,false,false,false,false,false,false,false,false,false,false,false,false,false,false,false,false,false,false,false,false,false,false,false,false,false,false,false,false,false,false,false,false,false,false,false,false,false,false,false,false,false,false,false,false,false,false,false,false,false,false,false,false,false,false,false,false,false,false,false,false,false,false,false,false,false,false,false,false,false,false,false,false,false,false,false,false,false,false,false,false,false,false,false,false,false,false,false,false,false,false,false,false,false,false,false,false,false,false,false,false,false,false,false,false,false,false,false,false,false,false,false,false,false,false,false,false,false,false,false,false,false,false,false,false,false,false,false,false,false,false,false,false,false,false,false,false,false,false,false,false,false,false,false,false,false,false,false,false,false,false,false,false,false,false,false,false,false,false,false,false,false,false,false,false,false,false,false,false,false,false,false,false,false,false,false,false,false,false,false,false,false,false,false,false,false,false,false,false,false,false,false,false,false,false,false,false,false,false,false,false,false,false,false,false,false,false,false,false,false,false,false,false,false,false,false,false,false,false,false,false,false,false,false,false,false,false,false,false,false,false,false,false,false,false,false,false,false,false,false,false,false,false,false,false,false,false,false,false,false,false,false,false,false,false,false,false,false,false,false,false,false,false,false,false,false,false,false,false,false,false,false,false,false,false,false,false,false,false,false,false,false,false,false,false,false,false,false,false,false,false,false,false,false,false,false,false,false,false,false,false,false,false,false,false,false,false,false,false,false,false,false,false,false,false,false,false,false,false,false,false,false,false,false,false,false,false,false,false,false,false,false,false,false,false,false,false,false,false,false,false,false,false,false,false,false,false,false,false,false,false,false,false,false,false,false,false,false,false,false,false,false,false,false,false,false,false,false,false,false,false,false,false,false,false,false,false,false,false,false,false,false,false,false,false,false,false,false,false,false,false,false,false,false,false,false,false,false,false,false,false,false,false,false,false,false,false,false,false,false,false,false,false,false,false,false,false,false,false,false,false,false,false,false,false,false,false,false,false,false,false,false,false,false,false,false,false,false,false,false,false,false,false,false,false,false,false,false,false,false,false,false,false,false,false,false,false,false,false,false,false,false,false,false,false,false,false,false,false,false,false,false,false,false,false,false,false,false,false,false,false,false,false,false,false,false,false,false,false,false,false,false,false,false,false,false,false,false,false,false,false,false,false,false,false,false,false,false,false,false,false,false,false,false,false,false,false,false,false,false,false,false,false,false,false,false,false,false,false,false,false,false,false,false,false,false,false,false,false,false,false,false,false,false,false,false,false,false,false,false,false,false,false,false,false,false,false,false,false,false,false,false,false,false,false,false,false,false,false,false,false,false,false,false,false,false,false,false,false,false,false,false,false,false,false,false,false,false,false,false,false,false,false,false,false,false,false,false,false,false,false,false,false,false,false,false,false,false,false,false,false,false,false,false,false,false,false,false,false,false,false,false,false,false,false,false,false,false,false,false,false,false,false,false,false,false,false,false,false,false,false,false,false,false,false,false,false,false,false,false,false,false,false,false,false,false,false,false,false,false,false,false,false,false,false,false,false,false,false,false,false,false,false,false,false,false,false,false,false,false,false,false,false,false,false,false,false,false,false,false,false,false,false,false,false,false,false,false,false,false,false,false,false,false,false,false,false,false,false,false,false,false,false,false,false,false,false,false,false,false,false,false,false,false,false,false,false,false,false,false,false,false,false,false,false,false,false,false,false,false,false,false,false,false,false,false,false,false,false,false,false,false,false,false,false,false,false,false,false,false,false,false,false,false,false,false,false,false,false,false,false,false,false,false,false,false,false,false,false,false,false,false,false,false,false,false,false,false,false,false,false,false,false,false,false,false,false,false,false,false,false,false,false,false,false,false,false,false,false,false,false,false,false,false,false,false,false,false,false,false,false,false,false,false,false,false,false,false,false,false,false,false,false,false,false,false,false,false,false,false,false,false,false,false,false,false,false,false,false,false,false,false,false,false,false,false,false,false,false,false,false,false,false,false,false,false,false,false,false,false,false,false,false,false,false,false,false,false,false,false,false,false,false,false,false,false,false,false,false,false,false,false,false,false,false,false,false,false,false,false,false,false,false,false,false,false,false,false,false,false,false,false,false,false,false,false,false,false,false,false,false,false,false,false,false,false,false,false,false,false,false,false,false,false,false,false,false,false,false,false,false,false,false,false,false,false,false,false,false,false,false,false,false,false,false,false,false,false,false,false,false,false,false,false,false,false,false,false,false,false,false,false,false,false,false,false,false,false,false,false,false,false,false,false,false,false,false,false,false,false,false,false,false,false,false,false,false,false,false,false,false,false,false,false,false,false,false,false,false,false,false,false,false,false,false,false,false,false,false,false,false,false,false,false,false,false,false,false,false,false,false,false,false,false,false,false,false,false,false,false,false,false,false,false,false,false,false,false,false,false,false,false,false,false,false,false,false,false,false,false,false,false,false,false,false,false,false,false,false,false,false,false,false,false,false,false,false,false,false,false,false,false,false,false,false,false,false,false,false,false,false,false,false,false,false,false,false,false,false,false,false,false,false,false,false,false,false,false,false,false,false,false,false,false,false,false,false,false,false,false,false,false,false,false,false,false,false,false,false,false,false,false,false,false,false,false,false,false,false,false,false,false,false,false,false,false,false,false,false,false,false,false,false,false,false,false,false,false,false,false,false,false,false,false,false,false,false,false,false,false,false,false,false,false,false,false,false,false,false,false,false,false,false,false,false,false,false,false,false,false,false,false,false,false,false,false,false,false,false,false,false,false,false,false,false,false,false,false,false,false,false,false,false,false,false,false,false,false,false,false,false,false,false,false,false,false,false,false,false,false,false,false,false,false,false,false,false,false,false,false,false,false,false,false,false,false,false,false,false,false,false,false,false,false,false,false,false,false,false,false,false,false,false,false,false,false,false,false,false,false,false,false,false,false,false,false,false,false,false,false,false,false,false,false,false,false,false,false,false,false,false,false,false,false,false,false,false,false,false,false,false,false,false,false,false,false,false,false,false,false,false,false,false,false,false,false,false,false,false,false,false,false,false,false,false,false,false,false,false,false,false,false,false,false,false,false,false,false,false,false,false,false,false,false,false,false,false,false,false,false,false,false,false,false,false,false,false,false,false,false,false,false,false,false,false,false,false,false,false,false,false,false,false,false,false,false,false,false,false,false,false,false,false,false,false,false,false,false,false,false,false,false,false,false,false,false,false,false,false,false,false,false,false,false,false,false,false,false,false,false,false,false,false,false,false,false,false,false,false,false,false,false,false,false,false,false,false,false,false,false,false,false,false,false,false,false,false,false,false,false,false,false,false,false,false,false,false,false,false,false,false,false,false,false,false,false,false,false,false,false,false,false,false,false,false,false,false,false,false,false,false,false,false,false,false,false,false,false,false,false,false,false,false,false,false,false,false,false,false,false,false,false,false,false,false,false,false,false,false,false,false,false,false,false,false,false,false,false,false,false,false,false,false,false,false,false,false,false,false,false,false,false,false,false,false,false,false,false,false,false,false,false,false,false,false,false,false,false,false,false,false,false,false,false,false,false,false,false,false,false,false,false,false,false,false,false,false,false,false,false,false,false,false,false,false,false,false,false,false,false,false,false,false,false,false,false,false,false,false,false,false,false,false,false,false,false,false,false,false,false,false,false,false,false,false,false,false,false,false,false,false,false,false,false,false,false,false,false,false,false,false,false,false,false,false,false,false,false,false,false,false,false,false,false,false,false,false,false,false,false,false,false,false,false,false,false,false,false,false,false,false,false,false,false,false,false,false,false,false,false,false,false,false,false,false,false,false,false,false,false,false,false,false,false,false,false,false,false,false,false,false,false,false,false,false,false,false,false,false,false,false,false,false,false,false,false,false,false,false,false,false,false,false,false,false,false,false,false,false,false,false,false,false,false,false,false,false,false,false,false,false,false,false,false,false,false,false,false,false,false,false,false,false,false,false,false,false,false,false,false,false,false,false,false,false,false,false,false,false,false,false,false,false,false,false,false,false,false,false,false,false,false,false,false,false,false,false,false,false,false,false,false,false,false,false,false,false,false,false,false,false,false,false,false,false,false,false,false,false,false,false,false,false,false,false,false,false,false,false,false],\"type\":\"histogram\"},{\"histfunc\":\"count\",\"name\":\"True\",\"x\":[true,true,true,true,true,true,true,true,true,true,true,true,true,true,true,true,true,true,true,true,true,true,true,true,true,true,true,true,true,true,true,true,true,true,true,true,true,true,true,true,true,true,true,true,true,true,true,true,true,true,true,true,true,true,true,true,true,true,true,true,true,true,true,true,true,true,true,true,true,true,true,true,true,true,true,true,true,true,true,true,true,true,true,true,true,true,true,true,true,true,true,true,true,true,true,true,true,true,true,true,true,true,true,true,true,true,true,true,true,true,true,true,true,true,true,true,true,true,true,true,true,true,true,true,true,true,true,true,true,true,true,true,true,true,true,true,true,true,true,true,true,true,true,true,true,true,true,true,true,true,true,true,true,true,true,true,true,true,true,true,true,true,true,true,true,true,true,true,true,true,true,true,true,true,true,true,true,true,true,true,true,true,true,true,true,true,true,true,true,true,true,true,true,true,true,true,true,true,true,true,true,true,true,true,true,true,true,true,true,true,true,true,true,true,true,true,true,true,true,true,true,true,true,true,true,true,true,true,true,true,true,true,true,true,true,true,true,true,true,true,true,true,true,true,true,true,true,true,true,true,true,true,true,true,true,true,true,true,true,true,true,true,true,true,true,true,true,true,true,true,true,true,true,true,true,true,true,true,true,true,true,true,true,true,true,true,true,true,true,true,true,true,true,true,true,true,true,true,true,true,true,true,true,true,true,true,true,true,true,true,true,true,true,true,true,true,true,true,true,true,true,true,true,true,true,true,true,true,true,true,true,true,true,true,true,true,true,true,true,true,true,true,true,true,true,true,true,true,true,true,true,true,true,true,true,true,true,true,true,true,true,true,true,true,true,true,true,true,true,true,true,true,true,true,true,true,true,true,true,true,true,true,true,true,true,true,true,true,true,true,true,true,true,true,true,true,true,true,true,true],\"type\":\"histogram\"}],                        {\"title\":{\"text\":\"Distribution for new binary label 'is_hiker'\"},\"xaxis\":{\"title\":{\"text\":\"is hiker\"}},\"yaxis\":{\"title\":{\"text\":\"count\"}},\"template\":{\"data\":{\"barpolar\":[{\"marker\":{\"line\":{\"color\":\"white\",\"width\":0.5},\"pattern\":{\"fillmode\":\"overlay\",\"size\":10,\"solidity\":0.2}},\"type\":\"barpolar\"}],\"bar\":[{\"error_x\":{\"color\":\"#2a3f5f\"},\"error_y\":{\"color\":\"#2a3f5f\"},\"marker\":{\"line\":{\"color\":\"white\",\"width\":0.5},\"pattern\":{\"fillmode\":\"overlay\",\"size\":10,\"solidity\":0.2}},\"type\":\"bar\"}],\"carpet\":[{\"aaxis\":{\"endlinecolor\":\"#2a3f5f\",\"gridcolor\":\"#C8D4E3\",\"linecolor\":\"#C8D4E3\",\"minorgridcolor\":\"#C8D4E3\",\"startlinecolor\":\"#2a3f5f\"},\"baxis\":{\"endlinecolor\":\"#2a3f5f\",\"gridcolor\":\"#C8D4E3\",\"linecolor\":\"#C8D4E3\",\"minorgridcolor\":\"#C8D4E3\",\"startlinecolor\":\"#2a3f5f\"},\"type\":\"carpet\"}],\"choropleth\":[{\"colorbar\":{\"outlinewidth\":0,\"ticks\":\"\"},\"type\":\"choropleth\"}],\"contourcarpet\":[{\"colorbar\":{\"outlinewidth\":0,\"ticks\":\"\"},\"type\":\"contourcarpet\"}],\"contour\":[{\"colorbar\":{\"outlinewidth\":0,\"ticks\":\"\"},\"colorscale\":[[0.0,\"#0d0887\"],[0.1111111111111111,\"#46039f\"],[0.2222222222222222,\"#7201a8\"],[0.3333333333333333,\"#9c179e\"],[0.4444444444444444,\"#bd3786\"],[0.5555555555555556,\"#d8576b\"],[0.6666666666666666,\"#ed7953\"],[0.7777777777777778,\"#fb9f3a\"],[0.8888888888888888,\"#fdca26\"],[1.0,\"#f0f921\"]],\"type\":\"contour\"}],\"heatmapgl\":[{\"colorbar\":{\"outlinewidth\":0,\"ticks\":\"\"},\"colorscale\":[[0.0,\"#0d0887\"],[0.1111111111111111,\"#46039f\"],[0.2222222222222222,\"#7201a8\"],[0.3333333333333333,\"#9c179e\"],[0.4444444444444444,\"#bd3786\"],[0.5555555555555556,\"#d8576b\"],[0.6666666666666666,\"#ed7953\"],[0.7777777777777778,\"#fb9f3a\"],[0.8888888888888888,\"#fdca26\"],[1.0,\"#f0f921\"]],\"type\":\"heatmapgl\"}],\"heatmap\":[{\"colorbar\":{\"outlinewidth\":0,\"ticks\":\"\"},\"colorscale\":[[0.0,\"#0d0887\"],[0.1111111111111111,\"#46039f\"],[0.2222222222222222,\"#7201a8\"],[0.3333333333333333,\"#9c179e\"],[0.4444444444444444,\"#bd3786\"],[0.5555555555555556,\"#d8576b\"],[0.6666666666666666,\"#ed7953\"],[0.7777777777777778,\"#fb9f3a\"],[0.8888888888888888,\"#fdca26\"],[1.0,\"#f0f921\"]],\"type\":\"heatmap\"}],\"histogram2dcontour\":[{\"colorbar\":{\"outlinewidth\":0,\"ticks\":\"\"},\"colorscale\":[[0.0,\"#0d0887\"],[0.1111111111111111,\"#46039f\"],[0.2222222222222222,\"#7201a8\"],[0.3333333333333333,\"#9c179e\"],[0.4444444444444444,\"#bd3786\"],[0.5555555555555556,\"#d8576b\"],[0.6666666666666666,\"#ed7953\"],[0.7777777777777778,\"#fb9f3a\"],[0.8888888888888888,\"#fdca26\"],[1.0,\"#f0f921\"]],\"type\":\"histogram2dcontour\"}],\"histogram2d\":[{\"colorbar\":{\"outlinewidth\":0,\"ticks\":\"\"},\"colorscale\":[[0.0,\"#0d0887\"],[0.1111111111111111,\"#46039f\"],[0.2222222222222222,\"#7201a8\"],[0.3333333333333333,\"#9c179e\"],[0.4444444444444444,\"#bd3786\"],[0.5555555555555556,\"#d8576b\"],[0.6666666666666666,\"#ed7953\"],[0.7777777777777778,\"#fb9f3a\"],[0.8888888888888888,\"#fdca26\"],[1.0,\"#f0f921\"]],\"type\":\"histogram2d\"}],\"histogram\":[{\"marker\":{\"pattern\":{\"fillmode\":\"overlay\",\"size\":10,\"solidity\":0.2},\"line\":{\"width\":1}},\"type\":\"histogram\"}],\"mesh3d\":[{\"colorbar\":{\"outlinewidth\":0,\"ticks\":\"\"},\"type\":\"mesh3d\"}],\"parcoords\":[{\"line\":{\"colorbar\":{\"outlinewidth\":0,\"ticks\":\"\"}},\"type\":\"parcoords\"}],\"pie\":[{\"automargin\":true,\"type\":\"pie\"}],\"scatter3d\":[{\"line\":{\"colorbar\":{\"outlinewidth\":0,\"ticks\":\"\"}},\"marker\":{\"colorbar\":{\"outlinewidth\":0,\"ticks\":\"\"},\"opacity\":0.8},\"type\":\"scatter3d\"}],\"scattercarpet\":[{\"marker\":{\"colorbar\":{\"outlinewidth\":0,\"ticks\":\"\"}},\"type\":\"scattercarpet\"}],\"scattergeo\":[{\"marker\":{\"colorbar\":{\"outlinewidth\":0,\"ticks\":\"\"}},\"type\":\"scattergeo\"}],\"scattergl\":[{\"marker\":{\"colorbar\":{\"outlinewidth\":0,\"ticks\":\"\"}},\"type\":\"scattergl\"}],\"scattermapbox\":[{\"marker\":{\"colorbar\":{\"outlinewidth\":0,\"ticks\":\"\"}},\"type\":\"scattermapbox\"}],\"scatterpolargl\":[{\"marker\":{\"colorbar\":{\"outlinewidth\":0,\"ticks\":\"\"}},\"type\":\"scatterpolargl\"}],\"scatterpolar\":[{\"marker\":{\"colorbar\":{\"outlinewidth\":0,\"ticks\":\"\"}},\"type\":\"scatterpolar\"}],\"scatter\":[{\"fillpattern\":{\"fillmode\":\"overlay\",\"size\":10,\"solidity\":0.2},\"type\":\"scatter\",\"marker\":{\"opacity\":0.8}}],\"scatterternary\":[{\"marker\":{\"colorbar\":{\"outlinewidth\":0,\"ticks\":\"\"}},\"type\":\"scatterternary\"}],\"surface\":[{\"colorbar\":{\"outlinewidth\":0,\"ticks\":\"\"},\"colorscale\":[[0.0,\"#0d0887\"],[0.1111111111111111,\"#46039f\"],[0.2222222222222222,\"#7201a8\"],[0.3333333333333333,\"#9c179e\"],[0.4444444444444444,\"#bd3786\"],[0.5555555555555556,\"#d8576b\"],[0.6666666666666666,\"#ed7953\"],[0.7777777777777778,\"#fb9f3a\"],[0.8888888888888888,\"#fdca26\"],[1.0,\"#f0f921\"]],\"type\":\"surface\"}],\"table\":[{\"cells\":{\"fill\":{\"color\":\"#EBF0F8\"},\"line\":{\"color\":\"white\"}},\"header\":{\"fill\":{\"color\":\"#C8D4E3\"},\"line\":{\"color\":\"white\"}},\"type\":\"table\"}],\"box\":[{\"boxpoints\":\"outliers\",\"notched\":false,\"type\":\"box\"}]},\"layout\":{\"annotationdefaults\":{\"arrowcolor\":\"#2a3f5f\",\"arrowhead\":0,\"arrowwidth\":1},\"autotypenumbers\":\"strict\",\"coloraxis\":{\"colorbar\":{\"outlinewidth\":0,\"ticks\":\"\"}},\"colorscale\":{\"diverging\":[[0,\"#8e0152\"],[0.1,\"#c51b7d\"],[0.2,\"#de77ae\"],[0.3,\"#f1b6da\"],[0.4,\"#fde0ef\"],[0.5,\"#f7f7f7\"],[0.6,\"#e6f5d0\"],[0.7,\"#b8e186\"],[0.8,\"#7fbc41\"],[0.9,\"#4d9221\"],[1,\"#276419\"]],\"sequential\":[[0.0,\"#0d0887\"],[0.1111111111111111,\"#46039f\"],[0.2222222222222222,\"#7201a8\"],[0.3333333333333333,\"#9c179e\"],[0.4444444444444444,\"#bd3786\"],[0.5555555555555556,\"#d8576b\"],[0.6666666666666666,\"#ed7953\"],[0.7777777777777778,\"#fb9f3a\"],[0.8888888888888888,\"#fdca26\"],[1.0,\"#f0f921\"]],\"sequentialminus\":[[0.0,\"#0d0887\"],[0.1111111111111111,\"#46039f\"],[0.2222222222222222,\"#7201a8\"],[0.3333333333333333,\"#9c179e\"],[0.4444444444444444,\"#bd3786\"],[0.5555555555555556,\"#d8576b\"],[0.6666666666666666,\"#ed7953\"],[0.7777777777777778,\"#fb9f3a\"],[0.8888888888888888,\"#fdca26\"],[1.0,\"#f0f921\"]]},\"colorway\":[\"#636efa\",\"#EF553B\",\"#00cc96\",\"#ab63fa\",\"#FFA15A\",\"#19d3f3\",\"#FF6692\",\"#B6E880\",\"#FF97FF\",\"#FECB52\"],\"font\":{\"color\":\"#2a3f5f\"},\"geo\":{\"bgcolor\":\"white\",\"lakecolor\":\"white\",\"landcolor\":\"white\",\"showlakes\":true,\"showland\":true,\"subunitcolor\":\"#C8D4E3\"},\"hoverlabel\":{\"align\":\"left\"},\"hovermode\":\"closest\",\"mapbox\":{\"style\":\"light\"},\"paper_bgcolor\":\"white\",\"plot_bgcolor\":\"white\",\"polar\":{\"angularaxis\":{\"gridcolor\":\"#EBF0F8\",\"linecolor\":\"#EBF0F8\",\"ticks\":\"\"},\"bgcolor\":\"white\",\"radialaxis\":{\"gridcolor\":\"#EBF0F8\",\"linecolor\":\"#EBF0F8\",\"ticks\":\"\"}},\"scene\":{\"xaxis\":{\"backgroundcolor\":\"white\",\"gridcolor\":\"#DFE8F3\",\"gridwidth\":2,\"linecolor\":\"#EBF0F8\",\"showbackground\":true,\"ticks\":\"\",\"zerolinecolor\":\"#EBF0F8\"},\"yaxis\":{\"backgroundcolor\":\"white\",\"gridcolor\":\"#DFE8F3\",\"gridwidth\":2,\"linecolor\":\"#EBF0F8\",\"showbackground\":true,\"ticks\":\"\",\"zerolinecolor\":\"#EBF0F8\"},\"zaxis\":{\"backgroundcolor\":\"white\",\"gridcolor\":\"#DFE8F3\",\"gridwidth\":2,\"linecolor\":\"#EBF0F8\",\"showbackground\":true,\"ticks\":\"\",\"zerolinecolor\":\"#EBF0F8\"},\"camera\":{\"eye\":{\"x\":1.5,\"y\":1.5,\"z\":0.1}}},\"shapedefaults\":{\"line\":{\"color\":\"#2a3f5f\"}},\"ternary\":{\"aaxis\":{\"gridcolor\":\"#DFE8F3\",\"linecolor\":\"#A2B1C6\",\"ticks\":\"\"},\"baxis\":{\"gridcolor\":\"#DFE8F3\",\"linecolor\":\"#A2B1C6\",\"ticks\":\"\"},\"bgcolor\":\"white\",\"caxis\":{\"gridcolor\":\"#DFE8F3\",\"linecolor\":\"#A2B1C6\",\"ticks\":\"\"}},\"title\":{\"x\":0.5},\"xaxis\":{\"automargin\":true,\"gridcolor\":\"#EBF0F8\",\"linecolor\":\"#EBF0F8\",\"ticks\":\"\",\"title\":{\"standoff\":15},\"zerolinecolor\":\"#EBF0F8\",\"zerolinewidth\":2,\"linewidth\":2,\"showline\":true},\"yaxis\":{\"automargin\":true,\"gridcolor\":\"#EBF0F8\",\"linecolor\":\"#EBF0F8\",\"ticks\":\"\",\"title\":{\"standoff\":15},\"zerolinecolor\":\"#EBF0F8\",\"zerolinewidth\":2,\"linewidth\":2,\"showline\":true},\"height\":400,\"margin\":{\"b\":2,\"l\":2,\"r\":2,\"t\":30}}},\"legend\":{\"title\":{\"text\":\"is_hiker\"}}},                        {\"responsive\": true}                    ).then(function(){\n                            \nvar gd = document.getElementById('f6904760-7918-4565-8dfc-be7962f445d9');\nvar x = new MutationObserver(function (mutations, observer) {{\n        var display = window.getComputedStyle(gd).display;\n        if (!display || display === 'none') {{\n            console.log([gd, 'removed!']);\n            Plotly.purge(gd);\n            observer.disconnect();\n        }}\n}});\n\n// Listen for the removal of the full notebook cells\nvar notebookContainer = gd.closest('#notebook-container');\nif (notebookContainer) {{\n    x.observe(notebookContainer, {childList: true});\n}}\n\n// Listen for the clearing of the current output cell\nvar outputEl = gd.closest('.output');\nif (outputEl) {{\n    x.observe(outputEl, {childList: true});\n}}\n\n                        })                };                });            </script>        </div>"
          },
          "metadata": {}
        }
      ],
      "execution_count": 15,
      "metadata": {}
    },
    {
      "cell_type": "markdown",
      "source": [
        "We now have only two classes of labels in our dataset, but we have made it even more imbalanced.\n",
        "\n",
        "Let's train the random forest model using `is_hiker` as the target variable, then measure its accuracy on both *train* and *test* sets:"
      ],
      "metadata": {}
    },
    {
      "cell_type": "code",
      "source": [
        "from sklearn.ensemble import RandomForestClassifier\n",
        "from sklearn.model_selection import train_test_split\n",
        "# import matplotlib.pyplot as plt\n",
        "# from sklearn.metrics import plot_confusion_matrix\n",
        "from sklearn.metrics import accuracy_score\n",
        "\n",
        "# Custom function that measures accuracy on different models and datasets\n",
        "# We will use this in different parts of the exercise\n",
        "def assess_accuracy(model, dataset, label):\n",
        "    \"\"\"\n",
        "    Asesses model accuracy on different sets\n",
        "    \"\"\" \n",
        "    actual = dataset[label]        \n",
        "    predictions = model.predict(dataset[features])\n",
        "    acc = accuracy_score(actual, predictions)\n",
        "    return acc\n",
        "\n",
        "# Split the dataset in an 70/30 train/test ratio. \n",
        "train, test = train_test_split(dataset, test_size=0.3, random_state=1, shuffle=True)\n",
        "\n",
        "# define a random forest model\n",
        "model = RandomForestClassifier(n_estimators=1, random_state=1, verbose=False)\n",
        "\n",
        "# Define which features are to be used (leave color out for now)\n",
        "features = [\"size\", \"roughness\", \"motion\"]\n",
        "\n",
        "# Train the model using the binary label\n",
        "model.fit(train[features], train.is_hiker)\n",
        "\n",
        "print(\"Train accuracy:\", assess_accuracy(model,train, \"is_hiker\"))\n",
        "print(\"Test accuracy:\", assess_accuracy(model,test, \"is_hiker\"))"
      ],
      "outputs": [
        {
          "output_type": "stream",
          "name": "stdout",
          "text": "Train accuracy: 0.9532467532467532\nTest accuracy: 0.906060606060606\n"
        }
      ],
      "execution_count": 16,
      "metadata": {}
    },
    {
      "cell_type": "markdown",
      "source": [
        "Accuracy looks good for both *train* and *test* sets, but remember that this metric is not an absolute measure of success.\n",
        "\n",
        "We should plot a confusion matrix to see how the model is actually doing:"
      ],
      "metadata": {}
    },
    {
      "cell_type": "code",
      "source": [
        "# sklearn has a very convenient utility to build confusion matrices\n",
        "from sklearn.metrics import confusion_matrix\n",
        "import plotly.figure_factory as ff\n",
        "\n",
        "# Calculate the model's accuracy on the TEST set\n",
        "actual = test.is_hiker\n",
        "predictions = model.predict(test[features])\n",
        "\n",
        "# Build and print our confusion matrix, using the actual values and predictions \n",
        "# from the test set, calculated in previous cells\n",
        "cm = confusion_matrix(actual, predictions, normalize=None)\n",
        "\n",
        "# Create the list of unique labels in the test set, to use in our plot\n",
        "# I.e., ['True', 'False',]\n",
        "unique_targets = sorted(list(test[\"is_hiker\"].unique()))\n",
        "\n",
        "# Convert values to lower case so the plot code can count the outcomes\n",
        "x = y = [str(s).lower() for s in unique_targets]\n",
        "\n",
        "# Plot the matrix above as a heatmap with annotations (values) in its cells\n",
        "fig = ff.create_annotated_heatmap(cm, x, y)\n",
        "\n",
        "# Set titles and ordering\n",
        "fig.update_layout(  title_text=\"<b>Confusion matrix</b>\", \n",
        "                    yaxis = dict(categoryorder = \"category descending\")\n",
        "                    )\n",
        "\n",
        "fig.add_annotation(dict(font=dict(color=\"black\",size=14),\n",
        "                        x=0.5,\n",
        "                        y=-0.15,\n",
        "                        showarrow=False,\n",
        "                        text=\"Predicted label\",\n",
        "                        xref=\"paper\",\n",
        "                        yref=\"paper\"))\n",
        "\n",
        "fig.add_annotation(dict(font=dict(color=\"black\",size=14),\n",
        "                        x=-0.15,\n",
        "                        y=0.5,\n",
        "                        showarrow=False,\n",
        "                        text=\"Actual label\",\n",
        "                        textangle=-90,\n",
        "                        xref=\"paper\",\n",
        "                        yref=\"paper\"))\n",
        "\n",
        "# We need margins so the titles fit\n",
        "fig.update_layout(margin=dict(t=80, r=20, l=120, b=50))\n",
        "fig['data'][0]['showscale'] = True\n",
        "fig.show()\n"
      ],
      "outputs": [
        {
          "output_type": "display_data",
          "data": {
            "application/vnd.plotly.v1+json": {
              "data": [
                {
                  "colorscale": [
                    [
                      0,
                      "#0d0887"
                    ],
                    [
                      0.1111111111111111,
                      "#46039f"
                    ],
                    [
                      0.2222222222222222,
                      "#7201a8"
                    ],
                    [
                      0.3333333333333333,
                      "#9c179e"
                    ],
                    [
                      0.4444444444444444,
                      "#bd3786"
                    ],
                    [
                      0.5555555555555556,
                      "#d8576b"
                    ],
                    [
                      0.6666666666666666,
                      "#ed7953"
                    ],
                    [
                      0.7777777777777778,
                      "#fb9f3a"
                    ],
                    [
                      0.8888888888888888,
                      "#fdca26"
                    ],
                    [
                      1,
                      "#f0f921"
                    ]
                  ],
                  "reversescale": false,
                  "showscale": true,
                  "x": [
                    "false",
                    "true"
                  ],
                  "y": [
                    "false",
                    "true"
                  ],
                  "z": [
                    [
                      523,
                      33
                    ],
                    [
                      29,
                      75
                    ]
                  ],
                  "type": "heatmap"
                }
              ],
              "layout": {
                "annotations": [
                  {
                    "font": {
                      "color": "#000000"
                    },
                    "showarrow": false,
                    "text": "523",
                    "x": "false",
                    "xref": "x",
                    "y": "false",
                    "yref": "y"
                  },
                  {
                    "font": {
                      "color": "#FFFFFF"
                    },
                    "showarrow": false,
                    "text": "33",
                    "x": "true",
                    "xref": "x",
                    "y": "false",
                    "yref": "y"
                  },
                  {
                    "font": {
                      "color": "#FFFFFF"
                    },
                    "showarrow": false,
                    "text": "29",
                    "x": "false",
                    "xref": "x",
                    "y": "true",
                    "yref": "y"
                  },
                  {
                    "font": {
                      "color": "#FFFFFF"
                    },
                    "showarrow": false,
                    "text": "75",
                    "x": "true",
                    "xref": "x",
                    "y": "true",
                    "yref": "y"
                  },
                  {
                    "font": {
                      "color": "black",
                      "size": 14
                    },
                    "showarrow": false,
                    "text": "Predicted label",
                    "x": 0.5,
                    "xref": "paper",
                    "y": -0.15,
                    "yref": "paper"
                  },
                  {
                    "font": {
                      "color": "black",
                      "size": 14
                    },
                    "showarrow": false,
                    "text": "Actual label",
                    "textangle": -90,
                    "x": -0.15,
                    "xref": "paper",
                    "y": 0.5,
                    "yref": "paper"
                  }
                ],
                "xaxis": {
                  "dtick": 1,
                  "gridcolor": "rgb(0, 0, 0)",
                  "side": "top",
                  "ticks": ""
                },
                "yaxis": {
                  "dtick": 1,
                  "ticks": "",
                  "ticksuffix": "  ",
                  "categoryorder": "category descending"
                },
                "template": {
                  "data": {
                    "barpolar": [
                      {
                        "marker": {
                          "line": {
                            "color": "white",
                            "width": 0.5
                          },
                          "pattern": {
                            "fillmode": "overlay",
                            "size": 10,
                            "solidity": 0.2
                          }
                        },
                        "type": "barpolar"
                      }
                    ],
                    "bar": [
                      {
                        "error_x": {
                          "color": "#2a3f5f"
                        },
                        "error_y": {
                          "color": "#2a3f5f"
                        },
                        "marker": {
                          "line": {
                            "color": "white",
                            "width": 0.5
                          },
                          "pattern": {
                            "fillmode": "overlay",
                            "size": 10,
                            "solidity": 0.2
                          }
                        },
                        "type": "bar"
                      }
                    ],
                    "carpet": [
                      {
                        "aaxis": {
                          "endlinecolor": "#2a3f5f",
                          "gridcolor": "#C8D4E3",
                          "linecolor": "#C8D4E3",
                          "minorgridcolor": "#C8D4E3",
                          "startlinecolor": "#2a3f5f"
                        },
                        "baxis": {
                          "endlinecolor": "#2a3f5f",
                          "gridcolor": "#C8D4E3",
                          "linecolor": "#C8D4E3",
                          "minorgridcolor": "#C8D4E3",
                          "startlinecolor": "#2a3f5f"
                        },
                        "type": "carpet"
                      }
                    ],
                    "choropleth": [
                      {
                        "colorbar": {
                          "outlinewidth": 0,
                          "ticks": ""
                        },
                        "type": "choropleth"
                      }
                    ],
                    "contourcarpet": [
                      {
                        "colorbar": {
                          "outlinewidth": 0,
                          "ticks": ""
                        },
                        "type": "contourcarpet"
                      }
                    ],
                    "contour": [
                      {
                        "colorbar": {
                          "outlinewidth": 0,
                          "ticks": ""
                        },
                        "colorscale": [
                          [
                            0,
                            "#0d0887"
                          ],
                          [
                            0.1111111111111111,
                            "#46039f"
                          ],
                          [
                            0.2222222222222222,
                            "#7201a8"
                          ],
                          [
                            0.3333333333333333,
                            "#9c179e"
                          ],
                          [
                            0.4444444444444444,
                            "#bd3786"
                          ],
                          [
                            0.5555555555555556,
                            "#d8576b"
                          ],
                          [
                            0.6666666666666666,
                            "#ed7953"
                          ],
                          [
                            0.7777777777777778,
                            "#fb9f3a"
                          ],
                          [
                            0.8888888888888888,
                            "#fdca26"
                          ],
                          [
                            1,
                            "#f0f921"
                          ]
                        ],
                        "type": "contour"
                      }
                    ],
                    "heatmapgl": [
                      {
                        "colorbar": {
                          "outlinewidth": 0,
                          "ticks": ""
                        },
                        "colorscale": [
                          [
                            0,
                            "#0d0887"
                          ],
                          [
                            0.1111111111111111,
                            "#46039f"
                          ],
                          [
                            0.2222222222222222,
                            "#7201a8"
                          ],
                          [
                            0.3333333333333333,
                            "#9c179e"
                          ],
                          [
                            0.4444444444444444,
                            "#bd3786"
                          ],
                          [
                            0.5555555555555556,
                            "#d8576b"
                          ],
                          [
                            0.6666666666666666,
                            "#ed7953"
                          ],
                          [
                            0.7777777777777778,
                            "#fb9f3a"
                          ],
                          [
                            0.8888888888888888,
                            "#fdca26"
                          ],
                          [
                            1,
                            "#f0f921"
                          ]
                        ],
                        "type": "heatmapgl"
                      }
                    ],
                    "heatmap": [
                      {
                        "colorbar": {
                          "outlinewidth": 0,
                          "ticks": ""
                        },
                        "colorscale": [
                          [
                            0,
                            "#0d0887"
                          ],
                          [
                            0.1111111111111111,
                            "#46039f"
                          ],
                          [
                            0.2222222222222222,
                            "#7201a8"
                          ],
                          [
                            0.3333333333333333,
                            "#9c179e"
                          ],
                          [
                            0.4444444444444444,
                            "#bd3786"
                          ],
                          [
                            0.5555555555555556,
                            "#d8576b"
                          ],
                          [
                            0.6666666666666666,
                            "#ed7953"
                          ],
                          [
                            0.7777777777777778,
                            "#fb9f3a"
                          ],
                          [
                            0.8888888888888888,
                            "#fdca26"
                          ],
                          [
                            1,
                            "#f0f921"
                          ]
                        ],
                        "type": "heatmap"
                      }
                    ],
                    "histogram2dcontour": [
                      {
                        "colorbar": {
                          "outlinewidth": 0,
                          "ticks": ""
                        },
                        "colorscale": [
                          [
                            0,
                            "#0d0887"
                          ],
                          [
                            0.1111111111111111,
                            "#46039f"
                          ],
                          [
                            0.2222222222222222,
                            "#7201a8"
                          ],
                          [
                            0.3333333333333333,
                            "#9c179e"
                          ],
                          [
                            0.4444444444444444,
                            "#bd3786"
                          ],
                          [
                            0.5555555555555556,
                            "#d8576b"
                          ],
                          [
                            0.6666666666666666,
                            "#ed7953"
                          ],
                          [
                            0.7777777777777778,
                            "#fb9f3a"
                          ],
                          [
                            0.8888888888888888,
                            "#fdca26"
                          ],
                          [
                            1,
                            "#f0f921"
                          ]
                        ],
                        "type": "histogram2dcontour"
                      }
                    ],
                    "histogram2d": [
                      {
                        "colorbar": {
                          "outlinewidth": 0,
                          "ticks": ""
                        },
                        "colorscale": [
                          [
                            0,
                            "#0d0887"
                          ],
                          [
                            0.1111111111111111,
                            "#46039f"
                          ],
                          [
                            0.2222222222222222,
                            "#7201a8"
                          ],
                          [
                            0.3333333333333333,
                            "#9c179e"
                          ],
                          [
                            0.4444444444444444,
                            "#bd3786"
                          ],
                          [
                            0.5555555555555556,
                            "#d8576b"
                          ],
                          [
                            0.6666666666666666,
                            "#ed7953"
                          ],
                          [
                            0.7777777777777778,
                            "#fb9f3a"
                          ],
                          [
                            0.8888888888888888,
                            "#fdca26"
                          ],
                          [
                            1,
                            "#f0f921"
                          ]
                        ],
                        "type": "histogram2d"
                      }
                    ],
                    "histogram": [
                      {
                        "marker": {
                          "pattern": {
                            "fillmode": "overlay",
                            "size": 10,
                            "solidity": 0.2
                          },
                          "line": {
                            "width": 1
                          }
                        },
                        "type": "histogram"
                      }
                    ],
                    "mesh3d": [
                      {
                        "colorbar": {
                          "outlinewidth": 0,
                          "ticks": ""
                        },
                        "type": "mesh3d"
                      }
                    ],
                    "parcoords": [
                      {
                        "line": {
                          "colorbar": {
                            "outlinewidth": 0,
                            "ticks": ""
                          }
                        },
                        "type": "parcoords"
                      }
                    ],
                    "pie": [
                      {
                        "automargin": true,
                        "type": "pie"
                      }
                    ],
                    "scatter3d": [
                      {
                        "line": {
                          "colorbar": {
                            "outlinewidth": 0,
                            "ticks": ""
                          }
                        },
                        "marker": {
                          "colorbar": {
                            "outlinewidth": 0,
                            "ticks": ""
                          },
                          "opacity": 0.8
                        },
                        "type": "scatter3d"
                      }
                    ],
                    "scattercarpet": [
                      {
                        "marker": {
                          "colorbar": {
                            "outlinewidth": 0,
                            "ticks": ""
                          }
                        },
                        "type": "scattercarpet"
                      }
                    ],
                    "scattergeo": [
                      {
                        "marker": {
                          "colorbar": {
                            "outlinewidth": 0,
                            "ticks": ""
                          }
                        },
                        "type": "scattergeo"
                      }
                    ],
                    "scattergl": [
                      {
                        "marker": {
                          "colorbar": {
                            "outlinewidth": 0,
                            "ticks": ""
                          }
                        },
                        "type": "scattergl"
                      }
                    ],
                    "scattermapbox": [
                      {
                        "marker": {
                          "colorbar": {
                            "outlinewidth": 0,
                            "ticks": ""
                          }
                        },
                        "type": "scattermapbox"
                      }
                    ],
                    "scatterpolargl": [
                      {
                        "marker": {
                          "colorbar": {
                            "outlinewidth": 0,
                            "ticks": ""
                          }
                        },
                        "type": "scatterpolargl"
                      }
                    ],
                    "scatterpolar": [
                      {
                        "marker": {
                          "colorbar": {
                            "outlinewidth": 0,
                            "ticks": ""
                          }
                        },
                        "type": "scatterpolar"
                      }
                    ],
                    "scatter": [
                      {
                        "fillpattern": {
                          "fillmode": "overlay",
                          "size": 10,
                          "solidity": 0.2
                        },
                        "type": "scatter",
                        "marker": {
                          "opacity": 0.8
                        }
                      }
                    ],
                    "scatterternary": [
                      {
                        "marker": {
                          "colorbar": {
                            "outlinewidth": 0,
                            "ticks": ""
                          }
                        },
                        "type": "scatterternary"
                      }
                    ],
                    "surface": [
                      {
                        "colorbar": {
                          "outlinewidth": 0,
                          "ticks": ""
                        },
                        "colorscale": [
                          [
                            0,
                            "#0d0887"
                          ],
                          [
                            0.1111111111111111,
                            "#46039f"
                          ],
                          [
                            0.2222222222222222,
                            "#7201a8"
                          ],
                          [
                            0.3333333333333333,
                            "#9c179e"
                          ],
                          [
                            0.4444444444444444,
                            "#bd3786"
                          ],
                          [
                            0.5555555555555556,
                            "#d8576b"
                          ],
                          [
                            0.6666666666666666,
                            "#ed7953"
                          ],
                          [
                            0.7777777777777778,
                            "#fb9f3a"
                          ],
                          [
                            0.8888888888888888,
                            "#fdca26"
                          ],
                          [
                            1,
                            "#f0f921"
                          ]
                        ],
                        "type": "surface"
                      }
                    ],
                    "table": [
                      {
                        "cells": {
                          "fill": {
                            "color": "#EBF0F8"
                          },
                          "line": {
                            "color": "white"
                          }
                        },
                        "header": {
                          "fill": {
                            "color": "#C8D4E3"
                          },
                          "line": {
                            "color": "white"
                          }
                        },
                        "type": "table"
                      }
                    ],
                    "box": [
                      {
                        "boxpoints": "outliers",
                        "notched": false,
                        "type": "box"
                      }
                    ]
                  },
                  "layout": {
                    "annotationdefaults": {
                      "arrowcolor": "#2a3f5f",
                      "arrowhead": 0,
                      "arrowwidth": 1
                    },
                    "autotypenumbers": "strict",
                    "coloraxis": {
                      "colorbar": {
                        "outlinewidth": 0,
                        "ticks": ""
                      }
                    },
                    "colorscale": {
                      "diverging": [
                        [
                          0,
                          "#8e0152"
                        ],
                        [
                          0.1,
                          "#c51b7d"
                        ],
                        [
                          0.2,
                          "#de77ae"
                        ],
                        [
                          0.3,
                          "#f1b6da"
                        ],
                        [
                          0.4,
                          "#fde0ef"
                        ],
                        [
                          0.5,
                          "#f7f7f7"
                        ],
                        [
                          0.6,
                          "#e6f5d0"
                        ],
                        [
                          0.7,
                          "#b8e186"
                        ],
                        [
                          0.8,
                          "#7fbc41"
                        ],
                        [
                          0.9,
                          "#4d9221"
                        ],
                        [
                          1,
                          "#276419"
                        ]
                      ],
                      "sequential": [
                        [
                          0,
                          "#0d0887"
                        ],
                        [
                          0.1111111111111111,
                          "#46039f"
                        ],
                        [
                          0.2222222222222222,
                          "#7201a8"
                        ],
                        [
                          0.3333333333333333,
                          "#9c179e"
                        ],
                        [
                          0.4444444444444444,
                          "#bd3786"
                        ],
                        [
                          0.5555555555555556,
                          "#d8576b"
                        ],
                        [
                          0.6666666666666666,
                          "#ed7953"
                        ],
                        [
                          0.7777777777777778,
                          "#fb9f3a"
                        ],
                        [
                          0.8888888888888888,
                          "#fdca26"
                        ],
                        [
                          1,
                          "#f0f921"
                        ]
                      ],
                      "sequentialminus": [
                        [
                          0,
                          "#0d0887"
                        ],
                        [
                          0.1111111111111111,
                          "#46039f"
                        ],
                        [
                          0.2222222222222222,
                          "#7201a8"
                        ],
                        [
                          0.3333333333333333,
                          "#9c179e"
                        ],
                        [
                          0.4444444444444444,
                          "#bd3786"
                        ],
                        [
                          0.5555555555555556,
                          "#d8576b"
                        ],
                        [
                          0.6666666666666666,
                          "#ed7953"
                        ],
                        [
                          0.7777777777777778,
                          "#fb9f3a"
                        ],
                        [
                          0.8888888888888888,
                          "#fdca26"
                        ],
                        [
                          1,
                          "#f0f921"
                        ]
                      ]
                    },
                    "colorway": [
                      "#636efa",
                      "#EF553B",
                      "#00cc96",
                      "#ab63fa",
                      "#FFA15A",
                      "#19d3f3",
                      "#FF6692",
                      "#B6E880",
                      "#FF97FF",
                      "#FECB52"
                    ],
                    "font": {
                      "color": "#2a3f5f"
                    },
                    "geo": {
                      "bgcolor": "white",
                      "lakecolor": "white",
                      "landcolor": "white",
                      "showlakes": true,
                      "showland": true,
                      "subunitcolor": "#C8D4E3"
                    },
                    "hoverlabel": {
                      "align": "left"
                    },
                    "hovermode": "closest",
                    "mapbox": {
                      "style": "light"
                    },
                    "paper_bgcolor": "white",
                    "plot_bgcolor": "white",
                    "polar": {
                      "angularaxis": {
                        "gridcolor": "#EBF0F8",
                        "linecolor": "#EBF0F8",
                        "ticks": ""
                      },
                      "bgcolor": "white",
                      "radialaxis": {
                        "gridcolor": "#EBF0F8",
                        "linecolor": "#EBF0F8",
                        "ticks": ""
                      }
                    },
                    "scene": {
                      "xaxis": {
                        "backgroundcolor": "white",
                        "gridcolor": "#DFE8F3",
                        "gridwidth": 2,
                        "linecolor": "#EBF0F8",
                        "showbackground": true,
                        "ticks": "",
                        "zerolinecolor": "#EBF0F8"
                      },
                      "yaxis": {
                        "backgroundcolor": "white",
                        "gridcolor": "#DFE8F3",
                        "gridwidth": 2,
                        "linecolor": "#EBF0F8",
                        "showbackground": true,
                        "ticks": "",
                        "zerolinecolor": "#EBF0F8"
                      },
                      "zaxis": {
                        "backgroundcolor": "white",
                        "gridcolor": "#DFE8F3",
                        "gridwidth": 2,
                        "linecolor": "#EBF0F8",
                        "showbackground": true,
                        "ticks": "",
                        "zerolinecolor": "#EBF0F8"
                      },
                      "camera": {
                        "eye": {
                          "x": 1.5,
                          "y": 1.5,
                          "z": 0.1
                        }
                      }
                    },
                    "shapedefaults": {
                      "line": {
                        "color": "#2a3f5f"
                      }
                    },
                    "ternary": {
                      "aaxis": {
                        "gridcolor": "#DFE8F3",
                        "linecolor": "#A2B1C6",
                        "ticks": ""
                      },
                      "baxis": {
                        "gridcolor": "#DFE8F3",
                        "linecolor": "#A2B1C6",
                        "ticks": ""
                      },
                      "bgcolor": "white",
                      "caxis": {
                        "gridcolor": "#DFE8F3",
                        "linecolor": "#A2B1C6",
                        "ticks": ""
                      }
                    },
                    "title": {
                      "x": 0.5
                    },
                    "xaxis": {
                      "automargin": true,
                      "gridcolor": "#EBF0F8",
                      "linecolor": "#EBF0F8",
                      "ticks": "",
                      "title": {
                        "standoff": 15
                      },
                      "zerolinecolor": "#EBF0F8",
                      "zerolinewidth": 2,
                      "linewidth": 2,
                      "showline": true
                    },
                    "yaxis": {
                      "automargin": true,
                      "gridcolor": "#EBF0F8",
                      "linecolor": "#EBF0F8",
                      "ticks": "",
                      "title": {
                        "standoff": 15
                      },
                      "zerolinecolor": "#EBF0F8",
                      "zerolinewidth": 2,
                      "linewidth": 2,
                      "showline": true
                    },
                    "height": 400,
                    "margin": {
                      "b": 2,
                      "l": 2,
                      "r": 2,
                      "t": 30
                    }
                  }
                },
                "title": {
                  "text": "<b>Confusion matrix</b>"
                },
                "margin": {
                  "t": 80,
                  "r": 20,
                  "l": 120,
                  "b": 50
                }
              },
              "config": {
                "plotlyServerURL": "https://plot.ly"
              }
            },
            "text/html": "<div>                            <div id=\"819b2bbc-800e-416c-9fab-96897e4a4331\" class=\"plotly-graph-div\" style=\"height:400px; width:100%;\"></div>            <script type=\"text/javascript\">                require([\"plotly\"], function(Plotly) {                    window.PLOTLYENV=window.PLOTLYENV || {};                                    if (document.getElementById(\"819b2bbc-800e-416c-9fab-96897e4a4331\")) {                    Plotly.newPlot(                        \"819b2bbc-800e-416c-9fab-96897e4a4331\",                        [{\"colorscale\":[[0.0,\"#0d0887\"],[0.1111111111111111,\"#46039f\"],[0.2222222222222222,\"#7201a8\"],[0.3333333333333333,\"#9c179e\"],[0.4444444444444444,\"#bd3786\"],[0.5555555555555556,\"#d8576b\"],[0.6666666666666666,\"#ed7953\"],[0.7777777777777778,\"#fb9f3a\"],[0.8888888888888888,\"#fdca26\"],[1.0,\"#f0f921\"]],\"reversescale\":false,\"showscale\":true,\"x\":[\"false\",\"true\"],\"y\":[\"false\",\"true\"],\"z\":[[523,33],[29,75]],\"type\":\"heatmap\"}],                        {\"annotations\":[{\"font\":{\"color\":\"#000000\"},\"showarrow\":false,\"text\":\"523\",\"x\":\"false\",\"xref\":\"x\",\"y\":\"false\",\"yref\":\"y\"},{\"font\":{\"color\":\"#FFFFFF\"},\"showarrow\":false,\"text\":\"33\",\"x\":\"true\",\"xref\":\"x\",\"y\":\"false\",\"yref\":\"y\"},{\"font\":{\"color\":\"#FFFFFF\"},\"showarrow\":false,\"text\":\"29\",\"x\":\"false\",\"xref\":\"x\",\"y\":\"true\",\"yref\":\"y\"},{\"font\":{\"color\":\"#FFFFFF\"},\"showarrow\":false,\"text\":\"75\",\"x\":\"true\",\"xref\":\"x\",\"y\":\"true\",\"yref\":\"y\"},{\"font\":{\"color\":\"black\",\"size\":14},\"showarrow\":false,\"text\":\"Predicted label\",\"x\":0.5,\"xref\":\"paper\",\"y\":-0.15,\"yref\":\"paper\"},{\"font\":{\"color\":\"black\",\"size\":14},\"showarrow\":false,\"text\":\"Actual label\",\"textangle\":-90,\"x\":-0.15,\"xref\":\"paper\",\"y\":0.5,\"yref\":\"paper\"}],\"xaxis\":{\"dtick\":1,\"gridcolor\":\"rgb(0, 0, 0)\",\"side\":\"top\",\"ticks\":\"\"},\"yaxis\":{\"dtick\":1,\"ticks\":\"\",\"ticksuffix\":\"  \",\"categoryorder\":\"category descending\"},\"template\":{\"data\":{\"barpolar\":[{\"marker\":{\"line\":{\"color\":\"white\",\"width\":0.5},\"pattern\":{\"fillmode\":\"overlay\",\"size\":10,\"solidity\":0.2}},\"type\":\"barpolar\"}],\"bar\":[{\"error_x\":{\"color\":\"#2a3f5f\"},\"error_y\":{\"color\":\"#2a3f5f\"},\"marker\":{\"line\":{\"color\":\"white\",\"width\":0.5},\"pattern\":{\"fillmode\":\"overlay\",\"size\":10,\"solidity\":0.2}},\"type\":\"bar\"}],\"carpet\":[{\"aaxis\":{\"endlinecolor\":\"#2a3f5f\",\"gridcolor\":\"#C8D4E3\",\"linecolor\":\"#C8D4E3\",\"minorgridcolor\":\"#C8D4E3\",\"startlinecolor\":\"#2a3f5f\"},\"baxis\":{\"endlinecolor\":\"#2a3f5f\",\"gridcolor\":\"#C8D4E3\",\"linecolor\":\"#C8D4E3\",\"minorgridcolor\":\"#C8D4E3\",\"startlinecolor\":\"#2a3f5f\"},\"type\":\"carpet\"}],\"choropleth\":[{\"colorbar\":{\"outlinewidth\":0,\"ticks\":\"\"},\"type\":\"choropleth\"}],\"contourcarpet\":[{\"colorbar\":{\"outlinewidth\":0,\"ticks\":\"\"},\"type\":\"contourcarpet\"}],\"contour\":[{\"colorbar\":{\"outlinewidth\":0,\"ticks\":\"\"},\"colorscale\":[[0.0,\"#0d0887\"],[0.1111111111111111,\"#46039f\"],[0.2222222222222222,\"#7201a8\"],[0.3333333333333333,\"#9c179e\"],[0.4444444444444444,\"#bd3786\"],[0.5555555555555556,\"#d8576b\"],[0.6666666666666666,\"#ed7953\"],[0.7777777777777778,\"#fb9f3a\"],[0.8888888888888888,\"#fdca26\"],[1.0,\"#f0f921\"]],\"type\":\"contour\"}],\"heatmapgl\":[{\"colorbar\":{\"outlinewidth\":0,\"ticks\":\"\"},\"colorscale\":[[0.0,\"#0d0887\"],[0.1111111111111111,\"#46039f\"],[0.2222222222222222,\"#7201a8\"],[0.3333333333333333,\"#9c179e\"],[0.4444444444444444,\"#bd3786\"],[0.5555555555555556,\"#d8576b\"],[0.6666666666666666,\"#ed7953\"],[0.7777777777777778,\"#fb9f3a\"],[0.8888888888888888,\"#fdca26\"],[1.0,\"#f0f921\"]],\"type\":\"heatmapgl\"}],\"heatmap\":[{\"colorbar\":{\"outlinewidth\":0,\"ticks\":\"\"},\"colorscale\":[[0.0,\"#0d0887\"],[0.1111111111111111,\"#46039f\"],[0.2222222222222222,\"#7201a8\"],[0.3333333333333333,\"#9c179e\"],[0.4444444444444444,\"#bd3786\"],[0.5555555555555556,\"#d8576b\"],[0.6666666666666666,\"#ed7953\"],[0.7777777777777778,\"#fb9f3a\"],[0.8888888888888888,\"#fdca26\"],[1.0,\"#f0f921\"]],\"type\":\"heatmap\"}],\"histogram2dcontour\":[{\"colorbar\":{\"outlinewidth\":0,\"ticks\":\"\"},\"colorscale\":[[0.0,\"#0d0887\"],[0.1111111111111111,\"#46039f\"],[0.2222222222222222,\"#7201a8\"],[0.3333333333333333,\"#9c179e\"],[0.4444444444444444,\"#bd3786\"],[0.5555555555555556,\"#d8576b\"],[0.6666666666666666,\"#ed7953\"],[0.7777777777777778,\"#fb9f3a\"],[0.8888888888888888,\"#fdca26\"],[1.0,\"#f0f921\"]],\"type\":\"histogram2dcontour\"}],\"histogram2d\":[{\"colorbar\":{\"outlinewidth\":0,\"ticks\":\"\"},\"colorscale\":[[0.0,\"#0d0887\"],[0.1111111111111111,\"#46039f\"],[0.2222222222222222,\"#7201a8\"],[0.3333333333333333,\"#9c179e\"],[0.4444444444444444,\"#bd3786\"],[0.5555555555555556,\"#d8576b\"],[0.6666666666666666,\"#ed7953\"],[0.7777777777777778,\"#fb9f3a\"],[0.8888888888888888,\"#fdca26\"],[1.0,\"#f0f921\"]],\"type\":\"histogram2d\"}],\"histogram\":[{\"marker\":{\"pattern\":{\"fillmode\":\"overlay\",\"size\":10,\"solidity\":0.2},\"line\":{\"width\":1}},\"type\":\"histogram\"}],\"mesh3d\":[{\"colorbar\":{\"outlinewidth\":0,\"ticks\":\"\"},\"type\":\"mesh3d\"}],\"parcoords\":[{\"line\":{\"colorbar\":{\"outlinewidth\":0,\"ticks\":\"\"}},\"type\":\"parcoords\"}],\"pie\":[{\"automargin\":true,\"type\":\"pie\"}],\"scatter3d\":[{\"line\":{\"colorbar\":{\"outlinewidth\":0,\"ticks\":\"\"}},\"marker\":{\"colorbar\":{\"outlinewidth\":0,\"ticks\":\"\"},\"opacity\":0.8},\"type\":\"scatter3d\"}],\"scattercarpet\":[{\"marker\":{\"colorbar\":{\"outlinewidth\":0,\"ticks\":\"\"}},\"type\":\"scattercarpet\"}],\"scattergeo\":[{\"marker\":{\"colorbar\":{\"outlinewidth\":0,\"ticks\":\"\"}},\"type\":\"scattergeo\"}],\"scattergl\":[{\"marker\":{\"colorbar\":{\"outlinewidth\":0,\"ticks\":\"\"}},\"type\":\"scattergl\"}],\"scattermapbox\":[{\"marker\":{\"colorbar\":{\"outlinewidth\":0,\"ticks\":\"\"}},\"type\":\"scattermapbox\"}],\"scatterpolargl\":[{\"marker\":{\"colorbar\":{\"outlinewidth\":0,\"ticks\":\"\"}},\"type\":\"scatterpolargl\"}],\"scatterpolar\":[{\"marker\":{\"colorbar\":{\"outlinewidth\":0,\"ticks\":\"\"}},\"type\":\"scatterpolar\"}],\"scatter\":[{\"fillpattern\":{\"fillmode\":\"overlay\",\"size\":10,\"solidity\":0.2},\"type\":\"scatter\",\"marker\":{\"opacity\":0.8}}],\"scatterternary\":[{\"marker\":{\"colorbar\":{\"outlinewidth\":0,\"ticks\":\"\"}},\"type\":\"scatterternary\"}],\"surface\":[{\"colorbar\":{\"outlinewidth\":0,\"ticks\":\"\"},\"colorscale\":[[0.0,\"#0d0887\"],[0.1111111111111111,\"#46039f\"],[0.2222222222222222,\"#7201a8\"],[0.3333333333333333,\"#9c179e\"],[0.4444444444444444,\"#bd3786\"],[0.5555555555555556,\"#d8576b\"],[0.6666666666666666,\"#ed7953\"],[0.7777777777777778,\"#fb9f3a\"],[0.8888888888888888,\"#fdca26\"],[1.0,\"#f0f921\"]],\"type\":\"surface\"}],\"table\":[{\"cells\":{\"fill\":{\"color\":\"#EBF0F8\"},\"line\":{\"color\":\"white\"}},\"header\":{\"fill\":{\"color\":\"#C8D4E3\"},\"line\":{\"color\":\"white\"}},\"type\":\"table\"}],\"box\":[{\"boxpoints\":\"outliers\",\"notched\":false,\"type\":\"box\"}]},\"layout\":{\"annotationdefaults\":{\"arrowcolor\":\"#2a3f5f\",\"arrowhead\":0,\"arrowwidth\":1},\"autotypenumbers\":\"strict\",\"coloraxis\":{\"colorbar\":{\"outlinewidth\":0,\"ticks\":\"\"}},\"colorscale\":{\"diverging\":[[0,\"#8e0152\"],[0.1,\"#c51b7d\"],[0.2,\"#de77ae\"],[0.3,\"#f1b6da\"],[0.4,\"#fde0ef\"],[0.5,\"#f7f7f7\"],[0.6,\"#e6f5d0\"],[0.7,\"#b8e186\"],[0.8,\"#7fbc41\"],[0.9,\"#4d9221\"],[1,\"#276419\"]],\"sequential\":[[0.0,\"#0d0887\"],[0.1111111111111111,\"#46039f\"],[0.2222222222222222,\"#7201a8\"],[0.3333333333333333,\"#9c179e\"],[0.4444444444444444,\"#bd3786\"],[0.5555555555555556,\"#d8576b\"],[0.6666666666666666,\"#ed7953\"],[0.7777777777777778,\"#fb9f3a\"],[0.8888888888888888,\"#fdca26\"],[1.0,\"#f0f921\"]],\"sequentialminus\":[[0.0,\"#0d0887\"],[0.1111111111111111,\"#46039f\"],[0.2222222222222222,\"#7201a8\"],[0.3333333333333333,\"#9c179e\"],[0.4444444444444444,\"#bd3786\"],[0.5555555555555556,\"#d8576b\"],[0.6666666666666666,\"#ed7953\"],[0.7777777777777778,\"#fb9f3a\"],[0.8888888888888888,\"#fdca26\"],[1.0,\"#f0f921\"]]},\"colorway\":[\"#636efa\",\"#EF553B\",\"#00cc96\",\"#ab63fa\",\"#FFA15A\",\"#19d3f3\",\"#FF6692\",\"#B6E880\",\"#FF97FF\",\"#FECB52\"],\"font\":{\"color\":\"#2a3f5f\"},\"geo\":{\"bgcolor\":\"white\",\"lakecolor\":\"white\",\"landcolor\":\"white\",\"showlakes\":true,\"showland\":true,\"subunitcolor\":\"#C8D4E3\"},\"hoverlabel\":{\"align\":\"left\"},\"hovermode\":\"closest\",\"mapbox\":{\"style\":\"light\"},\"paper_bgcolor\":\"white\",\"plot_bgcolor\":\"white\",\"polar\":{\"angularaxis\":{\"gridcolor\":\"#EBF0F8\",\"linecolor\":\"#EBF0F8\",\"ticks\":\"\"},\"bgcolor\":\"white\",\"radialaxis\":{\"gridcolor\":\"#EBF0F8\",\"linecolor\":\"#EBF0F8\",\"ticks\":\"\"}},\"scene\":{\"xaxis\":{\"backgroundcolor\":\"white\",\"gridcolor\":\"#DFE8F3\",\"gridwidth\":2,\"linecolor\":\"#EBF0F8\",\"showbackground\":true,\"ticks\":\"\",\"zerolinecolor\":\"#EBF0F8\"},\"yaxis\":{\"backgroundcolor\":\"white\",\"gridcolor\":\"#DFE8F3\",\"gridwidth\":2,\"linecolor\":\"#EBF0F8\",\"showbackground\":true,\"ticks\":\"\",\"zerolinecolor\":\"#EBF0F8\"},\"zaxis\":{\"backgroundcolor\":\"white\",\"gridcolor\":\"#DFE8F3\",\"gridwidth\":2,\"linecolor\":\"#EBF0F8\",\"showbackground\":true,\"ticks\":\"\",\"zerolinecolor\":\"#EBF0F8\"},\"camera\":{\"eye\":{\"x\":1.5,\"y\":1.5,\"z\":0.1}}},\"shapedefaults\":{\"line\":{\"color\":\"#2a3f5f\"}},\"ternary\":{\"aaxis\":{\"gridcolor\":\"#DFE8F3\",\"linecolor\":\"#A2B1C6\",\"ticks\":\"\"},\"baxis\":{\"gridcolor\":\"#DFE8F3\",\"linecolor\":\"#A2B1C6\",\"ticks\":\"\"},\"bgcolor\":\"white\",\"caxis\":{\"gridcolor\":\"#DFE8F3\",\"linecolor\":\"#A2B1C6\",\"ticks\":\"\"}},\"title\":{\"x\":0.5},\"xaxis\":{\"automargin\":true,\"gridcolor\":\"#EBF0F8\",\"linecolor\":\"#EBF0F8\",\"ticks\":\"\",\"title\":{\"standoff\":15},\"zerolinecolor\":\"#EBF0F8\",\"zerolinewidth\":2,\"linewidth\":2,\"showline\":true},\"yaxis\":{\"automargin\":true,\"gridcolor\":\"#EBF0F8\",\"linecolor\":\"#EBF0F8\",\"ticks\":\"\",\"title\":{\"standoff\":15},\"zerolinecolor\":\"#EBF0F8\",\"zerolinewidth\":2,\"linewidth\":2,\"showline\":true},\"height\":400,\"margin\":{\"b\":2,\"l\":2,\"r\":2,\"t\":30}}},\"title\":{\"text\":\"<b>Confusion matrix</b>\"},\"margin\":{\"t\":80,\"r\":20,\"l\":120,\"b\":50}},                        {\"responsive\": true}                    ).then(function(){\n                            \nvar gd = document.getElementById('819b2bbc-800e-416c-9fab-96897e4a4331');\nvar x = new MutationObserver(function (mutations, observer) {{\n        var display = window.getComputedStyle(gd).display;\n        if (!display || display === 'none') {{\n            console.log([gd, 'removed!']);\n            Plotly.purge(gd);\n            observer.disconnect();\n        }}\n}});\n\n// Listen for the removal of the full notebook cells\nvar notebookContainer = gd.closest('#notebook-container');\nif (notebookContainer) {{\n    x.observe(notebookContainer, {childList: true});\n}}\n\n// Listen for the clearing of the current output cell\nvar outputEl = gd.closest('.output');\nif (outputEl) {{\n    x.observe(outputEl, {childList: true});\n}}\n\n                        })                };                });            </script>        </div>"
          },
          "metadata": {}
        }
      ],
      "execution_count": 17,
      "metadata": {}
    },
    {
      "cell_type": "markdown",
      "source": [
        "The confusion matrix shows us that, despite the reported metrics, the model is not incredibly precise.\n",
        "\n",
        "Out of the 660 samples present in the *test* set (30% of the total samples), it predicted `29` *false negatives* and `33` _false positives_.\n",
        "\n",
        "More importantly, look at the bottom row, which shows what happened when the model was shown information about a hiker: it got the answer wrong almost 30% of the time. This means it would not correctly identify almost 30% of the people on the mountain!  \n",
        "\n",
        "What happens if we used this model to make predictions on balanced sets?\n",
        "\n",
        "Let's load a dataset with an equal number of outcomes for \"hikers\" and \"non-hikers\", then use that data to make predictions:"
      ],
      "metadata": {}
    },
    {
      "cell_type": "code",
      "source": [
        "# Load and print umbiased set\n",
        "#Import the data from the .csv file\n",
        "balanced_dataset = pandas.read_csv('snow_objects_balanced.csv', delimiter=\"\\t\")\n",
        "\n",
        "#Let's have a look at the data\n",
        "graphing.multiple_histogram(balanced_dataset, label_x=\"label\", label_group=\"label\", title=\"Label distribution\")"
      ],
      "outputs": [
        {
          "output_type": "display_data",
          "data": {
            "application/vnd.plotly.v1+json": {
              "data": [
                {
                  "histfunc": "count",
                  "name": "animal",
                  "x": [
                    "animal",
                    "animal",
                    "animal",
                    "animal",
                    "animal",
                    "animal",
                    "animal",
                    "animal",
                    "animal",
                    "animal",
                    "animal",
                    "animal",
                    "animal",
                    "animal",
                    "animal",
                    "animal",
                    "animal",
                    "animal",
                    "animal",
                    "animal",
                    "animal",
                    "animal",
                    "animal",
                    "animal",
                    "animal",
                    "animal",
                    "animal",
                    "animal",
                    "animal",
                    "animal",
                    "animal",
                    "animal",
                    "animal",
                    "animal",
                    "animal",
                    "animal",
                    "animal",
                    "animal",
                    "animal",
                    "animal",
                    "animal",
                    "animal",
                    "animal",
                    "animal",
                    "animal",
                    "animal",
                    "animal",
                    "animal",
                    "animal",
                    "animal",
                    "animal",
                    "animal",
                    "animal",
                    "animal",
                    "animal",
                    "animal",
                    "animal",
                    "animal",
                    "animal",
                    "animal",
                    "animal",
                    "animal",
                    "animal",
                    "animal",
                    "animal",
                    "animal",
                    "animal",
                    "animal",
                    "animal",
                    "animal",
                    "animal",
                    "animal",
                    "animal",
                    "animal",
                    "animal",
                    "animal",
                    "animal",
                    "animal",
                    "animal",
                    "animal",
                    "animal",
                    "animal",
                    "animal",
                    "animal",
                    "animal",
                    "animal",
                    "animal",
                    "animal",
                    "animal",
                    "animal",
                    "animal",
                    "animal",
                    "animal",
                    "animal",
                    "animal",
                    "animal",
                    "animal",
                    "animal",
                    "animal",
                    "animal",
                    "animal",
                    "animal",
                    "animal",
                    "animal",
                    "animal",
                    "animal",
                    "animal",
                    "animal",
                    "animal",
                    "animal",
                    "animal",
                    "animal",
                    "animal",
                    "animal",
                    "animal",
                    "animal",
                    "animal",
                    "animal",
                    "animal",
                    "animal",
                    "animal",
                    "animal",
                    "animal",
                    "animal",
                    "animal",
                    "animal",
                    "animal",
                    "animal",
                    "animal",
                    "animal",
                    "animal",
                    "animal",
                    "animal",
                    "animal",
                    "animal",
                    "animal",
                    "animal",
                    "animal",
                    "animal",
                    "animal",
                    "animal",
                    "animal",
                    "animal",
                    "animal",
                    "animal",
                    "animal",
                    "animal",
                    "animal",
                    "animal",
                    "animal",
                    "animal",
                    "animal",
                    "animal",
                    "animal",
                    "animal",
                    "animal",
                    "animal",
                    "animal",
                    "animal",
                    "animal",
                    "animal",
                    "animal",
                    "animal",
                    "animal",
                    "animal",
                    "animal",
                    "animal",
                    "animal",
                    "animal",
                    "animal",
                    "animal",
                    "animal",
                    "animal",
                    "animal",
                    "animal",
                    "animal",
                    "animal",
                    "animal",
                    "animal",
                    "animal",
                    "animal",
                    "animal",
                    "animal",
                    "animal",
                    "animal",
                    "animal",
                    "animal",
                    "animal",
                    "animal",
                    "animal",
                    "animal",
                    "animal",
                    "animal",
                    "animal",
                    "animal",
                    "animal",
                    "animal",
                    "animal",
                    "animal",
                    "animal",
                    "animal",
                    "animal",
                    "animal",
                    "animal",
                    "animal",
                    "animal",
                    "animal",
                    "animal",
                    "animal",
                    "animal",
                    "animal",
                    "animal",
                    "animal",
                    "animal",
                    "animal",
                    "animal",
                    "animal",
                    "animal",
                    "animal",
                    "animal",
                    "animal",
                    "animal",
                    "animal",
                    "animal",
                    "animal",
                    "animal",
                    "animal",
                    "animal",
                    "animal",
                    "animal",
                    "animal",
                    "animal",
                    "animal",
                    "animal",
                    "animal",
                    "animal",
                    "animal",
                    "animal",
                    "animal",
                    "animal",
                    "animal",
                    "animal",
                    "animal",
                    "animal",
                    "animal",
                    "animal",
                    "animal",
                    "animal",
                    "animal",
                    "animal",
                    "animal",
                    "animal",
                    "animal",
                    "animal",
                    "animal",
                    "animal",
                    "animal",
                    "animal",
                    "animal",
                    "animal",
                    "animal",
                    "animal",
                    "animal",
                    "animal",
                    "animal",
                    "animal",
                    "animal",
                    "animal",
                    "animal",
                    "animal",
                    "animal",
                    "animal",
                    "animal",
                    "animal",
                    "animal",
                    "animal",
                    "animal",
                    "animal",
                    "animal",
                    "animal",
                    "animal",
                    "animal",
                    "animal",
                    "animal",
                    "animal",
                    "animal",
                    "animal",
                    "animal",
                    "animal",
                    "animal",
                    "animal",
                    "animal",
                    "animal",
                    "animal",
                    "animal",
                    "animal",
                    "animal",
                    "animal",
                    "animal",
                    "animal",
                    "animal",
                    "animal",
                    "animal",
                    "animal",
                    "animal",
                    "animal",
                    "animal",
                    "animal",
                    "animal",
                    "animal",
                    "animal",
                    "animal",
                    "animal",
                    "animal",
                    "animal",
                    "animal",
                    "animal",
                    "animal",
                    "animal",
                    "animal",
                    "animal",
                    "animal",
                    "animal",
                    "animal",
                    "animal",
                    "animal",
                    "animal",
                    "animal",
                    "animal",
                    "animal",
                    "animal",
                    "animal",
                    "animal",
                    "animal",
                    "animal",
                    "animal",
                    "animal",
                    "animal",
                    "animal",
                    "animal",
                    "animal",
                    "animal",
                    "animal",
                    "animal",
                    "animal",
                    "animal",
                    "animal",
                    "animal",
                    "animal",
                    "animal",
                    "animal",
                    "animal",
                    "animal",
                    "animal",
                    "animal",
                    "animal",
                    "animal",
                    "animal",
                    "animal",
                    "animal",
                    "animal",
                    "animal",
                    "animal",
                    "animal",
                    "animal",
                    "animal",
                    "animal",
                    "animal",
                    "animal",
                    "animal",
                    "animal",
                    "animal",
                    "animal",
                    "animal",
                    "animal",
                    "animal",
                    "animal",
                    "animal",
                    "animal",
                    "animal",
                    "animal",
                    "animal",
                    "animal",
                    "animal",
                    "animal",
                    "animal",
                    "animal",
                    "animal",
                    "animal",
                    "animal",
                    "animal",
                    "animal",
                    "animal",
                    "animal",
                    "animal",
                    "animal",
                    "animal",
                    "animal",
                    "animal",
                    "animal",
                    "animal",
                    "animal",
                    "animal",
                    "animal",
                    "animal",
                    "animal",
                    "animal",
                    "animal",
                    "animal",
                    "animal",
                    "animal",
                    "animal",
                    "animal",
                    "animal",
                    "animal",
                    "animal",
                    "animal",
                    "animal",
                    "animal",
                    "animal",
                    "animal",
                    "animal",
                    "animal",
                    "animal",
                    "animal",
                    "animal",
                    "animal",
                    "animal",
                    "animal",
                    "animal",
                    "animal",
                    "animal",
                    "animal",
                    "animal",
                    "animal",
                    "animal",
                    "animal",
                    "animal",
                    "animal",
                    "animal",
                    "animal",
                    "animal",
                    "animal",
                    "animal",
                    "animal",
                    "animal",
                    "animal",
                    "animal",
                    "animal",
                    "animal",
                    "animal",
                    "animal",
                    "animal",
                    "animal",
                    "animal",
                    "animal",
                    "animal",
                    "animal",
                    "animal",
                    "animal",
                    "animal",
                    "animal",
                    "animal",
                    "animal",
                    "animal",
                    "animal",
                    "animal",
                    "animal",
                    "animal",
                    "animal",
                    "animal",
                    "animal",
                    "animal",
                    "animal",
                    "animal",
                    "animal",
                    "animal",
                    "animal",
                    "animal",
                    "animal",
                    "animal",
                    "animal",
                    "animal",
                    "animal",
                    "animal",
                    "animal",
                    "animal",
                    "animal",
                    "animal",
                    "animal",
                    "animal",
                    "animal",
                    "animal",
                    "animal",
                    "animal",
                    "animal",
                    "animal",
                    "animal",
                    "animal",
                    "animal"
                  ],
                  "type": "histogram"
                },
                {
                  "histfunc": "count",
                  "name": "hiker",
                  "x": [
                    "hiker",
                    "hiker",
                    "hiker",
                    "hiker",
                    "hiker",
                    "hiker",
                    "hiker",
                    "hiker",
                    "hiker",
                    "hiker",
                    "hiker",
                    "hiker",
                    "hiker",
                    "hiker",
                    "hiker",
                    "hiker",
                    "hiker",
                    "hiker",
                    "hiker",
                    "hiker",
                    "hiker",
                    "hiker",
                    "hiker",
                    "hiker",
                    "hiker",
                    "hiker",
                    "hiker",
                    "hiker",
                    "hiker",
                    "hiker",
                    "hiker",
                    "hiker",
                    "hiker",
                    "hiker",
                    "hiker",
                    "hiker",
                    "hiker",
                    "hiker",
                    "hiker",
                    "hiker",
                    "hiker",
                    "hiker",
                    "hiker",
                    "hiker",
                    "hiker",
                    "hiker",
                    "hiker",
                    "hiker",
                    "hiker",
                    "hiker",
                    "hiker",
                    "hiker",
                    "hiker",
                    "hiker",
                    "hiker",
                    "hiker",
                    "hiker",
                    "hiker",
                    "hiker",
                    "hiker",
                    "hiker",
                    "hiker",
                    "hiker",
                    "hiker",
                    "hiker",
                    "hiker",
                    "hiker",
                    "hiker",
                    "hiker",
                    "hiker",
                    "hiker",
                    "hiker",
                    "hiker",
                    "hiker",
                    "hiker",
                    "hiker",
                    "hiker",
                    "hiker",
                    "hiker",
                    "hiker",
                    "hiker",
                    "hiker",
                    "hiker",
                    "hiker",
                    "hiker",
                    "hiker",
                    "hiker",
                    "hiker",
                    "hiker",
                    "hiker",
                    "hiker",
                    "hiker",
                    "hiker",
                    "hiker",
                    "hiker",
                    "hiker",
                    "hiker",
                    "hiker",
                    "hiker",
                    "hiker",
                    "hiker",
                    "hiker",
                    "hiker",
                    "hiker",
                    "hiker",
                    "hiker",
                    "hiker",
                    "hiker",
                    "hiker",
                    "hiker",
                    "hiker",
                    "hiker",
                    "hiker",
                    "hiker",
                    "hiker",
                    "hiker",
                    "hiker",
                    "hiker",
                    "hiker",
                    "hiker",
                    "hiker",
                    "hiker",
                    "hiker",
                    "hiker",
                    "hiker",
                    "hiker",
                    "hiker",
                    "hiker",
                    "hiker",
                    "hiker",
                    "hiker",
                    "hiker",
                    "hiker",
                    "hiker",
                    "hiker",
                    "hiker",
                    "hiker",
                    "hiker",
                    "hiker",
                    "hiker",
                    "hiker",
                    "hiker",
                    "hiker",
                    "hiker",
                    "hiker",
                    "hiker",
                    "hiker",
                    "hiker",
                    "hiker",
                    "hiker",
                    "hiker",
                    "hiker",
                    "hiker",
                    "hiker",
                    "hiker",
                    "hiker",
                    "hiker",
                    "hiker",
                    "hiker",
                    "hiker",
                    "hiker",
                    "hiker",
                    "hiker",
                    "hiker",
                    "hiker",
                    "hiker",
                    "hiker",
                    "hiker",
                    "hiker",
                    "hiker",
                    "hiker",
                    "hiker",
                    "hiker",
                    "hiker",
                    "hiker",
                    "hiker",
                    "hiker",
                    "hiker",
                    "hiker",
                    "hiker",
                    "hiker",
                    "hiker",
                    "hiker",
                    "hiker",
                    "hiker",
                    "hiker",
                    "hiker",
                    "hiker",
                    "hiker",
                    "hiker",
                    "hiker",
                    "hiker",
                    "hiker",
                    "hiker",
                    "hiker",
                    "hiker",
                    "hiker",
                    "hiker",
                    "hiker",
                    "hiker",
                    "hiker",
                    "hiker",
                    "hiker",
                    "hiker",
                    "hiker",
                    "hiker",
                    "hiker",
                    "hiker",
                    "hiker",
                    "hiker",
                    "hiker",
                    "hiker",
                    "hiker",
                    "hiker",
                    "hiker",
                    "hiker",
                    "hiker",
                    "hiker",
                    "hiker",
                    "hiker",
                    "hiker",
                    "hiker",
                    "hiker",
                    "hiker",
                    "hiker",
                    "hiker",
                    "hiker",
                    "hiker",
                    "hiker",
                    "hiker",
                    "hiker",
                    "hiker",
                    "hiker",
                    "hiker",
                    "hiker",
                    "hiker",
                    "hiker",
                    "hiker",
                    "hiker",
                    "hiker",
                    "hiker",
                    "hiker",
                    "hiker",
                    "hiker",
                    "hiker",
                    "hiker",
                    "hiker",
                    "hiker",
                    "hiker",
                    "hiker",
                    "hiker",
                    "hiker",
                    "hiker",
                    "hiker",
                    "hiker",
                    "hiker",
                    "hiker",
                    "hiker",
                    "hiker",
                    "hiker",
                    "hiker",
                    "hiker",
                    "hiker",
                    "hiker",
                    "hiker",
                    "hiker",
                    "hiker",
                    "hiker",
                    "hiker",
                    "hiker",
                    "hiker",
                    "hiker",
                    "hiker",
                    "hiker",
                    "hiker",
                    "hiker",
                    "hiker",
                    "hiker",
                    "hiker",
                    "hiker",
                    "hiker",
                    "hiker",
                    "hiker",
                    "hiker",
                    "hiker",
                    "hiker",
                    "hiker",
                    "hiker",
                    "hiker",
                    "hiker",
                    "hiker",
                    "hiker",
                    "hiker",
                    "hiker",
                    "hiker",
                    "hiker",
                    "hiker",
                    "hiker",
                    "hiker",
                    "hiker",
                    "hiker",
                    "hiker",
                    "hiker",
                    "hiker",
                    "hiker",
                    "hiker",
                    "hiker",
                    "hiker",
                    "hiker",
                    "hiker",
                    "hiker",
                    "hiker",
                    "hiker",
                    "hiker",
                    "hiker",
                    "hiker",
                    "hiker",
                    "hiker",
                    "hiker",
                    "hiker",
                    "hiker",
                    "hiker",
                    "hiker",
                    "hiker",
                    "hiker",
                    "hiker",
                    "hiker",
                    "hiker",
                    "hiker",
                    "hiker",
                    "hiker",
                    "hiker",
                    "hiker",
                    "hiker",
                    "hiker",
                    "hiker",
                    "hiker",
                    "hiker",
                    "hiker",
                    "hiker",
                    "hiker",
                    "hiker",
                    "hiker",
                    "hiker",
                    "hiker",
                    "hiker",
                    "hiker",
                    "hiker",
                    "hiker",
                    "hiker",
                    "hiker",
                    "hiker",
                    "hiker",
                    "hiker",
                    "hiker",
                    "hiker",
                    "hiker",
                    "hiker",
                    "hiker",
                    "hiker",
                    "hiker",
                    "hiker",
                    "hiker",
                    "hiker",
                    "hiker",
                    "hiker",
                    "hiker",
                    "hiker",
                    "hiker",
                    "hiker",
                    "hiker",
                    "hiker",
                    "hiker",
                    "hiker",
                    "hiker",
                    "hiker",
                    "hiker",
                    "hiker",
                    "hiker",
                    "hiker",
                    "hiker",
                    "hiker",
                    "hiker",
                    "hiker",
                    "hiker",
                    "hiker",
                    "hiker",
                    "hiker",
                    "hiker",
                    "hiker",
                    "hiker",
                    "hiker",
                    "hiker",
                    "hiker",
                    "hiker",
                    "hiker",
                    "hiker",
                    "hiker",
                    "hiker",
                    "hiker",
                    "hiker",
                    "hiker",
                    "hiker",
                    "hiker",
                    "hiker",
                    "hiker",
                    "hiker",
                    "hiker",
                    "hiker",
                    "hiker",
                    "hiker",
                    "hiker",
                    "hiker",
                    "hiker",
                    "hiker",
                    "hiker",
                    "hiker",
                    "hiker",
                    "hiker",
                    "hiker",
                    "hiker",
                    "hiker",
                    "hiker",
                    "hiker",
                    "hiker",
                    "hiker",
                    "hiker",
                    "hiker",
                    "hiker",
                    "hiker",
                    "hiker",
                    "hiker",
                    "hiker",
                    "hiker",
                    "hiker",
                    "hiker",
                    "hiker",
                    "hiker",
                    "hiker",
                    "hiker",
                    "hiker",
                    "hiker",
                    "hiker",
                    "hiker",
                    "hiker",
                    "hiker",
                    "hiker",
                    "hiker",
                    "hiker",
                    "hiker",
                    "hiker",
                    "hiker",
                    "hiker",
                    "hiker",
                    "hiker",
                    "hiker",
                    "hiker",
                    "hiker",
                    "hiker",
                    "hiker",
                    "hiker",
                    "hiker",
                    "hiker",
                    "hiker",
                    "hiker",
                    "hiker",
                    "hiker",
                    "hiker",
                    "hiker",
                    "hiker",
                    "hiker",
                    "hiker",
                    "hiker",
                    "hiker",
                    "hiker",
                    "hiker",
                    "hiker",
                    "hiker",
                    "hiker",
                    "hiker",
                    "hiker",
                    "hiker",
                    "hiker",
                    "hiker",
                    "hiker",
                    "hiker",
                    "hiker",
                    "hiker",
                    "hiker",
                    "hiker",
                    "hiker",
                    "hiker",
                    "hiker",
                    "hiker",
                    "hiker",
                    "hiker",
                    "hiker",
                    "hiker",
                    "hiker",
                    "hiker"
                  ],
                  "type": "histogram"
                },
                {
                  "histfunc": "count",
                  "name": "rock",
                  "x": [
                    "rock",
                    "rock",
                    "rock",
                    "rock",
                    "rock",
                    "rock",
                    "rock",
                    "rock",
                    "rock",
                    "rock",
                    "rock",
                    "rock",
                    "rock",
                    "rock",
                    "rock",
                    "rock",
                    "rock",
                    "rock",
                    "rock",
                    "rock",
                    "rock",
                    "rock",
                    "rock",
                    "rock",
                    "rock",
                    "rock",
                    "rock",
                    "rock",
                    "rock",
                    "rock",
                    "rock",
                    "rock",
                    "rock",
                    "rock",
                    "rock",
                    "rock",
                    "rock",
                    "rock",
                    "rock",
                    "rock",
                    "rock",
                    "rock",
                    "rock",
                    "rock",
                    "rock",
                    "rock",
                    "rock",
                    "rock",
                    "rock",
                    "rock",
                    "rock",
                    "rock",
                    "rock",
                    "rock",
                    "rock",
                    "rock",
                    "rock",
                    "rock",
                    "rock",
                    "rock",
                    "rock",
                    "rock",
                    "rock",
                    "rock",
                    "rock",
                    "rock",
                    "rock",
                    "rock",
                    "rock",
                    "rock",
                    "rock",
                    "rock",
                    "rock",
                    "rock",
                    "rock",
                    "rock",
                    "rock",
                    "rock",
                    "rock",
                    "rock",
                    "rock",
                    "rock",
                    "rock",
                    "rock",
                    "rock",
                    "rock",
                    "rock",
                    "rock",
                    "rock",
                    "rock",
                    "rock",
                    "rock",
                    "rock",
                    "rock",
                    "rock",
                    "rock",
                    "rock",
                    "rock",
                    "rock",
                    "rock",
                    "rock",
                    "rock",
                    "rock",
                    "rock",
                    "rock",
                    "rock",
                    "rock",
                    "rock",
                    "rock",
                    "rock",
                    "rock",
                    "rock",
                    "rock",
                    "rock",
                    "rock",
                    "rock",
                    "rock",
                    "rock",
                    "rock",
                    "rock",
                    "rock",
                    "rock",
                    "rock",
                    "rock",
                    "rock",
                    "rock",
                    "rock",
                    "rock",
                    "rock",
                    "rock",
                    "rock",
                    "rock",
                    "rock",
                    "rock",
                    "rock",
                    "rock",
                    "rock",
                    "rock",
                    "rock",
                    "rock",
                    "rock",
                    "rock",
                    "rock",
                    "rock",
                    "rock",
                    "rock",
                    "rock",
                    "rock",
                    "rock",
                    "rock",
                    "rock",
                    "rock",
                    "rock",
                    "rock",
                    "rock",
                    "rock",
                    "rock",
                    "rock",
                    "rock",
                    "rock",
                    "rock",
                    "rock",
                    "rock",
                    "rock",
                    "rock",
                    "rock",
                    "rock",
                    "rock",
                    "rock",
                    "rock",
                    "rock",
                    "rock",
                    "rock",
                    "rock",
                    "rock",
                    "rock",
                    "rock",
                    "rock",
                    "rock",
                    "rock",
                    "rock",
                    "rock",
                    "rock",
                    "rock",
                    "rock",
                    "rock",
                    "rock",
                    "rock",
                    "rock",
                    "rock",
                    "rock",
                    "rock",
                    "rock",
                    "rock",
                    "rock",
                    "rock",
                    "rock",
                    "rock",
                    "rock",
                    "rock",
                    "rock",
                    "rock",
                    "rock",
                    "rock",
                    "rock",
                    "rock",
                    "rock",
                    "rock",
                    "rock",
                    "rock",
                    "rock",
                    "rock",
                    "rock",
                    "rock",
                    "rock",
                    "rock",
                    "rock",
                    "rock",
                    "rock",
                    "rock",
                    "rock",
                    "rock",
                    "rock",
                    "rock",
                    "rock",
                    "rock",
                    "rock",
                    "rock",
                    "rock",
                    "rock",
                    "rock",
                    "rock",
                    "rock",
                    "rock",
                    "rock",
                    "rock",
                    "rock",
                    "rock",
                    "rock",
                    "rock",
                    "rock",
                    "rock",
                    "rock",
                    "rock",
                    "rock",
                    "rock",
                    "rock",
                    "rock",
                    "rock",
                    "rock",
                    "rock",
                    "rock",
                    "rock",
                    "rock",
                    "rock",
                    "rock",
                    "rock",
                    "rock",
                    "rock",
                    "rock",
                    "rock",
                    "rock",
                    "rock",
                    "rock",
                    "rock",
                    "rock",
                    "rock",
                    "rock",
                    "rock",
                    "rock",
                    "rock",
                    "rock",
                    "rock",
                    "rock",
                    "rock",
                    "rock",
                    "rock",
                    "rock",
                    "rock",
                    "rock",
                    "rock",
                    "rock",
                    "rock",
                    "rock",
                    "rock",
                    "rock",
                    "rock",
                    "rock",
                    "rock",
                    "rock",
                    "rock",
                    "rock",
                    "rock",
                    "rock",
                    "rock",
                    "rock",
                    "rock",
                    "rock",
                    "rock",
                    "rock",
                    "rock",
                    "rock",
                    "rock",
                    "rock",
                    "rock",
                    "rock",
                    "rock",
                    "rock",
                    "rock",
                    "rock",
                    "rock",
                    "rock",
                    "rock",
                    "rock",
                    "rock",
                    "rock",
                    "rock",
                    "rock",
                    "rock",
                    "rock",
                    "rock",
                    "rock",
                    "rock",
                    "rock",
                    "rock",
                    "rock",
                    "rock",
                    "rock",
                    "rock",
                    "rock",
                    "rock",
                    "rock",
                    "rock",
                    "rock",
                    "rock",
                    "rock",
                    "rock",
                    "rock",
                    "rock",
                    "rock",
                    "rock",
                    "rock",
                    "rock",
                    "rock",
                    "rock",
                    "rock",
                    "rock",
                    "rock",
                    "rock",
                    "rock",
                    "rock",
                    "rock",
                    "rock",
                    "rock",
                    "rock",
                    "rock",
                    "rock",
                    "rock",
                    "rock",
                    "rock",
                    "rock",
                    "rock",
                    "rock",
                    "rock",
                    "rock",
                    "rock",
                    "rock",
                    "rock",
                    "rock",
                    "rock",
                    "rock",
                    "rock",
                    "rock",
                    "rock",
                    "rock",
                    "rock",
                    "rock",
                    "rock",
                    "rock",
                    "rock",
                    "rock",
                    "rock",
                    "rock",
                    "rock",
                    "rock",
                    "rock",
                    "rock",
                    "rock",
                    "rock",
                    "rock",
                    "rock",
                    "rock",
                    "rock",
                    "rock",
                    "rock",
                    "rock",
                    "rock",
                    "rock",
                    "rock",
                    "rock",
                    "rock",
                    "rock",
                    "rock",
                    "rock",
                    "rock",
                    "rock",
                    "rock",
                    "rock",
                    "rock",
                    "rock",
                    "rock",
                    "rock",
                    "rock",
                    "rock",
                    "rock",
                    "rock",
                    "rock",
                    "rock",
                    "rock",
                    "rock",
                    "rock",
                    "rock",
                    "rock",
                    "rock",
                    "rock",
                    "rock",
                    "rock",
                    "rock",
                    "rock",
                    "rock",
                    "rock",
                    "rock",
                    "rock",
                    "rock",
                    "rock",
                    "rock",
                    "rock",
                    "rock",
                    "rock",
                    "rock",
                    "rock",
                    "rock",
                    "rock",
                    "rock",
                    "rock",
                    "rock",
                    "rock",
                    "rock",
                    "rock",
                    "rock",
                    "rock",
                    "rock",
                    "rock",
                    "rock",
                    "rock",
                    "rock",
                    "rock",
                    "rock",
                    "rock",
                    "rock",
                    "rock",
                    "rock",
                    "rock",
                    "rock",
                    "rock",
                    "rock",
                    "rock",
                    "rock",
                    "rock",
                    "rock",
                    "rock",
                    "rock",
                    "rock",
                    "rock",
                    "rock",
                    "rock",
                    "rock",
                    "rock",
                    "rock",
                    "rock",
                    "rock",
                    "rock",
                    "rock",
                    "rock",
                    "rock",
                    "rock",
                    "rock",
                    "rock",
                    "rock",
                    "rock",
                    "rock",
                    "rock",
                    "rock",
                    "rock",
                    "rock",
                    "rock",
                    "rock",
                    "rock",
                    "rock",
                    "rock"
                  ],
                  "type": "histogram"
                },
                {
                  "histfunc": "count",
                  "name": "tree",
                  "x": [
                    "tree",
                    "tree",
                    "tree",
                    "tree",
                    "tree",
                    "tree",
                    "tree",
                    "tree",
                    "tree",
                    "tree",
                    "tree",
                    "tree",
                    "tree",
                    "tree",
                    "tree",
                    "tree",
                    "tree",
                    "tree",
                    "tree",
                    "tree",
                    "tree",
                    "tree",
                    "tree",
                    "tree",
                    "tree",
                    "tree",
                    "tree",
                    "tree",
                    "tree",
                    "tree",
                    "tree",
                    "tree",
                    "tree",
                    "tree",
                    "tree",
                    "tree",
                    "tree",
                    "tree",
                    "tree",
                    "tree",
                    "tree",
                    "tree",
                    "tree",
                    "tree",
                    "tree",
                    "tree",
                    "tree",
                    "tree",
                    "tree",
                    "tree",
                    "tree",
                    "tree",
                    "tree",
                    "tree",
                    "tree",
                    "tree",
                    "tree",
                    "tree",
                    "tree",
                    "tree",
                    "tree",
                    "tree",
                    "tree",
                    "tree",
                    "tree",
                    "tree",
                    "tree",
                    "tree",
                    "tree",
                    "tree",
                    "tree",
                    "tree",
                    "tree",
                    "tree",
                    "tree",
                    "tree",
                    "tree",
                    "tree",
                    "tree",
                    "tree",
                    "tree",
                    "tree",
                    "tree",
                    "tree",
                    "tree",
                    "tree",
                    "tree",
                    "tree",
                    "tree",
                    "tree",
                    "tree",
                    "tree",
                    "tree",
                    "tree",
                    "tree",
                    "tree",
                    "tree",
                    "tree",
                    "tree",
                    "tree",
                    "tree",
                    "tree",
                    "tree",
                    "tree",
                    "tree",
                    "tree",
                    "tree",
                    "tree",
                    "tree",
                    "tree",
                    "tree",
                    "tree",
                    "tree",
                    "tree",
                    "tree",
                    "tree",
                    "tree",
                    "tree",
                    "tree",
                    "tree",
                    "tree",
                    "tree",
                    "tree",
                    "tree",
                    "tree",
                    "tree",
                    "tree",
                    "tree",
                    "tree",
                    "tree",
                    "tree",
                    "tree",
                    "tree",
                    "tree",
                    "tree",
                    "tree",
                    "tree",
                    "tree",
                    "tree",
                    "tree",
                    "tree",
                    "tree",
                    "tree",
                    "tree",
                    "tree",
                    "tree",
                    "tree",
                    "tree",
                    "tree",
                    "tree",
                    "tree",
                    "tree",
                    "tree",
                    "tree",
                    "tree",
                    "tree",
                    "tree",
                    "tree",
                    "tree",
                    "tree",
                    "tree",
                    "tree",
                    "tree",
                    "tree",
                    "tree",
                    "tree",
                    "tree",
                    "tree",
                    "tree",
                    "tree",
                    "tree",
                    "tree",
                    "tree",
                    "tree",
                    "tree",
                    "tree",
                    "tree",
                    "tree",
                    "tree",
                    "tree",
                    "tree",
                    "tree",
                    "tree",
                    "tree",
                    "tree",
                    "tree",
                    "tree",
                    "tree",
                    "tree",
                    "tree",
                    "tree",
                    "tree",
                    "tree",
                    "tree",
                    "tree",
                    "tree",
                    "tree",
                    "tree",
                    "tree",
                    "tree",
                    "tree",
                    "tree",
                    "tree",
                    "tree",
                    "tree",
                    "tree",
                    "tree",
                    "tree",
                    "tree",
                    "tree",
                    "tree",
                    "tree",
                    "tree",
                    "tree",
                    "tree",
                    "tree",
                    "tree",
                    "tree",
                    "tree",
                    "tree",
                    "tree",
                    "tree",
                    "tree",
                    "tree",
                    "tree",
                    "tree",
                    "tree",
                    "tree",
                    "tree",
                    "tree",
                    "tree",
                    "tree",
                    "tree",
                    "tree",
                    "tree",
                    "tree",
                    "tree",
                    "tree",
                    "tree",
                    "tree",
                    "tree",
                    "tree",
                    "tree",
                    "tree",
                    "tree",
                    "tree",
                    "tree",
                    "tree",
                    "tree",
                    "tree",
                    "tree",
                    "tree",
                    "tree",
                    "tree",
                    "tree",
                    "tree",
                    "tree",
                    "tree",
                    "tree",
                    "tree",
                    "tree",
                    "tree",
                    "tree",
                    "tree",
                    "tree",
                    "tree",
                    "tree",
                    "tree",
                    "tree",
                    "tree",
                    "tree",
                    "tree",
                    "tree",
                    "tree",
                    "tree",
                    "tree",
                    "tree",
                    "tree",
                    "tree",
                    "tree",
                    "tree",
                    "tree",
                    "tree",
                    "tree",
                    "tree",
                    "tree",
                    "tree",
                    "tree",
                    "tree",
                    "tree",
                    "tree",
                    "tree",
                    "tree",
                    "tree",
                    "tree",
                    "tree",
                    "tree",
                    "tree",
                    "tree",
                    "tree",
                    "tree",
                    "tree",
                    "tree",
                    "tree",
                    "tree",
                    "tree",
                    "tree",
                    "tree",
                    "tree",
                    "tree",
                    "tree",
                    "tree",
                    "tree",
                    "tree",
                    "tree",
                    "tree",
                    "tree",
                    "tree",
                    "tree",
                    "tree",
                    "tree",
                    "tree",
                    "tree",
                    "tree",
                    "tree",
                    "tree",
                    "tree",
                    "tree",
                    "tree",
                    "tree",
                    "tree",
                    "tree",
                    "tree",
                    "tree",
                    "tree",
                    "tree",
                    "tree",
                    "tree",
                    "tree",
                    "tree",
                    "tree",
                    "tree",
                    "tree",
                    "tree",
                    "tree",
                    "tree",
                    "tree",
                    "tree",
                    "tree",
                    "tree",
                    "tree",
                    "tree",
                    "tree",
                    "tree",
                    "tree",
                    "tree",
                    "tree",
                    "tree",
                    "tree",
                    "tree",
                    "tree",
                    "tree",
                    "tree",
                    "tree",
                    "tree",
                    "tree",
                    "tree",
                    "tree",
                    "tree",
                    "tree",
                    "tree",
                    "tree",
                    "tree",
                    "tree",
                    "tree",
                    "tree",
                    "tree",
                    "tree",
                    "tree",
                    "tree",
                    "tree",
                    "tree",
                    "tree",
                    "tree",
                    "tree",
                    "tree",
                    "tree",
                    "tree",
                    "tree",
                    "tree",
                    "tree",
                    "tree",
                    "tree",
                    "tree",
                    "tree",
                    "tree",
                    "tree",
                    "tree",
                    "tree",
                    "tree",
                    "tree",
                    "tree",
                    "tree",
                    "tree",
                    "tree",
                    "tree",
                    "tree",
                    "tree",
                    "tree",
                    "tree",
                    "tree",
                    "tree",
                    "tree",
                    "tree",
                    "tree",
                    "tree",
                    "tree",
                    "tree",
                    "tree",
                    "tree",
                    "tree",
                    "tree",
                    "tree",
                    "tree",
                    "tree",
                    "tree",
                    "tree",
                    "tree",
                    "tree",
                    "tree",
                    "tree",
                    "tree",
                    "tree",
                    "tree",
                    "tree",
                    "tree",
                    "tree",
                    "tree",
                    "tree",
                    "tree",
                    "tree",
                    "tree",
                    "tree",
                    "tree",
                    "tree",
                    "tree",
                    "tree",
                    "tree",
                    "tree",
                    "tree",
                    "tree",
                    "tree",
                    "tree",
                    "tree",
                    "tree",
                    "tree",
                    "tree",
                    "tree",
                    "tree",
                    "tree",
                    "tree",
                    "tree",
                    "tree",
                    "tree",
                    "tree",
                    "tree",
                    "tree",
                    "tree",
                    "tree",
                    "tree",
                    "tree",
                    "tree",
                    "tree",
                    "tree",
                    "tree",
                    "tree",
                    "tree",
                    "tree",
                    "tree",
                    "tree",
                    "tree",
                    "tree",
                    "tree",
                    "tree",
                    "tree",
                    "tree",
                    "tree",
                    "tree",
                    "tree",
                    "tree",
                    "tree",
                    "tree",
                    "tree",
                    "tree",
                    "tree",
                    "tree",
                    "tree",
                    "tree",
                    "tree",
                    "tree"
                  ],
                  "type": "histogram"
                }
              ],
              "layout": {
                "title": {
                  "text": "Label distribution"
                },
                "xaxis": {
                  "title": {
                    "text": "label"
                  }
                },
                "yaxis": {
                  "title": {
                    "text": "count"
                  }
                },
                "template": {
                  "data": {
                    "barpolar": [
                      {
                        "marker": {
                          "line": {
                            "color": "white",
                            "width": 0.5
                          },
                          "pattern": {
                            "fillmode": "overlay",
                            "size": 10,
                            "solidity": 0.2
                          }
                        },
                        "type": "barpolar"
                      }
                    ],
                    "bar": [
                      {
                        "error_x": {
                          "color": "#2a3f5f"
                        },
                        "error_y": {
                          "color": "#2a3f5f"
                        },
                        "marker": {
                          "line": {
                            "color": "white",
                            "width": 0.5
                          },
                          "pattern": {
                            "fillmode": "overlay",
                            "size": 10,
                            "solidity": 0.2
                          }
                        },
                        "type": "bar"
                      }
                    ],
                    "carpet": [
                      {
                        "aaxis": {
                          "endlinecolor": "#2a3f5f",
                          "gridcolor": "#C8D4E3",
                          "linecolor": "#C8D4E3",
                          "minorgridcolor": "#C8D4E3",
                          "startlinecolor": "#2a3f5f"
                        },
                        "baxis": {
                          "endlinecolor": "#2a3f5f",
                          "gridcolor": "#C8D4E3",
                          "linecolor": "#C8D4E3",
                          "minorgridcolor": "#C8D4E3",
                          "startlinecolor": "#2a3f5f"
                        },
                        "type": "carpet"
                      }
                    ],
                    "choropleth": [
                      {
                        "colorbar": {
                          "outlinewidth": 0,
                          "ticks": ""
                        },
                        "type": "choropleth"
                      }
                    ],
                    "contourcarpet": [
                      {
                        "colorbar": {
                          "outlinewidth": 0,
                          "ticks": ""
                        },
                        "type": "contourcarpet"
                      }
                    ],
                    "contour": [
                      {
                        "colorbar": {
                          "outlinewidth": 0,
                          "ticks": ""
                        },
                        "colorscale": [
                          [
                            0,
                            "#0d0887"
                          ],
                          [
                            0.1111111111111111,
                            "#46039f"
                          ],
                          [
                            0.2222222222222222,
                            "#7201a8"
                          ],
                          [
                            0.3333333333333333,
                            "#9c179e"
                          ],
                          [
                            0.4444444444444444,
                            "#bd3786"
                          ],
                          [
                            0.5555555555555556,
                            "#d8576b"
                          ],
                          [
                            0.6666666666666666,
                            "#ed7953"
                          ],
                          [
                            0.7777777777777778,
                            "#fb9f3a"
                          ],
                          [
                            0.8888888888888888,
                            "#fdca26"
                          ],
                          [
                            1,
                            "#f0f921"
                          ]
                        ],
                        "type": "contour"
                      }
                    ],
                    "heatmapgl": [
                      {
                        "colorbar": {
                          "outlinewidth": 0,
                          "ticks": ""
                        },
                        "colorscale": [
                          [
                            0,
                            "#0d0887"
                          ],
                          [
                            0.1111111111111111,
                            "#46039f"
                          ],
                          [
                            0.2222222222222222,
                            "#7201a8"
                          ],
                          [
                            0.3333333333333333,
                            "#9c179e"
                          ],
                          [
                            0.4444444444444444,
                            "#bd3786"
                          ],
                          [
                            0.5555555555555556,
                            "#d8576b"
                          ],
                          [
                            0.6666666666666666,
                            "#ed7953"
                          ],
                          [
                            0.7777777777777778,
                            "#fb9f3a"
                          ],
                          [
                            0.8888888888888888,
                            "#fdca26"
                          ],
                          [
                            1,
                            "#f0f921"
                          ]
                        ],
                        "type": "heatmapgl"
                      }
                    ],
                    "heatmap": [
                      {
                        "colorbar": {
                          "outlinewidth": 0,
                          "ticks": ""
                        },
                        "colorscale": [
                          [
                            0,
                            "#0d0887"
                          ],
                          [
                            0.1111111111111111,
                            "#46039f"
                          ],
                          [
                            0.2222222222222222,
                            "#7201a8"
                          ],
                          [
                            0.3333333333333333,
                            "#9c179e"
                          ],
                          [
                            0.4444444444444444,
                            "#bd3786"
                          ],
                          [
                            0.5555555555555556,
                            "#d8576b"
                          ],
                          [
                            0.6666666666666666,
                            "#ed7953"
                          ],
                          [
                            0.7777777777777778,
                            "#fb9f3a"
                          ],
                          [
                            0.8888888888888888,
                            "#fdca26"
                          ],
                          [
                            1,
                            "#f0f921"
                          ]
                        ],
                        "type": "heatmap"
                      }
                    ],
                    "histogram2dcontour": [
                      {
                        "colorbar": {
                          "outlinewidth": 0,
                          "ticks": ""
                        },
                        "colorscale": [
                          [
                            0,
                            "#0d0887"
                          ],
                          [
                            0.1111111111111111,
                            "#46039f"
                          ],
                          [
                            0.2222222222222222,
                            "#7201a8"
                          ],
                          [
                            0.3333333333333333,
                            "#9c179e"
                          ],
                          [
                            0.4444444444444444,
                            "#bd3786"
                          ],
                          [
                            0.5555555555555556,
                            "#d8576b"
                          ],
                          [
                            0.6666666666666666,
                            "#ed7953"
                          ],
                          [
                            0.7777777777777778,
                            "#fb9f3a"
                          ],
                          [
                            0.8888888888888888,
                            "#fdca26"
                          ],
                          [
                            1,
                            "#f0f921"
                          ]
                        ],
                        "type": "histogram2dcontour"
                      }
                    ],
                    "histogram2d": [
                      {
                        "colorbar": {
                          "outlinewidth": 0,
                          "ticks": ""
                        },
                        "colorscale": [
                          [
                            0,
                            "#0d0887"
                          ],
                          [
                            0.1111111111111111,
                            "#46039f"
                          ],
                          [
                            0.2222222222222222,
                            "#7201a8"
                          ],
                          [
                            0.3333333333333333,
                            "#9c179e"
                          ],
                          [
                            0.4444444444444444,
                            "#bd3786"
                          ],
                          [
                            0.5555555555555556,
                            "#d8576b"
                          ],
                          [
                            0.6666666666666666,
                            "#ed7953"
                          ],
                          [
                            0.7777777777777778,
                            "#fb9f3a"
                          ],
                          [
                            0.8888888888888888,
                            "#fdca26"
                          ],
                          [
                            1,
                            "#f0f921"
                          ]
                        ],
                        "type": "histogram2d"
                      }
                    ],
                    "histogram": [
                      {
                        "marker": {
                          "pattern": {
                            "fillmode": "overlay",
                            "size": 10,
                            "solidity": 0.2
                          },
                          "line": {
                            "width": 1
                          }
                        },
                        "type": "histogram"
                      }
                    ],
                    "mesh3d": [
                      {
                        "colorbar": {
                          "outlinewidth": 0,
                          "ticks": ""
                        },
                        "type": "mesh3d"
                      }
                    ],
                    "parcoords": [
                      {
                        "line": {
                          "colorbar": {
                            "outlinewidth": 0,
                            "ticks": ""
                          }
                        },
                        "type": "parcoords"
                      }
                    ],
                    "pie": [
                      {
                        "automargin": true,
                        "type": "pie"
                      }
                    ],
                    "scatter3d": [
                      {
                        "line": {
                          "colorbar": {
                            "outlinewidth": 0,
                            "ticks": ""
                          }
                        },
                        "marker": {
                          "colorbar": {
                            "outlinewidth": 0,
                            "ticks": ""
                          },
                          "opacity": 0.8
                        },
                        "type": "scatter3d"
                      }
                    ],
                    "scattercarpet": [
                      {
                        "marker": {
                          "colorbar": {
                            "outlinewidth": 0,
                            "ticks": ""
                          }
                        },
                        "type": "scattercarpet"
                      }
                    ],
                    "scattergeo": [
                      {
                        "marker": {
                          "colorbar": {
                            "outlinewidth": 0,
                            "ticks": ""
                          }
                        },
                        "type": "scattergeo"
                      }
                    ],
                    "scattergl": [
                      {
                        "marker": {
                          "colorbar": {
                            "outlinewidth": 0,
                            "ticks": ""
                          }
                        },
                        "type": "scattergl"
                      }
                    ],
                    "scattermapbox": [
                      {
                        "marker": {
                          "colorbar": {
                            "outlinewidth": 0,
                            "ticks": ""
                          }
                        },
                        "type": "scattermapbox"
                      }
                    ],
                    "scatterpolargl": [
                      {
                        "marker": {
                          "colorbar": {
                            "outlinewidth": 0,
                            "ticks": ""
                          }
                        },
                        "type": "scatterpolargl"
                      }
                    ],
                    "scatterpolar": [
                      {
                        "marker": {
                          "colorbar": {
                            "outlinewidth": 0,
                            "ticks": ""
                          }
                        },
                        "type": "scatterpolar"
                      }
                    ],
                    "scatter": [
                      {
                        "fillpattern": {
                          "fillmode": "overlay",
                          "size": 10,
                          "solidity": 0.2
                        },
                        "type": "scatter",
                        "marker": {
                          "opacity": 0.8
                        }
                      }
                    ],
                    "scatterternary": [
                      {
                        "marker": {
                          "colorbar": {
                            "outlinewidth": 0,
                            "ticks": ""
                          }
                        },
                        "type": "scatterternary"
                      }
                    ],
                    "surface": [
                      {
                        "colorbar": {
                          "outlinewidth": 0,
                          "ticks": ""
                        },
                        "colorscale": [
                          [
                            0,
                            "#0d0887"
                          ],
                          [
                            0.1111111111111111,
                            "#46039f"
                          ],
                          [
                            0.2222222222222222,
                            "#7201a8"
                          ],
                          [
                            0.3333333333333333,
                            "#9c179e"
                          ],
                          [
                            0.4444444444444444,
                            "#bd3786"
                          ],
                          [
                            0.5555555555555556,
                            "#d8576b"
                          ],
                          [
                            0.6666666666666666,
                            "#ed7953"
                          ],
                          [
                            0.7777777777777778,
                            "#fb9f3a"
                          ],
                          [
                            0.8888888888888888,
                            "#fdca26"
                          ],
                          [
                            1,
                            "#f0f921"
                          ]
                        ],
                        "type": "surface"
                      }
                    ],
                    "table": [
                      {
                        "cells": {
                          "fill": {
                            "color": "#EBF0F8"
                          },
                          "line": {
                            "color": "white"
                          }
                        },
                        "header": {
                          "fill": {
                            "color": "#C8D4E3"
                          },
                          "line": {
                            "color": "white"
                          }
                        },
                        "type": "table"
                      }
                    ],
                    "box": [
                      {
                        "boxpoints": "outliers",
                        "notched": false,
                        "type": "box"
                      }
                    ]
                  },
                  "layout": {
                    "annotationdefaults": {
                      "arrowcolor": "#2a3f5f",
                      "arrowhead": 0,
                      "arrowwidth": 1
                    },
                    "autotypenumbers": "strict",
                    "coloraxis": {
                      "colorbar": {
                        "outlinewidth": 0,
                        "ticks": ""
                      }
                    },
                    "colorscale": {
                      "diverging": [
                        [
                          0,
                          "#8e0152"
                        ],
                        [
                          0.1,
                          "#c51b7d"
                        ],
                        [
                          0.2,
                          "#de77ae"
                        ],
                        [
                          0.3,
                          "#f1b6da"
                        ],
                        [
                          0.4,
                          "#fde0ef"
                        ],
                        [
                          0.5,
                          "#f7f7f7"
                        ],
                        [
                          0.6,
                          "#e6f5d0"
                        ],
                        [
                          0.7,
                          "#b8e186"
                        ],
                        [
                          0.8,
                          "#7fbc41"
                        ],
                        [
                          0.9,
                          "#4d9221"
                        ],
                        [
                          1,
                          "#276419"
                        ]
                      ],
                      "sequential": [
                        [
                          0,
                          "#0d0887"
                        ],
                        [
                          0.1111111111111111,
                          "#46039f"
                        ],
                        [
                          0.2222222222222222,
                          "#7201a8"
                        ],
                        [
                          0.3333333333333333,
                          "#9c179e"
                        ],
                        [
                          0.4444444444444444,
                          "#bd3786"
                        ],
                        [
                          0.5555555555555556,
                          "#d8576b"
                        ],
                        [
                          0.6666666666666666,
                          "#ed7953"
                        ],
                        [
                          0.7777777777777778,
                          "#fb9f3a"
                        ],
                        [
                          0.8888888888888888,
                          "#fdca26"
                        ],
                        [
                          1,
                          "#f0f921"
                        ]
                      ],
                      "sequentialminus": [
                        [
                          0,
                          "#0d0887"
                        ],
                        [
                          0.1111111111111111,
                          "#46039f"
                        ],
                        [
                          0.2222222222222222,
                          "#7201a8"
                        ],
                        [
                          0.3333333333333333,
                          "#9c179e"
                        ],
                        [
                          0.4444444444444444,
                          "#bd3786"
                        ],
                        [
                          0.5555555555555556,
                          "#d8576b"
                        ],
                        [
                          0.6666666666666666,
                          "#ed7953"
                        ],
                        [
                          0.7777777777777778,
                          "#fb9f3a"
                        ],
                        [
                          0.8888888888888888,
                          "#fdca26"
                        ],
                        [
                          1,
                          "#f0f921"
                        ]
                      ]
                    },
                    "colorway": [
                      "#636efa",
                      "#EF553B",
                      "#00cc96",
                      "#ab63fa",
                      "#FFA15A",
                      "#19d3f3",
                      "#FF6692",
                      "#B6E880",
                      "#FF97FF",
                      "#FECB52"
                    ],
                    "font": {
                      "color": "#2a3f5f"
                    },
                    "geo": {
                      "bgcolor": "white",
                      "lakecolor": "white",
                      "landcolor": "white",
                      "showlakes": true,
                      "showland": true,
                      "subunitcolor": "#C8D4E3"
                    },
                    "hoverlabel": {
                      "align": "left"
                    },
                    "hovermode": "closest",
                    "mapbox": {
                      "style": "light"
                    },
                    "paper_bgcolor": "white",
                    "plot_bgcolor": "white",
                    "polar": {
                      "angularaxis": {
                        "gridcolor": "#EBF0F8",
                        "linecolor": "#EBF0F8",
                        "ticks": ""
                      },
                      "bgcolor": "white",
                      "radialaxis": {
                        "gridcolor": "#EBF0F8",
                        "linecolor": "#EBF0F8",
                        "ticks": ""
                      }
                    },
                    "scene": {
                      "xaxis": {
                        "backgroundcolor": "white",
                        "gridcolor": "#DFE8F3",
                        "gridwidth": 2,
                        "linecolor": "#EBF0F8",
                        "showbackground": true,
                        "ticks": "",
                        "zerolinecolor": "#EBF0F8"
                      },
                      "yaxis": {
                        "backgroundcolor": "white",
                        "gridcolor": "#DFE8F3",
                        "gridwidth": 2,
                        "linecolor": "#EBF0F8",
                        "showbackground": true,
                        "ticks": "",
                        "zerolinecolor": "#EBF0F8"
                      },
                      "zaxis": {
                        "backgroundcolor": "white",
                        "gridcolor": "#DFE8F3",
                        "gridwidth": 2,
                        "linecolor": "#EBF0F8",
                        "showbackground": true,
                        "ticks": "",
                        "zerolinecolor": "#EBF0F8"
                      },
                      "camera": {
                        "eye": {
                          "x": 1.5,
                          "y": 1.5,
                          "z": 0.1
                        }
                      }
                    },
                    "shapedefaults": {
                      "line": {
                        "color": "#2a3f5f"
                      }
                    },
                    "ternary": {
                      "aaxis": {
                        "gridcolor": "#DFE8F3",
                        "linecolor": "#A2B1C6",
                        "ticks": ""
                      },
                      "baxis": {
                        "gridcolor": "#DFE8F3",
                        "linecolor": "#A2B1C6",
                        "ticks": ""
                      },
                      "bgcolor": "white",
                      "caxis": {
                        "gridcolor": "#DFE8F3",
                        "linecolor": "#A2B1C6",
                        "ticks": ""
                      }
                    },
                    "title": {
                      "x": 0.5
                    },
                    "xaxis": {
                      "automargin": true,
                      "gridcolor": "#EBF0F8",
                      "linecolor": "#EBF0F8",
                      "ticks": "",
                      "title": {
                        "standoff": 15
                      },
                      "zerolinecolor": "#EBF0F8",
                      "zerolinewidth": 2,
                      "linewidth": 2,
                      "showline": true
                    },
                    "yaxis": {
                      "automargin": true,
                      "gridcolor": "#EBF0F8",
                      "linecolor": "#EBF0F8",
                      "ticks": "",
                      "title": {
                        "standoff": 15
                      },
                      "zerolinecolor": "#EBF0F8",
                      "zerolinewidth": 2,
                      "linewidth": 2,
                      "showline": true
                    },
                    "height": 400,
                    "margin": {
                      "b": 2,
                      "l": 2,
                      "r": 2,
                      "t": 30
                    }
                  }
                },
                "legend": {
                  "title": {
                    "text": "label"
                  }
                }
              },
              "config": {
                "plotlyServerURL": "https://plot.ly"
              }
            },
            "text/html": "<div>                            <div id=\"8c142064-3534-4013-9587-83cb0c531626\" class=\"plotly-graph-div\" style=\"height:400px; width:100%;\"></div>            <script type=\"text/javascript\">                require([\"plotly\"], function(Plotly) {                    window.PLOTLYENV=window.PLOTLYENV || {};                                    if (document.getElementById(\"8c142064-3534-4013-9587-83cb0c531626\")) {                    Plotly.newPlot(                        \"8c142064-3534-4013-9587-83cb0c531626\",                        [{\"histfunc\":\"count\",\"name\":\"animal\",\"x\":[\"animal\",\"animal\",\"animal\",\"animal\",\"animal\",\"animal\",\"animal\",\"animal\",\"animal\",\"animal\",\"animal\",\"animal\",\"animal\",\"animal\",\"animal\",\"animal\",\"animal\",\"animal\",\"animal\",\"animal\",\"animal\",\"animal\",\"animal\",\"animal\",\"animal\",\"animal\",\"animal\",\"animal\",\"animal\",\"animal\",\"animal\",\"animal\",\"animal\",\"animal\",\"animal\",\"animal\",\"animal\",\"animal\",\"animal\",\"animal\",\"animal\",\"animal\",\"animal\",\"animal\",\"animal\",\"animal\",\"animal\",\"animal\",\"animal\",\"animal\",\"animal\",\"animal\",\"animal\",\"animal\",\"animal\",\"animal\",\"animal\",\"animal\",\"animal\",\"animal\",\"animal\",\"animal\",\"animal\",\"animal\",\"animal\",\"animal\",\"animal\",\"animal\",\"animal\",\"animal\",\"animal\",\"animal\",\"animal\",\"animal\",\"animal\",\"animal\",\"animal\",\"animal\",\"animal\",\"animal\",\"animal\",\"animal\",\"animal\",\"animal\",\"animal\",\"animal\",\"animal\",\"animal\",\"animal\",\"animal\",\"animal\",\"animal\",\"animal\",\"animal\",\"animal\",\"animal\",\"animal\",\"animal\",\"animal\",\"animal\",\"animal\",\"animal\",\"animal\",\"animal\",\"animal\",\"animal\",\"animal\",\"animal\",\"animal\",\"animal\",\"animal\",\"animal\",\"animal\",\"animal\",\"animal\",\"animal\",\"animal\",\"animal\",\"animal\",\"animal\",\"animal\",\"animal\",\"animal\",\"animal\",\"animal\",\"animal\",\"animal\",\"animal\",\"animal\",\"animal\",\"animal\",\"animal\",\"animal\",\"animal\",\"animal\",\"animal\",\"animal\",\"animal\",\"animal\",\"animal\",\"animal\",\"animal\",\"animal\",\"animal\",\"animal\",\"animal\",\"animal\",\"animal\",\"animal\",\"animal\",\"animal\",\"animal\",\"animal\",\"animal\",\"animal\",\"animal\",\"animal\",\"animal\",\"animal\",\"animal\",\"animal\",\"animal\",\"animal\",\"animal\",\"animal\",\"animal\",\"animal\",\"animal\",\"animal\",\"animal\",\"animal\",\"animal\",\"animal\",\"animal\",\"animal\",\"animal\",\"animal\",\"animal\",\"animal\",\"animal\",\"animal\",\"animal\",\"animal\",\"animal\",\"animal\",\"animal\",\"animal\",\"animal\",\"animal\",\"animal\",\"animal\",\"animal\",\"animal\",\"animal\",\"animal\",\"animal\",\"animal\",\"animal\",\"animal\",\"animal\",\"animal\",\"animal\",\"animal\",\"animal\",\"animal\",\"animal\",\"animal\",\"animal\",\"animal\",\"animal\",\"animal\",\"animal\",\"animal\",\"animal\",\"animal\",\"animal\",\"animal\",\"animal\",\"animal\",\"animal\",\"animal\",\"animal\",\"animal\",\"animal\",\"animal\",\"animal\",\"animal\",\"animal\",\"animal\",\"animal\",\"animal\",\"animal\",\"animal\",\"animal\",\"animal\",\"animal\",\"animal\",\"animal\",\"animal\",\"animal\",\"animal\",\"animal\",\"animal\",\"animal\",\"animal\",\"animal\",\"animal\",\"animal\",\"animal\",\"animal\",\"animal\",\"animal\",\"animal\",\"animal\",\"animal\",\"animal\",\"animal\",\"animal\",\"animal\",\"animal\",\"animal\",\"animal\",\"animal\",\"animal\",\"animal\",\"animal\",\"animal\",\"animal\",\"animal\",\"animal\",\"animal\",\"animal\",\"animal\",\"animal\",\"animal\",\"animal\",\"animal\",\"animal\",\"animal\",\"animal\",\"animal\",\"animal\",\"animal\",\"animal\",\"animal\",\"animal\",\"animal\",\"animal\",\"animal\",\"animal\",\"animal\",\"animal\",\"animal\",\"animal\",\"animal\",\"animal\",\"animal\",\"animal\",\"animal\",\"animal\",\"animal\",\"animal\",\"animal\",\"animal\",\"animal\",\"animal\",\"animal\",\"animal\",\"animal\",\"animal\",\"animal\",\"animal\",\"animal\",\"animal\",\"animal\",\"animal\",\"animal\",\"animal\",\"animal\",\"animal\",\"animal\",\"animal\",\"animal\",\"animal\",\"animal\",\"animal\",\"animal\",\"animal\",\"animal\",\"animal\",\"animal\",\"animal\",\"animal\",\"animal\",\"animal\",\"animal\",\"animal\",\"animal\",\"animal\",\"animal\",\"animal\",\"animal\",\"animal\",\"animal\",\"animal\",\"animal\",\"animal\",\"animal\",\"animal\",\"animal\",\"animal\",\"animal\",\"animal\",\"animal\",\"animal\",\"animal\",\"animal\",\"animal\",\"animal\",\"animal\",\"animal\",\"animal\",\"animal\",\"animal\",\"animal\",\"animal\",\"animal\",\"animal\",\"animal\",\"animal\",\"animal\",\"animal\",\"animal\",\"animal\",\"animal\",\"animal\",\"animal\",\"animal\",\"animal\",\"animal\",\"animal\",\"animal\",\"animal\",\"animal\",\"animal\",\"animal\",\"animal\",\"animal\",\"animal\",\"animal\",\"animal\",\"animal\",\"animal\",\"animal\",\"animal\",\"animal\",\"animal\",\"animal\",\"animal\",\"animal\",\"animal\",\"animal\",\"animal\",\"animal\",\"animal\",\"animal\",\"animal\",\"animal\",\"animal\",\"animal\",\"animal\",\"animal\",\"animal\",\"animal\",\"animal\",\"animal\",\"animal\",\"animal\",\"animal\",\"animal\",\"animal\",\"animal\",\"animal\",\"animal\",\"animal\",\"animal\",\"animal\",\"animal\",\"animal\",\"animal\",\"animal\",\"animal\",\"animal\",\"animal\",\"animal\",\"animal\",\"animal\",\"animal\",\"animal\",\"animal\",\"animal\",\"animal\",\"animal\",\"animal\",\"animal\",\"animal\",\"animal\",\"animal\",\"animal\",\"animal\",\"animal\",\"animal\",\"animal\",\"animal\",\"animal\",\"animal\",\"animal\",\"animal\",\"animal\",\"animal\",\"animal\",\"animal\",\"animal\",\"animal\",\"animal\",\"animal\",\"animal\",\"animal\",\"animal\",\"animal\",\"animal\",\"animal\",\"animal\",\"animal\",\"animal\",\"animal\",\"animal\",\"animal\",\"animal\",\"animal\",\"animal\",\"animal\",\"animal\",\"animal\",\"animal\",\"animal\",\"animal\",\"animal\",\"animal\",\"animal\",\"animal\",\"animal\",\"animal\",\"animal\",\"animal\",\"animal\",\"animal\",\"animal\",\"animal\",\"animal\"],\"type\":\"histogram\"},{\"histfunc\":\"count\",\"name\":\"hiker\",\"x\":[\"hiker\",\"hiker\",\"hiker\",\"hiker\",\"hiker\",\"hiker\",\"hiker\",\"hiker\",\"hiker\",\"hiker\",\"hiker\",\"hiker\",\"hiker\",\"hiker\",\"hiker\",\"hiker\",\"hiker\",\"hiker\",\"hiker\",\"hiker\",\"hiker\",\"hiker\",\"hiker\",\"hiker\",\"hiker\",\"hiker\",\"hiker\",\"hiker\",\"hiker\",\"hiker\",\"hiker\",\"hiker\",\"hiker\",\"hiker\",\"hiker\",\"hiker\",\"hiker\",\"hiker\",\"hiker\",\"hiker\",\"hiker\",\"hiker\",\"hiker\",\"hiker\",\"hiker\",\"hiker\",\"hiker\",\"hiker\",\"hiker\",\"hiker\",\"hiker\",\"hiker\",\"hiker\",\"hiker\",\"hiker\",\"hiker\",\"hiker\",\"hiker\",\"hiker\",\"hiker\",\"hiker\",\"hiker\",\"hiker\",\"hiker\",\"hiker\",\"hiker\",\"hiker\",\"hiker\",\"hiker\",\"hiker\",\"hiker\",\"hiker\",\"hiker\",\"hiker\",\"hiker\",\"hiker\",\"hiker\",\"hiker\",\"hiker\",\"hiker\",\"hiker\",\"hiker\",\"hiker\",\"hiker\",\"hiker\",\"hiker\",\"hiker\",\"hiker\",\"hiker\",\"hiker\",\"hiker\",\"hiker\",\"hiker\",\"hiker\",\"hiker\",\"hiker\",\"hiker\",\"hiker\",\"hiker\",\"hiker\",\"hiker\",\"hiker\",\"hiker\",\"hiker\",\"hiker\",\"hiker\",\"hiker\",\"hiker\",\"hiker\",\"hiker\",\"hiker\",\"hiker\",\"hiker\",\"hiker\",\"hiker\",\"hiker\",\"hiker\",\"hiker\",\"hiker\",\"hiker\",\"hiker\",\"hiker\",\"hiker\",\"hiker\",\"hiker\",\"hiker\",\"hiker\",\"hiker\",\"hiker\",\"hiker\",\"hiker\",\"hiker\",\"hiker\",\"hiker\",\"hiker\",\"hiker\",\"hiker\",\"hiker\",\"hiker\",\"hiker\",\"hiker\",\"hiker\",\"hiker\",\"hiker\",\"hiker\",\"hiker\",\"hiker\",\"hiker\",\"hiker\",\"hiker\",\"hiker\",\"hiker\",\"hiker\",\"hiker\",\"hiker\",\"hiker\",\"hiker\",\"hiker\",\"hiker\",\"hiker\",\"hiker\",\"hiker\",\"hiker\",\"hiker\",\"hiker\",\"hiker\",\"hiker\",\"hiker\",\"hiker\",\"hiker\",\"hiker\",\"hiker\",\"hiker\",\"hiker\",\"hiker\",\"hiker\",\"hiker\",\"hiker\",\"hiker\",\"hiker\",\"hiker\",\"hiker\",\"hiker\",\"hiker\",\"hiker\",\"hiker\",\"hiker\",\"hiker\",\"hiker\",\"hiker\",\"hiker\",\"hiker\",\"hiker\",\"hiker\",\"hiker\",\"hiker\",\"hiker\",\"hiker\",\"hiker\",\"hiker\",\"hiker\",\"hiker\",\"hiker\",\"hiker\",\"hiker\",\"hiker\",\"hiker\",\"hiker\",\"hiker\",\"hiker\",\"hiker\",\"hiker\",\"hiker\",\"hiker\",\"hiker\",\"hiker\",\"hiker\",\"hiker\",\"hiker\",\"hiker\",\"hiker\",\"hiker\",\"hiker\",\"hiker\",\"hiker\",\"hiker\",\"hiker\",\"hiker\",\"hiker\",\"hiker\",\"hiker\",\"hiker\",\"hiker\",\"hiker\",\"hiker\",\"hiker\",\"hiker\",\"hiker\",\"hiker\",\"hiker\",\"hiker\",\"hiker\",\"hiker\",\"hiker\",\"hiker\",\"hiker\",\"hiker\",\"hiker\",\"hiker\",\"hiker\",\"hiker\",\"hiker\",\"hiker\",\"hiker\",\"hiker\",\"hiker\",\"hiker\",\"hiker\",\"hiker\",\"hiker\",\"hiker\",\"hiker\",\"hiker\",\"hiker\",\"hiker\",\"hiker\",\"hiker\",\"hiker\",\"hiker\",\"hiker\",\"hiker\",\"hiker\",\"hiker\",\"hiker\",\"hiker\",\"hiker\",\"hiker\",\"hiker\",\"hiker\",\"hiker\",\"hiker\",\"hiker\",\"hiker\",\"hiker\",\"hiker\",\"hiker\",\"hiker\",\"hiker\",\"hiker\",\"hiker\",\"hiker\",\"hiker\",\"hiker\",\"hiker\",\"hiker\",\"hiker\",\"hiker\",\"hiker\",\"hiker\",\"hiker\",\"hiker\",\"hiker\",\"hiker\",\"hiker\",\"hiker\",\"hiker\",\"hiker\",\"hiker\",\"hiker\",\"hiker\",\"hiker\",\"hiker\",\"hiker\",\"hiker\",\"hiker\",\"hiker\",\"hiker\",\"hiker\",\"hiker\",\"hiker\",\"hiker\",\"hiker\",\"hiker\",\"hiker\",\"hiker\",\"hiker\",\"hiker\",\"hiker\",\"hiker\",\"hiker\",\"hiker\",\"hiker\",\"hiker\",\"hiker\",\"hiker\",\"hiker\",\"hiker\",\"hiker\",\"hiker\",\"hiker\",\"hiker\",\"hiker\",\"hiker\",\"hiker\",\"hiker\",\"hiker\",\"hiker\",\"hiker\",\"hiker\",\"hiker\",\"hiker\",\"hiker\",\"hiker\",\"hiker\",\"hiker\",\"hiker\",\"hiker\",\"hiker\",\"hiker\",\"hiker\",\"hiker\",\"hiker\",\"hiker\",\"hiker\",\"hiker\",\"hiker\",\"hiker\",\"hiker\",\"hiker\",\"hiker\",\"hiker\",\"hiker\",\"hiker\",\"hiker\",\"hiker\",\"hiker\",\"hiker\",\"hiker\",\"hiker\",\"hiker\",\"hiker\",\"hiker\",\"hiker\",\"hiker\",\"hiker\",\"hiker\",\"hiker\",\"hiker\",\"hiker\",\"hiker\",\"hiker\",\"hiker\",\"hiker\",\"hiker\",\"hiker\",\"hiker\",\"hiker\",\"hiker\",\"hiker\",\"hiker\",\"hiker\",\"hiker\",\"hiker\",\"hiker\",\"hiker\",\"hiker\",\"hiker\",\"hiker\",\"hiker\",\"hiker\",\"hiker\",\"hiker\",\"hiker\",\"hiker\",\"hiker\",\"hiker\",\"hiker\",\"hiker\",\"hiker\",\"hiker\",\"hiker\",\"hiker\",\"hiker\",\"hiker\",\"hiker\",\"hiker\",\"hiker\",\"hiker\",\"hiker\",\"hiker\",\"hiker\",\"hiker\",\"hiker\",\"hiker\",\"hiker\",\"hiker\",\"hiker\",\"hiker\",\"hiker\",\"hiker\",\"hiker\",\"hiker\",\"hiker\",\"hiker\",\"hiker\",\"hiker\",\"hiker\",\"hiker\",\"hiker\",\"hiker\",\"hiker\",\"hiker\",\"hiker\",\"hiker\",\"hiker\",\"hiker\",\"hiker\",\"hiker\",\"hiker\",\"hiker\",\"hiker\",\"hiker\",\"hiker\",\"hiker\",\"hiker\",\"hiker\",\"hiker\",\"hiker\",\"hiker\",\"hiker\",\"hiker\",\"hiker\",\"hiker\",\"hiker\",\"hiker\",\"hiker\",\"hiker\",\"hiker\",\"hiker\",\"hiker\",\"hiker\",\"hiker\",\"hiker\",\"hiker\",\"hiker\",\"hiker\",\"hiker\",\"hiker\",\"hiker\",\"hiker\",\"hiker\",\"hiker\",\"hiker\",\"hiker\",\"hiker\",\"hiker\",\"hiker\",\"hiker\",\"hiker\",\"hiker\"],\"type\":\"histogram\"},{\"histfunc\":\"count\",\"name\":\"rock\",\"x\":[\"rock\",\"rock\",\"rock\",\"rock\",\"rock\",\"rock\",\"rock\",\"rock\",\"rock\",\"rock\",\"rock\",\"rock\",\"rock\",\"rock\",\"rock\",\"rock\",\"rock\",\"rock\",\"rock\",\"rock\",\"rock\",\"rock\",\"rock\",\"rock\",\"rock\",\"rock\",\"rock\",\"rock\",\"rock\",\"rock\",\"rock\",\"rock\",\"rock\",\"rock\",\"rock\",\"rock\",\"rock\",\"rock\",\"rock\",\"rock\",\"rock\",\"rock\",\"rock\",\"rock\",\"rock\",\"rock\",\"rock\",\"rock\",\"rock\",\"rock\",\"rock\",\"rock\",\"rock\",\"rock\",\"rock\",\"rock\",\"rock\",\"rock\",\"rock\",\"rock\",\"rock\",\"rock\",\"rock\",\"rock\",\"rock\",\"rock\",\"rock\",\"rock\",\"rock\",\"rock\",\"rock\",\"rock\",\"rock\",\"rock\",\"rock\",\"rock\",\"rock\",\"rock\",\"rock\",\"rock\",\"rock\",\"rock\",\"rock\",\"rock\",\"rock\",\"rock\",\"rock\",\"rock\",\"rock\",\"rock\",\"rock\",\"rock\",\"rock\",\"rock\",\"rock\",\"rock\",\"rock\",\"rock\",\"rock\",\"rock\",\"rock\",\"rock\",\"rock\",\"rock\",\"rock\",\"rock\",\"rock\",\"rock\",\"rock\",\"rock\",\"rock\",\"rock\",\"rock\",\"rock\",\"rock\",\"rock\",\"rock\",\"rock\",\"rock\",\"rock\",\"rock\",\"rock\",\"rock\",\"rock\",\"rock\",\"rock\",\"rock\",\"rock\",\"rock\",\"rock\",\"rock\",\"rock\",\"rock\",\"rock\",\"rock\",\"rock\",\"rock\",\"rock\",\"rock\",\"rock\",\"rock\",\"rock\",\"rock\",\"rock\",\"rock\",\"rock\",\"rock\",\"rock\",\"rock\",\"rock\",\"rock\",\"rock\",\"rock\",\"rock\",\"rock\",\"rock\",\"rock\",\"rock\",\"rock\",\"rock\",\"rock\",\"rock\",\"rock\",\"rock\",\"rock\",\"rock\",\"rock\",\"rock\",\"rock\",\"rock\",\"rock\",\"rock\",\"rock\",\"rock\",\"rock\",\"rock\",\"rock\",\"rock\",\"rock\",\"rock\",\"rock\",\"rock\",\"rock\",\"rock\",\"rock\",\"rock\",\"rock\",\"rock\",\"rock\",\"rock\",\"rock\",\"rock\",\"rock\",\"rock\",\"rock\",\"rock\",\"rock\",\"rock\",\"rock\",\"rock\",\"rock\",\"rock\",\"rock\",\"rock\",\"rock\",\"rock\",\"rock\",\"rock\",\"rock\",\"rock\",\"rock\",\"rock\",\"rock\",\"rock\",\"rock\",\"rock\",\"rock\",\"rock\",\"rock\",\"rock\",\"rock\",\"rock\",\"rock\",\"rock\",\"rock\",\"rock\",\"rock\",\"rock\",\"rock\",\"rock\",\"rock\",\"rock\",\"rock\",\"rock\",\"rock\",\"rock\",\"rock\",\"rock\",\"rock\",\"rock\",\"rock\",\"rock\",\"rock\",\"rock\",\"rock\",\"rock\",\"rock\",\"rock\",\"rock\",\"rock\",\"rock\",\"rock\",\"rock\",\"rock\",\"rock\",\"rock\",\"rock\",\"rock\",\"rock\",\"rock\",\"rock\",\"rock\",\"rock\",\"rock\",\"rock\",\"rock\",\"rock\",\"rock\",\"rock\",\"rock\",\"rock\",\"rock\",\"rock\",\"rock\",\"rock\",\"rock\",\"rock\",\"rock\",\"rock\",\"rock\",\"rock\",\"rock\",\"rock\",\"rock\",\"rock\",\"rock\",\"rock\",\"rock\",\"rock\",\"rock\",\"rock\",\"rock\",\"rock\",\"rock\",\"rock\",\"rock\",\"rock\",\"rock\",\"rock\",\"rock\",\"rock\",\"rock\",\"rock\",\"rock\",\"rock\",\"rock\",\"rock\",\"rock\",\"rock\",\"rock\",\"rock\",\"rock\",\"rock\",\"rock\",\"rock\",\"rock\",\"rock\",\"rock\",\"rock\",\"rock\",\"rock\",\"rock\",\"rock\",\"rock\",\"rock\",\"rock\",\"rock\",\"rock\",\"rock\",\"rock\",\"rock\",\"rock\",\"rock\",\"rock\",\"rock\",\"rock\",\"rock\",\"rock\",\"rock\",\"rock\",\"rock\",\"rock\",\"rock\",\"rock\",\"rock\",\"rock\",\"rock\",\"rock\",\"rock\",\"rock\",\"rock\",\"rock\",\"rock\",\"rock\",\"rock\",\"rock\",\"rock\",\"rock\",\"rock\",\"rock\",\"rock\",\"rock\",\"rock\",\"rock\",\"rock\",\"rock\",\"rock\",\"rock\",\"rock\",\"rock\",\"rock\",\"rock\",\"rock\",\"rock\",\"rock\",\"rock\",\"rock\",\"rock\",\"rock\",\"rock\",\"rock\",\"rock\",\"rock\",\"rock\",\"rock\",\"rock\",\"rock\",\"rock\",\"rock\",\"rock\",\"rock\",\"rock\",\"rock\",\"rock\",\"rock\",\"rock\",\"rock\",\"rock\",\"rock\",\"rock\",\"rock\",\"rock\",\"rock\",\"rock\",\"rock\",\"rock\",\"rock\",\"rock\",\"rock\",\"rock\",\"rock\",\"rock\",\"rock\",\"rock\",\"rock\",\"rock\",\"rock\",\"rock\",\"rock\",\"rock\",\"rock\",\"rock\",\"rock\",\"rock\",\"rock\",\"rock\",\"rock\",\"rock\",\"rock\",\"rock\",\"rock\",\"rock\",\"rock\",\"rock\",\"rock\",\"rock\",\"rock\",\"rock\",\"rock\",\"rock\",\"rock\",\"rock\",\"rock\",\"rock\",\"rock\",\"rock\",\"rock\",\"rock\",\"rock\",\"rock\",\"rock\",\"rock\",\"rock\",\"rock\",\"rock\",\"rock\",\"rock\",\"rock\",\"rock\",\"rock\",\"rock\",\"rock\",\"rock\",\"rock\",\"rock\",\"rock\",\"rock\",\"rock\",\"rock\",\"rock\",\"rock\",\"rock\",\"rock\",\"rock\",\"rock\",\"rock\",\"rock\",\"rock\",\"rock\",\"rock\",\"rock\",\"rock\",\"rock\",\"rock\",\"rock\",\"rock\",\"rock\",\"rock\",\"rock\",\"rock\",\"rock\",\"rock\",\"rock\",\"rock\",\"rock\",\"rock\",\"rock\",\"rock\",\"rock\",\"rock\"],\"type\":\"histogram\"},{\"histfunc\":\"count\",\"name\":\"tree\",\"x\":[\"tree\",\"tree\",\"tree\",\"tree\",\"tree\",\"tree\",\"tree\",\"tree\",\"tree\",\"tree\",\"tree\",\"tree\",\"tree\",\"tree\",\"tree\",\"tree\",\"tree\",\"tree\",\"tree\",\"tree\",\"tree\",\"tree\",\"tree\",\"tree\",\"tree\",\"tree\",\"tree\",\"tree\",\"tree\",\"tree\",\"tree\",\"tree\",\"tree\",\"tree\",\"tree\",\"tree\",\"tree\",\"tree\",\"tree\",\"tree\",\"tree\",\"tree\",\"tree\",\"tree\",\"tree\",\"tree\",\"tree\",\"tree\",\"tree\",\"tree\",\"tree\",\"tree\",\"tree\",\"tree\",\"tree\",\"tree\",\"tree\",\"tree\",\"tree\",\"tree\",\"tree\",\"tree\",\"tree\",\"tree\",\"tree\",\"tree\",\"tree\",\"tree\",\"tree\",\"tree\",\"tree\",\"tree\",\"tree\",\"tree\",\"tree\",\"tree\",\"tree\",\"tree\",\"tree\",\"tree\",\"tree\",\"tree\",\"tree\",\"tree\",\"tree\",\"tree\",\"tree\",\"tree\",\"tree\",\"tree\",\"tree\",\"tree\",\"tree\",\"tree\",\"tree\",\"tree\",\"tree\",\"tree\",\"tree\",\"tree\",\"tree\",\"tree\",\"tree\",\"tree\",\"tree\",\"tree\",\"tree\",\"tree\",\"tree\",\"tree\",\"tree\",\"tree\",\"tree\",\"tree\",\"tree\",\"tree\",\"tree\",\"tree\",\"tree\",\"tree\",\"tree\",\"tree\",\"tree\",\"tree\",\"tree\",\"tree\",\"tree\",\"tree\",\"tree\",\"tree\",\"tree\",\"tree\",\"tree\",\"tree\",\"tree\",\"tree\",\"tree\",\"tree\",\"tree\",\"tree\",\"tree\",\"tree\",\"tree\",\"tree\",\"tree\",\"tree\",\"tree\",\"tree\",\"tree\",\"tree\",\"tree\",\"tree\",\"tree\",\"tree\",\"tree\",\"tree\",\"tree\",\"tree\",\"tree\",\"tree\",\"tree\",\"tree\",\"tree\",\"tree\",\"tree\",\"tree\",\"tree\",\"tree\",\"tree\",\"tree\",\"tree\",\"tree\",\"tree\",\"tree\",\"tree\",\"tree\",\"tree\",\"tree\",\"tree\",\"tree\",\"tree\",\"tree\",\"tree\",\"tree\",\"tree\",\"tree\",\"tree\",\"tree\",\"tree\",\"tree\",\"tree\",\"tree\",\"tree\",\"tree\",\"tree\",\"tree\",\"tree\",\"tree\",\"tree\",\"tree\",\"tree\",\"tree\",\"tree\",\"tree\",\"tree\",\"tree\",\"tree\",\"tree\",\"tree\",\"tree\",\"tree\",\"tree\",\"tree\",\"tree\",\"tree\",\"tree\",\"tree\",\"tree\",\"tree\",\"tree\",\"tree\",\"tree\",\"tree\",\"tree\",\"tree\",\"tree\",\"tree\",\"tree\",\"tree\",\"tree\",\"tree\",\"tree\",\"tree\",\"tree\",\"tree\",\"tree\",\"tree\",\"tree\",\"tree\",\"tree\",\"tree\",\"tree\",\"tree\",\"tree\",\"tree\",\"tree\",\"tree\",\"tree\",\"tree\",\"tree\",\"tree\",\"tree\",\"tree\",\"tree\",\"tree\",\"tree\",\"tree\",\"tree\",\"tree\",\"tree\",\"tree\",\"tree\",\"tree\",\"tree\",\"tree\",\"tree\",\"tree\",\"tree\",\"tree\",\"tree\",\"tree\",\"tree\",\"tree\",\"tree\",\"tree\",\"tree\",\"tree\",\"tree\",\"tree\",\"tree\",\"tree\",\"tree\",\"tree\",\"tree\",\"tree\",\"tree\",\"tree\",\"tree\",\"tree\",\"tree\",\"tree\",\"tree\",\"tree\",\"tree\",\"tree\",\"tree\",\"tree\",\"tree\",\"tree\",\"tree\",\"tree\",\"tree\",\"tree\",\"tree\",\"tree\",\"tree\",\"tree\",\"tree\",\"tree\",\"tree\",\"tree\",\"tree\",\"tree\",\"tree\",\"tree\",\"tree\",\"tree\",\"tree\",\"tree\",\"tree\",\"tree\",\"tree\",\"tree\",\"tree\",\"tree\",\"tree\",\"tree\",\"tree\",\"tree\",\"tree\",\"tree\",\"tree\",\"tree\",\"tree\",\"tree\",\"tree\",\"tree\",\"tree\",\"tree\",\"tree\",\"tree\",\"tree\",\"tree\",\"tree\",\"tree\",\"tree\",\"tree\",\"tree\",\"tree\",\"tree\",\"tree\",\"tree\",\"tree\",\"tree\",\"tree\",\"tree\",\"tree\",\"tree\",\"tree\",\"tree\",\"tree\",\"tree\",\"tree\",\"tree\",\"tree\",\"tree\",\"tree\",\"tree\",\"tree\",\"tree\",\"tree\",\"tree\",\"tree\",\"tree\",\"tree\",\"tree\",\"tree\",\"tree\",\"tree\",\"tree\",\"tree\",\"tree\",\"tree\",\"tree\",\"tree\",\"tree\",\"tree\",\"tree\",\"tree\",\"tree\",\"tree\",\"tree\",\"tree\",\"tree\",\"tree\",\"tree\",\"tree\",\"tree\",\"tree\",\"tree\",\"tree\",\"tree\",\"tree\",\"tree\",\"tree\",\"tree\",\"tree\",\"tree\",\"tree\",\"tree\",\"tree\",\"tree\",\"tree\",\"tree\",\"tree\",\"tree\",\"tree\",\"tree\",\"tree\",\"tree\",\"tree\",\"tree\",\"tree\",\"tree\",\"tree\",\"tree\",\"tree\",\"tree\",\"tree\",\"tree\",\"tree\",\"tree\",\"tree\",\"tree\",\"tree\",\"tree\",\"tree\",\"tree\",\"tree\",\"tree\",\"tree\",\"tree\",\"tree\",\"tree\",\"tree\",\"tree\",\"tree\",\"tree\",\"tree\",\"tree\",\"tree\",\"tree\",\"tree\",\"tree\",\"tree\",\"tree\",\"tree\",\"tree\",\"tree\",\"tree\",\"tree\",\"tree\",\"tree\",\"tree\",\"tree\",\"tree\",\"tree\",\"tree\",\"tree\",\"tree\",\"tree\",\"tree\",\"tree\",\"tree\",\"tree\",\"tree\",\"tree\",\"tree\",\"tree\",\"tree\",\"tree\",\"tree\",\"tree\",\"tree\",\"tree\",\"tree\",\"tree\",\"tree\",\"tree\",\"tree\",\"tree\",\"tree\",\"tree\",\"tree\",\"tree\",\"tree\",\"tree\",\"tree\",\"tree\",\"tree\"],\"type\":\"histogram\"}],                        {\"title\":{\"text\":\"Label distribution\"},\"xaxis\":{\"title\":{\"text\":\"label\"}},\"yaxis\":{\"title\":{\"text\":\"count\"}},\"template\":{\"data\":{\"barpolar\":[{\"marker\":{\"line\":{\"color\":\"white\",\"width\":0.5},\"pattern\":{\"fillmode\":\"overlay\",\"size\":10,\"solidity\":0.2}},\"type\":\"barpolar\"}],\"bar\":[{\"error_x\":{\"color\":\"#2a3f5f\"},\"error_y\":{\"color\":\"#2a3f5f\"},\"marker\":{\"line\":{\"color\":\"white\",\"width\":0.5},\"pattern\":{\"fillmode\":\"overlay\",\"size\":10,\"solidity\":0.2}},\"type\":\"bar\"}],\"carpet\":[{\"aaxis\":{\"endlinecolor\":\"#2a3f5f\",\"gridcolor\":\"#C8D4E3\",\"linecolor\":\"#C8D4E3\",\"minorgridcolor\":\"#C8D4E3\",\"startlinecolor\":\"#2a3f5f\"},\"baxis\":{\"endlinecolor\":\"#2a3f5f\",\"gridcolor\":\"#C8D4E3\",\"linecolor\":\"#C8D4E3\",\"minorgridcolor\":\"#C8D4E3\",\"startlinecolor\":\"#2a3f5f\"},\"type\":\"carpet\"}],\"choropleth\":[{\"colorbar\":{\"outlinewidth\":0,\"ticks\":\"\"},\"type\":\"choropleth\"}],\"contourcarpet\":[{\"colorbar\":{\"outlinewidth\":0,\"ticks\":\"\"},\"type\":\"contourcarpet\"}],\"contour\":[{\"colorbar\":{\"outlinewidth\":0,\"ticks\":\"\"},\"colorscale\":[[0.0,\"#0d0887\"],[0.1111111111111111,\"#46039f\"],[0.2222222222222222,\"#7201a8\"],[0.3333333333333333,\"#9c179e\"],[0.4444444444444444,\"#bd3786\"],[0.5555555555555556,\"#d8576b\"],[0.6666666666666666,\"#ed7953\"],[0.7777777777777778,\"#fb9f3a\"],[0.8888888888888888,\"#fdca26\"],[1.0,\"#f0f921\"]],\"type\":\"contour\"}],\"heatmapgl\":[{\"colorbar\":{\"outlinewidth\":0,\"ticks\":\"\"},\"colorscale\":[[0.0,\"#0d0887\"],[0.1111111111111111,\"#46039f\"],[0.2222222222222222,\"#7201a8\"],[0.3333333333333333,\"#9c179e\"],[0.4444444444444444,\"#bd3786\"],[0.5555555555555556,\"#d8576b\"],[0.6666666666666666,\"#ed7953\"],[0.7777777777777778,\"#fb9f3a\"],[0.8888888888888888,\"#fdca26\"],[1.0,\"#f0f921\"]],\"type\":\"heatmapgl\"}],\"heatmap\":[{\"colorbar\":{\"outlinewidth\":0,\"ticks\":\"\"},\"colorscale\":[[0.0,\"#0d0887\"],[0.1111111111111111,\"#46039f\"],[0.2222222222222222,\"#7201a8\"],[0.3333333333333333,\"#9c179e\"],[0.4444444444444444,\"#bd3786\"],[0.5555555555555556,\"#d8576b\"],[0.6666666666666666,\"#ed7953\"],[0.7777777777777778,\"#fb9f3a\"],[0.8888888888888888,\"#fdca26\"],[1.0,\"#f0f921\"]],\"type\":\"heatmap\"}],\"histogram2dcontour\":[{\"colorbar\":{\"outlinewidth\":0,\"ticks\":\"\"},\"colorscale\":[[0.0,\"#0d0887\"],[0.1111111111111111,\"#46039f\"],[0.2222222222222222,\"#7201a8\"],[0.3333333333333333,\"#9c179e\"],[0.4444444444444444,\"#bd3786\"],[0.5555555555555556,\"#d8576b\"],[0.6666666666666666,\"#ed7953\"],[0.7777777777777778,\"#fb9f3a\"],[0.8888888888888888,\"#fdca26\"],[1.0,\"#f0f921\"]],\"type\":\"histogram2dcontour\"}],\"histogram2d\":[{\"colorbar\":{\"outlinewidth\":0,\"ticks\":\"\"},\"colorscale\":[[0.0,\"#0d0887\"],[0.1111111111111111,\"#46039f\"],[0.2222222222222222,\"#7201a8\"],[0.3333333333333333,\"#9c179e\"],[0.4444444444444444,\"#bd3786\"],[0.5555555555555556,\"#d8576b\"],[0.6666666666666666,\"#ed7953\"],[0.7777777777777778,\"#fb9f3a\"],[0.8888888888888888,\"#fdca26\"],[1.0,\"#f0f921\"]],\"type\":\"histogram2d\"}],\"histogram\":[{\"marker\":{\"pattern\":{\"fillmode\":\"overlay\",\"size\":10,\"solidity\":0.2},\"line\":{\"width\":1}},\"type\":\"histogram\"}],\"mesh3d\":[{\"colorbar\":{\"outlinewidth\":0,\"ticks\":\"\"},\"type\":\"mesh3d\"}],\"parcoords\":[{\"line\":{\"colorbar\":{\"outlinewidth\":0,\"ticks\":\"\"}},\"type\":\"parcoords\"}],\"pie\":[{\"automargin\":true,\"type\":\"pie\"}],\"scatter3d\":[{\"line\":{\"colorbar\":{\"outlinewidth\":0,\"ticks\":\"\"}},\"marker\":{\"colorbar\":{\"outlinewidth\":0,\"ticks\":\"\"},\"opacity\":0.8},\"type\":\"scatter3d\"}],\"scattercarpet\":[{\"marker\":{\"colorbar\":{\"outlinewidth\":0,\"ticks\":\"\"}},\"type\":\"scattercarpet\"}],\"scattergeo\":[{\"marker\":{\"colorbar\":{\"outlinewidth\":0,\"ticks\":\"\"}},\"type\":\"scattergeo\"}],\"scattergl\":[{\"marker\":{\"colorbar\":{\"outlinewidth\":0,\"ticks\":\"\"}},\"type\":\"scattergl\"}],\"scattermapbox\":[{\"marker\":{\"colorbar\":{\"outlinewidth\":0,\"ticks\":\"\"}},\"type\":\"scattermapbox\"}],\"scatterpolargl\":[{\"marker\":{\"colorbar\":{\"outlinewidth\":0,\"ticks\":\"\"}},\"type\":\"scatterpolargl\"}],\"scatterpolar\":[{\"marker\":{\"colorbar\":{\"outlinewidth\":0,\"ticks\":\"\"}},\"type\":\"scatterpolar\"}],\"scatter\":[{\"fillpattern\":{\"fillmode\":\"overlay\",\"size\":10,\"solidity\":0.2},\"type\":\"scatter\",\"marker\":{\"opacity\":0.8}}],\"scatterternary\":[{\"marker\":{\"colorbar\":{\"outlinewidth\":0,\"ticks\":\"\"}},\"type\":\"scatterternary\"}],\"surface\":[{\"colorbar\":{\"outlinewidth\":0,\"ticks\":\"\"},\"colorscale\":[[0.0,\"#0d0887\"],[0.1111111111111111,\"#46039f\"],[0.2222222222222222,\"#7201a8\"],[0.3333333333333333,\"#9c179e\"],[0.4444444444444444,\"#bd3786\"],[0.5555555555555556,\"#d8576b\"],[0.6666666666666666,\"#ed7953\"],[0.7777777777777778,\"#fb9f3a\"],[0.8888888888888888,\"#fdca26\"],[1.0,\"#f0f921\"]],\"type\":\"surface\"}],\"table\":[{\"cells\":{\"fill\":{\"color\":\"#EBF0F8\"},\"line\":{\"color\":\"white\"}},\"header\":{\"fill\":{\"color\":\"#C8D4E3\"},\"line\":{\"color\":\"white\"}},\"type\":\"table\"}],\"box\":[{\"boxpoints\":\"outliers\",\"notched\":false,\"type\":\"box\"}]},\"layout\":{\"annotationdefaults\":{\"arrowcolor\":\"#2a3f5f\",\"arrowhead\":0,\"arrowwidth\":1},\"autotypenumbers\":\"strict\",\"coloraxis\":{\"colorbar\":{\"outlinewidth\":0,\"ticks\":\"\"}},\"colorscale\":{\"diverging\":[[0,\"#8e0152\"],[0.1,\"#c51b7d\"],[0.2,\"#de77ae\"],[0.3,\"#f1b6da\"],[0.4,\"#fde0ef\"],[0.5,\"#f7f7f7\"],[0.6,\"#e6f5d0\"],[0.7,\"#b8e186\"],[0.8,\"#7fbc41\"],[0.9,\"#4d9221\"],[1,\"#276419\"]],\"sequential\":[[0.0,\"#0d0887\"],[0.1111111111111111,\"#46039f\"],[0.2222222222222222,\"#7201a8\"],[0.3333333333333333,\"#9c179e\"],[0.4444444444444444,\"#bd3786\"],[0.5555555555555556,\"#d8576b\"],[0.6666666666666666,\"#ed7953\"],[0.7777777777777778,\"#fb9f3a\"],[0.8888888888888888,\"#fdca26\"],[1.0,\"#f0f921\"]],\"sequentialminus\":[[0.0,\"#0d0887\"],[0.1111111111111111,\"#46039f\"],[0.2222222222222222,\"#7201a8\"],[0.3333333333333333,\"#9c179e\"],[0.4444444444444444,\"#bd3786\"],[0.5555555555555556,\"#d8576b\"],[0.6666666666666666,\"#ed7953\"],[0.7777777777777778,\"#fb9f3a\"],[0.8888888888888888,\"#fdca26\"],[1.0,\"#f0f921\"]]},\"colorway\":[\"#636efa\",\"#EF553B\",\"#00cc96\",\"#ab63fa\",\"#FFA15A\",\"#19d3f3\",\"#FF6692\",\"#B6E880\",\"#FF97FF\",\"#FECB52\"],\"font\":{\"color\":\"#2a3f5f\"},\"geo\":{\"bgcolor\":\"white\",\"lakecolor\":\"white\",\"landcolor\":\"white\",\"showlakes\":true,\"showland\":true,\"subunitcolor\":\"#C8D4E3\"},\"hoverlabel\":{\"align\":\"left\"},\"hovermode\":\"closest\",\"mapbox\":{\"style\":\"light\"},\"paper_bgcolor\":\"white\",\"plot_bgcolor\":\"white\",\"polar\":{\"angularaxis\":{\"gridcolor\":\"#EBF0F8\",\"linecolor\":\"#EBF0F8\",\"ticks\":\"\"},\"bgcolor\":\"white\",\"radialaxis\":{\"gridcolor\":\"#EBF0F8\",\"linecolor\":\"#EBF0F8\",\"ticks\":\"\"}},\"scene\":{\"xaxis\":{\"backgroundcolor\":\"white\",\"gridcolor\":\"#DFE8F3\",\"gridwidth\":2,\"linecolor\":\"#EBF0F8\",\"showbackground\":true,\"ticks\":\"\",\"zerolinecolor\":\"#EBF0F8\"},\"yaxis\":{\"backgroundcolor\":\"white\",\"gridcolor\":\"#DFE8F3\",\"gridwidth\":2,\"linecolor\":\"#EBF0F8\",\"showbackground\":true,\"ticks\":\"\",\"zerolinecolor\":\"#EBF0F8\"},\"zaxis\":{\"backgroundcolor\":\"white\",\"gridcolor\":\"#DFE8F3\",\"gridwidth\":2,\"linecolor\":\"#EBF0F8\",\"showbackground\":true,\"ticks\":\"\",\"zerolinecolor\":\"#EBF0F8\"},\"camera\":{\"eye\":{\"x\":1.5,\"y\":1.5,\"z\":0.1}}},\"shapedefaults\":{\"line\":{\"color\":\"#2a3f5f\"}},\"ternary\":{\"aaxis\":{\"gridcolor\":\"#DFE8F3\",\"linecolor\":\"#A2B1C6\",\"ticks\":\"\"},\"baxis\":{\"gridcolor\":\"#DFE8F3\",\"linecolor\":\"#A2B1C6\",\"ticks\":\"\"},\"bgcolor\":\"white\",\"caxis\":{\"gridcolor\":\"#DFE8F3\",\"linecolor\":\"#A2B1C6\",\"ticks\":\"\"}},\"title\":{\"x\":0.5},\"xaxis\":{\"automargin\":true,\"gridcolor\":\"#EBF0F8\",\"linecolor\":\"#EBF0F8\",\"ticks\":\"\",\"title\":{\"standoff\":15},\"zerolinecolor\":\"#EBF0F8\",\"zerolinewidth\":2,\"linewidth\":2,\"showline\":true},\"yaxis\":{\"automargin\":true,\"gridcolor\":\"#EBF0F8\",\"linecolor\":\"#EBF0F8\",\"ticks\":\"\",\"title\":{\"standoff\":15},\"zerolinecolor\":\"#EBF0F8\",\"zerolinewidth\":2,\"linewidth\":2,\"showline\":true},\"height\":400,\"margin\":{\"b\":2,\"l\":2,\"r\":2,\"t\":30}}},\"legend\":{\"title\":{\"text\":\"label\"}}},                        {\"responsive\": true}                    ).then(function(){\n                            \nvar gd = document.getElementById('8c142064-3534-4013-9587-83cb0c531626');\nvar x = new MutationObserver(function (mutations, observer) {{\n        var display = window.getComputedStyle(gd).display;\n        if (!display || display === 'none') {{\n            console.log([gd, 'removed!']);\n            Plotly.purge(gd);\n            observer.disconnect();\n        }}\n}});\n\n// Listen for the removal of the full notebook cells\nvar notebookContainer = gd.closest('#notebook-container');\nif (notebookContainer) {{\n    x.observe(notebookContainer, {childList: true});\n}}\n\n// Listen for the clearing of the current output cell\nvar outputEl = gd.closest('.output');\nif (outputEl) {{\n    x.observe(outputEl, {childList: true});\n}}\n\n                        })                };                });            </script>        </div>"
          },
          "metadata": {}
        }
      ],
      "execution_count": 18,
      "metadata": {}
    },
    {
      "cell_type": "markdown",
      "source": [
        "This new dataset is balanced among the classes, but for our purposes we want it balanced between hikers and non-hikers. \n",
        "\n",
        "For simplicity, let's take the hikers plus a random sampling of the non-hikers."
      ],
      "metadata": {}
    },
    {
      "cell_type": "code",
      "source": [
        "\n",
        "# Add a new label with true/false values to our dataset\n",
        "balanced_dataset[\"is_hiker\"] = balanced_dataset.label == \"hiker\"\n",
        "\n",
        "hikers_dataset = balanced_dataset[balanced_dataset[\"is_hiker\"] == 1] \n",
        "nonhikers_dataset = balanced_dataset[balanced_dataset[\"is_hiker\"] == False] \n",
        "# take a random sampling of non-hikers the same size as the hikers subset\n",
        "nonhikers_dataset = nonhikers_dataset.sample(n=len(hikers_dataset.index), random_state=1)\n",
        "balanced_dataset = pandas.concat([hikers_dataset, nonhikers_dataset])\n",
        "\n",
        "# Plot frequency for \"is_hiker\" labels\n",
        "graphing.multiple_histogram(balanced_dataset, label_x=\"is_hiker\", label_group=\"is_hiker\", title=\"Label distribution in balanced dataset\")"
      ],
      "outputs": [
        {
          "output_type": "display_data",
          "data": {
            "application/vnd.plotly.v1+json": {
              "data": [
                {
                  "histfunc": "count",
                  "name": "False",
                  "x": [
                    false,
                    false,
                    false,
                    false,
                    false,
                    false,
                    false,
                    false,
                    false,
                    false,
                    false,
                    false,
                    false,
                    false,
                    false,
                    false,
                    false,
                    false,
                    false,
                    false,
                    false,
                    false,
                    false,
                    false,
                    false,
                    false,
                    false,
                    false,
                    false,
                    false,
                    false,
                    false,
                    false,
                    false,
                    false,
                    false,
                    false,
                    false,
                    false,
                    false,
                    false,
                    false,
                    false,
                    false,
                    false,
                    false,
                    false,
                    false,
                    false,
                    false,
                    false,
                    false,
                    false,
                    false,
                    false,
                    false,
                    false,
                    false,
                    false,
                    false,
                    false,
                    false,
                    false,
                    false,
                    false,
                    false,
                    false,
                    false,
                    false,
                    false,
                    false,
                    false,
                    false,
                    false,
                    false,
                    false,
                    false,
                    false,
                    false,
                    false,
                    false,
                    false,
                    false,
                    false,
                    false,
                    false,
                    false,
                    false,
                    false,
                    false,
                    false,
                    false,
                    false,
                    false,
                    false,
                    false,
                    false,
                    false,
                    false,
                    false,
                    false,
                    false,
                    false,
                    false,
                    false,
                    false,
                    false,
                    false,
                    false,
                    false,
                    false,
                    false,
                    false,
                    false,
                    false,
                    false,
                    false,
                    false,
                    false,
                    false,
                    false,
                    false,
                    false,
                    false,
                    false,
                    false,
                    false,
                    false,
                    false,
                    false,
                    false,
                    false,
                    false,
                    false,
                    false,
                    false,
                    false,
                    false,
                    false,
                    false,
                    false,
                    false,
                    false,
                    false,
                    false,
                    false,
                    false,
                    false,
                    false,
                    false,
                    false,
                    false,
                    false,
                    false,
                    false,
                    false,
                    false,
                    false,
                    false,
                    false,
                    false,
                    false,
                    false,
                    false,
                    false,
                    false,
                    false,
                    false,
                    false,
                    false,
                    false,
                    false,
                    false,
                    false,
                    false,
                    false,
                    false,
                    false,
                    false,
                    false,
                    false,
                    false,
                    false,
                    false,
                    false,
                    false,
                    false,
                    false,
                    false,
                    false,
                    false,
                    false,
                    false,
                    false,
                    false,
                    false,
                    false,
                    false,
                    false,
                    false,
                    false,
                    false,
                    false,
                    false,
                    false,
                    false,
                    false,
                    false,
                    false,
                    false,
                    false,
                    false,
                    false,
                    false,
                    false,
                    false,
                    false,
                    false,
                    false,
                    false,
                    false,
                    false,
                    false,
                    false,
                    false,
                    false,
                    false,
                    false,
                    false,
                    false,
                    false,
                    false,
                    false,
                    false,
                    false,
                    false,
                    false,
                    false,
                    false,
                    false,
                    false,
                    false,
                    false,
                    false,
                    false,
                    false,
                    false,
                    false,
                    false,
                    false,
                    false,
                    false,
                    false,
                    false,
                    false,
                    false,
                    false,
                    false,
                    false,
                    false,
                    false,
                    false,
                    false,
                    false,
                    false,
                    false,
                    false,
                    false,
                    false,
                    false,
                    false,
                    false,
                    false,
                    false,
                    false,
                    false,
                    false,
                    false,
                    false,
                    false,
                    false,
                    false,
                    false,
                    false,
                    false,
                    false,
                    false,
                    false,
                    false,
                    false,
                    false,
                    false,
                    false,
                    false,
                    false,
                    false,
                    false,
                    false,
                    false,
                    false,
                    false,
                    false,
                    false,
                    false,
                    false,
                    false,
                    false,
                    false,
                    false,
                    false,
                    false,
                    false,
                    false,
                    false,
                    false,
                    false,
                    false,
                    false,
                    false,
                    false,
                    false,
                    false,
                    false,
                    false,
                    false,
                    false,
                    false,
                    false,
                    false,
                    false,
                    false,
                    false,
                    false,
                    false,
                    false,
                    false,
                    false,
                    false,
                    false,
                    false,
                    false,
                    false,
                    false,
                    false,
                    false,
                    false,
                    false,
                    false,
                    false,
                    false,
                    false,
                    false,
                    false,
                    false,
                    false,
                    false,
                    false,
                    false,
                    false,
                    false,
                    false,
                    false,
                    false,
                    false,
                    false,
                    false,
                    false,
                    false,
                    false,
                    false,
                    false,
                    false,
                    false,
                    false,
                    false,
                    false,
                    false,
                    false,
                    false,
                    false,
                    false,
                    false,
                    false,
                    false,
                    false,
                    false,
                    false,
                    false,
                    false,
                    false,
                    false,
                    false,
                    false,
                    false,
                    false,
                    false,
                    false,
                    false,
                    false,
                    false,
                    false,
                    false,
                    false,
                    false,
                    false,
                    false,
                    false,
                    false,
                    false,
                    false,
                    false,
                    false,
                    false,
                    false,
                    false,
                    false,
                    false,
                    false,
                    false,
                    false,
                    false,
                    false,
                    false,
                    false,
                    false,
                    false,
                    false,
                    false,
                    false,
                    false,
                    false,
                    false,
                    false,
                    false,
                    false,
                    false,
                    false,
                    false,
                    false,
                    false,
                    false,
                    false,
                    false,
                    false,
                    false,
                    false,
                    false,
                    false,
                    false,
                    false,
                    false,
                    false,
                    false,
                    false,
                    false,
                    false,
                    false,
                    false,
                    false,
                    false,
                    false,
                    false,
                    false,
                    false,
                    false,
                    false,
                    false,
                    false,
                    false,
                    false,
                    false,
                    false,
                    false,
                    false,
                    false,
                    false,
                    false,
                    false,
                    false,
                    false,
                    false,
                    false,
                    false,
                    false,
                    false,
                    false,
                    false,
                    false,
                    false,
                    false,
                    false,
                    false,
                    false,
                    false,
                    false,
                    false,
                    false,
                    false,
                    false,
                    false
                  ],
                  "type": "histogram"
                },
                {
                  "histfunc": "count",
                  "name": "True",
                  "x": [
                    true,
                    true,
                    true,
                    true,
                    true,
                    true,
                    true,
                    true,
                    true,
                    true,
                    true,
                    true,
                    true,
                    true,
                    true,
                    true,
                    true,
                    true,
                    true,
                    true,
                    true,
                    true,
                    true,
                    true,
                    true,
                    true,
                    true,
                    true,
                    true,
                    true,
                    true,
                    true,
                    true,
                    true,
                    true,
                    true,
                    true,
                    true,
                    true,
                    true,
                    true,
                    true,
                    true,
                    true,
                    true,
                    true,
                    true,
                    true,
                    true,
                    true,
                    true,
                    true,
                    true,
                    true,
                    true,
                    true,
                    true,
                    true,
                    true,
                    true,
                    true,
                    true,
                    true,
                    true,
                    true,
                    true,
                    true,
                    true,
                    true,
                    true,
                    true,
                    true,
                    true,
                    true,
                    true,
                    true,
                    true,
                    true,
                    true,
                    true,
                    true,
                    true,
                    true,
                    true,
                    true,
                    true,
                    true,
                    true,
                    true,
                    true,
                    true,
                    true,
                    true,
                    true,
                    true,
                    true,
                    true,
                    true,
                    true,
                    true,
                    true,
                    true,
                    true,
                    true,
                    true,
                    true,
                    true,
                    true,
                    true,
                    true,
                    true,
                    true,
                    true,
                    true,
                    true,
                    true,
                    true,
                    true,
                    true,
                    true,
                    true,
                    true,
                    true,
                    true,
                    true,
                    true,
                    true,
                    true,
                    true,
                    true,
                    true,
                    true,
                    true,
                    true,
                    true,
                    true,
                    true,
                    true,
                    true,
                    true,
                    true,
                    true,
                    true,
                    true,
                    true,
                    true,
                    true,
                    true,
                    true,
                    true,
                    true,
                    true,
                    true,
                    true,
                    true,
                    true,
                    true,
                    true,
                    true,
                    true,
                    true,
                    true,
                    true,
                    true,
                    true,
                    true,
                    true,
                    true,
                    true,
                    true,
                    true,
                    true,
                    true,
                    true,
                    true,
                    true,
                    true,
                    true,
                    true,
                    true,
                    true,
                    true,
                    true,
                    true,
                    true,
                    true,
                    true,
                    true,
                    true,
                    true,
                    true,
                    true,
                    true,
                    true,
                    true,
                    true,
                    true,
                    true,
                    true,
                    true,
                    true,
                    true,
                    true,
                    true,
                    true,
                    true,
                    true,
                    true,
                    true,
                    true,
                    true,
                    true,
                    true,
                    true,
                    true,
                    true,
                    true,
                    true,
                    true,
                    true,
                    true,
                    true,
                    true,
                    true,
                    true,
                    true,
                    true,
                    true,
                    true,
                    true,
                    true,
                    true,
                    true,
                    true,
                    true,
                    true,
                    true,
                    true,
                    true,
                    true,
                    true,
                    true,
                    true,
                    true,
                    true,
                    true,
                    true,
                    true,
                    true,
                    true,
                    true,
                    true,
                    true,
                    true,
                    true,
                    true,
                    true,
                    true,
                    true,
                    true,
                    true,
                    true,
                    true,
                    true,
                    true,
                    true,
                    true,
                    true,
                    true,
                    true,
                    true,
                    true,
                    true,
                    true,
                    true,
                    true,
                    true,
                    true,
                    true,
                    true,
                    true,
                    true,
                    true,
                    true,
                    true,
                    true,
                    true,
                    true,
                    true,
                    true,
                    true,
                    true,
                    true,
                    true,
                    true,
                    true,
                    true,
                    true,
                    true,
                    true,
                    true,
                    true,
                    true,
                    true,
                    true,
                    true,
                    true,
                    true,
                    true,
                    true,
                    true,
                    true,
                    true,
                    true,
                    true,
                    true,
                    true,
                    true,
                    true,
                    true,
                    true,
                    true,
                    true,
                    true,
                    true,
                    true,
                    true,
                    true,
                    true,
                    true,
                    true,
                    true,
                    true,
                    true,
                    true,
                    true,
                    true,
                    true,
                    true,
                    true,
                    true,
                    true,
                    true,
                    true,
                    true,
                    true,
                    true,
                    true,
                    true,
                    true,
                    true,
                    true,
                    true,
                    true,
                    true,
                    true,
                    true,
                    true,
                    true,
                    true,
                    true,
                    true,
                    true,
                    true,
                    true,
                    true,
                    true,
                    true,
                    true,
                    true,
                    true,
                    true,
                    true,
                    true,
                    true,
                    true,
                    true,
                    true,
                    true,
                    true,
                    true,
                    true,
                    true,
                    true,
                    true,
                    true,
                    true,
                    true,
                    true,
                    true,
                    true,
                    true,
                    true,
                    true,
                    true,
                    true,
                    true,
                    true,
                    true,
                    true,
                    true,
                    true,
                    true,
                    true,
                    true,
                    true,
                    true,
                    true,
                    true,
                    true,
                    true,
                    true,
                    true,
                    true,
                    true,
                    true,
                    true,
                    true,
                    true,
                    true,
                    true,
                    true,
                    true,
                    true,
                    true,
                    true,
                    true,
                    true,
                    true,
                    true,
                    true,
                    true,
                    true,
                    true,
                    true,
                    true,
                    true,
                    true,
                    true,
                    true,
                    true,
                    true,
                    true,
                    true,
                    true,
                    true,
                    true,
                    true,
                    true,
                    true,
                    true,
                    true,
                    true,
                    true,
                    true,
                    true,
                    true,
                    true,
                    true,
                    true,
                    true,
                    true,
                    true,
                    true,
                    true,
                    true,
                    true,
                    true,
                    true,
                    true,
                    true,
                    true,
                    true,
                    true,
                    true,
                    true,
                    true,
                    true,
                    true,
                    true,
                    true,
                    true,
                    true,
                    true,
                    true,
                    true,
                    true,
                    true,
                    true,
                    true,
                    true,
                    true,
                    true,
                    true,
                    true,
                    true,
                    true,
                    true,
                    true,
                    true
                  ],
                  "type": "histogram"
                }
              ],
              "layout": {
                "title": {
                  "text": "Label distribution in balanced dataset"
                },
                "xaxis": {
                  "title": {
                    "text": "is hiker"
                  }
                },
                "yaxis": {
                  "title": {
                    "text": "count"
                  }
                },
                "template": {
                  "data": {
                    "barpolar": [
                      {
                        "marker": {
                          "line": {
                            "color": "white",
                            "width": 0.5
                          },
                          "pattern": {
                            "fillmode": "overlay",
                            "size": 10,
                            "solidity": 0.2
                          }
                        },
                        "type": "barpolar"
                      }
                    ],
                    "bar": [
                      {
                        "error_x": {
                          "color": "#2a3f5f"
                        },
                        "error_y": {
                          "color": "#2a3f5f"
                        },
                        "marker": {
                          "line": {
                            "color": "white",
                            "width": 0.5
                          },
                          "pattern": {
                            "fillmode": "overlay",
                            "size": 10,
                            "solidity": 0.2
                          }
                        },
                        "type": "bar"
                      }
                    ],
                    "carpet": [
                      {
                        "aaxis": {
                          "endlinecolor": "#2a3f5f",
                          "gridcolor": "#C8D4E3",
                          "linecolor": "#C8D4E3",
                          "minorgridcolor": "#C8D4E3",
                          "startlinecolor": "#2a3f5f"
                        },
                        "baxis": {
                          "endlinecolor": "#2a3f5f",
                          "gridcolor": "#C8D4E3",
                          "linecolor": "#C8D4E3",
                          "minorgridcolor": "#C8D4E3",
                          "startlinecolor": "#2a3f5f"
                        },
                        "type": "carpet"
                      }
                    ],
                    "choropleth": [
                      {
                        "colorbar": {
                          "outlinewidth": 0,
                          "ticks": ""
                        },
                        "type": "choropleth"
                      }
                    ],
                    "contourcarpet": [
                      {
                        "colorbar": {
                          "outlinewidth": 0,
                          "ticks": ""
                        },
                        "type": "contourcarpet"
                      }
                    ],
                    "contour": [
                      {
                        "colorbar": {
                          "outlinewidth": 0,
                          "ticks": ""
                        },
                        "colorscale": [
                          [
                            0,
                            "#0d0887"
                          ],
                          [
                            0.1111111111111111,
                            "#46039f"
                          ],
                          [
                            0.2222222222222222,
                            "#7201a8"
                          ],
                          [
                            0.3333333333333333,
                            "#9c179e"
                          ],
                          [
                            0.4444444444444444,
                            "#bd3786"
                          ],
                          [
                            0.5555555555555556,
                            "#d8576b"
                          ],
                          [
                            0.6666666666666666,
                            "#ed7953"
                          ],
                          [
                            0.7777777777777778,
                            "#fb9f3a"
                          ],
                          [
                            0.8888888888888888,
                            "#fdca26"
                          ],
                          [
                            1,
                            "#f0f921"
                          ]
                        ],
                        "type": "contour"
                      }
                    ],
                    "heatmapgl": [
                      {
                        "colorbar": {
                          "outlinewidth": 0,
                          "ticks": ""
                        },
                        "colorscale": [
                          [
                            0,
                            "#0d0887"
                          ],
                          [
                            0.1111111111111111,
                            "#46039f"
                          ],
                          [
                            0.2222222222222222,
                            "#7201a8"
                          ],
                          [
                            0.3333333333333333,
                            "#9c179e"
                          ],
                          [
                            0.4444444444444444,
                            "#bd3786"
                          ],
                          [
                            0.5555555555555556,
                            "#d8576b"
                          ],
                          [
                            0.6666666666666666,
                            "#ed7953"
                          ],
                          [
                            0.7777777777777778,
                            "#fb9f3a"
                          ],
                          [
                            0.8888888888888888,
                            "#fdca26"
                          ],
                          [
                            1,
                            "#f0f921"
                          ]
                        ],
                        "type": "heatmapgl"
                      }
                    ],
                    "heatmap": [
                      {
                        "colorbar": {
                          "outlinewidth": 0,
                          "ticks": ""
                        },
                        "colorscale": [
                          [
                            0,
                            "#0d0887"
                          ],
                          [
                            0.1111111111111111,
                            "#46039f"
                          ],
                          [
                            0.2222222222222222,
                            "#7201a8"
                          ],
                          [
                            0.3333333333333333,
                            "#9c179e"
                          ],
                          [
                            0.4444444444444444,
                            "#bd3786"
                          ],
                          [
                            0.5555555555555556,
                            "#d8576b"
                          ],
                          [
                            0.6666666666666666,
                            "#ed7953"
                          ],
                          [
                            0.7777777777777778,
                            "#fb9f3a"
                          ],
                          [
                            0.8888888888888888,
                            "#fdca26"
                          ],
                          [
                            1,
                            "#f0f921"
                          ]
                        ],
                        "type": "heatmap"
                      }
                    ],
                    "histogram2dcontour": [
                      {
                        "colorbar": {
                          "outlinewidth": 0,
                          "ticks": ""
                        },
                        "colorscale": [
                          [
                            0,
                            "#0d0887"
                          ],
                          [
                            0.1111111111111111,
                            "#46039f"
                          ],
                          [
                            0.2222222222222222,
                            "#7201a8"
                          ],
                          [
                            0.3333333333333333,
                            "#9c179e"
                          ],
                          [
                            0.4444444444444444,
                            "#bd3786"
                          ],
                          [
                            0.5555555555555556,
                            "#d8576b"
                          ],
                          [
                            0.6666666666666666,
                            "#ed7953"
                          ],
                          [
                            0.7777777777777778,
                            "#fb9f3a"
                          ],
                          [
                            0.8888888888888888,
                            "#fdca26"
                          ],
                          [
                            1,
                            "#f0f921"
                          ]
                        ],
                        "type": "histogram2dcontour"
                      }
                    ],
                    "histogram2d": [
                      {
                        "colorbar": {
                          "outlinewidth": 0,
                          "ticks": ""
                        },
                        "colorscale": [
                          [
                            0,
                            "#0d0887"
                          ],
                          [
                            0.1111111111111111,
                            "#46039f"
                          ],
                          [
                            0.2222222222222222,
                            "#7201a8"
                          ],
                          [
                            0.3333333333333333,
                            "#9c179e"
                          ],
                          [
                            0.4444444444444444,
                            "#bd3786"
                          ],
                          [
                            0.5555555555555556,
                            "#d8576b"
                          ],
                          [
                            0.6666666666666666,
                            "#ed7953"
                          ],
                          [
                            0.7777777777777778,
                            "#fb9f3a"
                          ],
                          [
                            0.8888888888888888,
                            "#fdca26"
                          ],
                          [
                            1,
                            "#f0f921"
                          ]
                        ],
                        "type": "histogram2d"
                      }
                    ],
                    "histogram": [
                      {
                        "marker": {
                          "pattern": {
                            "fillmode": "overlay",
                            "size": 10,
                            "solidity": 0.2
                          },
                          "line": {
                            "width": 1
                          }
                        },
                        "type": "histogram"
                      }
                    ],
                    "mesh3d": [
                      {
                        "colorbar": {
                          "outlinewidth": 0,
                          "ticks": ""
                        },
                        "type": "mesh3d"
                      }
                    ],
                    "parcoords": [
                      {
                        "line": {
                          "colorbar": {
                            "outlinewidth": 0,
                            "ticks": ""
                          }
                        },
                        "type": "parcoords"
                      }
                    ],
                    "pie": [
                      {
                        "automargin": true,
                        "type": "pie"
                      }
                    ],
                    "scatter3d": [
                      {
                        "line": {
                          "colorbar": {
                            "outlinewidth": 0,
                            "ticks": ""
                          }
                        },
                        "marker": {
                          "colorbar": {
                            "outlinewidth": 0,
                            "ticks": ""
                          },
                          "opacity": 0.8
                        },
                        "type": "scatter3d"
                      }
                    ],
                    "scattercarpet": [
                      {
                        "marker": {
                          "colorbar": {
                            "outlinewidth": 0,
                            "ticks": ""
                          }
                        },
                        "type": "scattercarpet"
                      }
                    ],
                    "scattergeo": [
                      {
                        "marker": {
                          "colorbar": {
                            "outlinewidth": 0,
                            "ticks": ""
                          }
                        },
                        "type": "scattergeo"
                      }
                    ],
                    "scattergl": [
                      {
                        "marker": {
                          "colorbar": {
                            "outlinewidth": 0,
                            "ticks": ""
                          }
                        },
                        "type": "scattergl"
                      }
                    ],
                    "scattermapbox": [
                      {
                        "marker": {
                          "colorbar": {
                            "outlinewidth": 0,
                            "ticks": ""
                          }
                        },
                        "type": "scattermapbox"
                      }
                    ],
                    "scatterpolargl": [
                      {
                        "marker": {
                          "colorbar": {
                            "outlinewidth": 0,
                            "ticks": ""
                          }
                        },
                        "type": "scatterpolargl"
                      }
                    ],
                    "scatterpolar": [
                      {
                        "marker": {
                          "colorbar": {
                            "outlinewidth": 0,
                            "ticks": ""
                          }
                        },
                        "type": "scatterpolar"
                      }
                    ],
                    "scatter": [
                      {
                        "fillpattern": {
                          "fillmode": "overlay",
                          "size": 10,
                          "solidity": 0.2
                        },
                        "type": "scatter",
                        "marker": {
                          "opacity": 0.8
                        }
                      }
                    ],
                    "scatterternary": [
                      {
                        "marker": {
                          "colorbar": {
                            "outlinewidth": 0,
                            "ticks": ""
                          }
                        },
                        "type": "scatterternary"
                      }
                    ],
                    "surface": [
                      {
                        "colorbar": {
                          "outlinewidth": 0,
                          "ticks": ""
                        },
                        "colorscale": [
                          [
                            0,
                            "#0d0887"
                          ],
                          [
                            0.1111111111111111,
                            "#46039f"
                          ],
                          [
                            0.2222222222222222,
                            "#7201a8"
                          ],
                          [
                            0.3333333333333333,
                            "#9c179e"
                          ],
                          [
                            0.4444444444444444,
                            "#bd3786"
                          ],
                          [
                            0.5555555555555556,
                            "#d8576b"
                          ],
                          [
                            0.6666666666666666,
                            "#ed7953"
                          ],
                          [
                            0.7777777777777778,
                            "#fb9f3a"
                          ],
                          [
                            0.8888888888888888,
                            "#fdca26"
                          ],
                          [
                            1,
                            "#f0f921"
                          ]
                        ],
                        "type": "surface"
                      }
                    ],
                    "table": [
                      {
                        "cells": {
                          "fill": {
                            "color": "#EBF0F8"
                          },
                          "line": {
                            "color": "white"
                          }
                        },
                        "header": {
                          "fill": {
                            "color": "#C8D4E3"
                          },
                          "line": {
                            "color": "white"
                          }
                        },
                        "type": "table"
                      }
                    ],
                    "box": [
                      {
                        "boxpoints": "outliers",
                        "notched": false,
                        "type": "box"
                      }
                    ]
                  },
                  "layout": {
                    "annotationdefaults": {
                      "arrowcolor": "#2a3f5f",
                      "arrowhead": 0,
                      "arrowwidth": 1
                    },
                    "autotypenumbers": "strict",
                    "coloraxis": {
                      "colorbar": {
                        "outlinewidth": 0,
                        "ticks": ""
                      }
                    },
                    "colorscale": {
                      "diverging": [
                        [
                          0,
                          "#8e0152"
                        ],
                        [
                          0.1,
                          "#c51b7d"
                        ],
                        [
                          0.2,
                          "#de77ae"
                        ],
                        [
                          0.3,
                          "#f1b6da"
                        ],
                        [
                          0.4,
                          "#fde0ef"
                        ],
                        [
                          0.5,
                          "#f7f7f7"
                        ],
                        [
                          0.6,
                          "#e6f5d0"
                        ],
                        [
                          0.7,
                          "#b8e186"
                        ],
                        [
                          0.8,
                          "#7fbc41"
                        ],
                        [
                          0.9,
                          "#4d9221"
                        ],
                        [
                          1,
                          "#276419"
                        ]
                      ],
                      "sequential": [
                        [
                          0,
                          "#0d0887"
                        ],
                        [
                          0.1111111111111111,
                          "#46039f"
                        ],
                        [
                          0.2222222222222222,
                          "#7201a8"
                        ],
                        [
                          0.3333333333333333,
                          "#9c179e"
                        ],
                        [
                          0.4444444444444444,
                          "#bd3786"
                        ],
                        [
                          0.5555555555555556,
                          "#d8576b"
                        ],
                        [
                          0.6666666666666666,
                          "#ed7953"
                        ],
                        [
                          0.7777777777777778,
                          "#fb9f3a"
                        ],
                        [
                          0.8888888888888888,
                          "#fdca26"
                        ],
                        [
                          1,
                          "#f0f921"
                        ]
                      ],
                      "sequentialminus": [
                        [
                          0,
                          "#0d0887"
                        ],
                        [
                          0.1111111111111111,
                          "#46039f"
                        ],
                        [
                          0.2222222222222222,
                          "#7201a8"
                        ],
                        [
                          0.3333333333333333,
                          "#9c179e"
                        ],
                        [
                          0.4444444444444444,
                          "#bd3786"
                        ],
                        [
                          0.5555555555555556,
                          "#d8576b"
                        ],
                        [
                          0.6666666666666666,
                          "#ed7953"
                        ],
                        [
                          0.7777777777777778,
                          "#fb9f3a"
                        ],
                        [
                          0.8888888888888888,
                          "#fdca26"
                        ],
                        [
                          1,
                          "#f0f921"
                        ]
                      ]
                    },
                    "colorway": [
                      "#636efa",
                      "#EF553B",
                      "#00cc96",
                      "#ab63fa",
                      "#FFA15A",
                      "#19d3f3",
                      "#FF6692",
                      "#B6E880",
                      "#FF97FF",
                      "#FECB52"
                    ],
                    "font": {
                      "color": "#2a3f5f"
                    },
                    "geo": {
                      "bgcolor": "white",
                      "lakecolor": "white",
                      "landcolor": "white",
                      "showlakes": true,
                      "showland": true,
                      "subunitcolor": "#C8D4E3"
                    },
                    "hoverlabel": {
                      "align": "left"
                    },
                    "hovermode": "closest",
                    "mapbox": {
                      "style": "light"
                    },
                    "paper_bgcolor": "white",
                    "plot_bgcolor": "white",
                    "polar": {
                      "angularaxis": {
                        "gridcolor": "#EBF0F8",
                        "linecolor": "#EBF0F8",
                        "ticks": ""
                      },
                      "bgcolor": "white",
                      "radialaxis": {
                        "gridcolor": "#EBF0F8",
                        "linecolor": "#EBF0F8",
                        "ticks": ""
                      }
                    },
                    "scene": {
                      "xaxis": {
                        "backgroundcolor": "white",
                        "gridcolor": "#DFE8F3",
                        "gridwidth": 2,
                        "linecolor": "#EBF0F8",
                        "showbackground": true,
                        "ticks": "",
                        "zerolinecolor": "#EBF0F8"
                      },
                      "yaxis": {
                        "backgroundcolor": "white",
                        "gridcolor": "#DFE8F3",
                        "gridwidth": 2,
                        "linecolor": "#EBF0F8",
                        "showbackground": true,
                        "ticks": "",
                        "zerolinecolor": "#EBF0F8"
                      },
                      "zaxis": {
                        "backgroundcolor": "white",
                        "gridcolor": "#DFE8F3",
                        "gridwidth": 2,
                        "linecolor": "#EBF0F8",
                        "showbackground": true,
                        "ticks": "",
                        "zerolinecolor": "#EBF0F8"
                      },
                      "camera": {
                        "eye": {
                          "x": 1.5,
                          "y": 1.5,
                          "z": 0.1
                        }
                      }
                    },
                    "shapedefaults": {
                      "line": {
                        "color": "#2a3f5f"
                      }
                    },
                    "ternary": {
                      "aaxis": {
                        "gridcolor": "#DFE8F3",
                        "linecolor": "#A2B1C6",
                        "ticks": ""
                      },
                      "baxis": {
                        "gridcolor": "#DFE8F3",
                        "linecolor": "#A2B1C6",
                        "ticks": ""
                      },
                      "bgcolor": "white",
                      "caxis": {
                        "gridcolor": "#DFE8F3",
                        "linecolor": "#A2B1C6",
                        "ticks": ""
                      }
                    },
                    "title": {
                      "x": 0.5
                    },
                    "xaxis": {
                      "automargin": true,
                      "gridcolor": "#EBF0F8",
                      "linecolor": "#EBF0F8",
                      "ticks": "",
                      "title": {
                        "standoff": 15
                      },
                      "zerolinecolor": "#EBF0F8",
                      "zerolinewidth": 2,
                      "linewidth": 2,
                      "showline": true
                    },
                    "yaxis": {
                      "automargin": true,
                      "gridcolor": "#EBF0F8",
                      "linecolor": "#EBF0F8",
                      "ticks": "",
                      "title": {
                        "standoff": 15
                      },
                      "zerolinecolor": "#EBF0F8",
                      "zerolinewidth": 2,
                      "linewidth": 2,
                      "showline": true
                    },
                    "height": 400,
                    "margin": {
                      "b": 2,
                      "l": 2,
                      "r": 2,
                      "t": 30
                    }
                  }
                },
                "legend": {
                  "title": {
                    "text": "is_hiker"
                  }
                }
              },
              "config": {
                "plotlyServerURL": "https://plot.ly"
              }
            },
            "text/html": "<div>                            <div id=\"58a9ee45-6f36-4227-b860-bb61935f0aa8\" class=\"plotly-graph-div\" style=\"height:400px; width:100%;\"></div>            <script type=\"text/javascript\">                require([\"plotly\"], function(Plotly) {                    window.PLOTLYENV=window.PLOTLYENV || {};                                    if (document.getElementById(\"58a9ee45-6f36-4227-b860-bb61935f0aa8\")) {                    Plotly.newPlot(                        \"58a9ee45-6f36-4227-b860-bb61935f0aa8\",                        [{\"histfunc\":\"count\",\"name\":\"False\",\"x\":[false,false,false,false,false,false,false,false,false,false,false,false,false,false,false,false,false,false,false,false,false,false,false,false,false,false,false,false,false,false,false,false,false,false,false,false,false,false,false,false,false,false,false,false,false,false,false,false,false,false,false,false,false,false,false,false,false,false,false,false,false,false,false,false,false,false,false,false,false,false,false,false,false,false,false,false,false,false,false,false,false,false,false,false,false,false,false,false,false,false,false,false,false,false,false,false,false,false,false,false,false,false,false,false,false,false,false,false,false,false,false,false,false,false,false,false,false,false,false,false,false,false,false,false,false,false,false,false,false,false,false,false,false,false,false,false,false,false,false,false,false,false,false,false,false,false,false,false,false,false,false,false,false,false,false,false,false,false,false,false,false,false,false,false,false,false,false,false,false,false,false,false,false,false,false,false,false,false,false,false,false,false,false,false,false,false,false,false,false,false,false,false,false,false,false,false,false,false,false,false,false,false,false,false,false,false,false,false,false,false,false,false,false,false,false,false,false,false,false,false,false,false,false,false,false,false,false,false,false,false,false,false,false,false,false,false,false,false,false,false,false,false,false,false,false,false,false,false,false,false,false,false,false,false,false,false,false,false,false,false,false,false,false,false,false,false,false,false,false,false,false,false,false,false,false,false,false,false,false,false,false,false,false,false,false,false,false,false,false,false,false,false,false,false,false,false,false,false,false,false,false,false,false,false,false,false,false,false,false,false,false,false,false,false,false,false,false,false,false,false,false,false,false,false,false,false,false,false,false,false,false,false,false,false,false,false,false,false,false,false,false,false,false,false,false,false,false,false,false,false,false,false,false,false,false,false,false,false,false,false,false,false,false,false,false,false,false,false,false,false,false,false,false,false,false,false,false,false,false,false,false,false,false,false,false,false,false,false,false,false,false,false,false,false,false,false,false,false,false,false,false,false,false,false,false,false,false,false,false,false,false,false,false,false,false,false,false,false,false,false,false,false,false,false,false,false,false,false,false,false,false,false,false,false,false,false,false,false,false,false,false,false,false,false,false,false,false,false,false,false,false,false,false,false,false,false,false,false,false,false,false,false,false,false,false,false,false,false,false,false,false,false,false,false,false,false,false,false,false,false,false,false,false,false,false,false,false,false,false,false,false,false,false,false,false,false,false,false,false,false],\"type\":\"histogram\"},{\"histfunc\":\"count\",\"name\":\"True\",\"x\":[true,true,true,true,true,true,true,true,true,true,true,true,true,true,true,true,true,true,true,true,true,true,true,true,true,true,true,true,true,true,true,true,true,true,true,true,true,true,true,true,true,true,true,true,true,true,true,true,true,true,true,true,true,true,true,true,true,true,true,true,true,true,true,true,true,true,true,true,true,true,true,true,true,true,true,true,true,true,true,true,true,true,true,true,true,true,true,true,true,true,true,true,true,true,true,true,true,true,true,true,true,true,true,true,true,true,true,true,true,true,true,true,true,true,true,true,true,true,true,true,true,true,true,true,true,true,true,true,true,true,true,true,true,true,true,true,true,true,true,true,true,true,true,true,true,true,true,true,true,true,true,true,true,true,true,true,true,true,true,true,true,true,true,true,true,true,true,true,true,true,true,true,true,true,true,true,true,true,true,true,true,true,true,true,true,true,true,true,true,true,true,true,true,true,true,true,true,true,true,true,true,true,true,true,true,true,true,true,true,true,true,true,true,true,true,true,true,true,true,true,true,true,true,true,true,true,true,true,true,true,true,true,true,true,true,true,true,true,true,true,true,true,true,true,true,true,true,true,true,true,true,true,true,true,true,true,true,true,true,true,true,true,true,true,true,true,true,true,true,true,true,true,true,true,true,true,true,true,true,true,true,true,true,true,true,true,true,true,true,true,true,true,true,true,true,true,true,true,true,true,true,true,true,true,true,true,true,true,true,true,true,true,true,true,true,true,true,true,true,true,true,true,true,true,true,true,true,true,true,true,true,true,true,true,true,true,true,true,true,true,true,true,true,true,true,true,true,true,true,true,true,true,true,true,true,true,true,true,true,true,true,true,true,true,true,true,true,true,true,true,true,true,true,true,true,true,true,true,true,true,true,true,true,true,true,true,true,true,true,true,true,true,true,true,true,true,true,true,true,true,true,true,true,true,true,true,true,true,true,true,true,true,true,true,true,true,true,true,true,true,true,true,true,true,true,true,true,true,true,true,true,true,true,true,true,true,true,true,true,true,true,true,true,true,true,true,true,true,true,true,true,true,true,true,true,true,true,true,true,true,true,true,true,true,true,true,true,true,true,true,true,true,true,true,true,true,true,true,true,true,true,true,true,true,true,true,true,true,true,true,true,true,true,true,true,true,true,true,true,true],\"type\":\"histogram\"}],                        {\"title\":{\"text\":\"Label distribution in balanced dataset\"},\"xaxis\":{\"title\":{\"text\":\"is hiker\"}},\"yaxis\":{\"title\":{\"text\":\"count\"}},\"template\":{\"data\":{\"barpolar\":[{\"marker\":{\"line\":{\"color\":\"white\",\"width\":0.5},\"pattern\":{\"fillmode\":\"overlay\",\"size\":10,\"solidity\":0.2}},\"type\":\"barpolar\"}],\"bar\":[{\"error_x\":{\"color\":\"#2a3f5f\"},\"error_y\":{\"color\":\"#2a3f5f\"},\"marker\":{\"line\":{\"color\":\"white\",\"width\":0.5},\"pattern\":{\"fillmode\":\"overlay\",\"size\":10,\"solidity\":0.2}},\"type\":\"bar\"}],\"carpet\":[{\"aaxis\":{\"endlinecolor\":\"#2a3f5f\",\"gridcolor\":\"#C8D4E3\",\"linecolor\":\"#C8D4E3\",\"minorgridcolor\":\"#C8D4E3\",\"startlinecolor\":\"#2a3f5f\"},\"baxis\":{\"endlinecolor\":\"#2a3f5f\",\"gridcolor\":\"#C8D4E3\",\"linecolor\":\"#C8D4E3\",\"minorgridcolor\":\"#C8D4E3\",\"startlinecolor\":\"#2a3f5f\"},\"type\":\"carpet\"}],\"choropleth\":[{\"colorbar\":{\"outlinewidth\":0,\"ticks\":\"\"},\"type\":\"choropleth\"}],\"contourcarpet\":[{\"colorbar\":{\"outlinewidth\":0,\"ticks\":\"\"},\"type\":\"contourcarpet\"}],\"contour\":[{\"colorbar\":{\"outlinewidth\":0,\"ticks\":\"\"},\"colorscale\":[[0.0,\"#0d0887\"],[0.1111111111111111,\"#46039f\"],[0.2222222222222222,\"#7201a8\"],[0.3333333333333333,\"#9c179e\"],[0.4444444444444444,\"#bd3786\"],[0.5555555555555556,\"#d8576b\"],[0.6666666666666666,\"#ed7953\"],[0.7777777777777778,\"#fb9f3a\"],[0.8888888888888888,\"#fdca26\"],[1.0,\"#f0f921\"]],\"type\":\"contour\"}],\"heatmapgl\":[{\"colorbar\":{\"outlinewidth\":0,\"ticks\":\"\"},\"colorscale\":[[0.0,\"#0d0887\"],[0.1111111111111111,\"#46039f\"],[0.2222222222222222,\"#7201a8\"],[0.3333333333333333,\"#9c179e\"],[0.4444444444444444,\"#bd3786\"],[0.5555555555555556,\"#d8576b\"],[0.6666666666666666,\"#ed7953\"],[0.7777777777777778,\"#fb9f3a\"],[0.8888888888888888,\"#fdca26\"],[1.0,\"#f0f921\"]],\"type\":\"heatmapgl\"}],\"heatmap\":[{\"colorbar\":{\"outlinewidth\":0,\"ticks\":\"\"},\"colorscale\":[[0.0,\"#0d0887\"],[0.1111111111111111,\"#46039f\"],[0.2222222222222222,\"#7201a8\"],[0.3333333333333333,\"#9c179e\"],[0.4444444444444444,\"#bd3786\"],[0.5555555555555556,\"#d8576b\"],[0.6666666666666666,\"#ed7953\"],[0.7777777777777778,\"#fb9f3a\"],[0.8888888888888888,\"#fdca26\"],[1.0,\"#f0f921\"]],\"type\":\"heatmap\"}],\"histogram2dcontour\":[{\"colorbar\":{\"outlinewidth\":0,\"ticks\":\"\"},\"colorscale\":[[0.0,\"#0d0887\"],[0.1111111111111111,\"#46039f\"],[0.2222222222222222,\"#7201a8\"],[0.3333333333333333,\"#9c179e\"],[0.4444444444444444,\"#bd3786\"],[0.5555555555555556,\"#d8576b\"],[0.6666666666666666,\"#ed7953\"],[0.7777777777777778,\"#fb9f3a\"],[0.8888888888888888,\"#fdca26\"],[1.0,\"#f0f921\"]],\"type\":\"histogram2dcontour\"}],\"histogram2d\":[{\"colorbar\":{\"outlinewidth\":0,\"ticks\":\"\"},\"colorscale\":[[0.0,\"#0d0887\"],[0.1111111111111111,\"#46039f\"],[0.2222222222222222,\"#7201a8\"],[0.3333333333333333,\"#9c179e\"],[0.4444444444444444,\"#bd3786\"],[0.5555555555555556,\"#d8576b\"],[0.6666666666666666,\"#ed7953\"],[0.7777777777777778,\"#fb9f3a\"],[0.8888888888888888,\"#fdca26\"],[1.0,\"#f0f921\"]],\"type\":\"histogram2d\"}],\"histogram\":[{\"marker\":{\"pattern\":{\"fillmode\":\"overlay\",\"size\":10,\"solidity\":0.2},\"line\":{\"width\":1}},\"type\":\"histogram\"}],\"mesh3d\":[{\"colorbar\":{\"outlinewidth\":0,\"ticks\":\"\"},\"type\":\"mesh3d\"}],\"parcoords\":[{\"line\":{\"colorbar\":{\"outlinewidth\":0,\"ticks\":\"\"}},\"type\":\"parcoords\"}],\"pie\":[{\"automargin\":true,\"type\":\"pie\"}],\"scatter3d\":[{\"line\":{\"colorbar\":{\"outlinewidth\":0,\"ticks\":\"\"}},\"marker\":{\"colorbar\":{\"outlinewidth\":0,\"ticks\":\"\"},\"opacity\":0.8},\"type\":\"scatter3d\"}],\"scattercarpet\":[{\"marker\":{\"colorbar\":{\"outlinewidth\":0,\"ticks\":\"\"}},\"type\":\"scattercarpet\"}],\"scattergeo\":[{\"marker\":{\"colorbar\":{\"outlinewidth\":0,\"ticks\":\"\"}},\"type\":\"scattergeo\"}],\"scattergl\":[{\"marker\":{\"colorbar\":{\"outlinewidth\":0,\"ticks\":\"\"}},\"type\":\"scattergl\"}],\"scattermapbox\":[{\"marker\":{\"colorbar\":{\"outlinewidth\":0,\"ticks\":\"\"}},\"type\":\"scattermapbox\"}],\"scatterpolargl\":[{\"marker\":{\"colorbar\":{\"outlinewidth\":0,\"ticks\":\"\"}},\"type\":\"scatterpolargl\"}],\"scatterpolar\":[{\"marker\":{\"colorbar\":{\"outlinewidth\":0,\"ticks\":\"\"}},\"type\":\"scatterpolar\"}],\"scatter\":[{\"fillpattern\":{\"fillmode\":\"overlay\",\"size\":10,\"solidity\":0.2},\"type\":\"scatter\",\"marker\":{\"opacity\":0.8}}],\"scatterternary\":[{\"marker\":{\"colorbar\":{\"outlinewidth\":0,\"ticks\":\"\"}},\"type\":\"scatterternary\"}],\"surface\":[{\"colorbar\":{\"outlinewidth\":0,\"ticks\":\"\"},\"colorscale\":[[0.0,\"#0d0887\"],[0.1111111111111111,\"#46039f\"],[0.2222222222222222,\"#7201a8\"],[0.3333333333333333,\"#9c179e\"],[0.4444444444444444,\"#bd3786\"],[0.5555555555555556,\"#d8576b\"],[0.6666666666666666,\"#ed7953\"],[0.7777777777777778,\"#fb9f3a\"],[0.8888888888888888,\"#fdca26\"],[1.0,\"#f0f921\"]],\"type\":\"surface\"}],\"table\":[{\"cells\":{\"fill\":{\"color\":\"#EBF0F8\"},\"line\":{\"color\":\"white\"}},\"header\":{\"fill\":{\"color\":\"#C8D4E3\"},\"line\":{\"color\":\"white\"}},\"type\":\"table\"}],\"box\":[{\"boxpoints\":\"outliers\",\"notched\":false,\"type\":\"box\"}]},\"layout\":{\"annotationdefaults\":{\"arrowcolor\":\"#2a3f5f\",\"arrowhead\":0,\"arrowwidth\":1},\"autotypenumbers\":\"strict\",\"coloraxis\":{\"colorbar\":{\"outlinewidth\":0,\"ticks\":\"\"}},\"colorscale\":{\"diverging\":[[0,\"#8e0152\"],[0.1,\"#c51b7d\"],[0.2,\"#de77ae\"],[0.3,\"#f1b6da\"],[0.4,\"#fde0ef\"],[0.5,\"#f7f7f7\"],[0.6,\"#e6f5d0\"],[0.7,\"#b8e186\"],[0.8,\"#7fbc41\"],[0.9,\"#4d9221\"],[1,\"#276419\"]],\"sequential\":[[0.0,\"#0d0887\"],[0.1111111111111111,\"#46039f\"],[0.2222222222222222,\"#7201a8\"],[0.3333333333333333,\"#9c179e\"],[0.4444444444444444,\"#bd3786\"],[0.5555555555555556,\"#d8576b\"],[0.6666666666666666,\"#ed7953\"],[0.7777777777777778,\"#fb9f3a\"],[0.8888888888888888,\"#fdca26\"],[1.0,\"#f0f921\"]],\"sequentialminus\":[[0.0,\"#0d0887\"],[0.1111111111111111,\"#46039f\"],[0.2222222222222222,\"#7201a8\"],[0.3333333333333333,\"#9c179e\"],[0.4444444444444444,\"#bd3786\"],[0.5555555555555556,\"#d8576b\"],[0.6666666666666666,\"#ed7953\"],[0.7777777777777778,\"#fb9f3a\"],[0.8888888888888888,\"#fdca26\"],[1.0,\"#f0f921\"]]},\"colorway\":[\"#636efa\",\"#EF553B\",\"#00cc96\",\"#ab63fa\",\"#FFA15A\",\"#19d3f3\",\"#FF6692\",\"#B6E880\",\"#FF97FF\",\"#FECB52\"],\"font\":{\"color\":\"#2a3f5f\"},\"geo\":{\"bgcolor\":\"white\",\"lakecolor\":\"white\",\"landcolor\":\"white\",\"showlakes\":true,\"showland\":true,\"subunitcolor\":\"#C8D4E3\"},\"hoverlabel\":{\"align\":\"left\"},\"hovermode\":\"closest\",\"mapbox\":{\"style\":\"light\"},\"paper_bgcolor\":\"white\",\"plot_bgcolor\":\"white\",\"polar\":{\"angularaxis\":{\"gridcolor\":\"#EBF0F8\",\"linecolor\":\"#EBF0F8\",\"ticks\":\"\"},\"bgcolor\":\"white\",\"radialaxis\":{\"gridcolor\":\"#EBF0F8\",\"linecolor\":\"#EBF0F8\",\"ticks\":\"\"}},\"scene\":{\"xaxis\":{\"backgroundcolor\":\"white\",\"gridcolor\":\"#DFE8F3\",\"gridwidth\":2,\"linecolor\":\"#EBF0F8\",\"showbackground\":true,\"ticks\":\"\",\"zerolinecolor\":\"#EBF0F8\"},\"yaxis\":{\"backgroundcolor\":\"white\",\"gridcolor\":\"#DFE8F3\",\"gridwidth\":2,\"linecolor\":\"#EBF0F8\",\"showbackground\":true,\"ticks\":\"\",\"zerolinecolor\":\"#EBF0F8\"},\"zaxis\":{\"backgroundcolor\":\"white\",\"gridcolor\":\"#DFE8F3\",\"gridwidth\":2,\"linecolor\":\"#EBF0F8\",\"showbackground\":true,\"ticks\":\"\",\"zerolinecolor\":\"#EBF0F8\"},\"camera\":{\"eye\":{\"x\":1.5,\"y\":1.5,\"z\":0.1}}},\"shapedefaults\":{\"line\":{\"color\":\"#2a3f5f\"}},\"ternary\":{\"aaxis\":{\"gridcolor\":\"#DFE8F3\",\"linecolor\":\"#A2B1C6\",\"ticks\":\"\"},\"baxis\":{\"gridcolor\":\"#DFE8F3\",\"linecolor\":\"#A2B1C6\",\"ticks\":\"\"},\"bgcolor\":\"white\",\"caxis\":{\"gridcolor\":\"#DFE8F3\",\"linecolor\":\"#A2B1C6\",\"ticks\":\"\"}},\"title\":{\"x\":0.5},\"xaxis\":{\"automargin\":true,\"gridcolor\":\"#EBF0F8\",\"linecolor\":\"#EBF0F8\",\"ticks\":\"\",\"title\":{\"standoff\":15},\"zerolinecolor\":\"#EBF0F8\",\"zerolinewidth\":2,\"linewidth\":2,\"showline\":true},\"yaxis\":{\"automargin\":true,\"gridcolor\":\"#EBF0F8\",\"linecolor\":\"#EBF0F8\",\"ticks\":\"\",\"title\":{\"standoff\":15},\"zerolinecolor\":\"#EBF0F8\",\"zerolinewidth\":2,\"linewidth\":2,\"showline\":true},\"height\":400,\"margin\":{\"b\":2,\"l\":2,\"r\":2,\"t\":30}}},\"legend\":{\"title\":{\"text\":\"is_hiker\"}}},                        {\"responsive\": true}                    ).then(function(){\n                            \nvar gd = document.getElementById('58a9ee45-6f36-4227-b860-bb61935f0aa8');\nvar x = new MutationObserver(function (mutations, observer) {{\n        var display = window.getComputedStyle(gd).display;\n        if (!display || display === 'none') {{\n            console.log([gd, 'removed!']);\n            Plotly.purge(gd);\n            observer.disconnect();\n        }}\n}});\n\n// Listen for the removal of the full notebook cells\nvar notebookContainer = gd.closest('#notebook-container');\nif (notebookContainer) {{\n    x.observe(notebookContainer, {childList: true});\n}}\n\n// Listen for the clearing of the current output cell\nvar outputEl = gd.closest('.output');\nif (outputEl) {{\n    x.observe(outputEl, {childList: true});\n}}\n\n                        })                };                });            </script>        </div>"
          },
          "metadata": {}
        }
      ],
      "execution_count": 19,
      "metadata": {}
    },
    {
      "cell_type": "markdown",
      "source": [
        "As you can see, the `is_hiker` label has the same number of `True` and `False` for both classes. We are now using a *class balanced dataset*.\n",
        "\n",
        "Let's run predictions on this set using the previously trained model:"
      ],
      "metadata": {}
    },
    {
      "cell_type": "code",
      "source": [
        "# Test the model using a balanced dataset\n",
        "actual = balanced_dataset.is_hiker\n",
        "predictions = model.predict(balanced_dataset[features])\n",
        "\n",
        "# Build and print our confusion matrix, using the actual values and predictions \n",
        "# from the test set, calculated in previous cells\n",
        "cm = confusion_matrix(actual, predictions, normalize=None)\n",
        "\n",
        "# Print accuracy using this set\n",
        "print(\"Balanced set accuracy:\", assess_accuracy(model,balanced_dataset, \"is_hiker\"))"
      ],
      "outputs": [
        {
          "output_type": "stream",
          "name": "stdout",
          "text": "Balanced set accuracy: 0.754\n"
        }
      ],
      "execution_count": 20,
      "metadata": {}
    },
    {
      "cell_type": "markdown",
      "source": [
        "As expected, we see a noticeable drop in accuracy using a different set.\n",
        "\n",
        "Again, let's visually analyze its performance:"
      ],
      "metadata": {}
    },
    {
      "cell_type": "code",
      "source": [
        "# plot new confusion matrix\n",
        "# Create the list of unique labels in the test set to use in our plot\n",
        "unique_targets = sorted(list(balanced_dataset[\"is_hiker\"].unique()))\n",
        "\n",
        "# Convert values to lower case so the plot code can count the outcomes\n",
        "x = y = [str(s).lower() for s in unique_targets]\n",
        "\n",
        "# Plot the matrix above as a heatmap with annotations (values) in its cells\n",
        "fig = ff.create_annotated_heatmap(cm, x, y)\n",
        "\n",
        "# Set titles and ordering\n",
        "fig.update_layout(  title_text=\"<b>Confusion matrix</b>\", \n",
        "                    yaxis = dict(categoryorder = \"category descending\")\n",
        "                    )\n",
        "\n",
        "fig.add_annotation(dict(font=dict(color=\"black\",size=14),\n",
        "                        x=0.5,\n",
        "                        y=-0.15,\n",
        "                        showarrow=False,\n",
        "                        text=\"Predicted label\",\n",
        "                        xref=\"paper\",\n",
        "                        yref=\"paper\"))\n",
        "\n",
        "fig.add_annotation(dict(font=dict(color=\"black\",size=14),\n",
        "                        x=-0.15,\n",
        "                        y=0.5,\n",
        "                        showarrow=False,\n",
        "                        text=\"Actual label\",\n",
        "                        textangle=-90,\n",
        "                        xref=\"paper\",\n",
        "                        yref=\"paper\"))\n",
        "\n",
        "# We need margins so the titles fit\n",
        "fig.update_layout(margin=dict(t=80, r=20, l=120, b=50))\n",
        "fig['data'][0]['showscale'] = True\n",
        "fig.show()"
      ],
      "outputs": [
        {
          "output_type": "display_data",
          "data": {
            "application/vnd.plotly.v1+json": {
              "data": [
                {
                  "colorscale": [
                    [
                      0,
                      "#0d0887"
                    ],
                    [
                      0.1111111111111111,
                      "#46039f"
                    ],
                    [
                      0.2222222222222222,
                      "#7201a8"
                    ],
                    [
                      0.3333333333333333,
                      "#9c179e"
                    ],
                    [
                      0.4444444444444444,
                      "#bd3786"
                    ],
                    [
                      0.5555555555555556,
                      "#d8576b"
                    ],
                    [
                      0.6666666666666666,
                      "#ed7953"
                    ],
                    [
                      0.7777777777777778,
                      "#fb9f3a"
                    ],
                    [
                      0.8888888888888888,
                      "#fdca26"
                    ],
                    [
                      1,
                      "#f0f921"
                    ]
                  ],
                  "reversescale": false,
                  "showscale": true,
                  "x": [
                    "false",
                    "true"
                  ],
                  "y": [
                    "false",
                    "true"
                  ],
                  "z": [
                    [
                      411,
                      89
                    ],
                    [
                      157,
                      343
                    ]
                  ],
                  "type": "heatmap"
                }
              ],
              "layout": {
                "annotations": [
                  {
                    "font": {
                      "color": "#000000"
                    },
                    "showarrow": false,
                    "text": "411",
                    "x": "false",
                    "xref": "x",
                    "y": "false",
                    "yref": "y"
                  },
                  {
                    "font": {
                      "color": "#FFFFFF"
                    },
                    "showarrow": false,
                    "text": "89",
                    "x": "true",
                    "xref": "x",
                    "y": "false",
                    "yref": "y"
                  },
                  {
                    "font": {
                      "color": "#FFFFFF"
                    },
                    "showarrow": false,
                    "text": "157",
                    "x": "false",
                    "xref": "x",
                    "y": "true",
                    "yref": "y"
                  },
                  {
                    "font": {
                      "color": "#000000"
                    },
                    "showarrow": false,
                    "text": "343",
                    "x": "true",
                    "xref": "x",
                    "y": "true",
                    "yref": "y"
                  },
                  {
                    "font": {
                      "color": "black",
                      "size": 14
                    },
                    "showarrow": false,
                    "text": "Predicted label",
                    "x": 0.5,
                    "xref": "paper",
                    "y": -0.15,
                    "yref": "paper"
                  },
                  {
                    "font": {
                      "color": "black",
                      "size": 14
                    },
                    "showarrow": false,
                    "text": "Actual label",
                    "textangle": -90,
                    "x": -0.15,
                    "xref": "paper",
                    "y": 0.5,
                    "yref": "paper"
                  }
                ],
                "xaxis": {
                  "dtick": 1,
                  "gridcolor": "rgb(0, 0, 0)",
                  "side": "top",
                  "ticks": ""
                },
                "yaxis": {
                  "dtick": 1,
                  "ticks": "",
                  "ticksuffix": "  ",
                  "categoryorder": "category descending"
                },
                "template": {
                  "data": {
                    "barpolar": [
                      {
                        "marker": {
                          "line": {
                            "color": "white",
                            "width": 0.5
                          },
                          "pattern": {
                            "fillmode": "overlay",
                            "size": 10,
                            "solidity": 0.2
                          }
                        },
                        "type": "barpolar"
                      }
                    ],
                    "bar": [
                      {
                        "error_x": {
                          "color": "#2a3f5f"
                        },
                        "error_y": {
                          "color": "#2a3f5f"
                        },
                        "marker": {
                          "line": {
                            "color": "white",
                            "width": 0.5
                          },
                          "pattern": {
                            "fillmode": "overlay",
                            "size": 10,
                            "solidity": 0.2
                          }
                        },
                        "type": "bar"
                      }
                    ],
                    "carpet": [
                      {
                        "aaxis": {
                          "endlinecolor": "#2a3f5f",
                          "gridcolor": "#C8D4E3",
                          "linecolor": "#C8D4E3",
                          "minorgridcolor": "#C8D4E3",
                          "startlinecolor": "#2a3f5f"
                        },
                        "baxis": {
                          "endlinecolor": "#2a3f5f",
                          "gridcolor": "#C8D4E3",
                          "linecolor": "#C8D4E3",
                          "minorgridcolor": "#C8D4E3",
                          "startlinecolor": "#2a3f5f"
                        },
                        "type": "carpet"
                      }
                    ],
                    "choropleth": [
                      {
                        "colorbar": {
                          "outlinewidth": 0,
                          "ticks": ""
                        },
                        "type": "choropleth"
                      }
                    ],
                    "contourcarpet": [
                      {
                        "colorbar": {
                          "outlinewidth": 0,
                          "ticks": ""
                        },
                        "type": "contourcarpet"
                      }
                    ],
                    "contour": [
                      {
                        "colorbar": {
                          "outlinewidth": 0,
                          "ticks": ""
                        },
                        "colorscale": [
                          [
                            0,
                            "#0d0887"
                          ],
                          [
                            0.1111111111111111,
                            "#46039f"
                          ],
                          [
                            0.2222222222222222,
                            "#7201a8"
                          ],
                          [
                            0.3333333333333333,
                            "#9c179e"
                          ],
                          [
                            0.4444444444444444,
                            "#bd3786"
                          ],
                          [
                            0.5555555555555556,
                            "#d8576b"
                          ],
                          [
                            0.6666666666666666,
                            "#ed7953"
                          ],
                          [
                            0.7777777777777778,
                            "#fb9f3a"
                          ],
                          [
                            0.8888888888888888,
                            "#fdca26"
                          ],
                          [
                            1,
                            "#f0f921"
                          ]
                        ],
                        "type": "contour"
                      }
                    ],
                    "heatmapgl": [
                      {
                        "colorbar": {
                          "outlinewidth": 0,
                          "ticks": ""
                        },
                        "colorscale": [
                          [
                            0,
                            "#0d0887"
                          ],
                          [
                            0.1111111111111111,
                            "#46039f"
                          ],
                          [
                            0.2222222222222222,
                            "#7201a8"
                          ],
                          [
                            0.3333333333333333,
                            "#9c179e"
                          ],
                          [
                            0.4444444444444444,
                            "#bd3786"
                          ],
                          [
                            0.5555555555555556,
                            "#d8576b"
                          ],
                          [
                            0.6666666666666666,
                            "#ed7953"
                          ],
                          [
                            0.7777777777777778,
                            "#fb9f3a"
                          ],
                          [
                            0.8888888888888888,
                            "#fdca26"
                          ],
                          [
                            1,
                            "#f0f921"
                          ]
                        ],
                        "type": "heatmapgl"
                      }
                    ],
                    "heatmap": [
                      {
                        "colorbar": {
                          "outlinewidth": 0,
                          "ticks": ""
                        },
                        "colorscale": [
                          [
                            0,
                            "#0d0887"
                          ],
                          [
                            0.1111111111111111,
                            "#46039f"
                          ],
                          [
                            0.2222222222222222,
                            "#7201a8"
                          ],
                          [
                            0.3333333333333333,
                            "#9c179e"
                          ],
                          [
                            0.4444444444444444,
                            "#bd3786"
                          ],
                          [
                            0.5555555555555556,
                            "#d8576b"
                          ],
                          [
                            0.6666666666666666,
                            "#ed7953"
                          ],
                          [
                            0.7777777777777778,
                            "#fb9f3a"
                          ],
                          [
                            0.8888888888888888,
                            "#fdca26"
                          ],
                          [
                            1,
                            "#f0f921"
                          ]
                        ],
                        "type": "heatmap"
                      }
                    ],
                    "histogram2dcontour": [
                      {
                        "colorbar": {
                          "outlinewidth": 0,
                          "ticks": ""
                        },
                        "colorscale": [
                          [
                            0,
                            "#0d0887"
                          ],
                          [
                            0.1111111111111111,
                            "#46039f"
                          ],
                          [
                            0.2222222222222222,
                            "#7201a8"
                          ],
                          [
                            0.3333333333333333,
                            "#9c179e"
                          ],
                          [
                            0.4444444444444444,
                            "#bd3786"
                          ],
                          [
                            0.5555555555555556,
                            "#d8576b"
                          ],
                          [
                            0.6666666666666666,
                            "#ed7953"
                          ],
                          [
                            0.7777777777777778,
                            "#fb9f3a"
                          ],
                          [
                            0.8888888888888888,
                            "#fdca26"
                          ],
                          [
                            1,
                            "#f0f921"
                          ]
                        ],
                        "type": "histogram2dcontour"
                      }
                    ],
                    "histogram2d": [
                      {
                        "colorbar": {
                          "outlinewidth": 0,
                          "ticks": ""
                        },
                        "colorscale": [
                          [
                            0,
                            "#0d0887"
                          ],
                          [
                            0.1111111111111111,
                            "#46039f"
                          ],
                          [
                            0.2222222222222222,
                            "#7201a8"
                          ],
                          [
                            0.3333333333333333,
                            "#9c179e"
                          ],
                          [
                            0.4444444444444444,
                            "#bd3786"
                          ],
                          [
                            0.5555555555555556,
                            "#d8576b"
                          ],
                          [
                            0.6666666666666666,
                            "#ed7953"
                          ],
                          [
                            0.7777777777777778,
                            "#fb9f3a"
                          ],
                          [
                            0.8888888888888888,
                            "#fdca26"
                          ],
                          [
                            1,
                            "#f0f921"
                          ]
                        ],
                        "type": "histogram2d"
                      }
                    ],
                    "histogram": [
                      {
                        "marker": {
                          "pattern": {
                            "fillmode": "overlay",
                            "size": 10,
                            "solidity": 0.2
                          },
                          "line": {
                            "width": 1
                          }
                        },
                        "type": "histogram"
                      }
                    ],
                    "mesh3d": [
                      {
                        "colorbar": {
                          "outlinewidth": 0,
                          "ticks": ""
                        },
                        "type": "mesh3d"
                      }
                    ],
                    "parcoords": [
                      {
                        "line": {
                          "colorbar": {
                            "outlinewidth": 0,
                            "ticks": ""
                          }
                        },
                        "type": "parcoords"
                      }
                    ],
                    "pie": [
                      {
                        "automargin": true,
                        "type": "pie"
                      }
                    ],
                    "scatter3d": [
                      {
                        "line": {
                          "colorbar": {
                            "outlinewidth": 0,
                            "ticks": ""
                          }
                        },
                        "marker": {
                          "colorbar": {
                            "outlinewidth": 0,
                            "ticks": ""
                          },
                          "opacity": 0.8
                        },
                        "type": "scatter3d"
                      }
                    ],
                    "scattercarpet": [
                      {
                        "marker": {
                          "colorbar": {
                            "outlinewidth": 0,
                            "ticks": ""
                          }
                        },
                        "type": "scattercarpet"
                      }
                    ],
                    "scattergeo": [
                      {
                        "marker": {
                          "colorbar": {
                            "outlinewidth": 0,
                            "ticks": ""
                          }
                        },
                        "type": "scattergeo"
                      }
                    ],
                    "scattergl": [
                      {
                        "marker": {
                          "colorbar": {
                            "outlinewidth": 0,
                            "ticks": ""
                          }
                        },
                        "type": "scattergl"
                      }
                    ],
                    "scattermapbox": [
                      {
                        "marker": {
                          "colorbar": {
                            "outlinewidth": 0,
                            "ticks": ""
                          }
                        },
                        "type": "scattermapbox"
                      }
                    ],
                    "scatterpolargl": [
                      {
                        "marker": {
                          "colorbar": {
                            "outlinewidth": 0,
                            "ticks": ""
                          }
                        },
                        "type": "scatterpolargl"
                      }
                    ],
                    "scatterpolar": [
                      {
                        "marker": {
                          "colorbar": {
                            "outlinewidth": 0,
                            "ticks": ""
                          }
                        },
                        "type": "scatterpolar"
                      }
                    ],
                    "scatter": [
                      {
                        "fillpattern": {
                          "fillmode": "overlay",
                          "size": 10,
                          "solidity": 0.2
                        },
                        "type": "scatter",
                        "marker": {
                          "opacity": 0.8
                        }
                      }
                    ],
                    "scatterternary": [
                      {
                        "marker": {
                          "colorbar": {
                            "outlinewidth": 0,
                            "ticks": ""
                          }
                        },
                        "type": "scatterternary"
                      }
                    ],
                    "surface": [
                      {
                        "colorbar": {
                          "outlinewidth": 0,
                          "ticks": ""
                        },
                        "colorscale": [
                          [
                            0,
                            "#0d0887"
                          ],
                          [
                            0.1111111111111111,
                            "#46039f"
                          ],
                          [
                            0.2222222222222222,
                            "#7201a8"
                          ],
                          [
                            0.3333333333333333,
                            "#9c179e"
                          ],
                          [
                            0.4444444444444444,
                            "#bd3786"
                          ],
                          [
                            0.5555555555555556,
                            "#d8576b"
                          ],
                          [
                            0.6666666666666666,
                            "#ed7953"
                          ],
                          [
                            0.7777777777777778,
                            "#fb9f3a"
                          ],
                          [
                            0.8888888888888888,
                            "#fdca26"
                          ],
                          [
                            1,
                            "#f0f921"
                          ]
                        ],
                        "type": "surface"
                      }
                    ],
                    "table": [
                      {
                        "cells": {
                          "fill": {
                            "color": "#EBF0F8"
                          },
                          "line": {
                            "color": "white"
                          }
                        },
                        "header": {
                          "fill": {
                            "color": "#C8D4E3"
                          },
                          "line": {
                            "color": "white"
                          }
                        },
                        "type": "table"
                      }
                    ],
                    "box": [
                      {
                        "boxpoints": "outliers",
                        "notched": false,
                        "type": "box"
                      }
                    ]
                  },
                  "layout": {
                    "annotationdefaults": {
                      "arrowcolor": "#2a3f5f",
                      "arrowhead": 0,
                      "arrowwidth": 1
                    },
                    "autotypenumbers": "strict",
                    "coloraxis": {
                      "colorbar": {
                        "outlinewidth": 0,
                        "ticks": ""
                      }
                    },
                    "colorscale": {
                      "diverging": [
                        [
                          0,
                          "#8e0152"
                        ],
                        [
                          0.1,
                          "#c51b7d"
                        ],
                        [
                          0.2,
                          "#de77ae"
                        ],
                        [
                          0.3,
                          "#f1b6da"
                        ],
                        [
                          0.4,
                          "#fde0ef"
                        ],
                        [
                          0.5,
                          "#f7f7f7"
                        ],
                        [
                          0.6,
                          "#e6f5d0"
                        ],
                        [
                          0.7,
                          "#b8e186"
                        ],
                        [
                          0.8,
                          "#7fbc41"
                        ],
                        [
                          0.9,
                          "#4d9221"
                        ],
                        [
                          1,
                          "#276419"
                        ]
                      ],
                      "sequential": [
                        [
                          0,
                          "#0d0887"
                        ],
                        [
                          0.1111111111111111,
                          "#46039f"
                        ],
                        [
                          0.2222222222222222,
                          "#7201a8"
                        ],
                        [
                          0.3333333333333333,
                          "#9c179e"
                        ],
                        [
                          0.4444444444444444,
                          "#bd3786"
                        ],
                        [
                          0.5555555555555556,
                          "#d8576b"
                        ],
                        [
                          0.6666666666666666,
                          "#ed7953"
                        ],
                        [
                          0.7777777777777778,
                          "#fb9f3a"
                        ],
                        [
                          0.8888888888888888,
                          "#fdca26"
                        ],
                        [
                          1,
                          "#f0f921"
                        ]
                      ],
                      "sequentialminus": [
                        [
                          0,
                          "#0d0887"
                        ],
                        [
                          0.1111111111111111,
                          "#46039f"
                        ],
                        [
                          0.2222222222222222,
                          "#7201a8"
                        ],
                        [
                          0.3333333333333333,
                          "#9c179e"
                        ],
                        [
                          0.4444444444444444,
                          "#bd3786"
                        ],
                        [
                          0.5555555555555556,
                          "#d8576b"
                        ],
                        [
                          0.6666666666666666,
                          "#ed7953"
                        ],
                        [
                          0.7777777777777778,
                          "#fb9f3a"
                        ],
                        [
                          0.8888888888888888,
                          "#fdca26"
                        ],
                        [
                          1,
                          "#f0f921"
                        ]
                      ]
                    },
                    "colorway": [
                      "#636efa",
                      "#EF553B",
                      "#00cc96",
                      "#ab63fa",
                      "#FFA15A",
                      "#19d3f3",
                      "#FF6692",
                      "#B6E880",
                      "#FF97FF",
                      "#FECB52"
                    ],
                    "font": {
                      "color": "#2a3f5f"
                    },
                    "geo": {
                      "bgcolor": "white",
                      "lakecolor": "white",
                      "landcolor": "white",
                      "showlakes": true,
                      "showland": true,
                      "subunitcolor": "#C8D4E3"
                    },
                    "hoverlabel": {
                      "align": "left"
                    },
                    "hovermode": "closest",
                    "mapbox": {
                      "style": "light"
                    },
                    "paper_bgcolor": "white",
                    "plot_bgcolor": "white",
                    "polar": {
                      "angularaxis": {
                        "gridcolor": "#EBF0F8",
                        "linecolor": "#EBF0F8",
                        "ticks": ""
                      },
                      "bgcolor": "white",
                      "radialaxis": {
                        "gridcolor": "#EBF0F8",
                        "linecolor": "#EBF0F8",
                        "ticks": ""
                      }
                    },
                    "scene": {
                      "xaxis": {
                        "backgroundcolor": "white",
                        "gridcolor": "#DFE8F3",
                        "gridwidth": 2,
                        "linecolor": "#EBF0F8",
                        "showbackground": true,
                        "ticks": "",
                        "zerolinecolor": "#EBF0F8"
                      },
                      "yaxis": {
                        "backgroundcolor": "white",
                        "gridcolor": "#DFE8F3",
                        "gridwidth": 2,
                        "linecolor": "#EBF0F8",
                        "showbackground": true,
                        "ticks": "",
                        "zerolinecolor": "#EBF0F8"
                      },
                      "zaxis": {
                        "backgroundcolor": "white",
                        "gridcolor": "#DFE8F3",
                        "gridwidth": 2,
                        "linecolor": "#EBF0F8",
                        "showbackground": true,
                        "ticks": "",
                        "zerolinecolor": "#EBF0F8"
                      },
                      "camera": {
                        "eye": {
                          "x": 1.5,
                          "y": 1.5,
                          "z": 0.1
                        }
                      }
                    },
                    "shapedefaults": {
                      "line": {
                        "color": "#2a3f5f"
                      }
                    },
                    "ternary": {
                      "aaxis": {
                        "gridcolor": "#DFE8F3",
                        "linecolor": "#A2B1C6",
                        "ticks": ""
                      },
                      "baxis": {
                        "gridcolor": "#DFE8F3",
                        "linecolor": "#A2B1C6",
                        "ticks": ""
                      },
                      "bgcolor": "white",
                      "caxis": {
                        "gridcolor": "#DFE8F3",
                        "linecolor": "#A2B1C6",
                        "ticks": ""
                      }
                    },
                    "title": {
                      "x": 0.5
                    },
                    "xaxis": {
                      "automargin": true,
                      "gridcolor": "#EBF0F8",
                      "linecolor": "#EBF0F8",
                      "ticks": "",
                      "title": {
                        "standoff": 15
                      },
                      "zerolinecolor": "#EBF0F8",
                      "zerolinewidth": 2,
                      "linewidth": 2,
                      "showline": true
                    },
                    "yaxis": {
                      "automargin": true,
                      "gridcolor": "#EBF0F8",
                      "linecolor": "#EBF0F8",
                      "ticks": "",
                      "title": {
                        "standoff": 15
                      },
                      "zerolinecolor": "#EBF0F8",
                      "zerolinewidth": 2,
                      "linewidth": 2,
                      "showline": true
                    },
                    "height": 400,
                    "margin": {
                      "b": 2,
                      "l": 2,
                      "r": 2,
                      "t": 30
                    }
                  }
                },
                "title": {
                  "text": "<b>Confusion matrix</b>"
                },
                "margin": {
                  "t": 80,
                  "r": 20,
                  "l": 120,
                  "b": 50
                }
              },
              "config": {
                "plotlyServerURL": "https://plot.ly"
              }
            },
            "text/html": "<div>                            <div id=\"22c18554-5c7e-4bf6-84dd-ac40b05c7816\" class=\"plotly-graph-div\" style=\"height:400px; width:100%;\"></div>            <script type=\"text/javascript\">                require([\"plotly\"], function(Plotly) {                    window.PLOTLYENV=window.PLOTLYENV || {};                                    if (document.getElementById(\"22c18554-5c7e-4bf6-84dd-ac40b05c7816\")) {                    Plotly.newPlot(                        \"22c18554-5c7e-4bf6-84dd-ac40b05c7816\",                        [{\"colorscale\":[[0.0,\"#0d0887\"],[0.1111111111111111,\"#46039f\"],[0.2222222222222222,\"#7201a8\"],[0.3333333333333333,\"#9c179e\"],[0.4444444444444444,\"#bd3786\"],[0.5555555555555556,\"#d8576b\"],[0.6666666666666666,\"#ed7953\"],[0.7777777777777778,\"#fb9f3a\"],[0.8888888888888888,\"#fdca26\"],[1.0,\"#f0f921\"]],\"reversescale\":false,\"showscale\":true,\"x\":[\"false\",\"true\"],\"y\":[\"false\",\"true\"],\"z\":[[411,89],[157,343]],\"type\":\"heatmap\"}],                        {\"annotations\":[{\"font\":{\"color\":\"#000000\"},\"showarrow\":false,\"text\":\"411\",\"x\":\"false\",\"xref\":\"x\",\"y\":\"false\",\"yref\":\"y\"},{\"font\":{\"color\":\"#FFFFFF\"},\"showarrow\":false,\"text\":\"89\",\"x\":\"true\",\"xref\":\"x\",\"y\":\"false\",\"yref\":\"y\"},{\"font\":{\"color\":\"#FFFFFF\"},\"showarrow\":false,\"text\":\"157\",\"x\":\"false\",\"xref\":\"x\",\"y\":\"true\",\"yref\":\"y\"},{\"font\":{\"color\":\"#000000\"},\"showarrow\":false,\"text\":\"343\",\"x\":\"true\",\"xref\":\"x\",\"y\":\"true\",\"yref\":\"y\"},{\"font\":{\"color\":\"black\",\"size\":14},\"showarrow\":false,\"text\":\"Predicted label\",\"x\":0.5,\"xref\":\"paper\",\"y\":-0.15,\"yref\":\"paper\"},{\"font\":{\"color\":\"black\",\"size\":14},\"showarrow\":false,\"text\":\"Actual label\",\"textangle\":-90,\"x\":-0.15,\"xref\":\"paper\",\"y\":0.5,\"yref\":\"paper\"}],\"xaxis\":{\"dtick\":1,\"gridcolor\":\"rgb(0, 0, 0)\",\"side\":\"top\",\"ticks\":\"\"},\"yaxis\":{\"dtick\":1,\"ticks\":\"\",\"ticksuffix\":\"  \",\"categoryorder\":\"category descending\"},\"template\":{\"data\":{\"barpolar\":[{\"marker\":{\"line\":{\"color\":\"white\",\"width\":0.5},\"pattern\":{\"fillmode\":\"overlay\",\"size\":10,\"solidity\":0.2}},\"type\":\"barpolar\"}],\"bar\":[{\"error_x\":{\"color\":\"#2a3f5f\"},\"error_y\":{\"color\":\"#2a3f5f\"},\"marker\":{\"line\":{\"color\":\"white\",\"width\":0.5},\"pattern\":{\"fillmode\":\"overlay\",\"size\":10,\"solidity\":0.2}},\"type\":\"bar\"}],\"carpet\":[{\"aaxis\":{\"endlinecolor\":\"#2a3f5f\",\"gridcolor\":\"#C8D4E3\",\"linecolor\":\"#C8D4E3\",\"minorgridcolor\":\"#C8D4E3\",\"startlinecolor\":\"#2a3f5f\"},\"baxis\":{\"endlinecolor\":\"#2a3f5f\",\"gridcolor\":\"#C8D4E3\",\"linecolor\":\"#C8D4E3\",\"minorgridcolor\":\"#C8D4E3\",\"startlinecolor\":\"#2a3f5f\"},\"type\":\"carpet\"}],\"choropleth\":[{\"colorbar\":{\"outlinewidth\":0,\"ticks\":\"\"},\"type\":\"choropleth\"}],\"contourcarpet\":[{\"colorbar\":{\"outlinewidth\":0,\"ticks\":\"\"},\"type\":\"contourcarpet\"}],\"contour\":[{\"colorbar\":{\"outlinewidth\":0,\"ticks\":\"\"},\"colorscale\":[[0.0,\"#0d0887\"],[0.1111111111111111,\"#46039f\"],[0.2222222222222222,\"#7201a8\"],[0.3333333333333333,\"#9c179e\"],[0.4444444444444444,\"#bd3786\"],[0.5555555555555556,\"#d8576b\"],[0.6666666666666666,\"#ed7953\"],[0.7777777777777778,\"#fb9f3a\"],[0.8888888888888888,\"#fdca26\"],[1.0,\"#f0f921\"]],\"type\":\"contour\"}],\"heatmapgl\":[{\"colorbar\":{\"outlinewidth\":0,\"ticks\":\"\"},\"colorscale\":[[0.0,\"#0d0887\"],[0.1111111111111111,\"#46039f\"],[0.2222222222222222,\"#7201a8\"],[0.3333333333333333,\"#9c179e\"],[0.4444444444444444,\"#bd3786\"],[0.5555555555555556,\"#d8576b\"],[0.6666666666666666,\"#ed7953\"],[0.7777777777777778,\"#fb9f3a\"],[0.8888888888888888,\"#fdca26\"],[1.0,\"#f0f921\"]],\"type\":\"heatmapgl\"}],\"heatmap\":[{\"colorbar\":{\"outlinewidth\":0,\"ticks\":\"\"},\"colorscale\":[[0.0,\"#0d0887\"],[0.1111111111111111,\"#46039f\"],[0.2222222222222222,\"#7201a8\"],[0.3333333333333333,\"#9c179e\"],[0.4444444444444444,\"#bd3786\"],[0.5555555555555556,\"#d8576b\"],[0.6666666666666666,\"#ed7953\"],[0.7777777777777778,\"#fb9f3a\"],[0.8888888888888888,\"#fdca26\"],[1.0,\"#f0f921\"]],\"type\":\"heatmap\"}],\"histogram2dcontour\":[{\"colorbar\":{\"outlinewidth\":0,\"ticks\":\"\"},\"colorscale\":[[0.0,\"#0d0887\"],[0.1111111111111111,\"#46039f\"],[0.2222222222222222,\"#7201a8\"],[0.3333333333333333,\"#9c179e\"],[0.4444444444444444,\"#bd3786\"],[0.5555555555555556,\"#d8576b\"],[0.6666666666666666,\"#ed7953\"],[0.7777777777777778,\"#fb9f3a\"],[0.8888888888888888,\"#fdca26\"],[1.0,\"#f0f921\"]],\"type\":\"histogram2dcontour\"}],\"histogram2d\":[{\"colorbar\":{\"outlinewidth\":0,\"ticks\":\"\"},\"colorscale\":[[0.0,\"#0d0887\"],[0.1111111111111111,\"#46039f\"],[0.2222222222222222,\"#7201a8\"],[0.3333333333333333,\"#9c179e\"],[0.4444444444444444,\"#bd3786\"],[0.5555555555555556,\"#d8576b\"],[0.6666666666666666,\"#ed7953\"],[0.7777777777777778,\"#fb9f3a\"],[0.8888888888888888,\"#fdca26\"],[1.0,\"#f0f921\"]],\"type\":\"histogram2d\"}],\"histogram\":[{\"marker\":{\"pattern\":{\"fillmode\":\"overlay\",\"size\":10,\"solidity\":0.2},\"line\":{\"width\":1}},\"type\":\"histogram\"}],\"mesh3d\":[{\"colorbar\":{\"outlinewidth\":0,\"ticks\":\"\"},\"type\":\"mesh3d\"}],\"parcoords\":[{\"line\":{\"colorbar\":{\"outlinewidth\":0,\"ticks\":\"\"}},\"type\":\"parcoords\"}],\"pie\":[{\"automargin\":true,\"type\":\"pie\"}],\"scatter3d\":[{\"line\":{\"colorbar\":{\"outlinewidth\":0,\"ticks\":\"\"}},\"marker\":{\"colorbar\":{\"outlinewidth\":0,\"ticks\":\"\"},\"opacity\":0.8},\"type\":\"scatter3d\"}],\"scattercarpet\":[{\"marker\":{\"colorbar\":{\"outlinewidth\":0,\"ticks\":\"\"}},\"type\":\"scattercarpet\"}],\"scattergeo\":[{\"marker\":{\"colorbar\":{\"outlinewidth\":0,\"ticks\":\"\"}},\"type\":\"scattergeo\"}],\"scattergl\":[{\"marker\":{\"colorbar\":{\"outlinewidth\":0,\"ticks\":\"\"}},\"type\":\"scattergl\"}],\"scattermapbox\":[{\"marker\":{\"colorbar\":{\"outlinewidth\":0,\"ticks\":\"\"}},\"type\":\"scattermapbox\"}],\"scatterpolargl\":[{\"marker\":{\"colorbar\":{\"outlinewidth\":0,\"ticks\":\"\"}},\"type\":\"scatterpolargl\"}],\"scatterpolar\":[{\"marker\":{\"colorbar\":{\"outlinewidth\":0,\"ticks\":\"\"}},\"type\":\"scatterpolar\"}],\"scatter\":[{\"fillpattern\":{\"fillmode\":\"overlay\",\"size\":10,\"solidity\":0.2},\"type\":\"scatter\",\"marker\":{\"opacity\":0.8}}],\"scatterternary\":[{\"marker\":{\"colorbar\":{\"outlinewidth\":0,\"ticks\":\"\"}},\"type\":\"scatterternary\"}],\"surface\":[{\"colorbar\":{\"outlinewidth\":0,\"ticks\":\"\"},\"colorscale\":[[0.0,\"#0d0887\"],[0.1111111111111111,\"#46039f\"],[0.2222222222222222,\"#7201a8\"],[0.3333333333333333,\"#9c179e\"],[0.4444444444444444,\"#bd3786\"],[0.5555555555555556,\"#d8576b\"],[0.6666666666666666,\"#ed7953\"],[0.7777777777777778,\"#fb9f3a\"],[0.8888888888888888,\"#fdca26\"],[1.0,\"#f0f921\"]],\"type\":\"surface\"}],\"table\":[{\"cells\":{\"fill\":{\"color\":\"#EBF0F8\"},\"line\":{\"color\":\"white\"}},\"header\":{\"fill\":{\"color\":\"#C8D4E3\"},\"line\":{\"color\":\"white\"}},\"type\":\"table\"}],\"box\":[{\"boxpoints\":\"outliers\",\"notched\":false,\"type\":\"box\"}]},\"layout\":{\"annotationdefaults\":{\"arrowcolor\":\"#2a3f5f\",\"arrowhead\":0,\"arrowwidth\":1},\"autotypenumbers\":\"strict\",\"coloraxis\":{\"colorbar\":{\"outlinewidth\":0,\"ticks\":\"\"}},\"colorscale\":{\"diverging\":[[0,\"#8e0152\"],[0.1,\"#c51b7d\"],[0.2,\"#de77ae\"],[0.3,\"#f1b6da\"],[0.4,\"#fde0ef\"],[0.5,\"#f7f7f7\"],[0.6,\"#e6f5d0\"],[0.7,\"#b8e186\"],[0.8,\"#7fbc41\"],[0.9,\"#4d9221\"],[1,\"#276419\"]],\"sequential\":[[0.0,\"#0d0887\"],[0.1111111111111111,\"#46039f\"],[0.2222222222222222,\"#7201a8\"],[0.3333333333333333,\"#9c179e\"],[0.4444444444444444,\"#bd3786\"],[0.5555555555555556,\"#d8576b\"],[0.6666666666666666,\"#ed7953\"],[0.7777777777777778,\"#fb9f3a\"],[0.8888888888888888,\"#fdca26\"],[1.0,\"#f0f921\"]],\"sequentialminus\":[[0.0,\"#0d0887\"],[0.1111111111111111,\"#46039f\"],[0.2222222222222222,\"#7201a8\"],[0.3333333333333333,\"#9c179e\"],[0.4444444444444444,\"#bd3786\"],[0.5555555555555556,\"#d8576b\"],[0.6666666666666666,\"#ed7953\"],[0.7777777777777778,\"#fb9f3a\"],[0.8888888888888888,\"#fdca26\"],[1.0,\"#f0f921\"]]},\"colorway\":[\"#636efa\",\"#EF553B\",\"#00cc96\",\"#ab63fa\",\"#FFA15A\",\"#19d3f3\",\"#FF6692\",\"#B6E880\",\"#FF97FF\",\"#FECB52\"],\"font\":{\"color\":\"#2a3f5f\"},\"geo\":{\"bgcolor\":\"white\",\"lakecolor\":\"white\",\"landcolor\":\"white\",\"showlakes\":true,\"showland\":true,\"subunitcolor\":\"#C8D4E3\"},\"hoverlabel\":{\"align\":\"left\"},\"hovermode\":\"closest\",\"mapbox\":{\"style\":\"light\"},\"paper_bgcolor\":\"white\",\"plot_bgcolor\":\"white\",\"polar\":{\"angularaxis\":{\"gridcolor\":\"#EBF0F8\",\"linecolor\":\"#EBF0F8\",\"ticks\":\"\"},\"bgcolor\":\"white\",\"radialaxis\":{\"gridcolor\":\"#EBF0F8\",\"linecolor\":\"#EBF0F8\",\"ticks\":\"\"}},\"scene\":{\"xaxis\":{\"backgroundcolor\":\"white\",\"gridcolor\":\"#DFE8F3\",\"gridwidth\":2,\"linecolor\":\"#EBF0F8\",\"showbackground\":true,\"ticks\":\"\",\"zerolinecolor\":\"#EBF0F8\"},\"yaxis\":{\"backgroundcolor\":\"white\",\"gridcolor\":\"#DFE8F3\",\"gridwidth\":2,\"linecolor\":\"#EBF0F8\",\"showbackground\":true,\"ticks\":\"\",\"zerolinecolor\":\"#EBF0F8\"},\"zaxis\":{\"backgroundcolor\":\"white\",\"gridcolor\":\"#DFE8F3\",\"gridwidth\":2,\"linecolor\":\"#EBF0F8\",\"showbackground\":true,\"ticks\":\"\",\"zerolinecolor\":\"#EBF0F8\"},\"camera\":{\"eye\":{\"x\":1.5,\"y\":1.5,\"z\":0.1}}},\"shapedefaults\":{\"line\":{\"color\":\"#2a3f5f\"}},\"ternary\":{\"aaxis\":{\"gridcolor\":\"#DFE8F3\",\"linecolor\":\"#A2B1C6\",\"ticks\":\"\"},\"baxis\":{\"gridcolor\":\"#DFE8F3\",\"linecolor\":\"#A2B1C6\",\"ticks\":\"\"},\"bgcolor\":\"white\",\"caxis\":{\"gridcolor\":\"#DFE8F3\",\"linecolor\":\"#A2B1C6\",\"ticks\":\"\"}},\"title\":{\"x\":0.5},\"xaxis\":{\"automargin\":true,\"gridcolor\":\"#EBF0F8\",\"linecolor\":\"#EBF0F8\",\"ticks\":\"\",\"title\":{\"standoff\":15},\"zerolinecolor\":\"#EBF0F8\",\"zerolinewidth\":2,\"linewidth\":2,\"showline\":true},\"yaxis\":{\"automargin\":true,\"gridcolor\":\"#EBF0F8\",\"linecolor\":\"#EBF0F8\",\"ticks\":\"\",\"title\":{\"standoff\":15},\"zerolinecolor\":\"#EBF0F8\",\"zerolinewidth\":2,\"linewidth\":2,\"showline\":true},\"height\":400,\"margin\":{\"b\":2,\"l\":2,\"r\":2,\"t\":30}}},\"title\":{\"text\":\"<b>Confusion matrix</b>\"},\"margin\":{\"t\":80,\"r\":20,\"l\":120,\"b\":50}},                        {\"responsive\": true}                    ).then(function(){\n                            \nvar gd = document.getElementById('22c18554-5c7e-4bf6-84dd-ac40b05c7816');\nvar x = new MutationObserver(function (mutations, observer) {{\n        var display = window.getComputedStyle(gd).display;\n        if (!display || display === 'none') {{\n            console.log([gd, 'removed!']);\n            Plotly.purge(gd);\n            observer.disconnect();\n        }}\n}});\n\n// Listen for the removal of the full notebook cells\nvar notebookContainer = gd.closest('#notebook-container');\nif (notebookContainer) {{\n    x.observe(notebookContainer, {childList: true});\n}}\n\n// Listen for the clearing of the current output cell\nvar outputEl = gd.closest('.output');\nif (outputEl) {{\n    x.observe(outputEl, {childList: true});\n}}\n\n                        })                };                });            </script>        </div>"
          },
          "metadata": {}
        }
      ],
      "execution_count": 21,
      "metadata": {}
    },
    {
      "cell_type": "markdown",
      "source": [
        "The confusion matrix confirms the poor accuracy using this dataset, but why is this happening when we had such excellent metrics in the earlier *train* and *test* sets?\n",
        "\n",
        "Recall that the first model was heavily imbalanced. The \"hiker\" class made up roughly 22% of the outcomes.\n",
        "\n",
        "When such an imbalance happens, classification models don't have enough data to learn the patterns for the minority __class__, and as a consequence become biased towards the __majority__ class!\n",
        "\n",
        "Imbalanced sets can be addressed in a number of ways:\n",
        "\n",
        "- Improving data selection\n",
        "- Resampling the dataset\n",
        "- Using weighted classes\n",
        "\n",
        "For this exercise, we will focus on the last option."
      ],
      "metadata": {}
    },
    {
      "cell_type": "markdown",
      "source": [
        "## Using class weights to balance dataset\n",
        "\n",
        "We can assign different *weights* to the majority and minority classes, according to their distribution, and modify our training algorithm so that it takes that information into account during the training phase.\n",
        "\n",
        "It will then penalize errors when the minority class is misclassified, in essence \"forcing\" the model to to better learn their features and patterns.\n",
        "\n",
        "To use weighted classes, we have to retrain our model using the original *train* set, but this time telling the algorithm to use weights when calculating errors:\n"
      ],
      "metadata": {}
    },
    {
      "cell_type": "code",
      "source": [
        "# Import function used in calculating weights\n",
        "from sklearn.utils import class_weight\n",
        "\n",
        "# Retrain model using class weights\n",
        "# Using class_weight=\"balanced\" tells the algorithm to automatically calculate weights for us\n",
        "weighted_model = RandomForestClassifier(n_estimators=1, random_state=1, verbose=False, class_weight=\"balanced\")\n",
        "# Train the weighted_model using binary label\n",
        "weighted_model.fit(train[features], train.is_hiker)\n",
        "\n",
        "print(\"Train accuracy:\", assess_accuracy(weighted_model,train, \"is_hiker\"))\n",
        "print(\"Test accuracy:\", assess_accuracy(weighted_model, test, \"is_hiker\"))"
      ],
      "outputs": [
        {
          "output_type": "stream",
          "name": "stdout",
          "text": "Train accuracy: 0.9525974025974026\nTest accuracy: 0.9166666666666666\n"
        }
      ],
      "execution_count": 22,
      "metadata": {}
    },
    {
      "cell_type": "markdown",
      "source": [
        "After using the weighted classes, the *train* accuracy remained almost the same, while the *test* accuracy showed a small improvement (roughly 1%).\n",
        "\n",
        "Let's see if results are improved at all using the __balanced__ set for predictions again:\n"
      ],
      "metadata": {}
    },
    {
      "cell_type": "code",
      "source": [
        "print(\"Balanced set accuracy:\", assess_accuracy(weighted_model, balanced_dataset, \"is_hiker\"))\n",
        "\n",
        "# Test the weighted_model using a balanced dataset\n",
        "actual = balanced_dataset.is_hiker\n",
        "predictions = weighted_model.predict(balanced_dataset[features])\n",
        "\n",
        "# Build and print our confusion matrix, using the actual values and predictions \n",
        "# from the test set, calculated in previous cells\n",
        "cm = confusion_matrix(actual, predictions, normalize=None)\n"
      ],
      "outputs": [
        {
          "output_type": "stream",
          "name": "stdout",
          "text": "Balanced set accuracy: 0.796\n"
        }
      ],
      "execution_count": 23,
      "metadata": {}
    },
    {
      "cell_type": "markdown",
      "source": [
        "The accuracy for the balanced set increased roughly 4%, but we should still try to to visualize and understand the new results.\n",
        "\n",
        "## Final confusion matrix\n",
        "\n",
        "We can now plot a final confusion matrix, representing predictions for a *balanced dataset*, using a model trained on a *weighted class dataset*:"
      ],
      "metadata": {}
    },
    {
      "cell_type": "code",
      "source": [
        "# Plot the matrix above as a heatmap with annotations (values) in its cells\n",
        "fig = ff.create_annotated_heatmap(cm, x, y)\n",
        "\n",
        "# Set titles and ordering\n",
        "fig.update_layout(  title_text=\"<b>Confusion matrix</b>\", \n",
        "                    yaxis = dict(categoryorder = \"category descending\")\n",
        "                    )\n",
        "\n",
        "fig.add_annotation(dict(font=dict(color=\"black\",size=14),\n",
        "                        x=0.5,\n",
        "                        y=-0.15,\n",
        "                        showarrow=False,\n",
        "                        text=\"Predicted label\",\n",
        "                        xref=\"paper\",\n",
        "                        yref=\"paper\"))\n",
        "\n",
        "fig.add_annotation(dict(font=dict(color=\"black\",size=14),\n",
        "                        x=-0.15,\n",
        "                        y=0.5,\n",
        "                        showarrow=False,\n",
        "                        text=\"Actual label\",\n",
        "                        textangle=-90,\n",
        "                        xref=\"paper\",\n",
        "                        yref=\"paper\"))\n",
        "\n",
        "# We need margins so the titles fit\n",
        "fig.update_layout(margin=dict(t=80, r=20, l=120, b=50))\n",
        "fig['data'][0]['showscale'] = True\n",
        "fig.show()"
      ],
      "outputs": [
        {
          "output_type": "display_data",
          "data": {
            "application/vnd.plotly.v1+json": {
              "data": [
                {
                  "colorscale": [
                    [
                      0,
                      "#0d0887"
                    ],
                    [
                      0.1111111111111111,
                      "#46039f"
                    ],
                    [
                      0.2222222222222222,
                      "#7201a8"
                    ],
                    [
                      0.3333333333333333,
                      "#9c179e"
                    ],
                    [
                      0.4444444444444444,
                      "#bd3786"
                    ],
                    [
                      0.5555555555555556,
                      "#d8576b"
                    ],
                    [
                      0.6666666666666666,
                      "#ed7953"
                    ],
                    [
                      0.7777777777777778,
                      "#fb9f3a"
                    ],
                    [
                      0.8888888888888888,
                      "#fdca26"
                    ],
                    [
                      1,
                      "#f0f921"
                    ]
                  ],
                  "reversescale": false,
                  "showscale": true,
                  "x": [
                    "false",
                    "true"
                  ],
                  "y": [
                    "false",
                    "true"
                  ],
                  "z": [
                    [
                      408,
                      92
                    ],
                    [
                      112,
                      388
                    ]
                  ],
                  "type": "heatmap"
                }
              ],
              "layout": {
                "annotations": [
                  {
                    "font": {
                      "color": "#000000"
                    },
                    "showarrow": false,
                    "text": "408",
                    "x": "false",
                    "xref": "x",
                    "y": "false",
                    "yref": "y"
                  },
                  {
                    "font": {
                      "color": "#FFFFFF"
                    },
                    "showarrow": false,
                    "text": "92",
                    "x": "true",
                    "xref": "x",
                    "y": "false",
                    "yref": "y"
                  },
                  {
                    "font": {
                      "color": "#FFFFFF"
                    },
                    "showarrow": false,
                    "text": "112",
                    "x": "false",
                    "xref": "x",
                    "y": "true",
                    "yref": "y"
                  },
                  {
                    "font": {
                      "color": "#000000"
                    },
                    "showarrow": false,
                    "text": "388",
                    "x": "true",
                    "xref": "x",
                    "y": "true",
                    "yref": "y"
                  },
                  {
                    "font": {
                      "color": "black",
                      "size": 14
                    },
                    "showarrow": false,
                    "text": "Predicted label",
                    "x": 0.5,
                    "xref": "paper",
                    "y": -0.15,
                    "yref": "paper"
                  },
                  {
                    "font": {
                      "color": "black",
                      "size": 14
                    },
                    "showarrow": false,
                    "text": "Actual label",
                    "textangle": -90,
                    "x": -0.15,
                    "xref": "paper",
                    "y": 0.5,
                    "yref": "paper"
                  }
                ],
                "xaxis": {
                  "dtick": 1,
                  "gridcolor": "rgb(0, 0, 0)",
                  "side": "top",
                  "ticks": ""
                },
                "yaxis": {
                  "dtick": 1,
                  "ticks": "",
                  "ticksuffix": "  ",
                  "categoryorder": "category descending"
                },
                "template": {
                  "data": {
                    "barpolar": [
                      {
                        "marker": {
                          "line": {
                            "color": "white",
                            "width": 0.5
                          },
                          "pattern": {
                            "fillmode": "overlay",
                            "size": 10,
                            "solidity": 0.2
                          }
                        },
                        "type": "barpolar"
                      }
                    ],
                    "bar": [
                      {
                        "error_x": {
                          "color": "#2a3f5f"
                        },
                        "error_y": {
                          "color": "#2a3f5f"
                        },
                        "marker": {
                          "line": {
                            "color": "white",
                            "width": 0.5
                          },
                          "pattern": {
                            "fillmode": "overlay",
                            "size": 10,
                            "solidity": 0.2
                          }
                        },
                        "type": "bar"
                      }
                    ],
                    "carpet": [
                      {
                        "aaxis": {
                          "endlinecolor": "#2a3f5f",
                          "gridcolor": "#C8D4E3",
                          "linecolor": "#C8D4E3",
                          "minorgridcolor": "#C8D4E3",
                          "startlinecolor": "#2a3f5f"
                        },
                        "baxis": {
                          "endlinecolor": "#2a3f5f",
                          "gridcolor": "#C8D4E3",
                          "linecolor": "#C8D4E3",
                          "minorgridcolor": "#C8D4E3",
                          "startlinecolor": "#2a3f5f"
                        },
                        "type": "carpet"
                      }
                    ],
                    "choropleth": [
                      {
                        "colorbar": {
                          "outlinewidth": 0,
                          "ticks": ""
                        },
                        "type": "choropleth"
                      }
                    ],
                    "contourcarpet": [
                      {
                        "colorbar": {
                          "outlinewidth": 0,
                          "ticks": ""
                        },
                        "type": "contourcarpet"
                      }
                    ],
                    "contour": [
                      {
                        "colorbar": {
                          "outlinewidth": 0,
                          "ticks": ""
                        },
                        "colorscale": [
                          [
                            0,
                            "#0d0887"
                          ],
                          [
                            0.1111111111111111,
                            "#46039f"
                          ],
                          [
                            0.2222222222222222,
                            "#7201a8"
                          ],
                          [
                            0.3333333333333333,
                            "#9c179e"
                          ],
                          [
                            0.4444444444444444,
                            "#bd3786"
                          ],
                          [
                            0.5555555555555556,
                            "#d8576b"
                          ],
                          [
                            0.6666666666666666,
                            "#ed7953"
                          ],
                          [
                            0.7777777777777778,
                            "#fb9f3a"
                          ],
                          [
                            0.8888888888888888,
                            "#fdca26"
                          ],
                          [
                            1,
                            "#f0f921"
                          ]
                        ],
                        "type": "contour"
                      }
                    ],
                    "heatmapgl": [
                      {
                        "colorbar": {
                          "outlinewidth": 0,
                          "ticks": ""
                        },
                        "colorscale": [
                          [
                            0,
                            "#0d0887"
                          ],
                          [
                            0.1111111111111111,
                            "#46039f"
                          ],
                          [
                            0.2222222222222222,
                            "#7201a8"
                          ],
                          [
                            0.3333333333333333,
                            "#9c179e"
                          ],
                          [
                            0.4444444444444444,
                            "#bd3786"
                          ],
                          [
                            0.5555555555555556,
                            "#d8576b"
                          ],
                          [
                            0.6666666666666666,
                            "#ed7953"
                          ],
                          [
                            0.7777777777777778,
                            "#fb9f3a"
                          ],
                          [
                            0.8888888888888888,
                            "#fdca26"
                          ],
                          [
                            1,
                            "#f0f921"
                          ]
                        ],
                        "type": "heatmapgl"
                      }
                    ],
                    "heatmap": [
                      {
                        "colorbar": {
                          "outlinewidth": 0,
                          "ticks": ""
                        },
                        "colorscale": [
                          [
                            0,
                            "#0d0887"
                          ],
                          [
                            0.1111111111111111,
                            "#46039f"
                          ],
                          [
                            0.2222222222222222,
                            "#7201a8"
                          ],
                          [
                            0.3333333333333333,
                            "#9c179e"
                          ],
                          [
                            0.4444444444444444,
                            "#bd3786"
                          ],
                          [
                            0.5555555555555556,
                            "#d8576b"
                          ],
                          [
                            0.6666666666666666,
                            "#ed7953"
                          ],
                          [
                            0.7777777777777778,
                            "#fb9f3a"
                          ],
                          [
                            0.8888888888888888,
                            "#fdca26"
                          ],
                          [
                            1,
                            "#f0f921"
                          ]
                        ],
                        "type": "heatmap"
                      }
                    ],
                    "histogram2dcontour": [
                      {
                        "colorbar": {
                          "outlinewidth": 0,
                          "ticks": ""
                        },
                        "colorscale": [
                          [
                            0,
                            "#0d0887"
                          ],
                          [
                            0.1111111111111111,
                            "#46039f"
                          ],
                          [
                            0.2222222222222222,
                            "#7201a8"
                          ],
                          [
                            0.3333333333333333,
                            "#9c179e"
                          ],
                          [
                            0.4444444444444444,
                            "#bd3786"
                          ],
                          [
                            0.5555555555555556,
                            "#d8576b"
                          ],
                          [
                            0.6666666666666666,
                            "#ed7953"
                          ],
                          [
                            0.7777777777777778,
                            "#fb9f3a"
                          ],
                          [
                            0.8888888888888888,
                            "#fdca26"
                          ],
                          [
                            1,
                            "#f0f921"
                          ]
                        ],
                        "type": "histogram2dcontour"
                      }
                    ],
                    "histogram2d": [
                      {
                        "colorbar": {
                          "outlinewidth": 0,
                          "ticks": ""
                        },
                        "colorscale": [
                          [
                            0,
                            "#0d0887"
                          ],
                          [
                            0.1111111111111111,
                            "#46039f"
                          ],
                          [
                            0.2222222222222222,
                            "#7201a8"
                          ],
                          [
                            0.3333333333333333,
                            "#9c179e"
                          ],
                          [
                            0.4444444444444444,
                            "#bd3786"
                          ],
                          [
                            0.5555555555555556,
                            "#d8576b"
                          ],
                          [
                            0.6666666666666666,
                            "#ed7953"
                          ],
                          [
                            0.7777777777777778,
                            "#fb9f3a"
                          ],
                          [
                            0.8888888888888888,
                            "#fdca26"
                          ],
                          [
                            1,
                            "#f0f921"
                          ]
                        ],
                        "type": "histogram2d"
                      }
                    ],
                    "histogram": [
                      {
                        "marker": {
                          "pattern": {
                            "fillmode": "overlay",
                            "size": 10,
                            "solidity": 0.2
                          },
                          "line": {
                            "width": 1
                          }
                        },
                        "type": "histogram"
                      }
                    ],
                    "mesh3d": [
                      {
                        "colorbar": {
                          "outlinewidth": 0,
                          "ticks": ""
                        },
                        "type": "mesh3d"
                      }
                    ],
                    "parcoords": [
                      {
                        "line": {
                          "colorbar": {
                            "outlinewidth": 0,
                            "ticks": ""
                          }
                        },
                        "type": "parcoords"
                      }
                    ],
                    "pie": [
                      {
                        "automargin": true,
                        "type": "pie"
                      }
                    ],
                    "scatter3d": [
                      {
                        "line": {
                          "colorbar": {
                            "outlinewidth": 0,
                            "ticks": ""
                          }
                        },
                        "marker": {
                          "colorbar": {
                            "outlinewidth": 0,
                            "ticks": ""
                          },
                          "opacity": 0.8
                        },
                        "type": "scatter3d"
                      }
                    ],
                    "scattercarpet": [
                      {
                        "marker": {
                          "colorbar": {
                            "outlinewidth": 0,
                            "ticks": ""
                          }
                        },
                        "type": "scattercarpet"
                      }
                    ],
                    "scattergeo": [
                      {
                        "marker": {
                          "colorbar": {
                            "outlinewidth": 0,
                            "ticks": ""
                          }
                        },
                        "type": "scattergeo"
                      }
                    ],
                    "scattergl": [
                      {
                        "marker": {
                          "colorbar": {
                            "outlinewidth": 0,
                            "ticks": ""
                          }
                        },
                        "type": "scattergl"
                      }
                    ],
                    "scattermapbox": [
                      {
                        "marker": {
                          "colorbar": {
                            "outlinewidth": 0,
                            "ticks": ""
                          }
                        },
                        "type": "scattermapbox"
                      }
                    ],
                    "scatterpolargl": [
                      {
                        "marker": {
                          "colorbar": {
                            "outlinewidth": 0,
                            "ticks": ""
                          }
                        },
                        "type": "scatterpolargl"
                      }
                    ],
                    "scatterpolar": [
                      {
                        "marker": {
                          "colorbar": {
                            "outlinewidth": 0,
                            "ticks": ""
                          }
                        },
                        "type": "scatterpolar"
                      }
                    ],
                    "scatter": [
                      {
                        "fillpattern": {
                          "fillmode": "overlay",
                          "size": 10,
                          "solidity": 0.2
                        },
                        "type": "scatter",
                        "marker": {
                          "opacity": 0.8
                        }
                      }
                    ],
                    "scatterternary": [
                      {
                        "marker": {
                          "colorbar": {
                            "outlinewidth": 0,
                            "ticks": ""
                          }
                        },
                        "type": "scatterternary"
                      }
                    ],
                    "surface": [
                      {
                        "colorbar": {
                          "outlinewidth": 0,
                          "ticks": ""
                        },
                        "colorscale": [
                          [
                            0,
                            "#0d0887"
                          ],
                          [
                            0.1111111111111111,
                            "#46039f"
                          ],
                          [
                            0.2222222222222222,
                            "#7201a8"
                          ],
                          [
                            0.3333333333333333,
                            "#9c179e"
                          ],
                          [
                            0.4444444444444444,
                            "#bd3786"
                          ],
                          [
                            0.5555555555555556,
                            "#d8576b"
                          ],
                          [
                            0.6666666666666666,
                            "#ed7953"
                          ],
                          [
                            0.7777777777777778,
                            "#fb9f3a"
                          ],
                          [
                            0.8888888888888888,
                            "#fdca26"
                          ],
                          [
                            1,
                            "#f0f921"
                          ]
                        ],
                        "type": "surface"
                      }
                    ],
                    "table": [
                      {
                        "cells": {
                          "fill": {
                            "color": "#EBF0F8"
                          },
                          "line": {
                            "color": "white"
                          }
                        },
                        "header": {
                          "fill": {
                            "color": "#C8D4E3"
                          },
                          "line": {
                            "color": "white"
                          }
                        },
                        "type": "table"
                      }
                    ],
                    "box": [
                      {
                        "boxpoints": "outliers",
                        "notched": false,
                        "type": "box"
                      }
                    ]
                  },
                  "layout": {
                    "annotationdefaults": {
                      "arrowcolor": "#2a3f5f",
                      "arrowhead": 0,
                      "arrowwidth": 1
                    },
                    "autotypenumbers": "strict",
                    "coloraxis": {
                      "colorbar": {
                        "outlinewidth": 0,
                        "ticks": ""
                      }
                    },
                    "colorscale": {
                      "diverging": [
                        [
                          0,
                          "#8e0152"
                        ],
                        [
                          0.1,
                          "#c51b7d"
                        ],
                        [
                          0.2,
                          "#de77ae"
                        ],
                        [
                          0.3,
                          "#f1b6da"
                        ],
                        [
                          0.4,
                          "#fde0ef"
                        ],
                        [
                          0.5,
                          "#f7f7f7"
                        ],
                        [
                          0.6,
                          "#e6f5d0"
                        ],
                        [
                          0.7,
                          "#b8e186"
                        ],
                        [
                          0.8,
                          "#7fbc41"
                        ],
                        [
                          0.9,
                          "#4d9221"
                        ],
                        [
                          1,
                          "#276419"
                        ]
                      ],
                      "sequential": [
                        [
                          0,
                          "#0d0887"
                        ],
                        [
                          0.1111111111111111,
                          "#46039f"
                        ],
                        [
                          0.2222222222222222,
                          "#7201a8"
                        ],
                        [
                          0.3333333333333333,
                          "#9c179e"
                        ],
                        [
                          0.4444444444444444,
                          "#bd3786"
                        ],
                        [
                          0.5555555555555556,
                          "#d8576b"
                        ],
                        [
                          0.6666666666666666,
                          "#ed7953"
                        ],
                        [
                          0.7777777777777778,
                          "#fb9f3a"
                        ],
                        [
                          0.8888888888888888,
                          "#fdca26"
                        ],
                        [
                          1,
                          "#f0f921"
                        ]
                      ],
                      "sequentialminus": [
                        [
                          0,
                          "#0d0887"
                        ],
                        [
                          0.1111111111111111,
                          "#46039f"
                        ],
                        [
                          0.2222222222222222,
                          "#7201a8"
                        ],
                        [
                          0.3333333333333333,
                          "#9c179e"
                        ],
                        [
                          0.4444444444444444,
                          "#bd3786"
                        ],
                        [
                          0.5555555555555556,
                          "#d8576b"
                        ],
                        [
                          0.6666666666666666,
                          "#ed7953"
                        ],
                        [
                          0.7777777777777778,
                          "#fb9f3a"
                        ],
                        [
                          0.8888888888888888,
                          "#fdca26"
                        ],
                        [
                          1,
                          "#f0f921"
                        ]
                      ]
                    },
                    "colorway": [
                      "#636efa",
                      "#EF553B",
                      "#00cc96",
                      "#ab63fa",
                      "#FFA15A",
                      "#19d3f3",
                      "#FF6692",
                      "#B6E880",
                      "#FF97FF",
                      "#FECB52"
                    ],
                    "font": {
                      "color": "#2a3f5f"
                    },
                    "geo": {
                      "bgcolor": "white",
                      "lakecolor": "white",
                      "landcolor": "white",
                      "showlakes": true,
                      "showland": true,
                      "subunitcolor": "#C8D4E3"
                    },
                    "hoverlabel": {
                      "align": "left"
                    },
                    "hovermode": "closest",
                    "mapbox": {
                      "style": "light"
                    },
                    "paper_bgcolor": "white",
                    "plot_bgcolor": "white",
                    "polar": {
                      "angularaxis": {
                        "gridcolor": "#EBF0F8",
                        "linecolor": "#EBF0F8",
                        "ticks": ""
                      },
                      "bgcolor": "white",
                      "radialaxis": {
                        "gridcolor": "#EBF0F8",
                        "linecolor": "#EBF0F8",
                        "ticks": ""
                      }
                    },
                    "scene": {
                      "xaxis": {
                        "backgroundcolor": "white",
                        "gridcolor": "#DFE8F3",
                        "gridwidth": 2,
                        "linecolor": "#EBF0F8",
                        "showbackground": true,
                        "ticks": "",
                        "zerolinecolor": "#EBF0F8"
                      },
                      "yaxis": {
                        "backgroundcolor": "white",
                        "gridcolor": "#DFE8F3",
                        "gridwidth": 2,
                        "linecolor": "#EBF0F8",
                        "showbackground": true,
                        "ticks": "",
                        "zerolinecolor": "#EBF0F8"
                      },
                      "zaxis": {
                        "backgroundcolor": "white",
                        "gridcolor": "#DFE8F3",
                        "gridwidth": 2,
                        "linecolor": "#EBF0F8",
                        "showbackground": true,
                        "ticks": "",
                        "zerolinecolor": "#EBF0F8"
                      },
                      "camera": {
                        "eye": {
                          "x": 1.5,
                          "y": 1.5,
                          "z": 0.1
                        }
                      }
                    },
                    "shapedefaults": {
                      "line": {
                        "color": "#2a3f5f"
                      }
                    },
                    "ternary": {
                      "aaxis": {
                        "gridcolor": "#DFE8F3",
                        "linecolor": "#A2B1C6",
                        "ticks": ""
                      },
                      "baxis": {
                        "gridcolor": "#DFE8F3",
                        "linecolor": "#A2B1C6",
                        "ticks": ""
                      },
                      "bgcolor": "white",
                      "caxis": {
                        "gridcolor": "#DFE8F3",
                        "linecolor": "#A2B1C6",
                        "ticks": ""
                      }
                    },
                    "title": {
                      "x": 0.5
                    },
                    "xaxis": {
                      "automargin": true,
                      "gridcolor": "#EBF0F8",
                      "linecolor": "#EBF0F8",
                      "ticks": "",
                      "title": {
                        "standoff": 15
                      },
                      "zerolinecolor": "#EBF0F8",
                      "zerolinewidth": 2,
                      "linewidth": 2,
                      "showline": true
                    },
                    "yaxis": {
                      "automargin": true,
                      "gridcolor": "#EBF0F8",
                      "linecolor": "#EBF0F8",
                      "ticks": "",
                      "title": {
                        "standoff": 15
                      },
                      "zerolinecolor": "#EBF0F8",
                      "zerolinewidth": 2,
                      "linewidth": 2,
                      "showline": true
                    },
                    "height": 400,
                    "margin": {
                      "b": 2,
                      "l": 2,
                      "r": 2,
                      "t": 30
                    }
                  }
                },
                "title": {
                  "text": "<b>Confusion matrix</b>"
                },
                "margin": {
                  "t": 80,
                  "r": 20,
                  "l": 120,
                  "b": 50
                }
              },
              "config": {
                "plotlyServerURL": "https://plot.ly"
              }
            },
            "text/html": "<div>                            <div id=\"b1e967d7-2c77-47a5-a943-db77b62fd346\" class=\"plotly-graph-div\" style=\"height:400px; width:100%;\"></div>            <script type=\"text/javascript\">                require([\"plotly\"], function(Plotly) {                    window.PLOTLYENV=window.PLOTLYENV || {};                                    if (document.getElementById(\"b1e967d7-2c77-47a5-a943-db77b62fd346\")) {                    Plotly.newPlot(                        \"b1e967d7-2c77-47a5-a943-db77b62fd346\",                        [{\"colorscale\":[[0.0,\"#0d0887\"],[0.1111111111111111,\"#46039f\"],[0.2222222222222222,\"#7201a8\"],[0.3333333333333333,\"#9c179e\"],[0.4444444444444444,\"#bd3786\"],[0.5555555555555556,\"#d8576b\"],[0.6666666666666666,\"#ed7953\"],[0.7777777777777778,\"#fb9f3a\"],[0.8888888888888888,\"#fdca26\"],[1.0,\"#f0f921\"]],\"reversescale\":false,\"showscale\":true,\"x\":[\"false\",\"true\"],\"y\":[\"false\",\"true\"],\"z\":[[408,92],[112,388]],\"type\":\"heatmap\"}],                        {\"annotations\":[{\"font\":{\"color\":\"#000000\"},\"showarrow\":false,\"text\":\"408\",\"x\":\"false\",\"xref\":\"x\",\"y\":\"false\",\"yref\":\"y\"},{\"font\":{\"color\":\"#FFFFFF\"},\"showarrow\":false,\"text\":\"92\",\"x\":\"true\",\"xref\":\"x\",\"y\":\"false\",\"yref\":\"y\"},{\"font\":{\"color\":\"#FFFFFF\"},\"showarrow\":false,\"text\":\"112\",\"x\":\"false\",\"xref\":\"x\",\"y\":\"true\",\"yref\":\"y\"},{\"font\":{\"color\":\"#000000\"},\"showarrow\":false,\"text\":\"388\",\"x\":\"true\",\"xref\":\"x\",\"y\":\"true\",\"yref\":\"y\"},{\"font\":{\"color\":\"black\",\"size\":14},\"showarrow\":false,\"text\":\"Predicted label\",\"x\":0.5,\"xref\":\"paper\",\"y\":-0.15,\"yref\":\"paper\"},{\"font\":{\"color\":\"black\",\"size\":14},\"showarrow\":false,\"text\":\"Actual label\",\"textangle\":-90,\"x\":-0.15,\"xref\":\"paper\",\"y\":0.5,\"yref\":\"paper\"}],\"xaxis\":{\"dtick\":1,\"gridcolor\":\"rgb(0, 0, 0)\",\"side\":\"top\",\"ticks\":\"\"},\"yaxis\":{\"dtick\":1,\"ticks\":\"\",\"ticksuffix\":\"  \",\"categoryorder\":\"category descending\"},\"template\":{\"data\":{\"barpolar\":[{\"marker\":{\"line\":{\"color\":\"white\",\"width\":0.5},\"pattern\":{\"fillmode\":\"overlay\",\"size\":10,\"solidity\":0.2}},\"type\":\"barpolar\"}],\"bar\":[{\"error_x\":{\"color\":\"#2a3f5f\"},\"error_y\":{\"color\":\"#2a3f5f\"},\"marker\":{\"line\":{\"color\":\"white\",\"width\":0.5},\"pattern\":{\"fillmode\":\"overlay\",\"size\":10,\"solidity\":0.2}},\"type\":\"bar\"}],\"carpet\":[{\"aaxis\":{\"endlinecolor\":\"#2a3f5f\",\"gridcolor\":\"#C8D4E3\",\"linecolor\":\"#C8D4E3\",\"minorgridcolor\":\"#C8D4E3\",\"startlinecolor\":\"#2a3f5f\"},\"baxis\":{\"endlinecolor\":\"#2a3f5f\",\"gridcolor\":\"#C8D4E3\",\"linecolor\":\"#C8D4E3\",\"minorgridcolor\":\"#C8D4E3\",\"startlinecolor\":\"#2a3f5f\"},\"type\":\"carpet\"}],\"choropleth\":[{\"colorbar\":{\"outlinewidth\":0,\"ticks\":\"\"},\"type\":\"choropleth\"}],\"contourcarpet\":[{\"colorbar\":{\"outlinewidth\":0,\"ticks\":\"\"},\"type\":\"contourcarpet\"}],\"contour\":[{\"colorbar\":{\"outlinewidth\":0,\"ticks\":\"\"},\"colorscale\":[[0.0,\"#0d0887\"],[0.1111111111111111,\"#46039f\"],[0.2222222222222222,\"#7201a8\"],[0.3333333333333333,\"#9c179e\"],[0.4444444444444444,\"#bd3786\"],[0.5555555555555556,\"#d8576b\"],[0.6666666666666666,\"#ed7953\"],[0.7777777777777778,\"#fb9f3a\"],[0.8888888888888888,\"#fdca26\"],[1.0,\"#f0f921\"]],\"type\":\"contour\"}],\"heatmapgl\":[{\"colorbar\":{\"outlinewidth\":0,\"ticks\":\"\"},\"colorscale\":[[0.0,\"#0d0887\"],[0.1111111111111111,\"#46039f\"],[0.2222222222222222,\"#7201a8\"],[0.3333333333333333,\"#9c179e\"],[0.4444444444444444,\"#bd3786\"],[0.5555555555555556,\"#d8576b\"],[0.6666666666666666,\"#ed7953\"],[0.7777777777777778,\"#fb9f3a\"],[0.8888888888888888,\"#fdca26\"],[1.0,\"#f0f921\"]],\"type\":\"heatmapgl\"}],\"heatmap\":[{\"colorbar\":{\"outlinewidth\":0,\"ticks\":\"\"},\"colorscale\":[[0.0,\"#0d0887\"],[0.1111111111111111,\"#46039f\"],[0.2222222222222222,\"#7201a8\"],[0.3333333333333333,\"#9c179e\"],[0.4444444444444444,\"#bd3786\"],[0.5555555555555556,\"#d8576b\"],[0.6666666666666666,\"#ed7953\"],[0.7777777777777778,\"#fb9f3a\"],[0.8888888888888888,\"#fdca26\"],[1.0,\"#f0f921\"]],\"type\":\"heatmap\"}],\"histogram2dcontour\":[{\"colorbar\":{\"outlinewidth\":0,\"ticks\":\"\"},\"colorscale\":[[0.0,\"#0d0887\"],[0.1111111111111111,\"#46039f\"],[0.2222222222222222,\"#7201a8\"],[0.3333333333333333,\"#9c179e\"],[0.4444444444444444,\"#bd3786\"],[0.5555555555555556,\"#d8576b\"],[0.6666666666666666,\"#ed7953\"],[0.7777777777777778,\"#fb9f3a\"],[0.8888888888888888,\"#fdca26\"],[1.0,\"#f0f921\"]],\"type\":\"histogram2dcontour\"}],\"histogram2d\":[{\"colorbar\":{\"outlinewidth\":0,\"ticks\":\"\"},\"colorscale\":[[0.0,\"#0d0887\"],[0.1111111111111111,\"#46039f\"],[0.2222222222222222,\"#7201a8\"],[0.3333333333333333,\"#9c179e\"],[0.4444444444444444,\"#bd3786\"],[0.5555555555555556,\"#d8576b\"],[0.6666666666666666,\"#ed7953\"],[0.7777777777777778,\"#fb9f3a\"],[0.8888888888888888,\"#fdca26\"],[1.0,\"#f0f921\"]],\"type\":\"histogram2d\"}],\"histogram\":[{\"marker\":{\"pattern\":{\"fillmode\":\"overlay\",\"size\":10,\"solidity\":0.2},\"line\":{\"width\":1}},\"type\":\"histogram\"}],\"mesh3d\":[{\"colorbar\":{\"outlinewidth\":0,\"ticks\":\"\"},\"type\":\"mesh3d\"}],\"parcoords\":[{\"line\":{\"colorbar\":{\"outlinewidth\":0,\"ticks\":\"\"}},\"type\":\"parcoords\"}],\"pie\":[{\"automargin\":true,\"type\":\"pie\"}],\"scatter3d\":[{\"line\":{\"colorbar\":{\"outlinewidth\":0,\"ticks\":\"\"}},\"marker\":{\"colorbar\":{\"outlinewidth\":0,\"ticks\":\"\"},\"opacity\":0.8},\"type\":\"scatter3d\"}],\"scattercarpet\":[{\"marker\":{\"colorbar\":{\"outlinewidth\":0,\"ticks\":\"\"}},\"type\":\"scattercarpet\"}],\"scattergeo\":[{\"marker\":{\"colorbar\":{\"outlinewidth\":0,\"ticks\":\"\"}},\"type\":\"scattergeo\"}],\"scattergl\":[{\"marker\":{\"colorbar\":{\"outlinewidth\":0,\"ticks\":\"\"}},\"type\":\"scattergl\"}],\"scattermapbox\":[{\"marker\":{\"colorbar\":{\"outlinewidth\":0,\"ticks\":\"\"}},\"type\":\"scattermapbox\"}],\"scatterpolargl\":[{\"marker\":{\"colorbar\":{\"outlinewidth\":0,\"ticks\":\"\"}},\"type\":\"scatterpolargl\"}],\"scatterpolar\":[{\"marker\":{\"colorbar\":{\"outlinewidth\":0,\"ticks\":\"\"}},\"type\":\"scatterpolar\"}],\"scatter\":[{\"fillpattern\":{\"fillmode\":\"overlay\",\"size\":10,\"solidity\":0.2},\"type\":\"scatter\",\"marker\":{\"opacity\":0.8}}],\"scatterternary\":[{\"marker\":{\"colorbar\":{\"outlinewidth\":0,\"ticks\":\"\"}},\"type\":\"scatterternary\"}],\"surface\":[{\"colorbar\":{\"outlinewidth\":0,\"ticks\":\"\"},\"colorscale\":[[0.0,\"#0d0887\"],[0.1111111111111111,\"#46039f\"],[0.2222222222222222,\"#7201a8\"],[0.3333333333333333,\"#9c179e\"],[0.4444444444444444,\"#bd3786\"],[0.5555555555555556,\"#d8576b\"],[0.6666666666666666,\"#ed7953\"],[0.7777777777777778,\"#fb9f3a\"],[0.8888888888888888,\"#fdca26\"],[1.0,\"#f0f921\"]],\"type\":\"surface\"}],\"table\":[{\"cells\":{\"fill\":{\"color\":\"#EBF0F8\"},\"line\":{\"color\":\"white\"}},\"header\":{\"fill\":{\"color\":\"#C8D4E3\"},\"line\":{\"color\":\"white\"}},\"type\":\"table\"}],\"box\":[{\"boxpoints\":\"outliers\",\"notched\":false,\"type\":\"box\"}]},\"layout\":{\"annotationdefaults\":{\"arrowcolor\":\"#2a3f5f\",\"arrowhead\":0,\"arrowwidth\":1},\"autotypenumbers\":\"strict\",\"coloraxis\":{\"colorbar\":{\"outlinewidth\":0,\"ticks\":\"\"}},\"colorscale\":{\"diverging\":[[0,\"#8e0152\"],[0.1,\"#c51b7d\"],[0.2,\"#de77ae\"],[0.3,\"#f1b6da\"],[0.4,\"#fde0ef\"],[0.5,\"#f7f7f7\"],[0.6,\"#e6f5d0\"],[0.7,\"#b8e186\"],[0.8,\"#7fbc41\"],[0.9,\"#4d9221\"],[1,\"#276419\"]],\"sequential\":[[0.0,\"#0d0887\"],[0.1111111111111111,\"#46039f\"],[0.2222222222222222,\"#7201a8\"],[0.3333333333333333,\"#9c179e\"],[0.4444444444444444,\"#bd3786\"],[0.5555555555555556,\"#d8576b\"],[0.6666666666666666,\"#ed7953\"],[0.7777777777777778,\"#fb9f3a\"],[0.8888888888888888,\"#fdca26\"],[1.0,\"#f0f921\"]],\"sequentialminus\":[[0.0,\"#0d0887\"],[0.1111111111111111,\"#46039f\"],[0.2222222222222222,\"#7201a8\"],[0.3333333333333333,\"#9c179e\"],[0.4444444444444444,\"#bd3786\"],[0.5555555555555556,\"#d8576b\"],[0.6666666666666666,\"#ed7953\"],[0.7777777777777778,\"#fb9f3a\"],[0.8888888888888888,\"#fdca26\"],[1.0,\"#f0f921\"]]},\"colorway\":[\"#636efa\",\"#EF553B\",\"#00cc96\",\"#ab63fa\",\"#FFA15A\",\"#19d3f3\",\"#FF6692\",\"#B6E880\",\"#FF97FF\",\"#FECB52\"],\"font\":{\"color\":\"#2a3f5f\"},\"geo\":{\"bgcolor\":\"white\",\"lakecolor\":\"white\",\"landcolor\":\"white\",\"showlakes\":true,\"showland\":true,\"subunitcolor\":\"#C8D4E3\"},\"hoverlabel\":{\"align\":\"left\"},\"hovermode\":\"closest\",\"mapbox\":{\"style\":\"light\"},\"paper_bgcolor\":\"white\",\"plot_bgcolor\":\"white\",\"polar\":{\"angularaxis\":{\"gridcolor\":\"#EBF0F8\",\"linecolor\":\"#EBF0F8\",\"ticks\":\"\"},\"bgcolor\":\"white\",\"radialaxis\":{\"gridcolor\":\"#EBF0F8\",\"linecolor\":\"#EBF0F8\",\"ticks\":\"\"}},\"scene\":{\"xaxis\":{\"backgroundcolor\":\"white\",\"gridcolor\":\"#DFE8F3\",\"gridwidth\":2,\"linecolor\":\"#EBF0F8\",\"showbackground\":true,\"ticks\":\"\",\"zerolinecolor\":\"#EBF0F8\"},\"yaxis\":{\"backgroundcolor\":\"white\",\"gridcolor\":\"#DFE8F3\",\"gridwidth\":2,\"linecolor\":\"#EBF0F8\",\"showbackground\":true,\"ticks\":\"\",\"zerolinecolor\":\"#EBF0F8\"},\"zaxis\":{\"backgroundcolor\":\"white\",\"gridcolor\":\"#DFE8F3\",\"gridwidth\":2,\"linecolor\":\"#EBF0F8\",\"showbackground\":true,\"ticks\":\"\",\"zerolinecolor\":\"#EBF0F8\"},\"camera\":{\"eye\":{\"x\":1.5,\"y\":1.5,\"z\":0.1}}},\"shapedefaults\":{\"line\":{\"color\":\"#2a3f5f\"}},\"ternary\":{\"aaxis\":{\"gridcolor\":\"#DFE8F3\",\"linecolor\":\"#A2B1C6\",\"ticks\":\"\"},\"baxis\":{\"gridcolor\":\"#DFE8F3\",\"linecolor\":\"#A2B1C6\",\"ticks\":\"\"},\"bgcolor\":\"white\",\"caxis\":{\"gridcolor\":\"#DFE8F3\",\"linecolor\":\"#A2B1C6\",\"ticks\":\"\"}},\"title\":{\"x\":0.5},\"xaxis\":{\"automargin\":true,\"gridcolor\":\"#EBF0F8\",\"linecolor\":\"#EBF0F8\",\"ticks\":\"\",\"title\":{\"standoff\":15},\"zerolinecolor\":\"#EBF0F8\",\"zerolinewidth\":2,\"linewidth\":2,\"showline\":true},\"yaxis\":{\"automargin\":true,\"gridcolor\":\"#EBF0F8\",\"linecolor\":\"#EBF0F8\",\"ticks\":\"\",\"title\":{\"standoff\":15},\"zerolinecolor\":\"#EBF0F8\",\"zerolinewidth\":2,\"linewidth\":2,\"showline\":true},\"height\":400,\"margin\":{\"b\":2,\"l\":2,\"r\":2,\"t\":30}}},\"title\":{\"text\":\"<b>Confusion matrix</b>\"},\"margin\":{\"t\":80,\"r\":20,\"l\":120,\"b\":50}},                        {\"responsive\": true}                    ).then(function(){\n                            \nvar gd = document.getElementById('b1e967d7-2c77-47a5-a943-db77b62fd346');\nvar x = new MutationObserver(function (mutations, observer) {{\n        var display = window.getComputedStyle(gd).display;\n        if (!display || display === 'none') {{\n            console.log([gd, 'removed!']);\n            Plotly.purge(gd);\n            observer.disconnect();\n        }}\n}});\n\n// Listen for the removal of the full notebook cells\nvar notebookContainer = gd.closest('#notebook-container');\nif (notebookContainer) {{\n    x.observe(notebookContainer, {childList: true});\n}}\n\n// Listen for the clearing of the current output cell\nvar outputEl = gd.closest('.output');\nif (outputEl) {{\n    x.observe(outputEl, {childList: true});\n}}\n\n                        })                };                });            </script>        </div>"
          },
          "metadata": {}
        }
      ],
      "execution_count": 24,
      "metadata": {}
    },
    {
      "cell_type": "markdown",
      "source": [
        "While the results might look a bit disappointing, we now have 21% wrong predictions (FNs + FPs), against 25% from the previous experiment.\n",
        "\n",
        "Correct predictions (TPs + TNs) went from 74.7% to 78.7%.\n",
        "\n",
        "Is an all around 4% improvement significant or not?\n",
        "\n",
        "Remember that we had relatively little data to train the model, and the features we have available may still be so similar for different samples (for example, hikers and animals tend to be small, non-rough and move a lot), that despite our efforts, the model still has some difficulty making correct predictions.\n",
        "\n",
        "We only had to change a single line of code to get better results, so it seems worth the effort!\n",
        "\n"
      ],
      "metadata": {}
    },
    {
      "cell_type": "markdown",
      "source": [
        "## Summary\n",
        "\n",
        "This was a long exercise, where we covered the following topics:\n",
        "\n",
        "- Creating new label fields so we can perform *binary classification* using a dataset with multiple classes.\n",
        "- How training on *imbalanced sets* can have a negative effect in perfomance, especially when using unseen data from *balanced datasets*.\n",
        "- Evaluating results of *binary classification* models using a confusion matrix.\n",
        "- Using weighted classes to address class imbalances when training a model and evaluating the results.\n",
        "\n"
      ],
      "metadata": {}
    }
  ],
  "metadata": {
    "kernelspec": {
      "name": "conda-env-py38_default-py",
      "language": "python",
      "display_name": "py38_default"
    },
    "language_info": {
      "name": "python",
      "version": "3.8.13",
      "mimetype": "text/x-python",
      "codemirror_mode": {
        "name": "ipython",
        "version": 3
      },
      "pygments_lexer": "ipython3",
      "nbconvert_exporter": "python",
      "file_extension": ".py"
    },
    "kernel_info": {
      "name": "conda-env-py38_default-py"
    },
    "nteract": {
      "version": "nteract-front-end@1.0.0"
    }
  },
  "nbformat": 4,
  "nbformat_minor": 2
}